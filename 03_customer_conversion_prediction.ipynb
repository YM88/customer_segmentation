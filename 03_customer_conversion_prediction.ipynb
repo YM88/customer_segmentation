{
 "cells": [
  {
   "cell_type": "markdown",
   "metadata": {},
   "source": [
    "# Customer Conversion Prediction"
   ]
  },
  {
   "cell_type": "code",
   "execution_count": 1,
   "metadata": {
    "ExecuteTime": {
     "end_time": "2020-04-06T14:06:33.688536Z",
     "start_time": "2020-04-06T14:06:32.475102Z"
    }
   },
   "outputs": [],
   "source": [
    "import pandas as pd \n",
    "import numpy as np \n",
    "import os\n",
    "import pickle\n",
    "from sklearn.preprocessing import StandardScaler\n",
    "from sklearn.model_selection import train_test_split\n",
    ""
   ]
  },
  {
   "cell_type": "code",
   "execution_count": 2,
   "metadata": {
    "ExecuteTime": {
     "end_time": "2020-04-06T14:06:33.723363Z",
     "start_time": "2020-04-06T14:06:33.688536Z"
    }
   },
   "outputs": [],
   "source": [
    "df = pd.read_csv(os.path.join('data', 'audiobook_data.csv'))"
   ]
  },
  {
   "cell_type": "code",
   "execution_count": 3,
   "metadata": {
    "ExecuteTime": {
     "end_time": "2020-04-06T14:06:33.754214Z",
     "start_time": "2020-04-06T14:06:33.727281Z"
    }
   },
   "outputs": [
    {
     "output_type": "execute_result",
     "data": {
      "text/plain": "    id   book_length_(mins)_overal  book_length_(min)_avg  price_overall  \\\n0  873                      2160.0                   2160          10.13   \n1  611                      1404.0                   2808           6.66   \n2  705                       324.0                    324          10.13   \n3  391                      1620.0                   1620          15.31   \n4  819                       432.0                   1296           7.11   \n\n   price_avg  review  review_10_10  minutes_listened  completion  \\\n0      10.13       0          8.91               0.0         0.0   \n1      13.33       1          6.50               0.0         0.0   \n2      10.13       1          9.00               0.0         0.0   \n3      15.31       0          9.00               0.0         0.0   \n4      21.33       1          9.00               0.0         0.0   \n\n   support_requests  last_visited_minus_purchase_date  target  \n0                 0                                 0       1  \n1                 0                               182       1  \n2                 1                               334       1  \n3                 0                               183       1  \n4                 0                                 0       1  ",
      "text/html": "<div>\n<style scoped>\n    .dataframe tbody tr th:only-of-type {\n        vertical-align: middle;\n    }\n\n    .dataframe tbody tr th {\n        vertical-align: top;\n    }\n\n    .dataframe thead th {\n        text-align: right;\n    }\n</style>\n<table border=\"1\" class=\"dataframe\">\n  <thead>\n    <tr style=\"text-align: right;\">\n      <th></th>\n      <th>id</th>\n      <th>book_length_(mins)_overal</th>\n      <th>book_length_(min)_avg</th>\n      <th>price_overall</th>\n      <th>price_avg</th>\n      <th>review</th>\n      <th>review_10_10</th>\n      <th>minutes_listened</th>\n      <th>completion</th>\n      <th>support_requests</th>\n      <th>last_visited_minus_purchase_date</th>\n      <th>target</th>\n    </tr>\n  </thead>\n  <tbody>\n    <tr>\n      <th>0</th>\n      <td>873</td>\n      <td>2160.0</td>\n      <td>2160</td>\n      <td>10.13</td>\n      <td>10.13</td>\n      <td>0</td>\n      <td>8.91</td>\n      <td>0.0</td>\n      <td>0.0</td>\n      <td>0</td>\n      <td>0</td>\n      <td>1</td>\n    </tr>\n    <tr>\n      <th>1</th>\n      <td>611</td>\n      <td>1404.0</td>\n      <td>2808</td>\n      <td>6.66</td>\n      <td>13.33</td>\n      <td>1</td>\n      <td>6.50</td>\n      <td>0.0</td>\n      <td>0.0</td>\n      <td>0</td>\n      <td>182</td>\n      <td>1</td>\n    </tr>\n    <tr>\n      <th>2</th>\n      <td>705</td>\n      <td>324.0</td>\n      <td>324</td>\n      <td>10.13</td>\n      <td>10.13</td>\n      <td>1</td>\n      <td>9.00</td>\n      <td>0.0</td>\n      <td>0.0</td>\n      <td>1</td>\n      <td>334</td>\n      <td>1</td>\n    </tr>\n    <tr>\n      <th>3</th>\n      <td>391</td>\n      <td>1620.0</td>\n      <td>1620</td>\n      <td>15.31</td>\n      <td>15.31</td>\n      <td>0</td>\n      <td>9.00</td>\n      <td>0.0</td>\n      <td>0.0</td>\n      <td>0</td>\n      <td>183</td>\n      <td>1</td>\n    </tr>\n    <tr>\n      <th>4</th>\n      <td>819</td>\n      <td>432.0</td>\n      <td>1296</td>\n      <td>7.11</td>\n      <td>21.33</td>\n      <td>1</td>\n      <td>9.00</td>\n      <td>0.0</td>\n      <td>0.0</td>\n      <td>0</td>\n      <td>0</td>\n      <td>1</td>\n    </tr>\n  </tbody>\n</table>\n</div>"
     },
     "metadata": {},
     "execution_count": 3
    }
   ],
   "source": [
    "df.head()"
   ]
  },
  {
   "cell_type": "code",
   "execution_count": 4,
   "metadata": {
    "ExecuteTime": {
     "end_time": "2020-04-06T14:06:33.798107Z",
     "start_time": "2020-04-06T14:06:33.761194Z"
    }
   },
   "outputs": [
    {
     "output_type": "stream",
     "name": "stdout",
     "text": "duplicated values: 0\nnull values: 0\n"
    }
   ],
   "source": [
    "print('duplicated values:', df.duplicated().sum())\n",
    "print('null values:', df.isna().sum().sum())"
   ]
  },
  {
   "cell_type": "markdown",
   "metadata": {},
   "source": [
    "Dataset has class imbalance for the target value."
   ]
  },
  {
   "cell_type": "code",
   "execution_count": 5,
   "metadata": {
    "ExecuteTime": {
     "end_time": "2020-04-06T14:06:33.811072Z",
     "start_time": "2020-04-06T14:06:33.800105Z"
    }
   },
   "outputs": [
    {
     "output_type": "execute_result",
     "data": {
      "text/plain": "0    11847\n1     2237\nName: target, dtype: int64"
     },
     "metadata": {},
     "execution_count": 5
    }
   ],
   "source": [
    "df.target.value_counts()"
   ]
  },
  {
   "cell_type": "markdown",
   "metadata": {},
   "source": [
    "### Downsampling the 0 class"
   ]
  },
  {
   "cell_type": "code",
   "execution_count": 6,
   "metadata": {
    "ExecuteTime": {
     "end_time": "2020-04-06T14:06:33.825037Z",
     "start_time": "2020-04-06T14:06:33.813068Z"
    }
   },
   "outputs": [],
   "source": [
    "from sklearn.utils import resample"
   ]
  },
  {
   "cell_type": "code",
   "execution_count": 7,
   "metadata": {
    "ExecuteTime": {
     "end_time": "2020-04-06T14:06:33.853957Z",
     "start_time": "2020-04-06T14:06:33.837003Z"
    }
   },
   "outputs": [],
   "source": [
    "target_0_downsampled = resample(df[df.target == 0], \n",
    "                        n_samples=len(df[df.target == 1]),\n",
    "                        replace=False,\n",
    "                        random_state=42)\n",
    "target_1 = df[df.target == 1]"
   ]
  },
  {
   "cell_type": "code",
   "execution_count": 8,
   "metadata": {
    "ExecuteTime": {
     "end_time": "2020-04-06T14:06:33.884877Z",
     "start_time": "2020-04-06T14:06:33.856951Z"
    }
   },
   "outputs": [],
   "source": [
    "df_balanced = pd.concat([target_0_downsampled, target_1]).sample(frac=1)"
   ]
  },
  {
   "cell_type": "code",
   "execution_count": 9,
   "metadata": {
    "ExecuteTime": {
     "end_time": "2020-04-06T14:06:33.910809Z",
     "start_time": "2020-04-06T14:06:33.891860Z"
    }
   },
   "outputs": [
    {
     "output_type": "execute_result",
     "data": {
      "text/plain": "1    2237\n0    2237\nName: target, dtype: int64"
     },
     "metadata": {},
     "execution_count": 9
    }
   ],
   "source": [
    "# dropping id since it's not helpful in modeling\n",
    "df_balanced.target.value_counts()"
   ]
  },
  {
   "cell_type": "code",
   "execution_count": 10,
   "metadata": {
    "ExecuteTime": {
     "end_time": "2020-04-06T14:06:33.935741Z",
     "start_time": "2020-04-06T14:06:33.916790Z"
    }
   },
   "outputs": [],
   "source": [
    "df_balanced.drop(['id'], axis=1, inplace=True)\n",
    ""
   ]
  },
  {
   "cell_type": "markdown",
   "metadata": {},
   "source": [
    "## Scaling the inputs"
   ]
  },
  {
   "cell_type": "code",
   "execution_count": 11,
   "metadata": {
    "ExecuteTime": {
     "end_time": "2020-04-06T14:06:33.959675Z",
     "start_time": "2020-04-06T14:06:33.941732Z"
    }
   },
   "outputs": [],
   "source": [
    "ss = StandardScaler()\n",
    "\n",
    "X=df_balanced.drop('target', axis=1)\n",
    "X = ss.fit_transform(X)\n",
    "y = df_balanced.target.values"
   ]
  },
  {
   "cell_type": "markdown",
   "metadata": {},
   "source": [
    "## Train/Test Split"
   ]
  },
  {
   "cell_type": "code",
   "execution_count": 12,
   "metadata": {
    "ExecuteTime": {
     "end_time": "2020-04-06T14:06:33.974636Z",
     "start_time": "2020-04-06T14:06:33.962668Z"
    }
   },
   "outputs": [],
   "source": [
    "X_train, X_test, y_train, y_test = train_test_split(X, y,  test_size=0.05, random_state=42)\n",
    "X_train, X_val, y_train, y_val = train_test_split(X_train, y_train, test_size=0.05, random_state=42)"
   ]
  },
  {
   "cell_type": "code",
   "execution_count": 13,
   "metadata": {
    "ExecuteTime": {
     "end_time": "2020-04-06T14:06:33.995582Z",
     "start_time": "2020-04-06T14:06:33.977628Z"
    }
   },
   "outputs": [
    {
     "output_type": "execute_result",
     "data": {
      "text/plain": "((4037, 10), (224, 10), (213, 10))"
     },
     "metadata": {},
     "execution_count": 13
    }
   ],
   "source": [
    "X_train.shape, X_test.shape, X_val.shape"
   ]
  },
  {
   "cell_type": "code",
   "execution_count": 14,
   "metadata": {
    "ExecuteTime": {
     "end_time": "2020-04-06T14:06:38.781866Z",
     "start_time": "2020-04-06T14:06:33.999569Z"
    }
   },
   "outputs": [],
   "source": [
    "import tensorflow as tf\n",
    "# os.environ[\"CUDA_VISIBLE_DEVICES\"] = \"-1\" # disable gpu if required"
   ]
  },
  {
   "cell_type": "code",
   "execution_count": 15,
   "metadata": {
    "ExecuteTime": {
     "end_time": "2020-04-06T14:06:43.456955Z",
     "start_time": "2020-04-06T14:06:38.787821Z"
    },
    "scrolled": false
   },
   "outputs": [
    {
     "output_type": "stream",
     "name": "stdout",
     "text": "Train on 4037 samples, validate on 213 samples\nEpoch 1/100\n4037/4037 - 1s - loss: 0.5808 - accuracy: 0.7050 - val_loss: 0.4986 - val_accuracy: 0.7559\nEpoch 2/100\n4037/4037 - 0s - loss: 0.4538 - accuracy: 0.7649 - val_loss: 0.4593 - val_accuracy: 0.7606\nEpoch 3/100\n4037/4037 - 0s - loss: 0.4165 - accuracy: 0.7842 - val_loss: 0.4506 - val_accuracy: 0.7512\nEpoch 4/100\n4037/4037 - 0s - loss: 0.4004 - accuracy: 0.7857 - val_loss: 0.4335 - val_accuracy: 0.7653\nEpoch 5/100\n4037/4037 - 0s - loss: 0.3893 - accuracy: 0.7986 - val_loss: 0.4274 - val_accuracy: 0.7746\nEpoch 6/100\n4037/4037 - 0s - loss: 0.3780 - accuracy: 0.8038 - val_loss: 0.4472 - val_accuracy: 0.7371\nEpoch 7/100\n4037/4037 - 0s - loss: 0.3744 - accuracy: 0.8013 - val_loss: 0.4352 - val_accuracy: 0.7559\nEpoch 8/100\n4037/4037 - 0s - loss: 0.3690 - accuracy: 0.8090 - val_loss: 0.4235 - val_accuracy: 0.7653\nEpoch 9/100\n4037/4037 - 0s - loss: 0.3665 - accuracy: 0.8036 - val_loss: 0.4073 - val_accuracy: 0.7840\nEpoch 10/100\n4037/4037 - 0s - loss: 0.3678 - accuracy: 0.8028 - val_loss: 0.4007 - val_accuracy: 0.7981\nEpoch 11/100\n4037/4037 - 0s - loss: 0.3607 - accuracy: 0.8095 - val_loss: 0.3903 - val_accuracy: 0.7840\nEpoch 12/100\n4037/4037 - 0s - loss: 0.3580 - accuracy: 0.8090 - val_loss: 0.4299 - val_accuracy: 0.7746\nEpoch 13/100\n4037/4037 - 0s - loss: 0.3584 - accuracy: 0.8100 - val_loss: 0.4152 - val_accuracy: 0.7981\nEpoch 14/100\n4037/4037 - 0s - loss: 0.3564 - accuracy: 0.8095 - val_loss: 0.3959 - val_accuracy: 0.7934\nEpoch 15/100\n4037/4037 - 0s - loss: 0.3530 - accuracy: 0.8085 - val_loss: 0.3808 - val_accuracy: 0.7981\nEpoch 16/100\n4037/4037 - 0s - loss: 0.3506 - accuracy: 0.8157 - val_loss: 0.4091 - val_accuracy: 0.7700\nEpoch 17/100\n4037/4037 - 0s - loss: 0.3503 - accuracy: 0.8147 - val_loss: 0.3888 - val_accuracy: 0.7981\nEpoch 18/100\n4037/4037 - 0s - loss: 0.3497 - accuracy: 0.8122 - val_loss: 0.3779 - val_accuracy: 0.8122\nEpoch 19/100\n4037/4037 - 0s - loss: 0.3461 - accuracy: 0.8132 - val_loss: 0.3739 - val_accuracy: 0.8028\nEpoch 20/100\n4037/4037 - 0s - loss: 0.3452 - accuracy: 0.8152 - val_loss: 0.4357 - val_accuracy: 0.7277\nEpoch 21/100\n4037/4037 - 0s - loss: 0.3495 - accuracy: 0.8167 - val_loss: 0.4056 - val_accuracy: 0.7840\nEpoch 22/100\n4037/4037 - 0s - loss: 0.3475 - accuracy: 0.8169 - val_loss: 0.4104 - val_accuracy: 0.7418\nEpoch 23/100\n4037/4037 - 0s - loss: 0.3439 - accuracy: 0.8162 - val_loss: 0.3795 - val_accuracy: 0.8028\nEpoch 24/100\n4037/4037 - 0s - loss: 0.3451 - accuracy: 0.8140 - val_loss: 0.3860 - val_accuracy: 0.7793\n"
    }
   ],
   "source": [
    "output_size=2\n",
    "batch_size = 100\n",
    "max_epochs = 100\n",
    "early_stopping = tf.keras.callbacks.EarlyStopping(patience=5)\n",
    "\n",
    "model = tf.keras.Sequential()\n",
    "model.add(tf.keras.layers.Dense(50, activation='relu'))\n",
    "model.add(tf.keras.layers.Dense(50, activation='relu'))\n",
    "model.add(tf.keras.layers.Dense(50, activation='relu'))\n",
    "model.add(tf.keras.layers.Dense(output_size, activation='softmax'))\n",
    "model.compile(optimizer='adam', \n",
    "              loss='sparse_categorical_crossentropy', \n",
    "              metrics=['accuracy'])\n",
    "model.fit(X_train, y_train, batch_size=batch_size, epochs=max_epochs,\n",
    "          callbacks=[early_stopping],\n",
    "          validation_data=(X_val, y_val),\n",
    "          verbose=2\n",
    "          );"
   ]
  },
  {
   "cell_type": "markdown",
   "metadata": {},
   "source": [
    "## Evaluation of the model on the test dataset"
   ]
  },
  {
   "cell_type": "code",
   "execution_count": 16,
   "metadata": {
    "ExecuteTime": {
     "end_time": "2020-04-06T14:06:43.887651Z",
     "start_time": "2020-04-06T14:06:43.459397Z"
    }
   },
   "outputs": [
    {
     "output_type": "stream",
     "name": "stdout",
     "text": "224/224 [==============================] - 0s 1ms/sample - loss: 0.3285 - accuracy: 0.8304\nTest Loss: 0.33\nTest Accuracy: 83.04\n"
    }
   ],
   "source": [
    "test_loss, test_accuracy = model.evaluate(X_test, y_test)\n",
    "print('Test Loss: %.2f' %test_loss)\n",
    "print('Test Accuracy: %.2f' %(test_accuracy*100))"
   ]
  },
  {
   "cell_type": "markdown",
   "metadata": {},
   "source": [
    "### Results Interpretation"
   ]
  },
  {
   "cell_type": "markdown",
   "metadata": {},
   "source": [
    "Test Results show that nearly 8 out of every 10 clients are classified correctly in their conversion. "
   ]
  },
  {
   "cell_type": "markdown",
   "metadata": {},
   "source": [
    "## Obtain the probability for a customer to convert"
   ]
  },
  {
   "cell_type": "code",
   "execution_count": 17,
   "metadata": {
    "ExecuteTime": {
     "end_time": "2020-04-06T14:07:59.517908Z",
     "start_time": "2020-04-06T14:07:59.419003Z"
    }
   },
   "outputs": [
    {
     "output_type": "execute_result",
     "data": {
      "text/plain": "array([[0.55, 0.45],\n       [0.  , 1.  ],\n       [0.  , 1.  ],\n       [0.61, 0.39],\n       [0.32, 0.68],\n       [0.98, 0.02],\n       [0.  , 1.  ],\n       [1.  , 0.  ],\n       [0.56, 0.44],\n       [1.  , 0.  ],\n       [0.32, 0.68],\n       [0.18, 0.82],\n       [0.77, 0.23],\n       [0.62, 0.38],\n       [0.26, 0.74],\n       [1.  , 0.  ],\n       [1.  , 0.  ],\n       [0.62, 0.38],\n       [1.  , 0.  ],\n       [0.5 , 0.5 ],\n       [1.  , 0.  ],\n       [0.62, 0.38],\n       [0.  , 1.  ],\n       [0.52, 0.48],\n       [0.86, 0.14],\n       [0.26, 0.74],\n       [0.32, 0.68],\n       [0.05, 0.95],\n       [0.62, 0.38],\n       [0.65, 0.35],\n       [0.04, 0.96],\n       [0.  , 1.  ],\n       [0.72, 0.28],\n       [0.65, 0.35],\n       [1.  , 0.  ],\n       [0.6 , 0.4 ],\n       [0.34, 0.66],\n       [0.57, 0.43],\n       [0.  , 1.  ],\n       [0.44, 0.56],\n       [0.  , 1.  ],\n       [0.  , 1.  ],\n       [1.  , 0.  ],\n       [1.  , 0.  ],\n       [0.  , 1.  ],\n       [0.01, 0.99],\n       [0.49, 0.51],\n       [0.6 , 0.4 ],\n       [0.  , 1.  ],\n       [0.62, 0.38],\n       [1.  , 0.  ],\n       [0.61, 0.39],\n       [0.51, 0.49],\n       [0.62, 0.38],\n       [1.  , 0.  ],\n       [0.62, 0.38],\n       [1.  , 0.  ],\n       [0.48, 0.52],\n       [0.99, 0.01],\n       [0.  , 1.  ],\n       [1.  , 0.  ],\n       [0.5 , 0.5 ],\n       [0.62, 0.38],\n       [0.  , 1.  ],\n       [0.55, 0.45],\n       [0.  , 1.  ],\n       [0.74, 0.26],\n       [0.5 , 0.5 ],\n       [0.51, 0.49],\n       [0.52, 0.48],\n       [0.32, 0.68],\n       [0.3 , 0.7 ],\n       [0.  , 1.  ],\n       [0.6 , 0.4 ],\n       [1.  , 0.  ],\n       [0.  , 1.  ],\n       [0.  , 1.  ],\n       [0.36, 0.64],\n       [0.61, 0.39],\n       [0.62, 0.38],\n       [0.  , 1.  ],\n       [0.  , 1.  ],\n       [0.62, 0.38],\n       [1.  , 0.  ],\n       [0.62, 0.38],\n       [0.6 , 0.4 ],\n       [0.31, 0.69],\n       [1.  , 0.  ],\n       [0.36, 0.64],\n       [0.  , 1.  ],\n       [1.  , 0.  ],\n       [0.  , 1.  ],\n       [1.  , 0.  ],\n       [0.99, 0.01],\n       [0.97, 0.03],\n       [0.59, 0.41],\n       [0.01, 0.99],\n       [0.56, 0.44],\n       [0.5 , 0.5 ],\n       [0.27, 0.73],\n       [0.57, 0.43],\n       [0.65, 0.35],\n       [0.5 , 0.5 ],\n       [0.  , 1.  ],\n       [0.61, 0.39],\n       [0.45, 0.55],\n       [0.63, 0.37],\n       [1.  , 0.  ],\n       [0.21, 0.79],\n       [0.62, 0.38],\n       [0.  , 1.  ],\n       [1.  , 0.  ],\n       [0.68, 0.32],\n       [0.  , 1.  ],\n       [0.6 , 0.4 ],\n       [1.  , 0.  ],\n       [0.6 , 0.4 ],\n       [0.25, 0.75],\n       [0.  , 1.  ],\n       [1.  , 0.  ],\n       [0.5 , 0.5 ],\n       [0.31, 0.69],\n       [0.51, 0.49],\n       [0.24, 0.76],\n       [0.29, 0.71],\n       [1.  , 0.  ],\n       [0.34, 0.66],\n       [0.3 , 0.7 ],\n       [0.  , 1.  ],\n       [0.62, 0.38],\n       [0.5 , 0.5 ],\n       [0.18, 0.82],\n       [0.  , 1.  ],\n       [0.  , 1.  ],\n       [0.26, 0.74],\n       [0.  , 1.  ],\n       [0.  , 1.  ],\n       [0.  , 1.  ],\n       [0.5 , 0.5 ],\n       [0.27, 0.73],\n       [0.61, 0.39],\n       [0.  , 1.  ],\n       [0.  , 1.  ],\n       [1.  , 0.  ],\n       [0.33, 0.67],\n       [0.41, 0.59],\n       [0.33, 0.67],\n       [0.55, 0.45],\n       [0.35, 0.65],\n       [0.01, 0.99],\n       [0.  , 1.  ],\n       [1.  , 0.  ],\n       [0.61, 0.39],\n       [0.6 , 0.4 ],\n       [1.  , 0.  ],\n       [0.6 , 0.4 ],\n       [0.02, 0.98],\n       [1.  , 0.  ],\n       [0.  , 1.  ],\n       [0.29, 0.71],\n       [1.  , 0.  ],\n       [1.  , 0.  ],\n       [1.  , 0.  ],\n       [0.48, 0.52],\n       [0.  , 1.  ],\n       [0.4 , 0.6 ],\n       [0.  , 1.  ],\n       [0.51, 0.49],\n       [0.98, 0.02],\n       [0.03, 0.97],\n       [0.62, 0.38],\n       [0.01, 0.99],\n       [0.  , 1.  ],\n       [0.89, 0.11],\n       [0.65, 0.35],\n       [0.58, 0.42],\n       [0.74, 0.26],\n       [0.  , 1.  ],\n       [0.62, 0.38],\n       [1.  , 0.  ],\n       [0.65, 0.35],\n       [0.33, 0.67],\n       [0.58, 0.42],\n       [0.  , 1.  ],\n       [0.  , 1.  ],\n       [0.5 , 0.5 ],\n       [0.65, 0.35],\n       [1.  , 0.  ],\n       [0.61, 0.39],\n       [0.05, 0.95],\n       [0.58, 0.42],\n       [0.67, 0.33],\n       [1.  , 0.  ],\n       [0.59, 0.41],\n       [0.66, 0.34],\n       [0.  , 1.  ],\n       [0.02, 0.98],\n       [0.  , 1.  ],\n       [0.54, 0.46],\n       [0.57, 0.43],\n       [0.62, 0.38],\n       [0.54, 0.46],\n       [0.53, 0.47],\n       [0.  , 1.  ],\n       [0.6 , 0.4 ],\n       [0.73, 0.27],\n       [0.  , 1.  ],\n       [0.  , 1.  ],\n       [0.93, 0.07],\n       [1.  , 0.  ],\n       [0.61, 0.39],\n       [1.  , 0.  ],\n       [0.38, 0.62],\n       [0.99, 0.01],\n       [0.  , 1.  ],\n       [1.  , 0.  ],\n       [1.  , 0.  ],\n       [0.53, 0.47],\n       [0.27, 0.73],\n       [0.01, 0.99],\n       [0.29, 0.71],\n       [0.31, 0.69],\n       [0.08, 0.92],\n       [1.  , 0.  ]], dtype=float32)"
     },
     "metadata": {},
     "execution_count": 17
    }
   ],
   "source": [
    "np.round(model.predict(X_test),2)\n",
    "#resulting data shows the probability of the clients not converting ad converting, so we can choose the second column"
   ]
  },
  {
   "cell_type": "code",
   "execution_count": 18,
   "metadata": {},
   "outputs": [
    {
     "output_type": "execute_result",
     "data": {
      "text/plain": "array([0, 1, 1, 0, 1, 0, 1, 0, 0, 0, 1, 1, 0, 0, 1, 0, 0, 0, 0, 1, 0, 0,\n       1, 0, 0, 1, 1, 1, 0, 0, 1, 1, 0, 0, 0, 0, 1, 0, 1, 1, 1, 1, 0, 0,\n       1, 1, 1, 0, 1, 0, 0, 0, 0, 0, 0, 0, 0, 1, 0, 1, 0, 1, 0, 1, 0, 1,\n       0, 1, 0, 0, 1, 1, 1, 0, 0, 1, 1, 1, 0, 0, 1, 1, 0, 0, 0, 0, 1, 0,\n       1, 1, 0, 1, 0, 0, 0, 0, 1, 0, 1, 1, 0, 0, 1, 1, 0, 1, 0, 0, 1, 0,\n       1, 0, 0, 1, 0, 0, 0, 1, 1, 0, 1, 1, 0, 1, 1, 0, 1, 1, 1, 0, 0, 1,\n       1, 1, 1, 1, 1, 1, 1, 1, 0, 1, 1, 0, 1, 1, 1, 0, 1, 1, 1, 0, 0, 0,\n       0, 0, 1, 0, 1, 1, 0, 0, 0, 1, 1, 1, 1, 0, 0, 1, 0, 1, 1, 0, 0, 0,\n       0, 1, 0, 0, 0, 1, 0, 1, 1, 1, 0, 0, 0, 1, 0, 0, 0, 0, 0, 1, 1, 1,\n       0, 0, 0, 0, 0, 1, 0, 0, 1, 1, 0, 0, 0, 0, 1, 0, 1, 0, 0, 0, 1, 1,\n       1, 1, 1, 0], dtype=int64)"
     },
     "metadata": {},
     "execution_count": 18
    }
   ],
   "source": [
    "model.predict_classes(X_test)"
   ]
  },
  {
   "cell_type": "markdown",
   "metadata": {},
   "source": [
    "## Saving the model"
   ]
  },
  {
   "cell_type": "code",
   "execution_count": 19,
   "metadata": {},
   "outputs": [],
   "source": [
    "try:\n",
    "    os.mkdir('model')\n",
    "except:\n",
    "    pass\n",
    "model.save(os.path.join('model', 'audiobooks_model.h5'))"
   ]
  },
  {
   "cell_type": "code",
   "execution_count": 20,
   "metadata": {},
   "outputs": [],
   "source": [
    "## load model\n",
    "# model = tf.keras.models.load_model(os.path.join('model', 'audiobooks_model.h5'))"
   ]
  }
 ],
 "metadata": {
  "file_extension": ".py",
  "kernelspec": {
   "display_name": "Python 3.7.5 64-bit ('base': conda)",
   "language": "python",
   "name": "python37564bitbaseconda22b5a0dcd4764eff96e0f929c46070b0"
  },
  "language_info": {
   "codemirror_mode": {
    "name": "ipython",
    "version": 3
   },
   "file_extension": ".py",
   "mimetype": "text/x-python",
   "name": "python",
   "nbconvert_exporter": "python",
   "pygments_lexer": "ipython3",
   "version": "3.7.7-final"
  },
  "mimetype": "text/x-python",
  "name": "python",
  "npconvert_exporter": "python",
  "pygments_lexer": "ipython3",
  "varInspector": {
   "cols": {
    "lenName": 16,
    "lenType": 16,
    "lenVar": 40
   },
   "kernels_config": {
    "python": {
     "delete_cmd_postfix": "",
     "delete_cmd_prefix": "del ",
     "library": "var_list.py",
     "varRefreshCmd": "print(var_dic_list())"
    },
    "r": {
     "delete_cmd_postfix": ") ",
     "delete_cmd_prefix": "rm(",
     "library": "var_list.r",
     "varRefreshCmd": "cat(var_dic_list()) "
    }
   },
   "types_to_exclude": [
    "module",
    "function",
    "builtin_function_or_method",
    "instance",
    "_Feature"
   ],
   "window_display": false
  },
  "version": 3
 },
 "nbformat": 4,
 "nbformat_minor": 2
}