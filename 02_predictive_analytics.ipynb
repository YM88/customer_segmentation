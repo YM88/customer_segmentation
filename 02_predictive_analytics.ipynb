{
 "cells": [
  {
   "cell_type": "markdown",
   "metadata": {},
   "source": [
    "# Predictive Analytics"
   ]
  },
  {
   "cell_type": "markdown",
   "metadata": {},
   "source": [
    "Predicting the probability of each customer purchasing a product per each visit"
   ]
  },
  {
   "cell_type": "code",
   "execution_count": 1,
   "metadata": {
    "ExecuteTime": {
     "end_time": "2020-03-30T16:41:39.448188Z",
     "start_time": "2020-03-30T16:41:37.168254Z"
    }
   },
   "outputs": [],
   "source": [
    "import pandas as pd\n",
    "import numpy as np\n",
    "import os\n",
    "%matplotlib inline\n",
    "import matplotlib.pyplot as plt\n",
    "import plotly.graph_objects as go\n",
    "import plotly.express as px\n",
    "px.defaults.template = 'plotly_white'\n",
    "import pickle\n",
    "from sklearn.linear_model import LogisticRegression"
   ]
  },
  {
   "cell_type": "code",
   "execution_count": 2,
   "metadata": {
    "ExecuteTime": {
     "end_time": "2020-03-30T16:41:39.700483Z",
     "start_time": "2020-03-30T16:41:39.450154Z"
    }
   },
   "outputs": [],
   "source": [
    "# code description for most of these are available are available in the descriptive analytics notebook\n",
    "\n",
    "\n",
    "ss = pickle.load(open('scaler.pkl', 'rb'))\n",
    "pca = pickle.load(open('pca.pkl', 'rb'))\n",
    "kmeans_pca = pickle.load(open('kmeans_pca.pkl', 'rb'))\n",
    "\n",
    "df_purchase = pd.read_csv(os.path.join('data', 'purchase data.csv'))\n",
    "df_purchase.columns = df_purchase.columns.str.replace(' ', '_')\n",
    "df_purchase.columns = map(str.lower, df_purchase.columns)\n",
    "features = df_purchase[['sex', 'marital_status', 'age', 'education', 'income',\n",
    "       'occupation', 'settlement_size']]\n",
    "dfpss = ss.transform(features)\n",
    "dfpss_pca = pca.transform(dfpss)\n",
    "purchase_segm_kmeans_pca = kmeans_pca.predict(dfpss_pca)\n",
    "df_purchase['segment'] = purchase_segm_kmeans_pca\n",
    "#remapping the cluster labels for better interpretation like in the first customer analytics section\n",
    "df_purchase['segment'] = df_purchase['segment'].map({3:0,0:2, 2:1, 1:3}).map({0:'Well-off',  2:'Standard', 1:'Fewer-Opportunities', 3:'Career-Focused'})\n",
    ""
   ]
  },
  {
   "cell_type": "code",
   "execution_count": 3,
   "metadata": {
    "ExecuteTime": {
     "end_time": "2020-03-30T16:41:39.722426Z",
     "start_time": "2020-03-30T16:41:39.702478Z"
    }
   },
   "outputs": [],
   "source": [
    "segment_dummies = pd.get_dummies(df_purchase['segment'], prefix='segment')\n",
    "df_purchase_predictors = pd.concat([df_purchase, segment_dummies], axis=1)"
   ]
  },
  {
   "cell_type": "code",
   "execution_count": 4,
   "metadata": {
    "ExecuteTime": {
     "end_time": "2020-03-30T16:41:39.780270Z",
     "start_time": "2020-03-30T16:41:39.724420Z"
    }
   },
   "outputs": [
    {
     "output_type": "execute_result",
     "data": {
      "text/plain": "              id  day  incidence  brand  quantity  last_inc_brand  \\\n0      200000001    1          0      0         0               0   \n1      200000001   11          0      0         0               0   \n2      200000001   12          0      0         0               0   \n3      200000001   16          0      0         0               0   \n4      200000001   18          0      0         0               0   \n...          ...  ...        ...    ...       ...             ...   \n58688  200000500  703          0      0         0               2   \n58689  200000500  710          0      0         0               0   \n58690  200000500  717          0      0         0               0   \n58691  200000500  722          1      2         3               0   \n58692  200000500  726          0      0         0               2   \n\n       last_inc_quantity  price_1  price_2  price_3  ...  age  education  \\\n0                      0     1.59     1.87     2.01  ...   47          1   \n1                      0     1.51     1.89     1.99  ...   47          1   \n2                      0     1.51     1.89     1.99  ...   47          1   \n3                      0     1.52     1.89     1.98  ...   47          1   \n4                      0     1.52     1.89     1.99  ...   47          1   \n...                  ...      ...      ...      ...  ...  ...        ...   \n58688                  1     1.41     1.85     2.01  ...   42          1   \n58689                  0     1.36     1.84     2.09  ...   42          1   \n58690                  0     1.50     1.80     2.14  ...   42          1   \n58691                  0     1.51     1.82     2.09  ...   42          1   \n58692                  1     1.51     1.82     2.09  ...   42          1   \n\n       income  occupation  settlement_size              segment  \\\n0      110866           1                0  Fewer-Opportunities   \n1      110866           1                0  Fewer-Opportunities   \n2      110866           1                0  Fewer-Opportunities   \n3      110866           1                0  Fewer-Opportunities   \n4      110866           1                0  Fewer-Opportunities   \n...       ...         ...              ...                  ...   \n58688  120946           1                0  Fewer-Opportunities   \n58689  120946           1                0  Fewer-Opportunities   \n58690  120946           1                0  Fewer-Opportunities   \n58691  120946           1                0  Fewer-Opportunities   \n58692  120946           1                0  Fewer-Opportunities   \n\n       segment_Career-Focused  segment_Fewer-Opportunities  segment_Standard  \\\n0                           0                            1                 0   \n1                           0                            1                 0   \n2                           0                            1                 0   \n3                           0                            1                 0   \n4                           0                            1                 0   \n...                       ...                          ...               ...   \n58688                       0                            1                 0   \n58689                       0                            1                 0   \n58690                       0                            1                 0   \n58691                       0                            1                 0   \n58692                       0                            1                 0   \n\n       segment_Well-off  \n0                     0  \n1                     0  \n2                     0  \n3                     0  \n4                     0  \n...                 ...  \n58688                 0  \n58689                 0  \n58690                 0  \n58691                 0  \n58692                 0  \n\n[58693 rows x 29 columns]",
      "text/html": "<div>\n<style scoped>\n    .dataframe tbody tr th:only-of-type {\n        vertical-align: middle;\n    }\n\n    .dataframe tbody tr th {\n        vertical-align: top;\n    }\n\n    .dataframe thead th {\n        text-align: right;\n    }\n</style>\n<table border=\"1\" class=\"dataframe\">\n  <thead>\n    <tr style=\"text-align: right;\">\n      <th></th>\n      <th>id</th>\n      <th>day</th>\n      <th>incidence</th>\n      <th>brand</th>\n      <th>quantity</th>\n      <th>last_inc_brand</th>\n      <th>last_inc_quantity</th>\n      <th>price_1</th>\n      <th>price_2</th>\n      <th>price_3</th>\n      <th>...</th>\n      <th>age</th>\n      <th>education</th>\n      <th>income</th>\n      <th>occupation</th>\n      <th>settlement_size</th>\n      <th>segment</th>\n      <th>segment_Career-Focused</th>\n      <th>segment_Fewer-Opportunities</th>\n      <th>segment_Standard</th>\n      <th>segment_Well-off</th>\n    </tr>\n  </thead>\n  <tbody>\n    <tr>\n      <th>0</th>\n      <td>200000001</td>\n      <td>1</td>\n      <td>0</td>\n      <td>0</td>\n      <td>0</td>\n      <td>0</td>\n      <td>0</td>\n      <td>1.59</td>\n      <td>1.87</td>\n      <td>2.01</td>\n      <td>...</td>\n      <td>47</td>\n      <td>1</td>\n      <td>110866</td>\n      <td>1</td>\n      <td>0</td>\n      <td>Fewer-Opportunities</td>\n      <td>0</td>\n      <td>1</td>\n      <td>0</td>\n      <td>0</td>\n    </tr>\n    <tr>\n      <th>1</th>\n      <td>200000001</td>\n      <td>11</td>\n      <td>0</td>\n      <td>0</td>\n      <td>0</td>\n      <td>0</td>\n      <td>0</td>\n      <td>1.51</td>\n      <td>1.89</td>\n      <td>1.99</td>\n      <td>...</td>\n      <td>47</td>\n      <td>1</td>\n      <td>110866</td>\n      <td>1</td>\n      <td>0</td>\n      <td>Fewer-Opportunities</td>\n      <td>0</td>\n      <td>1</td>\n      <td>0</td>\n      <td>0</td>\n    </tr>\n    <tr>\n      <th>2</th>\n      <td>200000001</td>\n      <td>12</td>\n      <td>0</td>\n      <td>0</td>\n      <td>0</td>\n      <td>0</td>\n      <td>0</td>\n      <td>1.51</td>\n      <td>1.89</td>\n      <td>1.99</td>\n      <td>...</td>\n      <td>47</td>\n      <td>1</td>\n      <td>110866</td>\n      <td>1</td>\n      <td>0</td>\n      <td>Fewer-Opportunities</td>\n      <td>0</td>\n      <td>1</td>\n      <td>0</td>\n      <td>0</td>\n    </tr>\n    <tr>\n      <th>3</th>\n      <td>200000001</td>\n      <td>16</td>\n      <td>0</td>\n      <td>0</td>\n      <td>0</td>\n      <td>0</td>\n      <td>0</td>\n      <td>1.52</td>\n      <td>1.89</td>\n      <td>1.98</td>\n      <td>...</td>\n      <td>47</td>\n      <td>1</td>\n      <td>110866</td>\n      <td>1</td>\n      <td>0</td>\n      <td>Fewer-Opportunities</td>\n      <td>0</td>\n      <td>1</td>\n      <td>0</td>\n      <td>0</td>\n    </tr>\n    <tr>\n      <th>4</th>\n      <td>200000001</td>\n      <td>18</td>\n      <td>0</td>\n      <td>0</td>\n      <td>0</td>\n      <td>0</td>\n      <td>0</td>\n      <td>1.52</td>\n      <td>1.89</td>\n      <td>1.99</td>\n      <td>...</td>\n      <td>47</td>\n      <td>1</td>\n      <td>110866</td>\n      <td>1</td>\n      <td>0</td>\n      <td>Fewer-Opportunities</td>\n      <td>0</td>\n      <td>1</td>\n      <td>0</td>\n      <td>0</td>\n    </tr>\n    <tr>\n      <th>...</th>\n      <td>...</td>\n      <td>...</td>\n      <td>...</td>\n      <td>...</td>\n      <td>...</td>\n      <td>...</td>\n      <td>...</td>\n      <td>...</td>\n      <td>...</td>\n      <td>...</td>\n      <td>...</td>\n      <td>...</td>\n      <td>...</td>\n      <td>...</td>\n      <td>...</td>\n      <td>...</td>\n      <td>...</td>\n      <td>...</td>\n      <td>...</td>\n      <td>...</td>\n      <td>...</td>\n    </tr>\n    <tr>\n      <th>58688</th>\n      <td>200000500</td>\n      <td>703</td>\n      <td>0</td>\n      <td>0</td>\n      <td>0</td>\n      <td>2</td>\n      <td>1</td>\n      <td>1.41</td>\n      <td>1.85</td>\n      <td>2.01</td>\n      <td>...</td>\n      <td>42</td>\n      <td>1</td>\n      <td>120946</td>\n      <td>1</td>\n      <td>0</td>\n      <td>Fewer-Opportunities</td>\n      <td>0</td>\n      <td>1</td>\n      <td>0</td>\n      <td>0</td>\n    </tr>\n    <tr>\n      <th>58689</th>\n      <td>200000500</td>\n      <td>710</td>\n      <td>0</td>\n      <td>0</td>\n      <td>0</td>\n      <td>0</td>\n      <td>0</td>\n      <td>1.36</td>\n      <td>1.84</td>\n      <td>2.09</td>\n      <td>...</td>\n      <td>42</td>\n      <td>1</td>\n      <td>120946</td>\n      <td>1</td>\n      <td>0</td>\n      <td>Fewer-Opportunities</td>\n      <td>0</td>\n      <td>1</td>\n      <td>0</td>\n      <td>0</td>\n    </tr>\n    <tr>\n      <th>58690</th>\n      <td>200000500</td>\n      <td>717</td>\n      <td>0</td>\n      <td>0</td>\n      <td>0</td>\n      <td>0</td>\n      <td>0</td>\n      <td>1.50</td>\n      <td>1.80</td>\n      <td>2.14</td>\n      <td>...</td>\n      <td>42</td>\n      <td>1</td>\n      <td>120946</td>\n      <td>1</td>\n      <td>0</td>\n      <td>Fewer-Opportunities</td>\n      <td>0</td>\n      <td>1</td>\n      <td>0</td>\n      <td>0</td>\n    </tr>\n    <tr>\n      <th>58691</th>\n      <td>200000500</td>\n      <td>722</td>\n      <td>1</td>\n      <td>2</td>\n      <td>3</td>\n      <td>0</td>\n      <td>0</td>\n      <td>1.51</td>\n      <td>1.82</td>\n      <td>2.09</td>\n      <td>...</td>\n      <td>42</td>\n      <td>1</td>\n      <td>120946</td>\n      <td>1</td>\n      <td>0</td>\n      <td>Fewer-Opportunities</td>\n      <td>0</td>\n      <td>1</td>\n      <td>0</td>\n      <td>0</td>\n    </tr>\n    <tr>\n      <th>58692</th>\n      <td>200000500</td>\n      <td>726</td>\n      <td>0</td>\n      <td>0</td>\n      <td>0</td>\n      <td>2</td>\n      <td>1</td>\n      <td>1.51</td>\n      <td>1.82</td>\n      <td>2.09</td>\n      <td>...</td>\n      <td>42</td>\n      <td>1</td>\n      <td>120946</td>\n      <td>1</td>\n      <td>0</td>\n      <td>Fewer-Opportunities</td>\n      <td>0</td>\n      <td>1</td>\n      <td>0</td>\n      <td>0</td>\n    </tr>\n  </tbody>\n</table>\n<p>58693 rows × 29 columns</p>\n</div>"
     },
     "metadata": {},
     "execution_count": 4
    }
   ],
   "source": [
    "df_purchase_predictors"
   ]
  },
  {
   "cell_type": "code",
   "execution_count": 5,
   "metadata": {
    "ExecuteTime": {
     "end_time": "2020-03-30T16:41:39.786255Z",
     "start_time": "2020-03-30T16:41:39.782264Z"
    }
   },
   "outputs": [],
   "source": [
    "y = df_purchase_predictors['incidence']"
   ]
  },
  {
   "cell_type": "code",
   "execution_count": 6,
   "metadata": {
    "ExecuteTime": {
     "end_time": "2020-03-30T16:41:39.808196Z",
     "start_time": "2020-03-30T16:41:39.788251Z"
    }
   },
   "outputs": [],
   "source": [
    "\n",
    "X = pd.DataFrame()"
   ]
  },
  {
   "cell_type": "code",
   "execution_count": 7,
   "metadata": {
    "ExecuteTime": {
     "end_time": "2020-03-30T16:41:39.873022Z",
     "start_time": "2020-03-30T16:41:39.812185Z"
    }
   },
   "outputs": [],
   "source": [
    "# Reducing the 5 prices to their average\n",
    "X['mean_price'] = df_purchase_predictors[['price_'+ str(i) for i in range(1,6)]].sum(axis=1)/5"
   ]
  },
  {
   "cell_type": "code",
   "execution_count": 8,
   "metadata": {
    "ExecuteTime": {
     "end_time": "2020-03-30T16:41:39.891971Z",
     "start_time": "2020-03-30T16:41:39.878008Z"
    }
   },
   "outputs": [
    {
     "output_type": "execute_result",
     "data": {
      "text/plain": "   mean_price\n0       2.044\n1       2.028\n2       2.028\n3       2.028\n4       2.030",
      "text/html": "<div>\n<style scoped>\n    .dataframe tbody tr th:only-of-type {\n        vertical-align: middle;\n    }\n\n    .dataframe tbody tr th {\n        vertical-align: top;\n    }\n\n    .dataframe thead th {\n        text-align: right;\n    }\n</style>\n<table border=\"1\" class=\"dataframe\">\n  <thead>\n    <tr style=\"text-align: right;\">\n      <th></th>\n      <th>mean_price</th>\n    </tr>\n  </thead>\n  <tbody>\n    <tr>\n      <th>0</th>\n      <td>2.044</td>\n    </tr>\n    <tr>\n      <th>1</th>\n      <td>2.028</td>\n    </tr>\n    <tr>\n      <th>2</th>\n      <td>2.028</td>\n    </tr>\n    <tr>\n      <th>3</th>\n      <td>2.028</td>\n    </tr>\n    <tr>\n      <th>4</th>\n      <td>2.030</td>\n    </tr>\n  </tbody>\n</table>\n</div>"
     },
     "metadata": {},
     "execution_count": 8
    }
   ],
   "source": [
    "X.head()"
   ]
  },
  {
   "cell_type": "code",
   "execution_count": 9,
   "metadata": {
    "ExecuteTime": {
     "end_time": "2020-03-30T16:41:40.159257Z",
     "start_time": "2020-03-30T16:41:39.895961Z"
    }
   },
   "outputs": [
    {
     "output_type": "display_data",
     "data": {
      "text/plain": "<Figure size 432x288 with 1 Axes>",
      "image/svg+xml": "<?xml version=\"1.0\" encoding=\"utf-8\" standalone=\"no\"?>\r\n<!DOCTYPE svg PUBLIC \"-//W3C//DTD SVG 1.1//EN\"\r\n  \"http://www.w3.org/Graphics/SVG/1.1/DTD/svg11.dtd\">\r\n<!-- Created with matplotlib (https://matplotlib.org/) -->\r\n<svg height=\"277.318125pt\" version=\"1.1\" viewBox=\"0 0 388.0125 277.318125\" width=\"388.0125pt\" xmlns=\"http://www.w3.org/2000/svg\" xmlns:xlink=\"http://www.w3.org/1999/xlink\">\r\n <defs>\r\n  <style type=\"text/css\">\r\n*{stroke-linecap:butt;stroke-linejoin:round;}\r\n  </style>\r\n </defs>\r\n <g id=\"figure_1\">\r\n  <g id=\"patch_1\">\r\n   <path d=\"M 0 277.318125 \r\nL 388.0125 277.318125 \r\nL 388.0125 0 \r\nL 0 0 \r\nz\r\n\" style=\"fill:none;\"/>\r\n  </g>\r\n  <g id=\"axes_1\">\r\n   <g id=\"patch_2\">\r\n    <path d=\"M 46.0125 253.44 \r\nL 380.8125 253.44 \r\nL 380.8125 36 \r\nL 46.0125 36 \r\nz\r\n\" style=\"fill:#ffffff;\"/>\r\n   </g>\r\n   <g id=\"patch_3\">\r\n    <path clip-path=\"url(#p2439cead50)\" d=\"M 61.230682 253.44 \r\nL 91.667045 253.44 \r\nL 91.667045 209.670637 \r\nL 61.230682 209.670637 \r\nz\r\n\" style=\"fill:#1f77b4;\"/>\r\n   </g>\r\n   <g id=\"patch_4\">\r\n    <path clip-path=\"url(#p2439cead50)\" d=\"M 91.667045 253.44 \r\nL 122.103409 253.44 \r\nL 122.103409 214.091133 \r\nL 91.667045 214.091133 \r\nz\r\n\" style=\"fill:#1f77b4;\"/>\r\n   </g>\r\n   <g id=\"patch_5\">\r\n    <path clip-path=\"url(#p2439cead50)\" d=\"M 122.103409 253.44 \r\nL 152.539773 253.44 \r\nL 152.539773 186.212969 \r\nL 122.103409 186.212969 \r\nz\r\n\" style=\"fill:#1f77b4;\"/>\r\n   </g>\r\n   <g id=\"patch_6\">\r\n    <path clip-path=\"url(#p2439cead50)\" d=\"M 152.539773 253.44 \r\nL 182.976136 253.44 \r\nL 182.976136 198.022469 \r\nL 152.539773 198.022469 \r\nz\r\n\" style=\"fill:#1f77b4;\"/>\r\n   </g>\r\n   <g id=\"patch_7\">\r\n    <path clip-path=\"url(#p2439cead50)\" d=\"M 182.976136 253.44 \r\nL 213.4125 253.44 \r\nL 213.4125 114.452509 \r\nL 182.976136 114.452509 \r\nz\r\n\" style=\"fill:#1f77b4;\"/>\r\n   </g>\r\n   <g id=\"patch_8\">\r\n    <path clip-path=\"url(#p2439cead50)\" d=\"M 213.4125 253.44 \r\nL 243.848864 253.44 \r\nL 243.848864 97.625585 \r\nL 213.4125 97.625585 \r\nz\r\n\" style=\"fill:#1f77b4;\"/>\r\n   </g>\r\n   <g id=\"patch_9\">\r\n    <path clip-path=\"url(#p2439cead50)\" d=\"M 243.848864 253.44 \r\nL 274.285227 253.44 \r\nL 274.285227 46.354286 \r\nL 243.848864 46.354286 \r\nz\r\n\" style=\"fill:#1f77b4;\"/>\r\n   </g>\r\n   <g id=\"patch_10\">\r\n    <path clip-path=\"url(#p2439cead50)\" d=\"M 274.285227 253.44 \r\nL 304.721591 253.44 \r\nL 304.721591 136.538856 \r\nL 274.285227 136.538856 \r\nz\r\n\" style=\"fill:#1f77b4;\"/>\r\n   </g>\r\n   <g id=\"patch_11\">\r\n    <path clip-path=\"url(#p2439cead50)\" d=\"M 304.721591 253.44 \r\nL 335.157955 253.44 \r\nL 335.157955 178.823965 \r\nL 304.721591 178.823965 \r\nz\r\n\" style=\"fill:#1f77b4;\"/>\r\n   </g>\r\n   <g id=\"patch_12\">\r\n    <path clip-path=\"url(#p2439cead50)\" d=\"M 335.157955 253.44 \r\nL 365.594318 253.44 \r\nL 365.594318 205.701871 \r\nL 335.157955 205.701871 \r\nz\r\n\" style=\"fill:#1f77b4;\"/>\r\n   </g>\r\n   <g id=\"matplotlib.axis_1\">\r\n    <g id=\"xtick_1\">\r\n     <g id=\"line2d_1\">\r\n      <path clip-path=\"url(#p2439cead50)\" d=\"M 98.283646 253.44 \r\nL 98.283646 36 \r\n\" style=\"fill:none;stroke:#b0b0b0;stroke-linecap:square;stroke-width:0.8;\"/>\r\n     </g>\r\n     <g id=\"line2d_2\">\r\n      <defs>\r\n       <path d=\"M 0 0 \r\nL 0 3.5 \r\n\" id=\"m96686ef79f\" style=\"stroke:#000000;stroke-width:0.8;\"/>\r\n      </defs>\r\n      <g>\r\n       <use style=\"stroke:#000000;stroke-width:0.8;\" x=\"98.283646\" xlink:href=\"#m96686ef79f\" y=\"253.44\"/>\r\n      </g>\r\n     </g>\r\n     <g id=\"text_1\">\r\n      <!-- 1.90 -->\r\n      <defs>\r\n       <path d=\"M 12.40625 8.296875 \r\nL 28.515625 8.296875 \r\nL 28.515625 63.921875 \r\nL 10.984375 60.40625 \r\nL 10.984375 69.390625 \r\nL 28.421875 72.90625 \r\nL 38.28125 72.90625 \r\nL 38.28125 8.296875 \r\nL 54.390625 8.296875 \r\nL 54.390625 0 \r\nL 12.40625 0 \r\nz\r\n\" id=\"DejaVuSans-49\"/>\r\n       <path d=\"M 10.6875 12.40625 \r\nL 21 12.40625 \r\nL 21 0 \r\nL 10.6875 0 \r\nz\r\n\" id=\"DejaVuSans-46\"/>\r\n       <path d=\"M 10.984375 1.515625 \r\nL 10.984375 10.5 \r\nQ 14.703125 8.734375 18.5 7.8125 \r\nQ 22.3125 6.890625 25.984375 6.890625 \r\nQ 35.75 6.890625 40.890625 13.453125 \r\nQ 46.046875 20.015625 46.78125 33.40625 \r\nQ 43.953125 29.203125 39.59375 26.953125 \r\nQ 35.25 24.703125 29.984375 24.703125 \r\nQ 19.046875 24.703125 12.671875 31.3125 \r\nQ 6.296875 37.9375 6.296875 49.421875 \r\nQ 6.296875 60.640625 12.9375 67.421875 \r\nQ 19.578125 74.21875 30.609375 74.21875 \r\nQ 43.265625 74.21875 49.921875 64.515625 \r\nQ 56.59375 54.828125 56.59375 36.375 \r\nQ 56.59375 19.140625 48.40625 8.859375 \r\nQ 40.234375 -1.421875 26.421875 -1.421875 \r\nQ 22.703125 -1.421875 18.890625 -0.6875 \r\nQ 15.09375 0.046875 10.984375 1.515625 \r\nz\r\nM 30.609375 32.421875 \r\nQ 37.25 32.421875 41.125 36.953125 \r\nQ 45.015625 41.5 45.015625 49.421875 \r\nQ 45.015625 57.28125 41.125 61.84375 \r\nQ 37.25 66.40625 30.609375 66.40625 \r\nQ 23.96875 66.40625 20.09375 61.84375 \r\nQ 16.21875 57.28125 16.21875 49.421875 \r\nQ 16.21875 41.5 20.09375 36.953125 \r\nQ 23.96875 32.421875 30.609375 32.421875 \r\nz\r\n\" id=\"DejaVuSans-57\"/>\r\n       <path d=\"M 31.78125 66.40625 \r\nQ 24.171875 66.40625 20.328125 58.90625 \r\nQ 16.5 51.421875 16.5 36.375 \r\nQ 16.5 21.390625 20.328125 13.890625 \r\nQ 24.171875 6.390625 31.78125 6.390625 \r\nQ 39.453125 6.390625 43.28125 13.890625 \r\nQ 47.125 21.390625 47.125 36.375 \r\nQ 47.125 51.421875 43.28125 58.90625 \r\nQ 39.453125 66.40625 31.78125 66.40625 \r\nz\r\nM 31.78125 74.21875 \r\nQ 44.046875 74.21875 50.515625 64.515625 \r\nQ 56.984375 54.828125 56.984375 36.375 \r\nQ 56.984375 17.96875 50.515625 8.265625 \r\nQ 44.046875 -1.421875 31.78125 -1.421875 \r\nQ 19.53125 -1.421875 13.0625 8.265625 \r\nQ 6.59375 17.96875 6.59375 36.375 \r\nQ 6.59375 54.828125 13.0625 64.515625 \r\nQ 19.53125 74.21875 31.78125 74.21875 \r\nz\r\n\" id=\"DejaVuSans-48\"/>\r\n      </defs>\r\n      <g transform=\"translate(87.150834 268.038437)scale(0.1 -0.1)\">\r\n       <use xlink:href=\"#DejaVuSans-49\"/>\r\n       <use x=\"63.623047\" xlink:href=\"#DejaVuSans-46\"/>\r\n       <use x=\"95.410156\" xlink:href=\"#DejaVuSans-57\"/>\r\n       <use x=\"159.033203\" xlink:href=\"#DejaVuSans-48\"/>\r\n      </g>\r\n     </g>\r\n    </g>\r\n    <g id=\"xtick_2\">\r\n     <g id=\"line2d_3\">\r\n      <path clip-path=\"url(#p2439cead50)\" d=\"M 164.449654 253.44 \r\nL 164.449654 36 \r\n\" style=\"fill:none;stroke:#b0b0b0;stroke-linecap:square;stroke-width:0.8;\"/>\r\n     </g>\r\n     <g id=\"line2d_4\">\r\n      <g>\r\n       <use style=\"stroke:#000000;stroke-width:0.8;\" x=\"164.449654\" xlink:href=\"#m96686ef79f\" y=\"253.44\"/>\r\n      </g>\r\n     </g>\r\n     <g id=\"text_2\">\r\n      <!-- 1.95 -->\r\n      <defs>\r\n       <path d=\"M 10.796875 72.90625 \r\nL 49.515625 72.90625 \r\nL 49.515625 64.59375 \r\nL 19.828125 64.59375 \r\nL 19.828125 46.734375 \r\nQ 21.96875 47.46875 24.109375 47.828125 \r\nQ 26.265625 48.1875 28.421875 48.1875 \r\nQ 40.625 48.1875 47.75 41.5 \r\nQ 54.890625 34.8125 54.890625 23.390625 \r\nQ 54.890625 11.625 47.5625 5.09375 \r\nQ 40.234375 -1.421875 26.90625 -1.421875 \r\nQ 22.3125 -1.421875 17.546875 -0.640625 \r\nQ 12.796875 0.140625 7.71875 1.703125 \r\nL 7.71875 11.625 \r\nQ 12.109375 9.234375 16.796875 8.0625 \r\nQ 21.484375 6.890625 26.703125 6.890625 \r\nQ 35.15625 6.890625 40.078125 11.328125 \r\nQ 45.015625 15.765625 45.015625 23.390625 \r\nQ 45.015625 31 40.078125 35.4375 \r\nQ 35.15625 39.890625 26.703125 39.890625 \r\nQ 22.75 39.890625 18.8125 39.015625 \r\nQ 14.890625 38.140625 10.796875 36.28125 \r\nz\r\n\" id=\"DejaVuSans-53\"/>\r\n      </defs>\r\n      <g transform=\"translate(153.316842 268.038437)scale(0.1 -0.1)\">\r\n       <use xlink:href=\"#DejaVuSans-49\"/>\r\n       <use x=\"63.623047\" xlink:href=\"#DejaVuSans-46\"/>\r\n       <use x=\"95.410156\" xlink:href=\"#DejaVuSans-57\"/>\r\n       <use x=\"159.033203\" xlink:href=\"#DejaVuSans-53\"/>\r\n      </g>\r\n     </g>\r\n    </g>\r\n    <g id=\"xtick_3\">\r\n     <g id=\"line2d_5\">\r\n      <path clip-path=\"url(#p2439cead50)\" d=\"M 230.615662 253.44 \r\nL 230.615662 36 \r\n\" style=\"fill:none;stroke:#b0b0b0;stroke-linecap:square;stroke-width:0.8;\"/>\r\n     </g>\r\n     <g id=\"line2d_6\">\r\n      <g>\r\n       <use style=\"stroke:#000000;stroke-width:0.8;\" x=\"230.615662\" xlink:href=\"#m96686ef79f\" y=\"253.44\"/>\r\n      </g>\r\n     </g>\r\n     <g id=\"text_3\">\r\n      <!-- 2.00 -->\r\n      <defs>\r\n       <path d=\"M 19.1875 8.296875 \r\nL 53.609375 8.296875 \r\nL 53.609375 0 \r\nL 7.328125 0 \r\nL 7.328125 8.296875 \r\nQ 12.9375 14.109375 22.625 23.890625 \r\nQ 32.328125 33.6875 34.8125 36.53125 \r\nQ 39.546875 41.84375 41.421875 45.53125 \r\nQ 43.3125 49.21875 43.3125 52.78125 \r\nQ 43.3125 58.59375 39.234375 62.25 \r\nQ 35.15625 65.921875 28.609375 65.921875 \r\nQ 23.96875 65.921875 18.8125 64.3125 \r\nQ 13.671875 62.703125 7.8125 59.421875 \r\nL 7.8125 69.390625 \r\nQ 13.765625 71.78125 18.9375 73 \r\nQ 24.125 74.21875 28.421875 74.21875 \r\nQ 39.75 74.21875 46.484375 68.546875 \r\nQ 53.21875 62.890625 53.21875 53.421875 \r\nQ 53.21875 48.921875 51.53125 44.890625 \r\nQ 49.859375 40.875 45.40625 35.40625 \r\nQ 44.1875 33.984375 37.640625 27.21875 \r\nQ 31.109375 20.453125 19.1875 8.296875 \r\nz\r\n\" id=\"DejaVuSans-50\"/>\r\n      </defs>\r\n      <g transform=\"translate(219.48285 268.038437)scale(0.1 -0.1)\">\r\n       <use xlink:href=\"#DejaVuSans-50\"/>\r\n       <use x=\"63.623047\" xlink:href=\"#DejaVuSans-46\"/>\r\n       <use x=\"95.410156\" xlink:href=\"#DejaVuSans-48\"/>\r\n       <use x=\"159.033203\" xlink:href=\"#DejaVuSans-48\"/>\r\n      </g>\r\n     </g>\r\n    </g>\r\n    <g id=\"xtick_4\">\r\n     <g id=\"line2d_7\">\r\n      <path clip-path=\"url(#p2439cead50)\" d=\"M 296.78167 253.44 \r\nL 296.78167 36 \r\n\" style=\"fill:none;stroke:#b0b0b0;stroke-linecap:square;stroke-width:0.8;\"/>\r\n     </g>\r\n     <g id=\"line2d_8\">\r\n      <g>\r\n       <use style=\"stroke:#000000;stroke-width:0.8;\" x=\"296.78167\" xlink:href=\"#m96686ef79f\" y=\"253.44\"/>\r\n      </g>\r\n     </g>\r\n     <g id=\"text_4\">\r\n      <!-- 2.05 -->\r\n      <g transform=\"translate(285.648857 268.038437)scale(0.1 -0.1)\">\r\n       <use xlink:href=\"#DejaVuSans-50\"/>\r\n       <use x=\"63.623047\" xlink:href=\"#DejaVuSans-46\"/>\r\n       <use x=\"95.410156\" xlink:href=\"#DejaVuSans-48\"/>\r\n       <use x=\"159.033203\" xlink:href=\"#DejaVuSans-53\"/>\r\n      </g>\r\n     </g>\r\n    </g>\r\n    <g id=\"xtick_5\">\r\n     <g id=\"line2d_9\">\r\n      <path clip-path=\"url(#p2439cead50)\" d=\"M 362.947678 253.44 \r\nL 362.947678 36 \r\n\" style=\"fill:none;stroke:#b0b0b0;stroke-linecap:square;stroke-width:0.8;\"/>\r\n     </g>\r\n     <g id=\"line2d_10\">\r\n      <g>\r\n       <use style=\"stroke:#000000;stroke-width:0.8;\" x=\"362.947678\" xlink:href=\"#m96686ef79f\" y=\"253.44\"/>\r\n      </g>\r\n     </g>\r\n     <g id=\"text_5\">\r\n      <!-- 2.10 -->\r\n      <g transform=\"translate(351.814865 268.038437)scale(0.1 -0.1)\">\r\n       <use xlink:href=\"#DejaVuSans-50\"/>\r\n       <use x=\"63.623047\" xlink:href=\"#DejaVuSans-46\"/>\r\n       <use x=\"95.410156\" xlink:href=\"#DejaVuSans-49\"/>\r\n       <use x=\"159.033203\" xlink:href=\"#DejaVuSans-48\"/>\r\n      </g>\r\n     </g>\r\n    </g>\r\n   </g>\r\n   <g id=\"matplotlib.axis_2\">\r\n    <g id=\"ytick_1\">\r\n     <g id=\"line2d_11\">\r\n      <path clip-path=\"url(#p2439cead50)\" d=\"M 46.0125 253.44 \r\nL 380.8125 253.44 \r\n\" style=\"fill:none;stroke:#b0b0b0;stroke-linecap:square;stroke-width:0.8;\"/>\r\n     </g>\r\n     <g id=\"line2d_12\">\r\n      <defs>\r\n       <path d=\"M 0 0 \r\nL -3.5 0 \r\n\" id=\"m06a5ba2f53\" style=\"stroke:#000000;stroke-width:0.8;\"/>\r\n      </defs>\r\n      <g>\r\n       <use style=\"stroke:#000000;stroke-width:0.8;\" x=\"46.0125\" xlink:href=\"#m06a5ba2f53\" y=\"253.44\"/>\r\n      </g>\r\n     </g>\r\n     <g id=\"text_6\">\r\n      <!-- 0 -->\r\n      <g transform=\"translate(32.65 257.239219)scale(0.1 -0.1)\">\r\n       <use xlink:href=\"#DejaVuSans-48\"/>\r\n      </g>\r\n     </g>\r\n    </g>\r\n    <g id=\"ytick_2\">\r\n     <g id=\"line2d_13\">\r\n      <path clip-path=\"url(#p2439cead50)\" d=\"M 46.0125 221.173606 \r\nL 380.8125 221.173606 \r\n\" style=\"fill:none;stroke:#b0b0b0;stroke-linecap:square;stroke-width:0.8;\"/>\r\n     </g>\r\n     <g id=\"line2d_14\">\r\n      <g>\r\n       <use style=\"stroke:#000000;stroke-width:0.8;\" x=\"46.0125\" xlink:href=\"#m06a5ba2f53\" y=\"221.173606\"/>\r\n      </g>\r\n     </g>\r\n     <g id=\"text_7\">\r\n      <!-- 2000 -->\r\n      <g transform=\"translate(13.5625 224.972825)scale(0.1 -0.1)\">\r\n       <use xlink:href=\"#DejaVuSans-50\"/>\r\n       <use x=\"63.623047\" xlink:href=\"#DejaVuSans-48\"/>\r\n       <use x=\"127.246094\" xlink:href=\"#DejaVuSans-48\"/>\r\n       <use x=\"190.869141\" xlink:href=\"#DejaVuSans-48\"/>\r\n      </g>\r\n     </g>\r\n    </g>\r\n    <g id=\"ytick_3\">\r\n     <g id=\"line2d_15\">\r\n      <path clip-path=\"url(#p2439cead50)\" d=\"M 46.0125 188.907213 \r\nL 380.8125 188.907213 \r\n\" style=\"fill:none;stroke:#b0b0b0;stroke-linecap:square;stroke-width:0.8;\"/>\r\n     </g>\r\n     <g id=\"line2d_16\">\r\n      <g>\r\n       <use style=\"stroke:#000000;stroke-width:0.8;\" x=\"46.0125\" xlink:href=\"#m06a5ba2f53\" y=\"188.907213\"/>\r\n      </g>\r\n     </g>\r\n     <g id=\"text_8\">\r\n      <!-- 4000 -->\r\n      <defs>\r\n       <path d=\"M 37.796875 64.3125 \r\nL 12.890625 25.390625 \r\nL 37.796875 25.390625 \r\nz\r\nM 35.203125 72.90625 \r\nL 47.609375 72.90625 \r\nL 47.609375 25.390625 \r\nL 58.015625 25.390625 \r\nL 58.015625 17.1875 \r\nL 47.609375 17.1875 \r\nL 47.609375 0 \r\nL 37.796875 0 \r\nL 37.796875 17.1875 \r\nL 4.890625 17.1875 \r\nL 4.890625 26.703125 \r\nz\r\n\" id=\"DejaVuSans-52\"/>\r\n      </defs>\r\n      <g transform=\"translate(13.5625 192.706431)scale(0.1 -0.1)\">\r\n       <use xlink:href=\"#DejaVuSans-52\"/>\r\n       <use x=\"63.623047\" xlink:href=\"#DejaVuSans-48\"/>\r\n       <use x=\"127.246094\" xlink:href=\"#DejaVuSans-48\"/>\r\n       <use x=\"190.869141\" xlink:href=\"#DejaVuSans-48\"/>\r\n      </g>\r\n     </g>\r\n    </g>\r\n    <g id=\"ytick_4\">\r\n     <g id=\"line2d_17\">\r\n      <path clip-path=\"url(#p2439cead50)\" d=\"M 46.0125 156.640819 \r\nL 380.8125 156.640819 \r\n\" style=\"fill:none;stroke:#b0b0b0;stroke-linecap:square;stroke-width:0.8;\"/>\r\n     </g>\r\n     <g id=\"line2d_18\">\r\n      <g>\r\n       <use style=\"stroke:#000000;stroke-width:0.8;\" x=\"46.0125\" xlink:href=\"#m06a5ba2f53\" y=\"156.640819\"/>\r\n      </g>\r\n     </g>\r\n     <g id=\"text_9\">\r\n      <!-- 6000 -->\r\n      <defs>\r\n       <path d=\"M 33.015625 40.375 \r\nQ 26.375 40.375 22.484375 35.828125 \r\nQ 18.609375 31.296875 18.609375 23.390625 \r\nQ 18.609375 15.53125 22.484375 10.953125 \r\nQ 26.375 6.390625 33.015625 6.390625 \r\nQ 39.65625 6.390625 43.53125 10.953125 \r\nQ 47.40625 15.53125 47.40625 23.390625 \r\nQ 47.40625 31.296875 43.53125 35.828125 \r\nQ 39.65625 40.375 33.015625 40.375 \r\nz\r\nM 52.59375 71.296875 \r\nL 52.59375 62.3125 \r\nQ 48.875 64.0625 45.09375 64.984375 \r\nQ 41.3125 65.921875 37.59375 65.921875 \r\nQ 27.828125 65.921875 22.671875 59.328125 \r\nQ 17.53125 52.734375 16.796875 39.40625 \r\nQ 19.671875 43.65625 24.015625 45.921875 \r\nQ 28.375 48.1875 33.59375 48.1875 \r\nQ 44.578125 48.1875 50.953125 41.515625 \r\nQ 57.328125 34.859375 57.328125 23.390625 \r\nQ 57.328125 12.15625 50.6875 5.359375 \r\nQ 44.046875 -1.421875 33.015625 -1.421875 \r\nQ 20.359375 -1.421875 13.671875 8.265625 \r\nQ 6.984375 17.96875 6.984375 36.375 \r\nQ 6.984375 53.65625 15.1875 63.9375 \r\nQ 23.390625 74.21875 37.203125 74.21875 \r\nQ 40.921875 74.21875 44.703125 73.484375 \r\nQ 48.484375 72.75 52.59375 71.296875 \r\nz\r\n\" id=\"DejaVuSans-54\"/>\r\n      </defs>\r\n      <g transform=\"translate(13.5625 160.440038)scale(0.1 -0.1)\">\r\n       <use xlink:href=\"#DejaVuSans-54\"/>\r\n       <use x=\"63.623047\" xlink:href=\"#DejaVuSans-48\"/>\r\n       <use x=\"127.246094\" xlink:href=\"#DejaVuSans-48\"/>\r\n       <use x=\"190.869141\" xlink:href=\"#DejaVuSans-48\"/>\r\n      </g>\r\n     </g>\r\n    </g>\r\n    <g id=\"ytick_5\">\r\n     <g id=\"line2d_19\">\r\n      <path clip-path=\"url(#p2439cead50)\" d=\"M 46.0125 124.374425 \r\nL 380.8125 124.374425 \r\n\" style=\"fill:none;stroke:#b0b0b0;stroke-linecap:square;stroke-width:0.8;\"/>\r\n     </g>\r\n     <g id=\"line2d_20\">\r\n      <g>\r\n       <use style=\"stroke:#000000;stroke-width:0.8;\" x=\"46.0125\" xlink:href=\"#m06a5ba2f53\" y=\"124.374425\"/>\r\n      </g>\r\n     </g>\r\n     <g id=\"text_10\">\r\n      <!-- 8000 -->\r\n      <defs>\r\n       <path d=\"M 31.78125 34.625 \r\nQ 24.75 34.625 20.71875 30.859375 \r\nQ 16.703125 27.09375 16.703125 20.515625 \r\nQ 16.703125 13.921875 20.71875 10.15625 \r\nQ 24.75 6.390625 31.78125 6.390625 \r\nQ 38.8125 6.390625 42.859375 10.171875 \r\nQ 46.921875 13.96875 46.921875 20.515625 \r\nQ 46.921875 27.09375 42.890625 30.859375 \r\nQ 38.875 34.625 31.78125 34.625 \r\nz\r\nM 21.921875 38.8125 \r\nQ 15.578125 40.375 12.03125 44.71875 \r\nQ 8.5 49.078125 8.5 55.328125 \r\nQ 8.5 64.0625 14.71875 69.140625 \r\nQ 20.953125 74.21875 31.78125 74.21875 \r\nQ 42.671875 74.21875 48.875 69.140625 \r\nQ 55.078125 64.0625 55.078125 55.328125 \r\nQ 55.078125 49.078125 51.53125 44.71875 \r\nQ 48 40.375 41.703125 38.8125 \r\nQ 48.828125 37.15625 52.796875 32.3125 \r\nQ 56.78125 27.484375 56.78125 20.515625 \r\nQ 56.78125 9.90625 50.3125 4.234375 \r\nQ 43.84375 -1.421875 31.78125 -1.421875 \r\nQ 19.734375 -1.421875 13.25 4.234375 \r\nQ 6.78125 9.90625 6.78125 20.515625 \r\nQ 6.78125 27.484375 10.78125 32.3125 \r\nQ 14.796875 37.15625 21.921875 38.8125 \r\nz\r\nM 18.3125 54.390625 \r\nQ 18.3125 48.734375 21.84375 45.5625 \r\nQ 25.390625 42.390625 31.78125 42.390625 \r\nQ 38.140625 42.390625 41.71875 45.5625 \r\nQ 45.3125 48.734375 45.3125 54.390625 \r\nQ 45.3125 60.0625 41.71875 63.234375 \r\nQ 38.140625 66.40625 31.78125 66.40625 \r\nQ 25.390625 66.40625 21.84375 63.234375 \r\nQ 18.3125 60.0625 18.3125 54.390625 \r\nz\r\n\" id=\"DejaVuSans-56\"/>\r\n      </defs>\r\n      <g transform=\"translate(13.5625 128.173644)scale(0.1 -0.1)\">\r\n       <use xlink:href=\"#DejaVuSans-56\"/>\r\n       <use x=\"63.623047\" xlink:href=\"#DejaVuSans-48\"/>\r\n       <use x=\"127.246094\" xlink:href=\"#DejaVuSans-48\"/>\r\n       <use x=\"190.869141\" xlink:href=\"#DejaVuSans-48\"/>\r\n      </g>\r\n     </g>\r\n    </g>\r\n    <g id=\"ytick_6\">\r\n     <g id=\"line2d_21\">\r\n      <path clip-path=\"url(#p2439cead50)\" d=\"M 46.0125 92.108032 \r\nL 380.8125 92.108032 \r\n\" style=\"fill:none;stroke:#b0b0b0;stroke-linecap:square;stroke-width:0.8;\"/>\r\n     </g>\r\n     <g id=\"line2d_22\">\r\n      <g>\r\n       <use style=\"stroke:#000000;stroke-width:0.8;\" x=\"46.0125\" xlink:href=\"#m06a5ba2f53\" y=\"92.108032\"/>\r\n      </g>\r\n     </g>\r\n     <g id=\"text_11\">\r\n      <!-- 10000 -->\r\n      <g transform=\"translate(7.2 95.907251)scale(0.1 -0.1)\">\r\n       <use xlink:href=\"#DejaVuSans-49\"/>\r\n       <use x=\"63.623047\" xlink:href=\"#DejaVuSans-48\"/>\r\n       <use x=\"127.246094\" xlink:href=\"#DejaVuSans-48\"/>\r\n       <use x=\"190.869141\" xlink:href=\"#DejaVuSans-48\"/>\r\n       <use x=\"254.492188\" xlink:href=\"#DejaVuSans-48\"/>\r\n      </g>\r\n     </g>\r\n    </g>\r\n    <g id=\"ytick_7\">\r\n     <g id=\"line2d_23\">\r\n      <path clip-path=\"url(#p2439cead50)\" d=\"M 46.0125 59.841638 \r\nL 380.8125 59.841638 \r\n\" style=\"fill:none;stroke:#b0b0b0;stroke-linecap:square;stroke-width:0.8;\"/>\r\n     </g>\r\n     <g id=\"line2d_24\">\r\n      <g>\r\n       <use style=\"stroke:#000000;stroke-width:0.8;\" x=\"46.0125\" xlink:href=\"#m06a5ba2f53\" y=\"59.841638\"/>\r\n      </g>\r\n     </g>\r\n     <g id=\"text_12\">\r\n      <!-- 12000 -->\r\n      <g transform=\"translate(7.2 63.640857)scale(0.1 -0.1)\">\r\n       <use xlink:href=\"#DejaVuSans-49\"/>\r\n       <use x=\"63.623047\" xlink:href=\"#DejaVuSans-50\"/>\r\n       <use x=\"127.246094\" xlink:href=\"#DejaVuSans-48\"/>\r\n       <use x=\"190.869141\" xlink:href=\"#DejaVuSans-48\"/>\r\n       <use x=\"254.492188\" xlink:href=\"#DejaVuSans-48\"/>\r\n      </g>\r\n     </g>\r\n    </g>\r\n   </g>\r\n   <g id=\"patch_13\">\r\n    <path d=\"M 46.0125 253.44 \r\nL 46.0125 36 \r\n\" style=\"fill:none;stroke:#000000;stroke-linecap:square;stroke-linejoin:miter;stroke-width:0.8;\"/>\r\n   </g>\r\n   <g id=\"patch_14\">\r\n    <path d=\"M 380.8125 253.44 \r\nL 380.8125 36 \r\n\" style=\"fill:none;stroke:#000000;stroke-linecap:square;stroke-linejoin:miter;stroke-width:0.8;\"/>\r\n   </g>\r\n   <g id=\"patch_15\">\r\n    <path d=\"M 46.0125 253.44 \r\nL 380.8125 253.44 \r\n\" style=\"fill:none;stroke:#000000;stroke-linecap:square;stroke-linejoin:miter;stroke-width:0.8;\"/>\r\n   </g>\r\n   <g id=\"patch_16\">\r\n    <path d=\"M 46.0125 36 \r\nL 380.8125 36 \r\n\" style=\"fill:none;stroke:#000000;stroke-linecap:square;stroke-linejoin:miter;stroke-width:0.8;\"/>\r\n   </g>\r\n   <g id=\"text_13\">\r\n    <!-- mean_price -->\r\n    <defs>\r\n     <path d=\"M 52 44.1875 \r\nQ 55.375 50.25 60.0625 53.125 \r\nQ 64.75 56 71.09375 56 \r\nQ 79.640625 56 84.28125 50.015625 \r\nQ 88.921875 44.046875 88.921875 33.015625 \r\nL 88.921875 0 \r\nL 79.890625 0 \r\nL 79.890625 32.71875 \r\nQ 79.890625 40.578125 77.09375 44.375 \r\nQ 74.3125 48.1875 68.609375 48.1875 \r\nQ 61.625 48.1875 57.5625 43.546875 \r\nQ 53.515625 38.921875 53.515625 30.90625 \r\nL 53.515625 0 \r\nL 44.484375 0 \r\nL 44.484375 32.71875 \r\nQ 44.484375 40.625 41.703125 44.40625 \r\nQ 38.921875 48.1875 33.109375 48.1875 \r\nQ 26.21875 48.1875 22.15625 43.53125 \r\nQ 18.109375 38.875 18.109375 30.90625 \r\nL 18.109375 0 \r\nL 9.078125 0 \r\nL 9.078125 54.6875 \r\nL 18.109375 54.6875 \r\nL 18.109375 46.1875 \r\nQ 21.1875 51.21875 25.484375 53.609375 \r\nQ 29.78125 56 35.6875 56 \r\nQ 41.65625 56 45.828125 52.96875 \r\nQ 50 49.953125 52 44.1875 \r\nz\r\n\" id=\"DejaVuSans-109\"/>\r\n     <path d=\"M 56.203125 29.59375 \r\nL 56.203125 25.203125 \r\nL 14.890625 25.203125 \r\nQ 15.484375 15.921875 20.484375 11.0625 \r\nQ 25.484375 6.203125 34.421875 6.203125 \r\nQ 39.59375 6.203125 44.453125 7.46875 \r\nQ 49.3125 8.734375 54.109375 11.28125 \r\nL 54.109375 2.78125 \r\nQ 49.265625 0.734375 44.1875 -0.34375 \r\nQ 39.109375 -1.421875 33.890625 -1.421875 \r\nQ 20.796875 -1.421875 13.15625 6.1875 \r\nQ 5.515625 13.8125 5.515625 26.8125 \r\nQ 5.515625 40.234375 12.765625 48.109375 \r\nQ 20.015625 56 32.328125 56 \r\nQ 43.359375 56 49.78125 48.890625 \r\nQ 56.203125 41.796875 56.203125 29.59375 \r\nz\r\nM 47.21875 32.234375 \r\nQ 47.125 39.59375 43.09375 43.984375 \r\nQ 39.0625 48.390625 32.421875 48.390625 \r\nQ 24.90625 48.390625 20.390625 44.140625 \r\nQ 15.875 39.890625 15.1875 32.171875 \r\nz\r\n\" id=\"DejaVuSans-101\"/>\r\n     <path d=\"M 34.28125 27.484375 \r\nQ 23.390625 27.484375 19.1875 25 \r\nQ 14.984375 22.515625 14.984375 16.5 \r\nQ 14.984375 11.71875 18.140625 8.90625 \r\nQ 21.296875 6.109375 26.703125 6.109375 \r\nQ 34.1875 6.109375 38.703125 11.40625 \r\nQ 43.21875 16.703125 43.21875 25.484375 \r\nL 43.21875 27.484375 \r\nz\r\nM 52.203125 31.203125 \r\nL 52.203125 0 \r\nL 43.21875 0 \r\nL 43.21875 8.296875 \r\nQ 40.140625 3.328125 35.546875 0.953125 \r\nQ 30.953125 -1.421875 24.3125 -1.421875 \r\nQ 15.921875 -1.421875 10.953125 3.296875 \r\nQ 6 8.015625 6 15.921875 \r\nQ 6 25.140625 12.171875 29.828125 \r\nQ 18.359375 34.515625 30.609375 34.515625 \r\nL 43.21875 34.515625 \r\nL 43.21875 35.40625 \r\nQ 43.21875 41.609375 39.140625 45 \r\nQ 35.0625 48.390625 27.6875 48.390625 \r\nQ 23 48.390625 18.546875 47.265625 \r\nQ 14.109375 46.140625 10.015625 43.890625 \r\nL 10.015625 52.203125 \r\nQ 14.9375 54.109375 19.578125 55.046875 \r\nQ 24.21875 56 28.609375 56 \r\nQ 40.484375 56 46.34375 49.84375 \r\nQ 52.203125 43.703125 52.203125 31.203125 \r\nz\r\n\" id=\"DejaVuSans-97\"/>\r\n     <path d=\"M 54.890625 33.015625 \r\nL 54.890625 0 \r\nL 45.90625 0 \r\nL 45.90625 32.71875 \r\nQ 45.90625 40.484375 42.875 44.328125 \r\nQ 39.84375 48.1875 33.796875 48.1875 \r\nQ 26.515625 48.1875 22.3125 43.546875 \r\nQ 18.109375 38.921875 18.109375 30.90625 \r\nL 18.109375 0 \r\nL 9.078125 0 \r\nL 9.078125 54.6875 \r\nL 18.109375 54.6875 \r\nL 18.109375 46.1875 \r\nQ 21.34375 51.125 25.703125 53.5625 \r\nQ 30.078125 56 35.796875 56 \r\nQ 45.21875 56 50.046875 50.171875 \r\nQ 54.890625 44.34375 54.890625 33.015625 \r\nz\r\n\" id=\"DejaVuSans-110\"/>\r\n     <path d=\"M 50.984375 -16.609375 \r\nL 50.984375 -23.578125 \r\nL -0.984375 -23.578125 \r\nL -0.984375 -16.609375 \r\nz\r\n\" id=\"DejaVuSans-95\"/>\r\n     <path d=\"M 18.109375 8.203125 \r\nL 18.109375 -20.796875 \r\nL 9.078125 -20.796875 \r\nL 9.078125 54.6875 \r\nL 18.109375 54.6875 \r\nL 18.109375 46.390625 \r\nQ 20.953125 51.265625 25.265625 53.625 \r\nQ 29.59375 56 35.59375 56 \r\nQ 45.5625 56 51.78125 48.09375 \r\nQ 58.015625 40.1875 58.015625 27.296875 \r\nQ 58.015625 14.40625 51.78125 6.484375 \r\nQ 45.5625 -1.421875 35.59375 -1.421875 \r\nQ 29.59375 -1.421875 25.265625 0.953125 \r\nQ 20.953125 3.328125 18.109375 8.203125 \r\nz\r\nM 48.6875 27.296875 \r\nQ 48.6875 37.203125 44.609375 42.84375 \r\nQ 40.53125 48.484375 33.40625 48.484375 \r\nQ 26.265625 48.484375 22.1875 42.84375 \r\nQ 18.109375 37.203125 18.109375 27.296875 \r\nQ 18.109375 17.390625 22.1875 11.75 \r\nQ 26.265625 6.109375 33.40625 6.109375 \r\nQ 40.53125 6.109375 44.609375 11.75 \r\nQ 48.6875 17.390625 48.6875 27.296875 \r\nz\r\n\" id=\"DejaVuSans-112\"/>\r\n     <path d=\"M 41.109375 46.296875 \r\nQ 39.59375 47.171875 37.8125 47.578125 \r\nQ 36.03125 48 33.890625 48 \r\nQ 26.265625 48 22.1875 43.046875 \r\nQ 18.109375 38.09375 18.109375 28.8125 \r\nL 18.109375 0 \r\nL 9.078125 0 \r\nL 9.078125 54.6875 \r\nL 18.109375 54.6875 \r\nL 18.109375 46.1875 \r\nQ 20.953125 51.171875 25.484375 53.578125 \r\nQ 30.03125 56 36.53125 56 \r\nQ 37.453125 56 38.578125 55.875 \r\nQ 39.703125 55.765625 41.0625 55.515625 \r\nz\r\n\" id=\"DejaVuSans-114\"/>\r\n     <path d=\"M 9.421875 54.6875 \r\nL 18.40625 54.6875 \r\nL 18.40625 0 \r\nL 9.421875 0 \r\nz\r\nM 9.421875 75.984375 \r\nL 18.40625 75.984375 \r\nL 18.40625 64.59375 \r\nL 9.421875 64.59375 \r\nz\r\n\" id=\"DejaVuSans-105\"/>\r\n     <path d=\"M 48.78125 52.59375 \r\nL 48.78125 44.1875 \r\nQ 44.96875 46.296875 41.140625 47.34375 \r\nQ 37.3125 48.390625 33.40625 48.390625 \r\nQ 24.65625 48.390625 19.8125 42.84375 \r\nQ 14.984375 37.3125 14.984375 27.296875 \r\nQ 14.984375 17.28125 19.8125 11.734375 \r\nQ 24.65625 6.203125 33.40625 6.203125 \r\nQ 37.3125 6.203125 41.140625 7.25 \r\nQ 44.96875 8.296875 48.78125 10.40625 \r\nL 48.78125 2.09375 \r\nQ 45.015625 0.34375 40.984375 -0.53125 \r\nQ 36.96875 -1.421875 32.421875 -1.421875 \r\nQ 20.0625 -1.421875 12.78125 6.34375 \r\nQ 5.515625 14.109375 5.515625 27.296875 \r\nQ 5.515625 40.671875 12.859375 48.328125 \r\nQ 20.21875 56 33.015625 56 \r\nQ 37.15625 56 41.109375 55.140625 \r\nQ 45.0625 54.296875 48.78125 52.59375 \r\nz\r\n\" id=\"DejaVuSans-99\"/>\r\n    </defs>\r\n    <g transform=\"translate(178.463438 30)scale(0.12 -0.12)\">\r\n     <use xlink:href=\"#DejaVuSans-109\"/>\r\n     <use x=\"97.412109\" xlink:href=\"#DejaVuSans-101\"/>\r\n     <use x=\"158.935547\" xlink:href=\"#DejaVuSans-97\"/>\r\n     <use x=\"220.214844\" xlink:href=\"#DejaVuSans-110\"/>\r\n     <use x=\"283.59375\" xlink:href=\"#DejaVuSans-95\"/>\r\n     <use x=\"333.59375\" xlink:href=\"#DejaVuSans-112\"/>\r\n     <use x=\"397.070312\" xlink:href=\"#DejaVuSans-114\"/>\r\n     <use x=\"438.183594\" xlink:href=\"#DejaVuSans-105\"/>\r\n     <use x=\"465.966797\" xlink:href=\"#DejaVuSans-99\"/>\r\n     <use x=\"520.947266\" xlink:href=\"#DejaVuSans-101\"/>\r\n    </g>\r\n   </g>\r\n  </g>\r\n  <g id=\"text_14\">\r\n   <!-- Mean Price Distribution -->\r\n   <defs>\r\n    <path d=\"M 9.8125 72.90625 \r\nL 24.515625 72.90625 \r\nL 43.109375 23.296875 \r\nL 61.8125 72.90625 \r\nL 76.515625 72.90625 \r\nL 76.515625 0 \r\nL 66.890625 0 \r\nL 66.890625 64.015625 \r\nL 48.09375 14.015625 \r\nL 38.1875 14.015625 \r\nL 19.390625 64.015625 \r\nL 19.390625 0 \r\nL 9.8125 0 \r\nz\r\n\" id=\"DejaVuSans-77\"/>\r\n    <path id=\"DejaVuSans-32\"/>\r\n    <path d=\"M 19.671875 64.796875 \r\nL 19.671875 37.40625 \r\nL 32.078125 37.40625 \r\nQ 38.96875 37.40625 42.71875 40.96875 \r\nQ 46.484375 44.53125 46.484375 51.125 \r\nQ 46.484375 57.671875 42.71875 61.234375 \r\nQ 38.96875 64.796875 32.078125 64.796875 \r\nz\r\nM 9.8125 72.90625 \r\nL 32.078125 72.90625 \r\nQ 44.34375 72.90625 50.609375 67.359375 \r\nQ 56.890625 61.8125 56.890625 51.125 \r\nQ 56.890625 40.328125 50.609375 34.8125 \r\nQ 44.34375 29.296875 32.078125 29.296875 \r\nL 19.671875 29.296875 \r\nL 19.671875 0 \r\nL 9.8125 0 \r\nz\r\n\" id=\"DejaVuSans-80\"/>\r\n    <path d=\"M 19.671875 64.796875 \r\nL 19.671875 8.109375 \r\nL 31.59375 8.109375 \r\nQ 46.6875 8.109375 53.6875 14.9375 \r\nQ 60.6875 21.78125 60.6875 36.53125 \r\nQ 60.6875 51.171875 53.6875 57.984375 \r\nQ 46.6875 64.796875 31.59375 64.796875 \r\nz\r\nM 9.8125 72.90625 \r\nL 30.078125 72.90625 \r\nQ 51.265625 72.90625 61.171875 64.09375 \r\nQ 71.09375 55.28125 71.09375 36.53125 \r\nQ 71.09375 17.671875 61.125 8.828125 \r\nQ 51.171875 0 30.078125 0 \r\nL 9.8125 0 \r\nz\r\n\" id=\"DejaVuSans-68\"/>\r\n    <path d=\"M 44.28125 53.078125 \r\nL 44.28125 44.578125 \r\nQ 40.484375 46.53125 36.375 47.5 \r\nQ 32.28125 48.484375 27.875 48.484375 \r\nQ 21.1875 48.484375 17.84375 46.4375 \r\nQ 14.5 44.390625 14.5 40.28125 \r\nQ 14.5 37.15625 16.890625 35.375 \r\nQ 19.28125 33.59375 26.515625 31.984375 \r\nL 29.59375 31.296875 \r\nQ 39.15625 29.25 43.1875 25.515625 \r\nQ 47.21875 21.78125 47.21875 15.09375 \r\nQ 47.21875 7.46875 41.1875 3.015625 \r\nQ 35.15625 -1.421875 24.609375 -1.421875 \r\nQ 20.21875 -1.421875 15.453125 -0.5625 \r\nQ 10.6875 0.296875 5.421875 2 \r\nL 5.421875 11.28125 \r\nQ 10.40625 8.6875 15.234375 7.390625 \r\nQ 20.0625 6.109375 24.8125 6.109375 \r\nQ 31.15625 6.109375 34.5625 8.28125 \r\nQ 37.984375 10.453125 37.984375 14.40625 \r\nQ 37.984375 18.0625 35.515625 20.015625 \r\nQ 33.0625 21.96875 24.703125 23.78125 \r\nL 21.578125 24.515625 \r\nQ 13.234375 26.265625 9.515625 29.90625 \r\nQ 5.8125 33.546875 5.8125 39.890625 \r\nQ 5.8125 47.609375 11.28125 51.796875 \r\nQ 16.75 56 26.8125 56 \r\nQ 31.78125 56 36.171875 55.265625 \r\nQ 40.578125 54.546875 44.28125 53.078125 \r\nz\r\n\" id=\"DejaVuSans-115\"/>\r\n    <path d=\"M 18.3125 70.21875 \r\nL 18.3125 54.6875 \r\nL 36.8125 54.6875 \r\nL 36.8125 47.703125 \r\nL 18.3125 47.703125 \r\nL 18.3125 18.015625 \r\nQ 18.3125 11.328125 20.140625 9.421875 \r\nQ 21.96875 7.515625 27.59375 7.515625 \r\nL 36.8125 7.515625 \r\nL 36.8125 0 \r\nL 27.59375 0 \r\nQ 17.1875 0 13.234375 3.875 \r\nQ 9.28125 7.765625 9.28125 18.015625 \r\nL 9.28125 47.703125 \r\nL 2.6875 47.703125 \r\nL 2.6875 54.6875 \r\nL 9.28125 54.6875 \r\nL 9.28125 70.21875 \r\nz\r\n\" id=\"DejaVuSans-116\"/>\r\n    <path d=\"M 48.6875 27.296875 \r\nQ 48.6875 37.203125 44.609375 42.84375 \r\nQ 40.53125 48.484375 33.40625 48.484375 \r\nQ 26.265625 48.484375 22.1875 42.84375 \r\nQ 18.109375 37.203125 18.109375 27.296875 \r\nQ 18.109375 17.390625 22.1875 11.75 \r\nQ 26.265625 6.109375 33.40625 6.109375 \r\nQ 40.53125 6.109375 44.609375 11.75 \r\nQ 48.6875 17.390625 48.6875 27.296875 \r\nz\r\nM 18.109375 46.390625 \r\nQ 20.953125 51.265625 25.265625 53.625 \r\nQ 29.59375 56 35.59375 56 \r\nQ 45.5625 56 51.78125 48.09375 \r\nQ 58.015625 40.1875 58.015625 27.296875 \r\nQ 58.015625 14.40625 51.78125 6.484375 \r\nQ 45.5625 -1.421875 35.59375 -1.421875 \r\nQ 29.59375 -1.421875 25.265625 0.953125 \r\nQ 20.953125 3.328125 18.109375 8.203125 \r\nL 18.109375 0 \r\nL 9.078125 0 \r\nL 9.078125 75.984375 \r\nL 18.109375 75.984375 \r\nz\r\n\" id=\"DejaVuSans-98\"/>\r\n    <path d=\"M 8.5 21.578125 \r\nL 8.5 54.6875 \r\nL 17.484375 54.6875 \r\nL 17.484375 21.921875 \r\nQ 17.484375 14.15625 20.5 10.265625 \r\nQ 23.53125 6.390625 29.59375 6.390625 \r\nQ 36.859375 6.390625 41.078125 11.03125 \r\nQ 45.3125 15.671875 45.3125 23.6875 \r\nL 45.3125 54.6875 \r\nL 54.296875 54.6875 \r\nL 54.296875 0 \r\nL 45.3125 0 \r\nL 45.3125 8.40625 \r\nQ 42.046875 3.421875 37.71875 1 \r\nQ 33.40625 -1.421875 27.6875 -1.421875 \r\nQ 18.265625 -1.421875 13.375 4.4375 \r\nQ 8.5 10.296875 8.5 21.578125 \r\nz\r\nM 31.109375 56 \r\nz\r\n\" id=\"DejaVuSans-117\"/>\r\n    <path d=\"M 30.609375 48.390625 \r\nQ 23.390625 48.390625 19.1875 42.75 \r\nQ 14.984375 37.109375 14.984375 27.296875 \r\nQ 14.984375 17.484375 19.15625 11.84375 \r\nQ 23.34375 6.203125 30.609375 6.203125 \r\nQ 37.796875 6.203125 41.984375 11.859375 \r\nQ 46.1875 17.53125 46.1875 27.296875 \r\nQ 46.1875 37.015625 41.984375 42.703125 \r\nQ 37.796875 48.390625 30.609375 48.390625 \r\nz\r\nM 30.609375 56 \r\nQ 42.328125 56 49.015625 48.375 \r\nQ 55.71875 40.765625 55.71875 27.296875 \r\nQ 55.71875 13.875 49.015625 6.21875 \r\nQ 42.328125 -1.421875 30.609375 -1.421875 \r\nQ 18.84375 -1.421875 12.171875 6.21875 \r\nQ 5.515625 13.875 5.515625 27.296875 \r\nQ 5.515625 40.765625 12.171875 48.375 \r\nQ 18.84375 56 30.609375 56 \r\nz\r\n\" id=\"DejaVuSans-111\"/>\r\n   </defs>\r\n   <g transform=\"translate(138.106875 16.318125)scale(0.12 -0.12)\">\r\n    <use xlink:href=\"#DejaVuSans-77\"/>\r\n    <use x=\"86.279297\" xlink:href=\"#DejaVuSans-101\"/>\r\n    <use x=\"147.802734\" xlink:href=\"#DejaVuSans-97\"/>\r\n    <use x=\"209.082031\" xlink:href=\"#DejaVuSans-110\"/>\r\n    <use x=\"272.460938\" xlink:href=\"#DejaVuSans-32\"/>\r\n    <use x=\"304.248047\" xlink:href=\"#DejaVuSans-80\"/>\r\n    <use x=\"364.535156\" xlink:href=\"#DejaVuSans-114\"/>\r\n    <use x=\"405.648438\" xlink:href=\"#DejaVuSans-105\"/>\r\n    <use x=\"433.431641\" xlink:href=\"#DejaVuSans-99\"/>\r\n    <use x=\"488.412109\" xlink:href=\"#DejaVuSans-101\"/>\r\n    <use x=\"549.935547\" xlink:href=\"#DejaVuSans-32\"/>\r\n    <use x=\"581.722656\" xlink:href=\"#DejaVuSans-68\"/>\r\n    <use x=\"658.724609\" xlink:href=\"#DejaVuSans-105\"/>\r\n    <use x=\"686.507812\" xlink:href=\"#DejaVuSans-115\"/>\r\n    <use x=\"738.607422\" xlink:href=\"#DejaVuSans-116\"/>\r\n    <use x=\"777.816406\" xlink:href=\"#DejaVuSans-114\"/>\r\n    <use x=\"818.929688\" xlink:href=\"#DejaVuSans-105\"/>\r\n    <use x=\"846.712891\" xlink:href=\"#DejaVuSans-98\"/>\r\n    <use x=\"910.189453\" xlink:href=\"#DejaVuSans-117\"/>\r\n    <use x=\"973.568359\" xlink:href=\"#DejaVuSans-116\"/>\r\n    <use x=\"1012.777344\" xlink:href=\"#DejaVuSans-105\"/>\r\n    <use x=\"1040.560547\" xlink:href=\"#DejaVuSans-111\"/>\r\n    <use x=\"1101.742188\" xlink:href=\"#DejaVuSans-110\"/>\r\n   </g>\r\n  </g>\r\n </g>\r\n <defs>\r\n  <clipPath id=\"p2439cead50\">\r\n   <rect height=\"217.44\" width=\"334.8\" x=\"46.0125\" y=\"36\"/>\r\n  </clipPath>\r\n </defs>\r\n</svg>\r\n",
      "image/png": "[encoded data removed]"
     },
     "metadata": {
      "needs_background": "light"
     }
    }
   ],
   "source": [
    "X.hist()\n",
    "plt.suptitle('Mean Price Distribution');"
   ]
  },
  {
   "cell_type": "code",
   "execution_count": 10,
   "metadata": {
    "ExecuteTime": {
     "end_time": "2020-03-30T16:41:40.426544Z",
     "start_time": "2020-03-30T16:41:40.162249Z"
    }
   },
   "outputs": [
    {
     "output_type": "execute_result",
     "data": {
      "text/plain": "LogisticRegression(C=1.0, class_weight=None, dual=False, fit_intercept=True,\n                   intercept_scaling=1, l1_ratio=None, max_iter=100,\n                   multi_class='auto', n_jobs=None, penalty='l2',\n                   random_state=None, solver='sag', tol=0.0001, verbose=0,\n                   warm_start=False)"
     },
     "metadata": {},
     "execution_count": 10
    }
   ],
   "source": [
    "model_purchase = LogisticRegression(solver='sag')\n",
    "model_purchase.fit(X,y)"
   ]
  },
  {
   "cell_type": "code",
   "execution_count": 11,
   "metadata": {
    "ExecuteTime": {
     "end_time": "2020-03-30T16:41:40.434521Z",
     "start_time": "2020-03-30T16:41:40.428537Z"
    }
   },
   "outputs": [
    {
     "output_type": "execute_result",
     "data": {
      "text/plain": "array([[-2.34639617]])"
     },
     "metadata": {},
     "execution_count": 11
    }
   ],
   "source": [
    "model_purchase.coef_"
   ]
  },
  {
   "cell_type": "markdown",
   "metadata": {},
   "source": [
    "As we can expect reducing the price has a positive effect on purchasing"
   ]
  },
  {
   "cell_type": "markdown",
   "metadata": {},
   "source": [
    "## Calculating Price Elasticity \n",
    "\n",
    "Price elasticity of purchase probability is the percentage change in purchase probability in response to a one percent change in the respective aggregate price for the product category.\n"
   ]
  },
  {
   "cell_type": "code",
   "execution_count": 12,
   "metadata": {
    "ExecuteTime": {
     "end_time": "2020-03-30T16:41:40.452472Z",
     "start_time": "2020-03-30T16:41:40.436516Z"
    }
   },
   "outputs": [
    {
     "output_type": "execute_result",
     "data": {
      "text/plain": "1.1"
     },
     "metadata": {},
     "execution_count": 12
    }
   ],
   "source": [
    "df_purchase_predictors[['price_'+ str(i) for i in range(1,6)]].min().min()"
   ]
  },
  {
   "cell_type": "code",
   "execution_count": 13,
   "metadata": {
    "ExecuteTime": {
     "end_time": "2020-03-30T16:41:40.475414Z",
     "start_time": "2020-03-30T16:41:40.454469Z"
    }
   },
   "outputs": [
    {
     "output_type": "execute_result",
     "data": {
      "text/plain": "2.8"
     },
     "metadata": {},
     "execution_count": 13
    }
   ],
   "source": [
    "df_purchase_predictors[['price_'+ str(i) for i in range(1,6)]].max().max()\n",
    ""
   ]
  },
  {
   "cell_type": "code",
   "execution_count": 14,
   "metadata": {
    "ExecuteTime": {
     "end_time": "2020-03-30T16:41:40.488381Z",
     "start_time": "2020-03-30T16:41:40.478405Z"
    }
   },
   "outputs": [],
   "source": [
    "# Creating an array from 1 to 2.99 for the price range.\n",
    "df_price = pd.DataFrame(np.arange(0.5, 3.5, 0.01))"
   ]
  },
  {
   "cell_type": "code",
   "execution_count": 15,
   "metadata": {
    "ExecuteTime": {
     "end_time": "2020-03-30T16:41:40.508364Z",
     "start_time": "2020-03-30T16:41:40.492368Z"
    }
   },
   "outputs": [],
   "source": [
    "y_pr = model_purchase.predict_proba(df_price)"
   ]
  },
  {
   "cell_type": "code",
   "execution_count": 16,
   "metadata": {
    "ExecuteTime": {
     "end_time": "2020-03-30T16:41:40.530268Z",
     "start_time": "2020-03-30T16:41:40.511315Z"
    }
   },
   "outputs": [
    {
     "output_type": "execute_result",
     "data": {
      "text/plain": "array([[0.08196084, 0.91803916],\n       [0.08374376, 0.91625624],\n       [0.08556184, 0.91443816],\n       [0.08741562, 0.91258438],\n       [0.08930565, 0.91069435]])"
     },
     "metadata": {},
     "execution_count": 16
    }
   ],
   "source": [
    "# resulting array has two columns: the probability of no purchase, the probability of purchase. the higher the price becomes they increase and decrease. \n",
    "y_pr[0:5, :]"
   ]
  },
  {
   "cell_type": "code",
   "execution_count": 17,
   "metadata": {
    "ExecuteTime": {
     "end_time": "2020-03-30T16:41:40.553207Z",
     "start_time": "2020-03-30T16:41:40.533258Z"
    }
   },
   "outputs": [],
   "source": [
    "purchase_pro = y_pr[:,1]"
   ]
  },
  {
   "cell_type": "code",
   "execution_count": 18,
   "metadata": {
    "ExecuteTime": {
     "end_time": "2020-03-30T16:41:40.572155Z",
     "start_time": "2020-03-30T16:41:40.556196Z"
    }
   },
   "outputs": [],
   "source": [
    "# price elasticity: pe\n",
    "pe = model_purchase.coef_ * df_price[0].values * (1 - purchase_pro)"
   ]
  },
  {
   "cell_type": "code",
   "execution_count": 19,
   "metadata": {
    "ExecuteTime": {
     "end_time": "2020-03-30T16:41:40.593097Z",
     "start_time": "2020-03-30T16:41:40.576143Z"
    }
   },
   "outputs": [
    {
     "output_type": "execute_result",
     "data": {
      "text/plain": "array([[-0.09615631, -0.10021297, -0.10439622, -0.10870919, -0.11315508]])"
     },
     "metadata": {},
     "execution_count": 19
    }
   ],
   "source": [
    "pe[:, 0:5]"
   ]
  },
  {
   "cell_type": "code",
   "execution_count": 20,
   "metadata": {
    "ExecuteTime": {
     "end_time": "2020-03-30T16:41:40.609087Z",
     "start_time": "2020-03-30T16:41:40.595092Z"
    }
   },
   "outputs": [],
   "source": [
    "df_price.rename(columns={0:'price_point'}, inplace=True)"
   ]
  },
  {
   "cell_type": "code",
   "execution_count": 21,
   "metadata": {
    "ExecuteTime": {
     "end_time": "2020-03-30T16:41:40.643961Z",
     "start_time": "2020-03-30T16:41:40.611050Z"
    }
   },
   "outputs": [
    {
     "output_type": "execute_result",
     "data": {
      "text/plain": "     price_point\n0           0.50\n1           0.51\n2           0.52\n3           0.53\n4           0.54\n..           ...\n295         3.45\n296         3.46\n297         3.47\n298         3.48\n299         3.49\n\n[300 rows x 1 columns]",
      "text/html": "<div>\n<style scoped>\n    .dataframe tbody tr th:only-of-type {\n        vertical-align: middle;\n    }\n\n    .dataframe tbody tr th {\n        vertical-align: top;\n    }\n\n    .dataframe thead th {\n        text-align: right;\n    }\n</style>\n<table border=\"1\" class=\"dataframe\">\n  <thead>\n    <tr style=\"text-align: right;\">\n      <th></th>\n      <th>price_point</th>\n    </tr>\n  </thead>\n  <tbody>\n    <tr>\n      <th>0</th>\n      <td>0.50</td>\n    </tr>\n    <tr>\n      <th>1</th>\n      <td>0.51</td>\n    </tr>\n    <tr>\n      <th>2</th>\n      <td>0.52</td>\n    </tr>\n    <tr>\n      <th>3</th>\n      <td>0.53</td>\n    </tr>\n    <tr>\n      <th>4</th>\n      <td>0.54</td>\n    </tr>\n    <tr>\n      <th>...</th>\n      <td>...</td>\n    </tr>\n    <tr>\n      <th>295</th>\n      <td>3.45</td>\n    </tr>\n    <tr>\n      <th>296</th>\n      <td>3.46</td>\n    </tr>\n    <tr>\n      <th>297</th>\n      <td>3.47</td>\n    </tr>\n    <tr>\n      <th>298</th>\n      <td>3.48</td>\n    </tr>\n    <tr>\n      <th>299</th>\n      <td>3.49</td>\n    </tr>\n  </tbody>\n</table>\n<p>300 rows × 1 columns</p>\n</div>"
     },
     "metadata": {},
     "execution_count": 21
    }
   ],
   "source": [
    "df_price"
   ]
  },
  {
   "cell_type": "code",
   "execution_count": 22,
   "metadata": {},
   "outputs": [],
   "source": [
    "df_price_elasticities = df_price.copy()"
   ]
  },
  {
   "cell_type": "code",
   "execution_count": 23,
   "metadata": {
    "ExecuteTime": {
     "end_time": "2020-03-30T16:41:40.660916Z",
     "start_time": "2020-03-30T16:41:40.645956Z"
    }
   },
   "outputs": [],
   "source": [
    "df_price_elasticities['mean_pe'] = pe[0]"
   ]
  },
  {
   "cell_type": "code",
   "execution_count": 24,
   "metadata": {
    "ExecuteTime": {
     "end_time": "2020-03-30T16:41:40.686847Z",
     "start_time": "2020-03-30T16:41:40.662912Z"
    }
   },
   "outputs": [
    {
     "output_type": "execute_result",
     "data": {
      "text/plain": "     price_point   mean_pe\n0           0.50 -0.096156\n1           0.51 -0.100213\n2           0.52 -0.104396\n3           0.53 -0.108709\n4           0.54 -0.113155\n..           ...       ...\n295         3.45 -8.006642\n296         3.46 -8.031884\n297         3.47 -8.057092\n298         3.48 -8.082265\n299         3.49 -8.107406\n\n[300 rows x 2 columns]",
      "text/html": "<div>\n<style scoped>\n    .dataframe tbody tr th:only-of-type {\n        vertical-align: middle;\n    }\n\n    .dataframe tbody tr th {\n        vertical-align: top;\n    }\n\n    .dataframe thead th {\n        text-align: right;\n    }\n</style>\n<table border=\"1\" class=\"dataframe\">\n  <thead>\n    <tr style=\"text-align: right;\">\n      <th></th>\n      <th>price_point</th>\n      <th>mean_pe</th>\n    </tr>\n  </thead>\n  <tbody>\n    <tr>\n      <th>0</th>\n      <td>0.50</td>\n      <td>-0.096156</td>\n    </tr>\n    <tr>\n      <th>1</th>\n      <td>0.51</td>\n      <td>-0.100213</td>\n    </tr>\n    <tr>\n      <th>2</th>\n      <td>0.52</td>\n      <td>-0.104396</td>\n    </tr>\n    <tr>\n      <th>3</th>\n      <td>0.53</td>\n      <td>-0.108709</td>\n    </tr>\n    <tr>\n      <th>4</th>\n      <td>0.54</td>\n      <td>-0.113155</td>\n    </tr>\n    <tr>\n      <th>...</th>\n      <td>...</td>\n      <td>...</td>\n    </tr>\n    <tr>\n      <th>295</th>\n      <td>3.45</td>\n      <td>-8.006642</td>\n    </tr>\n    <tr>\n      <th>296</th>\n      <td>3.46</td>\n      <td>-8.031884</td>\n    </tr>\n    <tr>\n      <th>297</th>\n      <td>3.47</td>\n      <td>-8.057092</td>\n    </tr>\n    <tr>\n      <th>298</th>\n      <td>3.48</td>\n      <td>-8.082265</td>\n    </tr>\n    <tr>\n      <th>299</th>\n      <td>3.49</td>\n      <td>-8.107406</td>\n    </tr>\n  </tbody>\n</table>\n<p>300 rows × 2 columns</p>\n</div>"
     },
     "metadata": {},
     "execution_count": 24
    }
   ],
   "source": [
    "df_price_elasticities"
   ]
  },
  {
   "cell_type": "code",
   "execution_count": 25,
   "metadata": {
    "ExecuteTime": {
     "end_time": "2020-03-30T16:41:42.082116Z",
     "start_time": "2020-03-30T16:41:40.688841Z"
    }
   },
   "outputs": [
    {
     "output_type": "display_data",
     "data": {
      "application/vnd.plotly.v1+json": {
       "config": {
        "plotlyServerURL": "https://plot.ly"
       },
       "data": [
        {
         "hoverlabel": {
          "namelength": 0
         },
         "hovertemplate": "Price Point=%{x}<br>Price Elasticity=%{y}",
         "legendgroup": "",
         "marker": {
          "color": "#636efa",
          "symbol": "circle"
         },
         "mode": "markers",
         "name": "",
         "showlegend": false,
         "type": "scatter",
         "x": [
          0.5,
          0.51,
          0.52,
          0.53,
          0.54,
          0.55,
          0.56,
          0.5700000000000001,
          0.5800000000000001,
          0.5900000000000001,
          0.6000000000000001,
          0.6100000000000001,
          0.6200000000000001,
          0.6300000000000001,
          0.6400000000000001,
          0.6500000000000001,
          0.6600000000000001,
          0.6700000000000002,
          0.6800000000000002,
          0.6900000000000002,
          0.7000000000000002,
          0.7100000000000002,
          0.7200000000000002,
          0.7300000000000002,
          0.7400000000000002,
          0.7500000000000002,
          0.7600000000000002,
          0.7700000000000002,
          0.7800000000000002,
          0.7900000000000003,
          0.8000000000000003,
          0.8100000000000003,
          0.8200000000000003,
          0.8300000000000003,
          0.8400000000000003,
          0.8500000000000003,
          0.8600000000000003,
          0.8700000000000003,
          0.8800000000000003,
          0.8900000000000003,
          0.9000000000000004,
          0.9100000000000004,
          0.9200000000000004,
          0.9300000000000004,
          0.9400000000000004,
          0.9500000000000004,
          0.9600000000000004,
          0.9700000000000004,
          0.9800000000000004,
          0.9900000000000004,
          1.0000000000000004,
          1.0100000000000005,
          1.0200000000000005,
          1.0300000000000005,
          1.0400000000000005,
          1.0500000000000005,
          1.0600000000000005,
          1.0700000000000005,
          1.0800000000000005,
          1.0900000000000005,
          1.1000000000000005,
          1.1100000000000005,
          1.1200000000000006,
          1.1300000000000006,
          1.1400000000000006,
          1.1500000000000006,
          1.1600000000000006,
          1.1700000000000006,
          1.1800000000000006,
          1.1900000000000006,
          1.2000000000000006,
          1.2100000000000006,
          1.2200000000000006,
          1.2300000000000006,
          1.2400000000000007,
          1.2500000000000007,
          1.2600000000000007,
          1.2700000000000007,
          1.2800000000000007,
          1.2900000000000007,
          1.3000000000000007,
          1.3100000000000007,
          1.3200000000000007,
          1.3300000000000007,
          1.3400000000000007,
          1.3500000000000008,
          1.3600000000000008,
          1.3700000000000008,
          1.3800000000000008,
          1.3900000000000008,
          1.4000000000000008,
          1.4100000000000008,
          1.4200000000000008,
          1.4300000000000008,
          1.4400000000000008,
          1.4500000000000008,
          1.4600000000000009,
          1.4700000000000009,
          1.4800000000000009,
          1.4900000000000009,
          1.5000000000000009,
          1.510000000000001,
          1.520000000000001,
          1.530000000000001,
          1.540000000000001,
          1.550000000000001,
          1.560000000000001,
          1.570000000000001,
          1.580000000000001,
          1.590000000000001,
          1.600000000000001,
          1.610000000000001,
          1.620000000000001,
          1.630000000000001,
          1.640000000000001,
          1.650000000000001,
          1.660000000000001,
          1.670000000000001,
          1.680000000000001,
          1.690000000000001,
          1.700000000000001,
          1.710000000000001,
          1.720000000000001,
          1.730000000000001,
          1.740000000000001,
          1.750000000000001,
          1.7600000000000011,
          1.7700000000000011,
          1.7800000000000011,
          1.7900000000000011,
          1.8000000000000012,
          1.8100000000000012,
          1.8200000000000012,
          1.8300000000000012,
          1.8400000000000012,
          1.8500000000000012,
          1.8600000000000012,
          1.8700000000000012,
          1.8800000000000012,
          1.8900000000000012,
          1.9000000000000012,
          1.9100000000000013,
          1.9200000000000013,
          1.9300000000000013,
          1.9400000000000013,
          1.9500000000000013,
          1.9600000000000013,
          1.9700000000000013,
          1.9800000000000013,
          1.9900000000000013,
          2.0000000000000013,
          2.0100000000000016,
          2.0200000000000014,
          2.030000000000001,
          2.0400000000000014,
          2.0500000000000016,
          2.0600000000000014,
          2.070000000000001,
          2.0800000000000014,
          2.0900000000000016,
          2.1000000000000014,
          2.110000000000001,
          2.1200000000000014,
          2.1300000000000017,
          2.1400000000000015,
          2.1500000000000012,
          2.1600000000000015,
          2.1700000000000017,
          2.1800000000000015,
          2.1900000000000013,
          2.2000000000000015,
          2.2100000000000017,
          2.2200000000000015,
          2.2300000000000013,
          2.2400000000000015,
          2.2500000000000018,
          2.2600000000000016,
          2.2700000000000014,
          2.2800000000000016,
          2.290000000000002,
          2.3000000000000016,
          2.3100000000000014,
          2.3200000000000016,
          2.330000000000002,
          2.3400000000000016,
          2.3500000000000014,
          2.3600000000000017,
          2.370000000000002,
          2.3800000000000017,
          2.3900000000000015,
          2.4000000000000017,
          2.410000000000002,
          2.4200000000000017,
          2.4300000000000015,
          2.4400000000000017,
          2.450000000000002,
          2.4600000000000017,
          2.4700000000000015,
          2.4800000000000018,
          2.490000000000002,
          2.5000000000000018,
          2.5100000000000016,
          2.520000000000002,
          2.530000000000002,
          2.540000000000002,
          2.5500000000000016,
          2.560000000000002,
          2.570000000000002,
          2.580000000000002,
          2.5900000000000016,
          2.600000000000002,
          2.610000000000002,
          2.620000000000002,
          2.6300000000000017,
          2.640000000000002,
          2.650000000000002,
          2.660000000000002,
          2.6700000000000017,
          2.680000000000002,
          2.690000000000002,
          2.700000000000002,
          2.7100000000000017,
          2.720000000000002,
          2.730000000000002,
          2.740000000000002,
          2.7500000000000018,
          2.760000000000002,
          2.7700000000000022,
          2.780000000000002,
          2.790000000000002,
          2.800000000000002,
          2.8100000000000023,
          2.820000000000002,
          2.830000000000002,
          2.840000000000002,
          2.8500000000000023,
          2.860000000000002,
          2.870000000000002,
          2.880000000000002,
          2.8900000000000023,
          2.900000000000002,
          2.910000000000002,
          2.920000000000002,
          2.9300000000000024,
          2.940000000000002,
          2.950000000000002,
          2.960000000000002,
          2.9700000000000024,
          2.980000000000002,
          2.990000000000002,
          3.000000000000002,
          3.0100000000000025,
          3.0200000000000022,
          3.030000000000002,
          3.0400000000000023,
          3.0500000000000025,
          3.0600000000000023,
          3.070000000000002,
          3.0800000000000023,
          3.0900000000000025,
          3.1000000000000023,
          3.110000000000002,
          3.1200000000000023,
          3.1300000000000026,
          3.1400000000000023,
          3.150000000000002,
          3.1600000000000024,
          3.1700000000000026,
          3.1800000000000024,
          3.190000000000002,
          3.2000000000000024,
          3.2100000000000026,
          3.2200000000000024,
          3.230000000000002,
          3.2400000000000024,
          3.2500000000000027,
          3.2600000000000025,
          3.2700000000000022,
          3.2800000000000025,
          3.2900000000000027,
          3.3000000000000025,
          3.3100000000000023,
          3.3200000000000025,
          3.3300000000000027,
          3.3400000000000025,
          3.3500000000000023,
          3.3600000000000025,
          3.3700000000000028,
          3.3800000000000026,
          3.3900000000000023,
          3.4000000000000026,
          3.410000000000003,
          3.4200000000000026,
          3.4300000000000024,
          3.4400000000000026,
          3.450000000000003,
          3.4600000000000026,
          3.4700000000000024,
          3.4800000000000026,
          3.490000000000003
         ],
         "xaxis": "x",
         "y": [
          -0.09615630552902525,
          -0.10021297427114585,
          -0.10439622239590492,
          -0.1087091915654251,
          -0.11315507522648259,
          -0.1177371183006311,
          -0.12245861680360108,
          -0.1273229173909058,
          -0.13233341682655356,
          -0.13749356137175783,
          -0.14280684609050362,
          -0.14827681406884272,
          -0.1539070555447812,
          -0.15970120694563247,
          -0.16566294982974217,
          -0.17179600972950668,
          -0.17810415489265957,
          -0.18459119491884654,
          -0.19126097928858155,
          -0.19811739578174262,
          -0.20516436878286917,
          -0.21240585747061444,
          -0.2198458538888386,
          -0.22748838089694398,
          -0.23533748999722398,
          -0.24339725903713835,
          -0.2516717897846319,
          -0.26016520537478965,
          -0.2688816476263586,
          -0.2778252742268751,
          -0.2870002557854098,
          -0.2964107727521977,
          -0.3060610122047041,
          -0.31595516450000294,
          -0.326097419793635,
          -0.33649196442548907,
          -0.34714297717358134,
          -0.35805462537700206,
          -0.3692310609296814,
          -0.3806764161470475,
          -0.39239479950806744,
          -0.40439029127560927,
          -0.416666938998516,
          -0.42922875289925727,
          -0.44207970115149714,
          -0.4552237050524195,
          -0.46866463409514464,
          -0.4824063009470877,
          -0.49645245634061697,
          -0.5108067838829008,
          -0.525472894792336,
          -0.5404543225694945,
          -0.5557545176110193,
          -0.5713768417754373,
          -0.5873245629103455,
          -0.6036008493509355,
          -0.6202087644002969,
          -0.6371512608024177,
          -0.6544311752192331,
          -0.6720512227235298,
          -0.6900139913198833,
          -0.7083219365062106,
          -0.7269773758888511,
          -0.7459824838644084,
          -0.7653392863818501,
          -0.7850496557986254,
          -0.8051153058447204,
          -0.8255377867087501,
          -0.8463184802602761,
          -0.8674585954225904,
          -0.8889591637102102,
          -0.9108210349452772,
          -0.9330448731669434,
          -0.9556311527476508,
          -0.9785801547300065,
          -1.00189196339765,
          -1.0255664630931725,
          -1.0496033352957415,
          -1.0740020559706223,
          -1.0987618932022458,
          -1.1238819051219013,
          -1.1493609381404808,
          -1.1751976254959906,
          -1.201390386124811,
          -1.2279374238648488,
          -1.2548367269978846,
          -1.2820860681375006,
          -1.3096830044680332,
          -1.3376248783389861,
          -1.3659088182183328,
          -1.3945317400070678,
          -1.423490348716282,
          -1.4527811405069309,
          -1.4824004050913435,
          -1.512344228494381,
          -1.5426084961710151,
          -1.573188896475961,
          -1.6040809244798517,
          -1.6352798861253255,
          -1.6667809027152931,
          -1.6985789157245634,
          -1.7306686919249419,
          -1.7630448288129175,
          -1.795701760328043,
          -1.828633762849198,
          -1.8618349614550185,
          -1.8952993364339548,
          -1.929020730028627,
          -1.9629928533984469,
          -1.997209293783813,
          -2.031663521854612,
          -2.0663488992252375,
          -2.1012586861179194,
          -2.136386049155769,
          -2.171724069266683,
          -2.2072657496790278,
          -2.2430040239899,
          -2.278931764286697,
          -2.3150417893027777,
          -2.351326872588053,
          -2.387779750675573,
          -2.424393131225368,
          -2.461159701127175,
          -2.4980721345439902,
          -2.535123100878939,
          -2.5723052726483493,
          -2.609611333244579,
          -2.6470339845727073,
          -2.6845659545458886,
          -2.7222000044248973,
          -2.7599289359881065,
          -2.7977455985189907,
          -2.8356428955989874,
          -2.8736137916945,
          -2.9116513185275843,
          -2.9497485812208324,
          -2.987898764207828,
          -3.02609513690145,
          -3.0643310591132233,
          -3.102599986217825,
          -3.140895474057724,
          -3.1792111835838854,
          -3.217540885229271,
          -3.2558784630128113,
          -3.294217918372287,
          -3.332553373725449,
          -3.3708790757594396,
          -3.409189398449365,
          -3.447478845807634,
          -3.4857420543662907,
          -3.5239737953953436,
          -3.5621689768606193,
          -3.600322645125337,
          -3.63842998640012,
          -3.676486327946648,
          -3.714487139040689,
          -3.752428031700632,
          -3.7903047611880734,
          -3.828113226287309,
          -3.865849469370969,
          -3.903509676259271,
          -3.9410901758806016,
          -3.9785874397413536,
          -4.015998081213101,
          -4.053318854645346,
          -4.09054665431215,
          -4.127678513201022,
          -4.164711601652481,
          -4.201643225858762,
          -4.238470826230001,
          -4.275191975636318,
          -4.31180437753403,
          -4.348305863984235,
          -4.384694393571815,
          -4.420968049232791,
          -4.457125035997846,
          -4.493163678659614,
          -4.5290824193712025,
          -4.564879815183144,
          -4.600554535525859,
          -4.636105359644425,
          -4.671531173992258,
          -4.706830969590049,
          -4.742003839356095,
          -4.777048975413902,
          -4.81196566638269,
          -4.84675329465618,
          -4.8814113336748,
          -4.915939345196207,
          -4.950336976568749,
          -4.984603958012235,
          -5.018740099910194,
          -5.052745290117488,
          -5.086619491286949,
          -5.1203627382184544,
          -5.153975135233651,
          -5.187456853579268,
          -5.220808128861792,
          -5.254029258516014,
          -5.287120599309785,
          -5.320082564887106,
          -5.3529156233514845,
          -5.385620294891274,
          -5.418197149448596,
          -5.4506468044332035,
          -5.482969922482532,
          -5.515167209268973,
          -5.547239411355306,
          -5.579187314099043,
          -5.611011739606335,
          -5.642713544735905,
          -5.674293619153414,
          -5.705752883436516,
          -5.737092287230751,
          -5.768312807456297,
          -5.799415446565591,
          -5.830401230851614,
          -5.861271208806672,
          -5.892026449531326,
          -5.922668041193131,
          -5.953197089534721,
          -5.983614716430754,
          -6.013922058493128,
          -6.044120265723894,
          -6.074210500215175,
          -6.104193934895411,
          -6.134071752321174,
          -6.163845143513777,
          -6.193515306839895,
          -6.2230834469353455,
          -6.252550773671175,
          -6.281918501161175,
          -6.311187846809956,
          -6.340360030400645,
          -6.369436273221316,
          -6.398417797229196,
          -6.42730582425175,
          -6.4561015752236965,
          -6.484806269459002,
          -6.5134211239569275,
          -6.5419473527412135,
          -6.570386166231431,
          -6.598738770645608,
          -6.627006367433193,
          -6.655190152737455,
          -6.683291316886413,
          -6.711311043911398,
          -6.739250511092387,
          -6.7671108885292135,
          -6.7948933387378245,
          -6.822599016270737,
          -6.850229067360844,
          -6.877784629587798,
          -6.905266831566146,
          -6.932676792654449,
          -6.960015622684606,
          -6.9872844217106636,
          -7.01448427977635,
          -7.041616276700637,
          -7.068681481880622,
          -7.0956809541110655,
          -7.122615741419895,
          -7.149486880919071,
          -7.176295398670126,
          -7.203042309563828,
          -7.2297286172133335,
          -7.2563553138602686,
          -7.2829233802931554,
          -7.309433785777684,
          -7.335887487998248,
          -7.362285433010269,
          -7.388628555202799,
          -7.414917777270918,
          -7.441154010197468,
          -7.467338153243682,
          -7.493471093948235,
          -7.519553708134346,
          -7.545586859924494,
          -7.5715714017623625,
          -7.597508174441626,
          -7.623398007141233,
          -7.6492417174668175,
          -7.675040111497898,
          -7.700793983840541,
          -7.726504117685182,
          -7.752171284869293,
          -7.777796245944599,
          -7.803379750248567,
          -7.828922535979911,
          -7.854425330277836,
          -7.879888849304786,
          -7.905313798332435,
          -7.930700871830729,
          -7.956050753559723,
          -7.981364116664024,
          -8.006641623769633,
          -8.03188392708298,
          -8.057091668492001,
          -8.08226547966904,
          -8.107405982175434
         ],
         "yaxis": "y"
        }
       ],
       "layout": {
        "legend": {
         "tracegroupgap": 0
        },
        "template": {
         "data": {
          "bar": [
           {
            "error_x": {
             "color": "#2a3f5f"
            },
            "error_y": {
             "color": "#2a3f5f"
            },
            "marker": {
             "line": {
              "color": "white",
              "width": 0.5
             }
            },
            "type": "bar"
           }
          ],
          "barpolar": [
           {
            "marker": {
             "line": {
              "color": "white",
              "width": 0.5
             }
            },
            "type": "barpolar"
           }
          ],
          "carpet": [
           {
            "aaxis": {
             "endlinecolor": "#2a3f5f",
             "gridcolor": "#C8D4E3",
             "linecolor": "#C8D4E3",
             "minorgridcolor": "#C8D4E3",
             "startlinecolor": "#2a3f5f"
            },
            "baxis": {
             "endlinecolor": "#2a3f5f",
             "gridcolor": "#C8D4E3",
             "linecolor": "#C8D4E3",
             "minorgridcolor": "#C8D4E3",
             "startlinecolor": "#2a3f5f"
            },
            "type": "carpet"
           }
          ],
          "choropleth": [
           {
            "colorbar": {
             "outlinewidth": 0,
             "ticks": ""
            },
            "type": "choropleth"
           }
          ],
          "contour": [
           {
            "colorbar": {
             "outlinewidth": 0,
             "ticks": ""
            },
            "colorscale": [
             [
              0,
              "#0d0887"
             ],
             [
              0.1111111111111111,
              "#46039f"
             ],
             [
              0.2222222222222222,
              "#7201a8"
             ],
             [
              0.3333333333333333,
              "#9c179e"
             ],
             [
              0.4444444444444444,
              "#bd3786"
             ],
             [
              0.5555555555555556,
              "#d8576b"
             ],
             [
              0.6666666666666666,
              "#ed7953"
             ],
             [
              0.7777777777777778,
              "#fb9f3a"
             ],
             [
              0.8888888888888888,
              "#fdca26"
             ],
             [
              1,
              "#f0f921"
             ]
            ],
            "type": "contour"
           }
          ],
          "contourcarpet": [
           {
            "colorbar": {
             "outlinewidth": 0,
             "ticks": ""
            },
            "type": "contourcarpet"
           }
          ],
          "heatmap": [
           {
            "colorbar": {
             "outlinewidth": 0,
             "ticks": ""
            },
            "colorscale": [
             [
              0,
              "#0d0887"
             ],
             [
              0.1111111111111111,
              "#46039f"
             ],
             [
              0.2222222222222222,
              "#7201a8"
             ],
             [
              0.3333333333333333,
              "#9c179e"
             ],
             [
              0.4444444444444444,
              "#bd3786"
             ],
             [
              0.5555555555555556,
              "#d8576b"
             ],
             [
              0.6666666666666666,
              "#ed7953"
             ],
             [
              0.7777777777777778,
              "#fb9f3a"
             ],
             [
              0.8888888888888888,
              "#fdca26"
             ],
             [
              1,
              "#f0f921"
             ]
            ],
            "type": "heatmap"
           }
          ],
          "heatmapgl": [
           {
            "colorbar": {
             "outlinewidth": 0,
             "ticks": ""
            },
            "colorscale": [
             [
              0,
              "#0d0887"
             ],
             [
              0.1111111111111111,
              "#46039f"
             ],
             [
              0.2222222222222222,
              "#7201a8"
             ],
             [
              0.3333333333333333,
              "#9c179e"
             ],
             [
              0.4444444444444444,
              "#bd3786"
             ],
             [
              0.5555555555555556,
              "#d8576b"
             ],
             [
              0.6666666666666666,
              "#ed7953"
             ],
             [
              0.7777777777777778,
              "#fb9f3a"
             ],
             [
              0.8888888888888888,
              "#fdca26"
             ],
             [
              1,
              "#f0f921"
             ]
            ],
            "type": "heatmapgl"
           }
          ],
          "histogram": [
           {
            "marker": {
             "colorbar": {
              "outlinewidth": 0,
              "ticks": ""
             }
            },
            "type": "histogram"
           }
          ],
          "histogram2d": [
           {
            "colorbar": {
             "outlinewidth": 0,
             "ticks": ""
            },
            "colorscale": [
             [
              0,
              "#0d0887"
             ],
             [
              0.1111111111111111,
              "#46039f"
             ],
             [
              0.2222222222222222,
              "#7201a8"
             ],
             [
              0.3333333333333333,
              "#9c179e"
             ],
             [
              0.4444444444444444,
              "#bd3786"
             ],
             [
              0.5555555555555556,
              "#d8576b"
             ],
             [
              0.6666666666666666,
              "#ed7953"
             ],
             [
              0.7777777777777778,
              "#fb9f3a"
             ],
             [
              0.8888888888888888,
              "#fdca26"
             ],
             [
              1,
              "#f0f921"
             ]
            ],
            "type": "histogram2d"
           }
          ],
          "histogram2dcontour": [
           {
            "colorbar": {
             "outlinewidth": 0,
             "ticks": ""
            },
            "colorscale": [
             [
              0,
              "#0d0887"
             ],
             [
              0.1111111111111111,
              "#46039f"
             ],
             [
              0.2222222222222222,
              "#7201a8"
             ],
             [
              0.3333333333333333,
              "#9c179e"
             ],
             [
              0.4444444444444444,
              "#bd3786"
             ],
             [
              0.5555555555555556,
              "#d8576b"
             ],
             [
              0.6666666666666666,
              "#ed7953"
             ],
             [
              0.7777777777777778,
              "#fb9f3a"
             ],
             [
              0.8888888888888888,
              "#fdca26"
             ],
             [
              1,
              "#f0f921"
             ]
            ],
            "type": "histogram2dcontour"
           }
          ],
          "mesh3d": [
           {
            "colorbar": {
             "outlinewidth": 0,
             "ticks": ""
            },
            "type": "mesh3d"
           }
          ],
          "parcoords": [
           {
            "line": {
             "colorbar": {
              "outlinewidth": 0,
              "ticks": ""
             }
            },
            "type": "parcoords"
           }
          ],
          "pie": [
           {
            "automargin": true,
            "type": "pie"
           }
          ],
          "scatter": [
           {
            "marker": {
             "colorbar": {
              "outlinewidth": 0,
              "ticks": ""
             }
            },
            "type": "scatter"
           }
          ],
          "scatter3d": [
           {
            "line": {
             "colorbar": {
              "outlinewidth": 0,
              "ticks": ""
             }
            },
            "marker": {
             "colorbar": {
              "outlinewidth": 0,
              "ticks": ""
             }
            },
            "type": "scatter3d"
           }
          ],
          "scattercarpet": [
           {
            "marker": {
             "colorbar": {
              "outlinewidth": 0,
              "ticks": ""
             }
            },
            "type": "scattercarpet"
           }
          ],
          "scattergeo": [
           {
            "marker": {
             "colorbar": {
              "outlinewidth": 0,
              "ticks": ""
             }
            },
            "type": "scattergeo"
           }
          ],
          "scattergl": [
           {
            "marker": {
             "colorbar": {
              "outlinewidth": 0,
              "ticks": ""
             }
            },
            "type": "scattergl"
           }
          ],
          "scattermapbox": [
           {
            "marker": {
             "colorbar": {
              "outlinewidth": 0,
              "ticks": ""
             }
            },
            "type": "scattermapbox"
           }
          ],
          "scatterpolar": [
           {
            "marker": {
             "colorbar": {
              "outlinewidth": 0,
              "ticks": ""
             }
            },
            "type": "scatterpolar"
           }
          ],
          "scatterpolargl": [
           {
            "marker": {
             "colorbar": {
              "outlinewidth": 0,
              "ticks": ""
             }
            },
            "type": "scatterpolargl"
           }
          ],
          "scatterternary": [
           {
            "marker": {
             "colorbar": {
              "outlinewidth": 0,
              "ticks": ""
             }
            },
            "type": "scatterternary"
           }
          ],
          "surface": [
           {
            "colorbar": {
             "outlinewidth": 0,
             "ticks": ""
            },
            "colorscale": [
             [
              0,
              "#0d0887"
             ],
             [
              0.1111111111111111,
              "#46039f"
             ],
             [
              0.2222222222222222,
              "#7201a8"
             ],
             [
              0.3333333333333333,
              "#9c179e"
             ],
             [
              0.4444444444444444,
              "#bd3786"
             ],
             [
              0.5555555555555556,
              "#d8576b"
             ],
             [
              0.6666666666666666,
              "#ed7953"
             ],
             [
              0.7777777777777778,
              "#fb9f3a"
             ],
             [
              0.8888888888888888,
              "#fdca26"
             ],
             [
              1,
              "#f0f921"
             ]
            ],
            "type": "surface"
           }
          ],
          "table": [
           {
            "cells": {
             "fill": {
              "color": "#EBF0F8"
             },
             "line": {
              "color": "white"
             }
            },
            "header": {
             "fill": {
              "color": "#C8D4E3"
             },
             "line": {
              "color": "white"
             }
            },
            "type": "table"
           }
          ]
         },
         "layout": {
          "annotationdefaults": {
           "arrowcolor": "#2a3f5f",
           "arrowhead": 0,
           "arrowwidth": 1
          },
          "coloraxis": {
           "colorbar": {
            "outlinewidth": 0,
            "ticks": ""
           }
          },
          "colorscale": {
           "diverging": [
            [
             0,
             "#8e0152"
            ],
            [
             0.1,
             "#c51b7d"
            ],
            [
             0.2,
             "#de77ae"
            ],
            [
             0.3,
             "#f1b6da"
            ],
            [
             0.4,
             "#fde0ef"
            ],
            [
             0.5,
             "#f7f7f7"
            ],
            [
             0.6,
             "#e6f5d0"
            ],
            [
             0.7,
             "#b8e186"
            ],
            [
             0.8,
             "#7fbc41"
            ],
            [
             0.9,
             "#4d9221"
            ],
            [
             1,
             "#276419"
            ]
           ],
           "sequential": [
            [
             0,
             "#0d0887"
            ],
            [
             0.1111111111111111,
             "#46039f"
            ],
            [
             0.2222222222222222,
             "#7201a8"
            ],
            [
             0.3333333333333333,
             "#9c179e"
            ],
            [
             0.4444444444444444,
             "#bd3786"
            ],
            [
             0.5555555555555556,
             "#d8576b"
            ],
            [
             0.6666666666666666,
             "#ed7953"
            ],
            [
             0.7777777777777778,
             "#fb9f3a"
            ],
            [
             0.8888888888888888,
             "#fdca26"
            ],
            [
             1,
             "#f0f921"
            ]
           ],
           "sequentialminus": [
            [
             0,
             "#0d0887"
            ],
            [
             0.1111111111111111,
             "#46039f"
            ],
            [
             0.2222222222222222,
             "#7201a8"
            ],
            [
             0.3333333333333333,
             "#9c179e"
            ],
            [
             0.4444444444444444,
             "#bd3786"
            ],
            [
             0.5555555555555556,
             "#d8576b"
            ],
            [
             0.6666666666666666,
             "#ed7953"
            ],
            [
             0.7777777777777778,
             "#fb9f3a"
            ],
            [
             0.8888888888888888,
             "#fdca26"
            ],
            [
             1,
             "#f0f921"
            ]
           ]
          },
          "colorway": [
           "#636efa",
           "#EF553B",
           "#00cc96",
           "#ab63fa",
           "#FFA15A",
           "#19d3f3",
           "#FF6692",
           "#B6E880",
           "#FF97FF",
           "#FECB52"
          ],
          "font": {
           "color": "#2a3f5f"
          },
          "geo": {
           "bgcolor": "white",
           "lakecolor": "white",
           "landcolor": "white",
           "showlakes": true,
           "showland": true,
           "subunitcolor": "#C8D4E3"
          },
          "hoverlabel": {
           "align": "left"
          },
          "hovermode": "closest",
          "mapbox": {
           "style": "light"
          },
          "paper_bgcolor": "white",
          "plot_bgcolor": "white",
          "polar": {
           "angularaxis": {
            "gridcolor": "#EBF0F8",
            "linecolor": "#EBF0F8",
            "ticks": ""
           },
           "bgcolor": "white",
           "radialaxis": {
            "gridcolor": "#EBF0F8",
            "linecolor": "#EBF0F8",
            "ticks": ""
           }
          },
          "scene": {
           "xaxis": {
            "backgroundcolor": "white",
            "gridcolor": "#DFE8F3",
            "gridwidth": 2,
            "linecolor": "#EBF0F8",
            "showbackground": true,
            "ticks": "",
            "zerolinecolor": "#EBF0F8"
           },
           "yaxis": {
            "backgroundcolor": "white",
            "gridcolor": "#DFE8F3",
            "gridwidth": 2,
            "linecolor": "#EBF0F8",
            "showbackground": true,
            "ticks": "",
            "zerolinecolor": "#EBF0F8"
           },
           "zaxis": {
            "backgroundcolor": "white",
            "gridcolor": "#DFE8F3",
            "gridwidth": 2,
            "linecolor": "#EBF0F8",
            "showbackground": true,
            "ticks": "",
            "zerolinecolor": "#EBF0F8"
           }
          },
          "shapedefaults": {
           "line": {
            "color": "#2a3f5f"
           }
          },
          "ternary": {
           "aaxis": {
            "gridcolor": "#DFE8F3",
            "linecolor": "#A2B1C6",
            "ticks": ""
           },
           "baxis": {
            "gridcolor": "#DFE8F3",
            "linecolor": "#A2B1C6",
            "ticks": ""
           },
           "bgcolor": "white",
           "caxis": {
            "gridcolor": "#DFE8F3",
            "linecolor": "#A2B1C6",
            "ticks": ""
           }
          },
          "title": {
           "x": 0.05
          },
          "xaxis": {
           "automargin": true,
           "gridcolor": "#EBF0F8",
           "linecolor": "#EBF0F8",
           "ticks": "",
           "title": {
            "standoff": 15
           },
           "zerolinecolor": "#EBF0F8",
           "zerolinewidth": 2
          },
          "yaxis": {
           "automargin": true,
           "gridcolor": "#EBF0F8",
           "linecolor": "#EBF0F8",
           "ticks": "",
           "title": {
            "standoff": 15
           },
           "zerolinecolor": "#EBF0F8",
           "zerolinewidth": 2
          }
         }
        },
        "title": {
         "text": "Price Elasticity of Purchase Probability"
        },
        "xaxis": {
         "anchor": "y",
         "domain": [
          0,
          1
         ],
         "title": {
          "text": "Price Point"
         }
        },
        "yaxis": {
         "anchor": "x",
         "domain": [
          0,
          1
         ],
         "dtick": 1,
         "title": {
          "text": "Price Elasticity"
         }
        }
       }
      }
     },
     "metadata": {}
    }
   ],
   "source": [
    "fig = px.scatter(df_price_elasticities, x='price_point', y='mean_pe',\n",
    "                 title='Price Elasticity of Purchase Probability',\n",
    "                 labels={'mean_pe':'Price Elasticity',\n",
    "                         'price_point':'Price Point'})\n",
    "fig.update_yaxes(dtick=1)"
   ]
  },
  {
   "cell_type": "markdown",
   "metadata": {},
   "source": [
    "#### Interpretation  \n",
    "\n",
    "Price elasticity decreases as price increases and the less likely it will become for people to buy a product.  \n",
    "\n",
    "Between the range of 0.5 and 1.1, the decrease in the elasticity seems to be slow. After 1.1, it becomes steeper.  \n",
    "\n",
    "Elasticity values are negative since the model coefficient was negative which indicates the inverse proportionality between price and purchase probability.  \n",
    "\n",
    "\n",
    "Elasticity measures the percentage in an output variable. In this case this is the purchase probability given a percent change in an input variable which is the price.  \n",
    "\n",
    "Now if this percent change is greater than 100 percent we say that the output or purchase probability is called elastic. On the other hand for changes less than 100 percent it is inelastic.\n",
    "\n",
    "In other words if the elasticity has a value smaller than one in absolute terms we say it is inelastic. If it is greater than one we say it is elastic.  \n",
    "\n",
    "As an example at price point 0.5, an increase of price in 1% will lead to the decrease of purchase probability of -0.096%, this is considered to be inelastic.  At price point 2, an increase of 1% in price will lead to the decrease of -3.53% in the purchase probability and this is considered to be elastic.  \n",
    "\n",
    "Thus the general recommendation would be to increase the price for inelastic values. This range includes price points from \\$0.5 to \\$1.25 and increasing the price in this range wouldn't lead to too much decrease in purchase probability.  In prices higher than 1.25 we would gain more if we reduce our price and thus increase our purchase probability. "
   ]
  },
  {
   "cell_type": "markdown",
   "metadata": {},
   "source": [
    "## Purchase Elasticities for Different Segments"
   ]
  },
  {
   "cell_type": "markdown",
   "metadata": {},
   "source": [
    "## Seg 0"
   ]
  },
  {
   "cell_type": "code",
   "execution_count": 26,
   "metadata": {},
   "outputs": [],
   "source": [
    "# ({0:'Well-off',  2:'Sandard', 1:'Fewer-Opportunities', 3:'Career-Focused'})"
   ]
  },
  {
   "cell_type": "code",
   "execution_count": 27,
   "metadata": {},
   "outputs": [],
   "source": [
    "df_pa_seg_0 = df_purchase_predictors[df_purchase_predictors['segment'] == 'Well-off']"
   ]
  },
  {
   "cell_type": "code",
   "execution_count": 28,
   "metadata": {},
   "outputs": [],
   "source": [
    "y = df_pa_seg_0['incidence']\n",
    "X = pd.DataFrame()\n",
    "X['mean_price'] = df_pa_seg_0[['price_'+ str(i) for i in range(1,6)]].sum(axis=1)/5"
   ]
  },
  {
   "cell_type": "code",
   "execution_count": 29,
   "metadata": {},
   "outputs": [
    {
     "output_type": "execute_result",
     "data": {
      "text/plain": "array([[-1.24579844]])"
     },
     "metadata": {},
     "execution_count": 29
    }
   ],
   "source": [
    "model_incidence_seg_0 = LogisticRegression(solver = 'sag')\n",
    "model_incidence_seg_0.fit(X,y)\n",
    "model_incidence_seg_0.coef_\n",
    "# We observe that the price coefficient for the career focused is -1.24, whereas for the average customer it was -2.35."
   ]
  },
  {
   "cell_type": "code",
   "execution_count": 30,
   "metadata": {},
   "outputs": [],
   "source": [
    "y_pr_seg_0 = model_incidence_seg_0.predict_proba(df_price[['price_point']])\n",
    "purchase_pro_seg_0 = y_pr[:,1]\n",
    "pe_seg_0 = model_incidence_seg_0.coef_ * df_price.price_point.values * (1 - purchase_pro_seg_0)\n",
    "df_price_elasticities['pe_segment_0'] = pe_seg_0[0]"
   ]
  },
  {
   "cell_type": "markdown",
   "metadata": {},
   "source": [
    "## Segment 1"
   ]
  },
  {
   "cell_type": "code",
   "execution_count": 31,
   "metadata": {},
   "outputs": [
    {
     "output_type": "execute_result",
     "data": {
      "text/plain": "array([[-3.64017563]])"
     },
     "metadata": {},
     "execution_count": 31
    }
   ],
   "source": [
    "df_pa_seg_1 = df_purchase_predictors[df_purchase_predictors['segment'] == 'Fewer-Opportunities']\n",
    "y = df_pa_seg_1['incidence']\n",
    "X = pd.DataFrame()\n",
    "X['mean_price'] = df_pa_seg_1[['price_'+ str(i) for i in range(1,6)]].sum(axis=1)/5\n",
    "model_incidence_seg_1 = LogisticRegression(solver = 'sag')\n",
    "model_incidence_seg_1.fit(X,y)\n",
    "model_incidence_seg_1.coef_\n",
    "# We observe that the price coefficient for the few opportunities is -3.4, whereas for the average customer it was -2.35.\n",
    ""
   ]
  },
  {
   "cell_type": "code",
   "execution_count": 32,
   "metadata": {},
   "outputs": [],
   "source": [
    "y_pr_seg_1 = model_incidence_seg_1.predict_proba(df_price[['price_point']])\n",
    "purchase_pro_seg_1 = y_pr[:,1]\n",
    "pe_seg_1 = model_incidence_seg_1.coef_ * df_price.price_point.values * (1 - purchase_pro_seg_1)\n",
    "df_price_elasticities['pe_segment_1'] = pe_seg_1[0]"
   ]
  },
  {
   "cell_type": "markdown",
   "metadata": {},
   "source": [
    "## Seg 2"
   ]
  },
  {
   "cell_type": "code",
   "execution_count": 33,
   "metadata": {},
   "outputs": [
    {
     "output_type": "stream",
     "name": "stdout",
     "text": "[[-1.50785851]]\n"
    }
   ],
   "source": [
    "df_pa_seg_2 = df_purchase_predictors[df_purchase_predictors['segment'] == 'Standard']\n",
    "y = df_pa_seg_2['incidence']\n",
    "X = pd.DataFrame()\n",
    "X['mean_price'] = df_pa_seg_2[['price_'+ str(i) for i in range(1,6)]].sum(axis=1)/5\n",
    "model_incidence_seg_2 = LogisticRegression(solver = 'sag')\n",
    "model_incidence_seg_2.fit(X,y)\n",
    "print(model_incidence_seg_2.coef_)\n",
    "# We observe that the price coefficient for the standard is -1.5, whereas for the average customer it was -2.35.\n",
    "y_pr_seg_2 = model_incidence_seg_2.predict_proba(df_price[['price_point']])\n",
    "purchase_pro_seg_2 = y_pr[:,1]\n",
    "pe_seg_2 = model_incidence_seg_2.coef_ * df_price.price_point.values * (1 - purchase_pro_seg_2)\n",
    "df_price_elasticities['pe_segment_2'] = pe_seg_2[0]"
   ]
  },
  {
   "cell_type": "markdown",
   "metadata": {},
   "source": [
    "## Seg 3"
   ]
  },
  {
   "cell_type": "code",
   "execution_count": 34,
   "metadata": {},
   "outputs": [
    {
     "output_type": "stream",
     "name": "stdout",
     "text": "[[-1.71180716]]\n"
    }
   ],
   "source": [
    "df_pa_seg_3 = df_purchase_predictors[df_purchase_predictors['segment'] == 'Career-Focused']\n",
    "y = df_pa_seg_3['incidence']\n",
    "X = pd.DataFrame()\n",
    "X['mean_price'] = df_pa_seg_3[['price_'+ str(i) for i in range(1,6)]].sum(axis=1)/5\n",
    "model_incidence_seg_3 = LogisticRegression(solver = 'sag')\n",
    "model_incidence_seg_3.fit(X,y)\n",
    "print(model_incidence_seg_3.coef_)\n",
    "# We observe that the price coefficient for the career-focused is -1.7 , whereas for the average customer it was -2.35.\n",
    "y_pr_seg_3 = model_incidence_seg_3.predict_proba(df_price[['price_point']])\n",
    "purchase_pro_seg_3 = y_pr[:,1]\n",
    "pe_seg_3 = model_incidence_seg_3.coef_ * df_price.price_point.values * (1 - purchase_pro_seg_3)\n",
    "df_price_elasticities['pe_segment_3'] = pe_seg_3[0]"
   ]
  },
  {
   "cell_type": "code",
   "execution_count": 35,
   "metadata": {},
   "outputs": [
    {
     "output_type": "execute_result",
     "data": {
      "text/plain": "     price_point   mean_pe  pe_segment_0  pe_segment_1  pe_segment_2  \\\n0           0.50 -0.096156     -0.051053     -0.149176     -0.061793   \n1           0.51 -0.100213     -0.053207     -0.155469     -0.064400   \n2           0.52 -0.104396     -0.055428     -0.161959     -0.067088   \n3           0.53 -0.108709     -0.057718     -0.168650     -0.069860   \n4           0.54 -0.113155     -0.060079     -0.175548     -0.072717   \n..           ...       ...           ...           ...           ...   \n295         3.45 -8.006642     -4.251056    -12.421424     -5.145287   \n296         3.46 -8.031884     -4.264458    -12.460585     -5.161509   \n297         3.47 -8.057092     -4.277842    -12.499692     -5.177708   \n298         3.48 -8.082265     -4.291208    -12.538746     -5.193885   \n299         3.49 -8.107406     -4.304556    -12.577749     -5.210041   \n\n     pe_segment_3  \n0       -0.070151  \n1       -0.073110  \n2       -0.076162  \n3       -0.079309  \n4       -0.082552  \n..            ...  \n295     -5.841224  \n296     -5.859640  \n297     -5.878030  \n298     -5.896396  \n299     -5.914737  \n\n[300 rows x 6 columns]",
      "text/html": "<div>\n<style scoped>\n    .dataframe tbody tr th:only-of-type {\n        vertical-align: middle;\n    }\n\n    .dataframe tbody tr th {\n        vertical-align: top;\n    }\n\n    .dataframe thead th {\n        text-align: right;\n    }\n</style>\n<table border=\"1\" class=\"dataframe\">\n  <thead>\n    <tr style=\"text-align: right;\">\n      <th></th>\n      <th>price_point</th>\n      <th>mean_pe</th>\n      <th>pe_segment_0</th>\n      <th>pe_segment_1</th>\n      <th>pe_segment_2</th>\n      <th>pe_segment_3</th>\n    </tr>\n  </thead>\n  <tbody>\n    <tr>\n      <th>0</th>\n      <td>0.50</td>\n      <td>-0.096156</td>\n      <td>-0.051053</td>\n      <td>-0.149176</td>\n      <td>-0.061793</td>\n      <td>-0.070151</td>\n    </tr>\n    <tr>\n      <th>1</th>\n      <td>0.51</td>\n      <td>-0.100213</td>\n      <td>-0.053207</td>\n      <td>-0.155469</td>\n      <td>-0.064400</td>\n      <td>-0.073110</td>\n    </tr>\n    <tr>\n      <th>2</th>\n      <td>0.52</td>\n      <td>-0.104396</td>\n      <td>-0.055428</td>\n      <td>-0.161959</td>\n      <td>-0.067088</td>\n      <td>-0.076162</td>\n    </tr>\n    <tr>\n      <th>3</th>\n      <td>0.53</td>\n      <td>-0.108709</td>\n      <td>-0.057718</td>\n      <td>-0.168650</td>\n      <td>-0.069860</td>\n      <td>-0.079309</td>\n    </tr>\n    <tr>\n      <th>4</th>\n      <td>0.54</td>\n      <td>-0.113155</td>\n      <td>-0.060079</td>\n      <td>-0.175548</td>\n      <td>-0.072717</td>\n      <td>-0.082552</td>\n    </tr>\n    <tr>\n      <th>...</th>\n      <td>...</td>\n      <td>...</td>\n      <td>...</td>\n      <td>...</td>\n      <td>...</td>\n      <td>...</td>\n    </tr>\n    <tr>\n      <th>295</th>\n      <td>3.45</td>\n      <td>-8.006642</td>\n      <td>-4.251056</td>\n      <td>-12.421424</td>\n      <td>-5.145287</td>\n      <td>-5.841224</td>\n    </tr>\n    <tr>\n      <th>296</th>\n      <td>3.46</td>\n      <td>-8.031884</td>\n      <td>-4.264458</td>\n      <td>-12.460585</td>\n      <td>-5.161509</td>\n      <td>-5.859640</td>\n    </tr>\n    <tr>\n      <th>297</th>\n      <td>3.47</td>\n      <td>-8.057092</td>\n      <td>-4.277842</td>\n      <td>-12.499692</td>\n      <td>-5.177708</td>\n      <td>-5.878030</td>\n    </tr>\n    <tr>\n      <th>298</th>\n      <td>3.48</td>\n      <td>-8.082265</td>\n      <td>-4.291208</td>\n      <td>-12.538746</td>\n      <td>-5.193885</td>\n      <td>-5.896396</td>\n    </tr>\n    <tr>\n      <th>299</th>\n      <td>3.49</td>\n      <td>-8.107406</td>\n      <td>-4.304556</td>\n      <td>-12.577749</td>\n      <td>-5.210041</td>\n      <td>-5.914737</td>\n    </tr>\n  </tbody>\n</table>\n<p>300 rows × 6 columns</p>\n</div>"
     },
     "metadata": {},
     "execution_count": 35
    }
   ],
   "source": [
    "df_price_elasticities"
   ]
  },
  {
   "cell_type": "code",
   "execution_count": 36,
   "metadata": {},
   "outputs": [
    {
     "output_type": "display_data",
     "data": {
      "application/vnd.plotly.v1+json": {
       "config": {
        "plotlyServerURL": "https://plot.ly"
       },
       "data": [
        {
         "mode": "lines",
         "name": "AVG PE",
         "type": "scatter",
         "x": [
          0.5,
          0.51,
          0.52,
          0.53,
          0.54,
          0.55,
          0.56,
          0.5700000000000001,
          0.5800000000000001,
          0.5900000000000001,
          0.6000000000000001,
          0.6100000000000001,
          0.6200000000000001,
          0.6300000000000001,
          0.6400000000000001,
          0.6500000000000001,
          0.6600000000000001,
          0.6700000000000002,
          0.6800000000000002,
          0.6900000000000002,
          0.7000000000000002,
          0.7100000000000002,
          0.7200000000000002,
          0.7300000000000002,
          0.7400000000000002,
          0.7500000000000002,
          0.7600000000000002,
          0.7700000000000002,
          0.7800000000000002,
          0.7900000000000003,
          0.8000000000000003,
          0.8100000000000003,
          0.8200000000000003,
          0.8300000000000003,
          0.8400000000000003,
          0.8500000000000003,
          0.8600000000000003,
          0.8700000000000003,
          0.8800000000000003,
          0.8900000000000003,
          0.9000000000000004,
          0.9100000000000004,
          0.9200000000000004,
          0.9300000000000004,
          0.9400000000000004,
          0.9500000000000004,
          0.9600000000000004,
          0.9700000000000004,
          0.9800000000000004,
          0.9900000000000004,
          1.0000000000000004,
          1.0100000000000005,
          1.0200000000000005,
          1.0300000000000005,
          1.0400000000000005,
          1.0500000000000005,
          1.0600000000000005,
          1.0700000000000005,
          1.0800000000000005,
          1.0900000000000005,
          1.1000000000000005,
          1.1100000000000005,
          1.1200000000000006,
          1.1300000000000006,
          1.1400000000000006,
          1.1500000000000006,
          1.1600000000000006,
          1.1700000000000006,
          1.1800000000000006,
          1.1900000000000006,
          1.2000000000000006,
          1.2100000000000006,
          1.2200000000000006,
          1.2300000000000006,
          1.2400000000000007,
          1.2500000000000007,
          1.2600000000000007,
          1.2700000000000007,
          1.2800000000000007,
          1.2900000000000007,
          1.3000000000000007,
          1.3100000000000007,
          1.3200000000000007,
          1.3300000000000007,
          1.3400000000000007,
          1.3500000000000008,
          1.3600000000000008,
          1.3700000000000008,
          1.3800000000000008,
          1.3900000000000008,
          1.4000000000000008,
          1.4100000000000008,
          1.4200000000000008,
          1.4300000000000008,
          1.4400000000000008,
          1.4500000000000008,
          1.4600000000000009,
          1.4700000000000009,
          1.4800000000000009,
          1.4900000000000009,
          1.5000000000000009,
          1.510000000000001,
          1.520000000000001,
          1.530000000000001,
          1.540000000000001,
          1.550000000000001,
          1.560000000000001,
          1.570000000000001,
          1.580000000000001,
          1.590000000000001,
          1.600000000000001,
          1.610000000000001,
          1.620000000000001,
          1.630000000000001,
          1.640000000000001,
          1.650000000000001,
          1.660000000000001,
          1.670000000000001,
          1.680000000000001,
          1.690000000000001,
          1.700000000000001,
          1.710000000000001,
          1.720000000000001,
          1.730000000000001,
          1.740000000000001,
          1.750000000000001,
          1.7600000000000011,
          1.7700000000000011,
          1.7800000000000011,
          1.7900000000000011,
          1.8000000000000012,
          1.8100000000000012,
          1.8200000000000012,
          1.8300000000000012,
          1.8400000000000012,
          1.8500000000000012,
          1.8600000000000012,
          1.8700000000000012,
          1.8800000000000012,
          1.8900000000000012,
          1.9000000000000012,
          1.9100000000000013,
          1.9200000000000013,
          1.9300000000000013,
          1.9400000000000013,
          1.9500000000000013,
          1.9600000000000013,
          1.9700000000000013,
          1.9800000000000013,
          1.9900000000000013,
          2.0000000000000013,
          2.0100000000000016,
          2.0200000000000014,
          2.030000000000001,
          2.0400000000000014,
          2.0500000000000016,
          2.0600000000000014,
          2.070000000000001,
          2.0800000000000014,
          2.0900000000000016,
          2.1000000000000014,
          2.110000000000001,
          2.1200000000000014,
          2.1300000000000017,
          2.1400000000000015,
          2.1500000000000012,
          2.1600000000000015,
          2.1700000000000017,
          2.1800000000000015,
          2.1900000000000013,
          2.2000000000000015,
          2.2100000000000017,
          2.2200000000000015,
          2.2300000000000013,
          2.2400000000000015,
          2.2500000000000018,
          2.2600000000000016,
          2.2700000000000014,
          2.2800000000000016,
          2.290000000000002,
          2.3000000000000016,
          2.3100000000000014,
          2.3200000000000016,
          2.330000000000002,
          2.3400000000000016,
          2.3500000000000014,
          2.3600000000000017,
          2.370000000000002,
          2.3800000000000017,
          2.3900000000000015,
          2.4000000000000017,
          2.410000000000002,
          2.4200000000000017,
          2.4300000000000015,
          2.4400000000000017,
          2.450000000000002,
          2.4600000000000017,
          2.4700000000000015,
          2.4800000000000018,
          2.490000000000002,
          2.5000000000000018,
          2.5100000000000016,
          2.520000000000002,
          2.530000000000002,
          2.540000000000002,
          2.5500000000000016,
          2.560000000000002,
          2.570000000000002,
          2.580000000000002,
          2.5900000000000016,
          2.600000000000002,
          2.610000000000002,
          2.620000000000002,
          2.6300000000000017,
          2.640000000000002,
          2.650000000000002,
          2.660000000000002,
          2.6700000000000017,
          2.680000000000002,
          2.690000000000002,
          2.700000000000002,
          2.7100000000000017,
          2.720000000000002,
          2.730000000000002,
          2.740000000000002,
          2.7500000000000018,
          2.760000000000002,
          2.7700000000000022,
          2.780000000000002,
          2.790000000000002,
          2.800000000000002,
          2.8100000000000023,
          2.820000000000002,
          2.830000000000002,
          2.840000000000002,
          2.8500000000000023,
          2.860000000000002,
          2.870000000000002,
          2.880000000000002,
          2.8900000000000023,
          2.900000000000002,
          2.910000000000002,
          2.920000000000002,
          2.9300000000000024,
          2.940000000000002,
          2.950000000000002,
          2.960000000000002,
          2.9700000000000024,
          2.980000000000002,
          2.990000000000002,
          3.000000000000002,
          3.0100000000000025,
          3.0200000000000022,
          3.030000000000002,
          3.0400000000000023,
          3.0500000000000025,
          3.0600000000000023,
          3.070000000000002,
          3.0800000000000023,
          3.0900000000000025,
          3.1000000000000023,
          3.110000000000002,
          3.1200000000000023,
          3.1300000000000026,
          3.1400000000000023,
          3.150000000000002,
          3.1600000000000024,
          3.1700000000000026,
          3.1800000000000024,
          3.190000000000002,
          3.2000000000000024,
          3.2100000000000026,
          3.2200000000000024,
          3.230000000000002,
          3.2400000000000024,
          3.2500000000000027,
          3.2600000000000025,
          3.2700000000000022,
          3.2800000000000025,
          3.2900000000000027,
          3.3000000000000025,
          3.3100000000000023,
          3.3200000000000025,
          3.3300000000000027,
          3.3400000000000025,
          3.3500000000000023,
          3.3600000000000025,
          3.3700000000000028,
          3.3800000000000026,
          3.3900000000000023,
          3.4000000000000026,
          3.410000000000003,
          3.4200000000000026,
          3.4300000000000024,
          3.4400000000000026,
          3.450000000000003,
          3.4600000000000026,
          3.4700000000000024,
          3.4800000000000026,
          3.490000000000003
         ],
         "y": [
          -0.09615630552902525,
          -0.10021297427114585,
          -0.10439622239590492,
          -0.1087091915654251,
          -0.11315507522648259,
          -0.1177371183006311,
          -0.12245861680360108,
          -0.1273229173909058,
          -0.13233341682655356,
          -0.13749356137175783,
          -0.14280684609050362,
          -0.14827681406884272,
          -0.1539070555447812,
          -0.15970120694563247,
          -0.16566294982974217,
          -0.17179600972950668,
          -0.17810415489265957,
          -0.18459119491884654,
          -0.19126097928858155,
          -0.19811739578174262,
          -0.20516436878286917,
          -0.21240585747061444,
          -0.2198458538888386,
          -0.22748838089694398,
          -0.23533748999722398,
          -0.24339725903713835,
          -0.2516717897846319,
          -0.26016520537478965,
          -0.2688816476263586,
          -0.2778252742268751,
          -0.2870002557854098,
          -0.2964107727521977,
          -0.3060610122047041,
          -0.31595516450000294,
          -0.326097419793635,
          -0.33649196442548907,
          -0.34714297717358134,
          -0.35805462537700206,
          -0.3692310609296814,
          -0.3806764161470475,
          -0.39239479950806744,
          -0.40439029127560927,
          -0.416666938998516,
          -0.42922875289925727,
          -0.44207970115149714,
          -0.4552237050524195,
          -0.46866463409514464,
          -0.4824063009470877,
          -0.49645245634061697,
          -0.5108067838829008,
          -0.525472894792336,
          -0.5404543225694945,
          -0.5557545176110193,
          -0.5713768417754373,
          -0.5873245629103455,
          -0.6036008493509355,
          -0.6202087644002969,
          -0.6371512608024177,
          -0.6544311752192331,
          -0.6720512227235298,
          -0.6900139913198833,
          -0.7083219365062106,
          -0.7269773758888511,
          -0.7459824838644084,
          -0.7653392863818501,
          -0.7850496557986254,
          -0.8051153058447204,
          -0.8255377867087501,
          -0.8463184802602761,
          -0.8674585954225904,
          -0.8889591637102102,
          -0.9108210349452772,
          -0.9330448731669434,
          -0.9556311527476508,
          -0.9785801547300065,
          -1.00189196339765,
          -1.0255664630931725,
          -1.0496033352957415,
          -1.0740020559706223,
          -1.0987618932022458,
          -1.1238819051219013,
          -1.1493609381404808,
          -1.1751976254959906,
          -1.201390386124811,
          -1.2279374238648488,
          -1.2548367269978846,
          -1.2820860681375006,
          -1.3096830044680332,
          -1.3376248783389861,
          -1.3659088182183328,
          -1.3945317400070678,
          -1.423490348716282,
          -1.4527811405069309,
          -1.4824004050913435,
          -1.512344228494381,
          -1.5426084961710151,
          -1.573188896475961,
          -1.6040809244798517,
          -1.6352798861253255,
          -1.6667809027152931,
          -1.6985789157245634,
          -1.7306686919249419,
          -1.7630448288129175,
          -1.795701760328043,
          -1.828633762849198,
          -1.8618349614550185,
          -1.8952993364339548,
          -1.929020730028627,
          -1.9629928533984469,
          -1.997209293783813,
          -2.031663521854612,
          -2.0663488992252375,
          -2.1012586861179194,
          -2.136386049155769,
          -2.171724069266683,
          -2.2072657496790278,
          -2.2430040239899,
          -2.278931764286697,
          -2.3150417893027777,
          -2.351326872588053,
          -2.387779750675573,
          -2.424393131225368,
          -2.461159701127175,
          -2.4980721345439902,
          -2.535123100878939,
          -2.5723052726483493,
          -2.609611333244579,
          -2.6470339845727073,
          -2.6845659545458886,
          -2.7222000044248973,
          -2.7599289359881065,
          -2.7977455985189907,
          -2.8356428955989874,
          -2.8736137916945,
          -2.9116513185275843,
          -2.9497485812208324,
          -2.987898764207828,
          -3.02609513690145,
          -3.0643310591132233,
          -3.102599986217825,
          -3.140895474057724,
          -3.1792111835838854,
          -3.217540885229271,
          -3.2558784630128113,
          -3.294217918372287,
          -3.332553373725449,
          -3.3708790757594396,
          -3.409189398449365,
          -3.447478845807634,
          -3.4857420543662907,
          -3.5239737953953436,
          -3.5621689768606193,
          -3.600322645125337,
          -3.63842998640012,
          -3.676486327946648,
          -3.714487139040689,
          -3.752428031700632,
          -3.7903047611880734,
          -3.828113226287309,
          -3.865849469370969,
          -3.903509676259271,
          -3.9410901758806016,
          -3.9785874397413536,
          -4.015998081213101,
          -4.053318854645346,
          -4.09054665431215,
          -4.127678513201022,
          -4.164711601652481,
          -4.201643225858762,
          -4.238470826230001,
          -4.275191975636318,
          -4.31180437753403,
          -4.348305863984235,
          -4.384694393571815,
          -4.420968049232791,
          -4.457125035997846,
          -4.493163678659614,
          -4.5290824193712025,
          -4.564879815183144,
          -4.600554535525859,
          -4.636105359644425,
          -4.671531173992258,
          -4.706830969590049,
          -4.742003839356095,
          -4.777048975413902,
          -4.81196566638269,
          -4.84675329465618,
          -4.8814113336748,
          -4.915939345196207,
          -4.950336976568749,
          -4.984603958012235,
          -5.018740099910194,
          -5.052745290117488,
          -5.086619491286949,
          -5.1203627382184544,
          -5.153975135233651,
          -5.187456853579268,
          -5.220808128861792,
          -5.254029258516014,
          -5.287120599309785,
          -5.320082564887106,
          -5.3529156233514845,
          -5.385620294891274,
          -5.418197149448596,
          -5.4506468044332035,
          -5.482969922482532,
          -5.515167209268973,
          -5.547239411355306,
          -5.579187314099043,
          -5.611011739606335,
          -5.642713544735905,
          -5.674293619153414,
          -5.705752883436516,
          -5.737092287230751,
          -5.768312807456297,
          -5.799415446565591,
          -5.830401230851614,
          -5.861271208806672,
          -5.892026449531326,
          -5.922668041193131,
          -5.953197089534721,
          -5.983614716430754,
          -6.013922058493128,
          -6.044120265723894,
          -6.074210500215175,
          -6.104193934895411,
          -6.134071752321174,
          -6.163845143513777,
          -6.193515306839895,
          -6.2230834469353455,
          -6.252550773671175,
          -6.281918501161175,
          -6.311187846809956,
          -6.340360030400645,
          -6.369436273221316,
          -6.398417797229196,
          -6.42730582425175,
          -6.4561015752236965,
          -6.484806269459002,
          -6.5134211239569275,
          -6.5419473527412135,
          -6.570386166231431,
          -6.598738770645608,
          -6.627006367433193,
          -6.655190152737455,
          -6.683291316886413,
          -6.711311043911398,
          -6.739250511092387,
          -6.7671108885292135,
          -6.7948933387378245,
          -6.822599016270737,
          -6.850229067360844,
          -6.877784629587798,
          -6.905266831566146,
          -6.932676792654449,
          -6.960015622684606,
          -6.9872844217106636,
          -7.01448427977635,
          -7.041616276700637,
          -7.068681481880622,
          -7.0956809541110655,
          -7.122615741419895,
          -7.149486880919071,
          -7.176295398670126,
          -7.203042309563828,
          -7.2297286172133335,
          -7.2563553138602686,
          -7.2829233802931554,
          -7.309433785777684,
          -7.335887487998248,
          -7.362285433010269,
          -7.388628555202799,
          -7.414917777270918,
          -7.441154010197468,
          -7.467338153243682,
          -7.493471093948235,
          -7.519553708134346,
          -7.545586859924494,
          -7.5715714017623625,
          -7.597508174441626,
          -7.623398007141233,
          -7.6492417174668175,
          -7.675040111497898,
          -7.700793983840541,
          -7.726504117685182,
          -7.752171284869293,
          -7.777796245944599,
          -7.803379750248567,
          -7.828922535979911,
          -7.854425330277836,
          -7.879888849304786,
          -7.905313798332435,
          -7.930700871830729,
          -7.956050753559723,
          -7.981364116664024,
          -8.006641623769633,
          -8.03188392708298,
          -8.057091668492001,
          -8.08226547966904,
          -8.107405982175434
         ]
        },
        {
         "mode": "lines",
         "name": "Well-off PE",
         "type": "scatter",
         "x": [
          0.5,
          0.51,
          0.52,
          0.53,
          0.54,
          0.55,
          0.56,
          0.5700000000000001,
          0.5800000000000001,
          0.5900000000000001,
          0.6000000000000001,
          0.6100000000000001,
          0.6200000000000001,
          0.6300000000000001,
          0.6400000000000001,
          0.6500000000000001,
          0.6600000000000001,
          0.6700000000000002,
          0.6800000000000002,
          0.6900000000000002,
          0.7000000000000002,
          0.7100000000000002,
          0.7200000000000002,
          0.7300000000000002,
          0.7400000000000002,
          0.7500000000000002,
          0.7600000000000002,
          0.7700000000000002,
          0.7800000000000002,
          0.7900000000000003,
          0.8000000000000003,
          0.8100000000000003,
          0.8200000000000003,
          0.8300000000000003,
          0.8400000000000003,
          0.8500000000000003,
          0.8600000000000003,
          0.8700000000000003,
          0.8800000000000003,
          0.8900000000000003,
          0.9000000000000004,
          0.9100000000000004,
          0.9200000000000004,
          0.9300000000000004,
          0.9400000000000004,
          0.9500000000000004,
          0.9600000000000004,
          0.9700000000000004,
          0.9800000000000004,
          0.9900000000000004,
          1.0000000000000004,
          1.0100000000000005,
          1.0200000000000005,
          1.0300000000000005,
          1.0400000000000005,
          1.0500000000000005,
          1.0600000000000005,
          1.0700000000000005,
          1.0800000000000005,
          1.0900000000000005,
          1.1000000000000005,
          1.1100000000000005,
          1.1200000000000006,
          1.1300000000000006,
          1.1400000000000006,
          1.1500000000000006,
          1.1600000000000006,
          1.1700000000000006,
          1.1800000000000006,
          1.1900000000000006,
          1.2000000000000006,
          1.2100000000000006,
          1.2200000000000006,
          1.2300000000000006,
          1.2400000000000007,
          1.2500000000000007,
          1.2600000000000007,
          1.2700000000000007,
          1.2800000000000007,
          1.2900000000000007,
          1.3000000000000007,
          1.3100000000000007,
          1.3200000000000007,
          1.3300000000000007,
          1.3400000000000007,
          1.3500000000000008,
          1.3600000000000008,
          1.3700000000000008,
          1.3800000000000008,
          1.3900000000000008,
          1.4000000000000008,
          1.4100000000000008,
          1.4200000000000008,
          1.4300000000000008,
          1.4400000000000008,
          1.4500000000000008,
          1.4600000000000009,
          1.4700000000000009,
          1.4800000000000009,
          1.4900000000000009,
          1.5000000000000009,
          1.510000000000001,
          1.520000000000001,
          1.530000000000001,
          1.540000000000001,
          1.550000000000001,
          1.560000000000001,
          1.570000000000001,
          1.580000000000001,
          1.590000000000001,
          1.600000000000001,
          1.610000000000001,
          1.620000000000001,
          1.630000000000001,
          1.640000000000001,
          1.650000000000001,
          1.660000000000001,
          1.670000000000001,
          1.680000000000001,
          1.690000000000001,
          1.700000000000001,
          1.710000000000001,
          1.720000000000001,
          1.730000000000001,
          1.740000000000001,
          1.750000000000001,
          1.7600000000000011,
          1.7700000000000011,
          1.7800000000000011,
          1.7900000000000011,
          1.8000000000000012,
          1.8100000000000012,
          1.8200000000000012,
          1.8300000000000012,
          1.8400000000000012,
          1.8500000000000012,
          1.8600000000000012,
          1.8700000000000012,
          1.8800000000000012,
          1.8900000000000012,
          1.9000000000000012,
          1.9100000000000013,
          1.9200000000000013,
          1.9300000000000013,
          1.9400000000000013,
          1.9500000000000013,
          1.9600000000000013,
          1.9700000000000013,
          1.9800000000000013,
          1.9900000000000013,
          2.0000000000000013,
          2.0100000000000016,
          2.0200000000000014,
          2.030000000000001,
          2.0400000000000014,
          2.0500000000000016,
          2.0600000000000014,
          2.070000000000001,
          2.0800000000000014,
          2.0900000000000016,
          2.1000000000000014,
          2.110000000000001,
          2.1200000000000014,
          2.1300000000000017,
          2.1400000000000015,
          2.1500000000000012,
          2.1600000000000015,
          2.1700000000000017,
          2.1800000000000015,
          2.1900000000000013,
          2.2000000000000015,
          2.2100000000000017,
          2.2200000000000015,
          2.2300000000000013,
          2.2400000000000015,
          2.2500000000000018,
          2.2600000000000016,
          2.2700000000000014,
          2.2800000000000016,
          2.290000000000002,
          2.3000000000000016,
          2.3100000000000014,
          2.3200000000000016,
          2.330000000000002,
          2.3400000000000016,
          2.3500000000000014,
          2.3600000000000017,
          2.370000000000002,
          2.3800000000000017,
          2.3900000000000015,
          2.4000000000000017,
          2.410000000000002,
          2.4200000000000017,
          2.4300000000000015,
          2.4400000000000017,
          2.450000000000002,
          2.4600000000000017,
          2.4700000000000015,
          2.4800000000000018,
          2.490000000000002,
          2.5000000000000018,
          2.5100000000000016,
          2.520000000000002,
          2.530000000000002,
          2.540000000000002,
          2.5500000000000016,
          2.560000000000002,
          2.570000000000002,
          2.580000000000002,
          2.5900000000000016,
          2.600000000000002,
          2.610000000000002,
          2.620000000000002,
          2.6300000000000017,
          2.640000000000002,
          2.650000000000002,
          2.660000000000002,
          2.6700000000000017,
          2.680000000000002,
          2.690000000000002,
          2.700000000000002,
          2.7100000000000017,
          2.720000000000002,
          2.730000000000002,
          2.740000000000002,
          2.7500000000000018,
          2.760000000000002,
          2.7700000000000022,
          2.780000000000002,
          2.790000000000002,
          2.800000000000002,
          2.8100000000000023,
          2.820000000000002,
          2.830000000000002,
          2.840000000000002,
          2.8500000000000023,
          2.860000000000002,
          2.870000000000002,
          2.880000000000002,
          2.8900000000000023,
          2.900000000000002,
          2.910000000000002,
          2.920000000000002,
          2.9300000000000024,
          2.940000000000002,
          2.950000000000002,
          2.960000000000002,
          2.9700000000000024,
          2.980000000000002,
          2.990000000000002,
          3.000000000000002,
          3.0100000000000025,
          3.0200000000000022,
          3.030000000000002,
          3.0400000000000023,
          3.0500000000000025,
          3.0600000000000023,
          3.070000000000002,
          3.0800000000000023,
          3.0900000000000025,
          3.1000000000000023,
          3.110000000000002,
          3.1200000000000023,
          3.1300000000000026,
          3.1400000000000023,
          3.150000000000002,
          3.1600000000000024,
          3.1700000000000026,
          3.1800000000000024,
          3.190000000000002,
          3.2000000000000024,
          3.2100000000000026,
          3.2200000000000024,
          3.230000000000002,
          3.2400000000000024,
          3.2500000000000027,
          3.2600000000000025,
          3.2700000000000022,
          3.2800000000000025,
          3.2900000000000027,
          3.3000000000000025,
          3.3100000000000023,
          3.3200000000000025,
          3.3300000000000027,
          3.3400000000000025,
          3.3500000000000023,
          3.3600000000000025,
          3.3700000000000028,
          3.3800000000000026,
          3.3900000000000023,
          3.4000000000000026,
          3.410000000000003,
          3.4200000000000026,
          3.4300000000000024,
          3.4400000000000026,
          3.450000000000003,
          3.4600000000000026,
          3.4700000000000024,
          3.4800000000000026,
          3.490000000000003
         ],
         "y": [
          -0.05105334589473699,
          -0.05320719853427434,
          -0.055428257385296525,
          -0.05771819048571483,
          -0.060078693368047525,
          -0.06251148889489393,
          -0.06501832705685769,
          -0.06760098473129046,
          -0.07026126540020922,
          -0.07300099882573723,
          -0.07582204068140073,
          -0.07872627213762058,
          -0.08171559939973358,
          -0.0847919531968836,
          -0.08795728822013972,
          -0.091213582508207,
          -0.09456283677912368,
          -0.09800707370636251,
          -0.10154833713779297,
          -0.10518869125599553,
          -0.10893021967847417,
          -0.11277502449636193,
          -0.11672522525028489,
          -0.12078295784211059,
          -0.12495037338139794,
          -0.12922963696544063,
          -0.13362292639190373,
          -0.13813243080314785,
          -0.1427603492614597,
          -0.14750888925452038,
          -0.1523802651305862,
          -0.15737669646299307,
          -0.16250040634374688,
          -0.16775361960613272,
          -0.1731385609764334,
          -0.17865745315504505,
          -0.18431251482745373,
          -0.1901059586057483,
          -0.19603998890154556,
          -0.20211679973142863,
          -0.2083385724562209,
          -0.21470747345565586,
          -0.2212256517402427,
          -0.2278952365023806,
          -0.23471833460902455,
          -0.2416970280384742,
          -0.24883337126411662,
          -0.2561293885882298,
          -0.2635870714292226,
          -0.27120837556596855,
          -0.27899521834315866,
          -0.28694947584188735,
          -0.29507298001994786,
          -0.30336751582659854,
          -0.31183481829681986,
          -0.3204765696303549,
          -0.32929439626107465,
          -0.33828986592246585,
          -0.34746448471526914,
          -0.3568196941835345,
          -0.36635686840556125,
          -0.3760773111064023,
          -0.38598225279878834,
          -0.3960728479594985,
          -0.4063501722483437,
          -0.4168152197770668,
          -0.42746890043555263,
          -0.4383120372828313,
          -0.44934536401040975,
          -0.46056952248549193,
          -0.4719850603816513,
          -0.48359242890449006,
          -0.4953919806197638,
          -0.5073839673913544,
          -0.5195685384363656,
          -0.5319457385044556,
          -0.5445155061883389,
          -0.5572776723721771,
          -0.5702319588243304,
          -0.5833779769406555,
          -0.596715226644233,
          -0.6102430954470575,
          -0.6239608576788527,
          -0.6378676738877758,
          -0.651962590417339,
          -0.6662445391634223,
          -0.6807123375147698,
          -0.69536468847986,
          -0.7102001810025035,
          -0.7252172904679909,
          -0.7404143794010426,
          -0.7557896983562367,
          -0.7713413870010061,
          -0.7870674753906989,
          -0.8029658854345908,
          -0.8190344325511365,
          -0.8352708275101406,
          -0.8516726784589217,
          -0.8682374931289508,
          -0.8849626812188575,
          -0.9018455569491193,
          -0.9188833417831892,
          -0.9360731673092774,
          -0.9534120782764752,
          -0.9708970357784185,
          -0.9885249205772075,
          -1.0062925365598652,
          -1.0241966143191932,
          -1.042233814850515,
          -1.060400733355443,
          -1.0786939031434988,
          -1.0971097996221497,
          -1.1156448443655822,
          -1.1342954092523538,
          -1.1530578206619007,
          -1.1719283637197755,
          -1.1909032865814198,
          -1.2099788047442406,
          -1.2291511053777868,
          -1.2484163516618518,
          -1.267770687122453,
          -1.2872102399557317,
          -1.3067311273300217,
          -1.3263294596565096,
          -1.346001344819167,
          -1.365742892354895,
          -1.3855502175751264,
          -1.405419445620461,
          -1.4253467154402577,
          -1.4453281836895018,
          -1.4653600285356407,
          -1.4854384533685394,
          -1.5055596904070887,
          -1.5257200041965175,
          -1.5459156949908524,
          -1.5661431020154906,
          -1.586398606605303,
          -1.6066786352141722,
          -1.626979662292346,
          -1.6472982130284906,
          -1.6676308659537624,
          -1.6879742554057509,
          -1.7083250738505513,
          -1.7286800740617296,
          -1.7490360711553612,
          -1.7693899444807715,
          -1.7897386393670294,
          -1.8100791687256306,
          -1.8304086145102334,
          -1.8507241290346332,
          -1.8710229361505646,
          -1.8913023322872053,
          -1.9115596873546143,
          -1.9317924455136,
          -1.951998125814791,
          -1.9721743227099493,
          -1.992318706438778,
          -2.0124290232947017,
          -2.0325030957732633,
          -2.05253882260697,
          -2.0725341786905647,
          -2.0924872149008182,
          -2.112396057815039,
          -2.132258909332609,
          -2.1520740462039023,
          -2.1718398194710087,
          -2.1915546538247046,
          -2.2112170468821426,
          -2.2308255683897467,
          -2.2503788593557617,
          -2.269875631116893,
          -2.2893146643434426,
          -2.308694807987292,
          -2.328014978177013,
          -2.347274157064324,
          -2.3664713916260296,
          -2.3856057924254936,
          -2.40467653233759,
          -2.423682845240972,
          -2.442624024681408,
          -2.4614994225097933,
          -2.480308447498349,
          -2.4990505639383733,
          -2.5177252902228022,
          -2.5363321974167072,
          -2.554870907818711,
          -2.5733410935161833,
          -2.5917424749369453,
          -2.6100748194000736,
          -2.6283379396682696,
          -2.6465316925041122,
          -2.6646559772324006,
          -2.6827107343106587,
          -2.700695943909735,
          -2.71861162450632,
          -2.736457831489076,
          -2.7542346557799484,
          -2.771942222472133,
          -2.78958068948602,
          -2.8071502462443645,
          -2.824651112367819,
          -2.842083536391826,
          -2.8594477945058268,
          -2.8767441893155823,
          -2.893973048629379,
          -2.9111347242687438,
          -2.9282295909042344,
          -2.945258044916802,
          -2.962220503285121,
          -2.979117402499231,
          -2.9959491975007446,
          -3.012716360649832,
          -3.0294193807191125,
          -3.0460587619145443,
          -3.062635022923318,
          -3.079148695988748,
          -3.0956003260120806,
          -3.111990469681096,
          -3.1283196946253478,
          -3.1445885785978422,
          -3.1607977086829186,
          -3.176947680530074,
          -3.193039097613412,
          -3.2090725705164234,
          -3.2250487162417123,
          -3.2409681575453337,
          -3.2568315222953115,
          -3.272639442853953,
          -3.2883925554835183,
          -3.3040914997748154,
          -3.3197369180982492,
          -3.3353294550768746,
          -3.3508697570809773,
          -3.3663584717436956,
          -3.3817962474972054,
          -3.3971837331289643,
          -3.412521577357534,
          -3.42781042842748,
          -3.443050933722844,
          -3.4582437393986947,
          -3.4733894900302733,
          -3.488488828279222,
          -3.5035423945764075,
          -3.518550826820863,
          -3.5335147600943513,
          -3.5484348263910794,
          -3.5633116543620846,
          -3.578145869073829,
          -3.5929380917805434,
          -3.60768893970986,
          -3.622399025861297,
          -3.637068958817141,
          -3.6516993425653186,
          -3.66629077633381,
          -3.6808438544362128,
          -3.6953591661280267,
          -3.7098372954732843,
          -3.724278821221131,
          -3.7386843166919657,
          -3.753054349672785,
          -3.7673894823213665,
          -3.781690271078936,
          -3.795957266590978,
          -3.8101910136358526,
          -3.824392051060899,
          -3.8385609117257085,
          -3.8526981224522565,
          -3.866804203981596,
          -3.880879670936832,
          -3.894925031792082,
          -3.908940788847163,
          -3.9229274382077355,
          -3.9368854697706483,
          -3.9508153672142408,
          -3.964717607993366,
          -3.9785926633388886,
          -3.9924409982614546,
          -4.006263071559304,
          -4.020059335829924,
          -4.033830237485333,
          -4.04757621677081,
          -4.061297707786884,
          -4.074995138514397,
          -4.088668930842462,
          -4.102319500599162,
          -4.115947257584822,
          -4.129552605607702,
          -4.1431359425219485,
          -4.156697660267685,
          -4.170238144913086,
          -4.183757776698313,
          -4.1972569300811635,
          -4.210735973784359,
          -4.224195270844294,
          -4.237635178661185,
          -4.251056049050488,
          -4.264458228295481,
          -4.277842057200922,
          -4.291207871147697,
          -4.304556000148337
         ]
        },
        {
         "mode": "lines",
         "name": "Fewer-Opportunitites PE",
         "type": "scatter",
         "x": [
          0.5,
          0.51,
          0.52,
          0.53,
          0.54,
          0.55,
          0.56,
          0.5700000000000001,
          0.5800000000000001,
          0.5900000000000001,
          0.6000000000000001,
          0.6100000000000001,
          0.6200000000000001,
          0.6300000000000001,
          0.6400000000000001,
          0.6500000000000001,
          0.6600000000000001,
          0.6700000000000002,
          0.6800000000000002,
          0.6900000000000002,
          0.7000000000000002,
          0.7100000000000002,
          0.7200000000000002,
          0.7300000000000002,
          0.7400000000000002,
          0.7500000000000002,
          0.7600000000000002,
          0.7700000000000002,
          0.7800000000000002,
          0.7900000000000003,
          0.8000000000000003,
          0.8100000000000003,
          0.8200000000000003,
          0.8300000000000003,
          0.8400000000000003,
          0.8500000000000003,
          0.8600000000000003,
          0.8700000000000003,
          0.8800000000000003,
          0.8900000000000003,
          0.9000000000000004,
          0.9100000000000004,
          0.9200000000000004,
          0.9300000000000004,
          0.9400000000000004,
          0.9500000000000004,
          0.9600000000000004,
          0.9700000000000004,
          0.9800000000000004,
          0.9900000000000004,
          1.0000000000000004,
          1.0100000000000005,
          1.0200000000000005,
          1.0300000000000005,
          1.0400000000000005,
          1.0500000000000005,
          1.0600000000000005,
          1.0700000000000005,
          1.0800000000000005,
          1.0900000000000005,
          1.1000000000000005,
          1.1100000000000005,
          1.1200000000000006,
          1.1300000000000006,
          1.1400000000000006,
          1.1500000000000006,
          1.1600000000000006,
          1.1700000000000006,
          1.1800000000000006,
          1.1900000000000006,
          1.2000000000000006,
          1.2100000000000006,
          1.2200000000000006,
          1.2300000000000006,
          1.2400000000000007,
          1.2500000000000007,
          1.2600000000000007,
          1.2700000000000007,
          1.2800000000000007,
          1.2900000000000007,
          1.3000000000000007,
          1.3100000000000007,
          1.3200000000000007,
          1.3300000000000007,
          1.3400000000000007,
          1.3500000000000008,
          1.3600000000000008,
          1.3700000000000008,
          1.3800000000000008,
          1.3900000000000008,
          1.4000000000000008,
          1.4100000000000008,
          1.4200000000000008,
          1.4300000000000008,
          1.4400000000000008,
          1.4500000000000008,
          1.4600000000000009,
          1.4700000000000009,
          1.4800000000000009,
          1.4900000000000009,
          1.5000000000000009,
          1.510000000000001,
          1.520000000000001,
          1.530000000000001,
          1.540000000000001,
          1.550000000000001,
          1.560000000000001,
          1.570000000000001,
          1.580000000000001,
          1.590000000000001,
          1.600000000000001,
          1.610000000000001,
          1.620000000000001,
          1.630000000000001,
          1.640000000000001,
          1.650000000000001,
          1.660000000000001,
          1.670000000000001,
          1.680000000000001,
          1.690000000000001,
          1.700000000000001,
          1.710000000000001,
          1.720000000000001,
          1.730000000000001,
          1.740000000000001,
          1.750000000000001,
          1.7600000000000011,
          1.7700000000000011,
          1.7800000000000011,
          1.7900000000000011,
          1.8000000000000012,
          1.8100000000000012,
          1.8200000000000012,
          1.8300000000000012,
          1.8400000000000012,
          1.8500000000000012,
          1.8600000000000012,
          1.8700000000000012,
          1.8800000000000012,
          1.8900000000000012,
          1.9000000000000012,
          1.9100000000000013,
          1.9200000000000013,
          1.9300000000000013,
          1.9400000000000013,
          1.9500000000000013,
          1.9600000000000013,
          1.9700000000000013,
          1.9800000000000013,
          1.9900000000000013,
          2.0000000000000013,
          2.0100000000000016,
          2.0200000000000014,
          2.030000000000001,
          2.0400000000000014,
          2.0500000000000016,
          2.0600000000000014,
          2.070000000000001,
          2.0800000000000014,
          2.0900000000000016,
          2.1000000000000014,
          2.110000000000001,
          2.1200000000000014,
          2.1300000000000017,
          2.1400000000000015,
          2.1500000000000012,
          2.1600000000000015,
          2.1700000000000017,
          2.1800000000000015,
          2.1900000000000013,
          2.2000000000000015,
          2.2100000000000017,
          2.2200000000000015,
          2.2300000000000013,
          2.2400000000000015,
          2.2500000000000018,
          2.2600000000000016,
          2.2700000000000014,
          2.2800000000000016,
          2.290000000000002,
          2.3000000000000016,
          2.3100000000000014,
          2.3200000000000016,
          2.330000000000002,
          2.3400000000000016,
          2.3500000000000014,
          2.3600000000000017,
          2.370000000000002,
          2.3800000000000017,
          2.3900000000000015,
          2.4000000000000017,
          2.410000000000002,
          2.4200000000000017,
          2.4300000000000015,
          2.4400000000000017,
          2.450000000000002,
          2.4600000000000017,
          2.4700000000000015,
          2.4800000000000018,
          2.490000000000002,
          2.5000000000000018,
          2.5100000000000016,
          2.520000000000002,
          2.530000000000002,
          2.540000000000002,
          2.5500000000000016,
          2.560000000000002,
          2.570000000000002,
          2.580000000000002,
          2.5900000000000016,
          2.600000000000002,
          2.610000000000002,
          2.620000000000002,
          2.6300000000000017,
          2.640000000000002,
          2.650000000000002,
          2.660000000000002,
          2.6700000000000017,
          2.680000000000002,
          2.690000000000002,
          2.700000000000002,
          2.7100000000000017,
          2.720000000000002,
          2.730000000000002,
          2.740000000000002,
          2.7500000000000018,
          2.760000000000002,
          2.7700000000000022,
          2.780000000000002,
          2.790000000000002,
          2.800000000000002,
          2.8100000000000023,
          2.820000000000002,
          2.830000000000002,
          2.840000000000002,
          2.8500000000000023,
          2.860000000000002,
          2.870000000000002,
          2.880000000000002,
          2.8900000000000023,
          2.900000000000002,
          2.910000000000002,
          2.920000000000002,
          2.9300000000000024,
          2.940000000000002,
          2.950000000000002,
          2.960000000000002,
          2.9700000000000024,
          2.980000000000002,
          2.990000000000002,
          3.000000000000002,
          3.0100000000000025,
          3.0200000000000022,
          3.030000000000002,
          3.0400000000000023,
          3.0500000000000025,
          3.0600000000000023,
          3.070000000000002,
          3.0800000000000023,
          3.0900000000000025,
          3.1000000000000023,
          3.110000000000002,
          3.1200000000000023,
          3.1300000000000026,
          3.1400000000000023,
          3.150000000000002,
          3.1600000000000024,
          3.1700000000000026,
          3.1800000000000024,
          3.190000000000002,
          3.2000000000000024,
          3.2100000000000026,
          3.2200000000000024,
          3.230000000000002,
          3.2400000000000024,
          3.2500000000000027,
          3.2600000000000025,
          3.2700000000000022,
          3.2800000000000025,
          3.2900000000000027,
          3.3000000000000025,
          3.3100000000000023,
          3.3200000000000025,
          3.3300000000000027,
          3.3400000000000025,
          3.3500000000000023,
          3.3600000000000025,
          3.3700000000000028,
          3.3800000000000026,
          3.3900000000000023,
          3.4000000000000026,
          3.410000000000003,
          3.4200000000000026,
          3.4300000000000024,
          3.4400000000000026,
          3.450000000000003,
          3.4600000000000026,
          3.4700000000000024,
          3.4800000000000026,
          3.490000000000003
         ],
         "y": [
          -0.14917593438969454,
          -0.15546940985951316,
          -0.1619592593224431,
          -0.16865035672180095,
          -0.17554765633909883,
          -0.18265619231330604,
          -0.18998107805038839,
          -0.19752750551836637,
          -0.20530074442308047,
          -0.21330614125984196,
          -0.22154911823609585,
          -0.230035172060243,
          -0.2387698725917563,
          -0.24775886134774006,
          -0.2570078498611322,
          -0.2665226178857748,
          -0.2763090114436586,
          -0.28637294070971897,
          -0.29672037772967247,
          -0.30735735396648795,
          -0.3182899576712412,
          -0.32952433107424933,
          -0.3410666673925841,
          -0.35292320765024265,
          -0.3651002373075175,
          -0.3776040826963301,
          -0.3904411072586039,
          -0.40361770758503107,
          -0.4171403092519505,
          -0.43101536245438293,
          -0.4452493374336888,
          -0.4598487196987125,
          -0.47482000503971805,
          -0.490169694334921,
          -0.5059042881498808,
          -0.5220302811305924,
          -0.5385541561916366,
          -0.555482378501359,
          -0.572821389266637,
          -0.590577599320456,
          -0.608757382516152,
          -0.6273670689328872,
          -0.6464129378976106,
          -0.6659012108295078,
          -0.685838043913666,
          -0.7062295206114684,
          -0.7270816440159898,
          -0.7484003290614725,
          -0.7701913945967439,
          -0.7924605553332652,
          -0.8152134136792788,
          -0.838455451472367,
          -0.8621920216235056,
          -0.8864283396865191,
          -0.9111694753676117,
          -0.9364203439904334,
          -0.9621856979328779,
          -0.9884701180525496,
          -1.015278005118513,
          -1.0426135712676392,
          -1.0704808315044423,
          -1.0988835952639262,
          -1.1278254580574762,
          -1.157309793222319,
          -1.1873397437954984,
          -1.2179182145337066,
          -1.2490478641005702,
          -1.2807310974432622,
          -1.3129700583804527,
          -1.3457666224236922,
          -1.3791223898543261,
          -1.4130386790779574,
          -1.4475165202783113,
          -1.4825566493920683,
          -1.518159502425929,
          -1.5543252101366913,
          -1.591053593094604,
          -1.628344157149621,
          -1.666196089319476,
          -1.7046082541176466,
          -1.7435791903384,
          -1.7831071083150858,
          -1.8231898876667652,
          -1.86382507554709,
          -1.9050098854080846,
          -1.9467411962901466,
          -1.989015552648178,
          -2.031829164722297,
          -2.0751779094600007,
          -2.1190573319951134,
          -2.1634626476871643,
          -2.2083887447231882,
          -2.253830187282201,
          -2.2997812192608746,
          -2.346235768557174,
          -2.393187451906935,
          -2.4406295802666214,
          -2.4885551647336945,
          -2.5369569229943307,
          -2.5858272862864737,
          -2.635158406864538,
          -2.6849421659504427,
          -2.7351701821540657,
          -2.7858338203446844,
          -2.8369242009535167,
          -2.8884322096860906,
          -2.940348507621883,
          -2.992663541677444,
          -3.045367555408141,
          -3.0984506001226193,
          -3.151902546283192,
          -3.2057130951645694,
          -3.2598717907426664,
          -3.314368031784659,
          -3.3691910841110206,
          -3.4243300929999494,
          -3.479774095704382,
          -3.5355120340517243,
          -3.5915327670964547,
          -3.6478250837959036,
          -3.7043777156798097,
          -3.7611793494846,
          -3.8182186397238698,
          -3.8754842211670826,
          -3.9329647211992795,
          -3.990648772035297,
          -4.048525022762934,
          -4.106582151190441,
          -4.16480887547474,
          -4.223193965507913,
          -4.281726254040646,
          -4.340394647522564,
          -4.399188136640612,
          -4.458095806538061,
          -4.517106846697935,
          -4.576210560476117,
          -4.635396374270773,
          -4.6946538463161,
          -4.7539726750898526,
          -4.813342707325511,
          -4.872753945621285,
          -4.932196555639656,
          -4.991660872892388,
          -5.051137409107383,
          -5.110616858174979,
          -5.170090101672631,
          -5.229548213968093,
          -5.288982466902398,
          -5.348384334055152,
          -5.407745494595605,
          -5.467057836724143,
          -5.526313460709681,
          -5.585504681529472,
          -5.644624031118634,
          -5.703664260237493,
          -5.762618339965615,
          -5.8214794628320465,
          -5.880241043591919,
          -5.938896719660049,
          -5.997440351212765,
          -6.055866020969552,
          -6.114168033666487,
          -6.17234091523374,
          -6.230379411689713,
          -6.288278487764559,
          -6.346033325266003,
          -6.40363932120042,
          -6.461092085662291,
          -6.51838743950508,
          -6.57552141180658,
          -6.632490237141673,
          -6.689290352675371,
          -6.745918395088862,
          -6.802371197351066,
          -6.85864578534803,
          -6.914739374382238,
          -6.970649365553674,
          -7.026373342034186,
          -7.08190906524635,
          -7.1372544709577745,
          -7.192407665301435,
          -7.247366920732255,
          -7.302130671929791,
          -7.356697511656522,
          -7.411066186580906,
          -7.4652355930738885,
          -7.51920477298724,
          -7.572972909421688,
          -7.6265393224924285,
          -7.6799034650991995,
          -7.7330649187077025,
          -7.786023389148835,
          -7.838778702441744,
          -7.891330800646405,
          -7.943679737751004,
          -7.995825675599104,
          -8.047768879861172,
          -8.099509716054765,
          -8.151048645617255,
          -8.20238622203473,
          -8.253523087030379,
          -8.304459966815308,
          -8.355197668404557,
          -8.405737076000648,
          -8.456079147446923,
          -8.506224910752499,
          -8.556175460690488,
          -8.605931955470954,
          -8.655495613489714,
          -8.704867710154062,
          -8.75404957478608,
          -8.803042587604216,
          -8.851848176783466,
          -8.90046781559446,
          -8.948903019621435,
          -8.997155344059106,
          -9.045226381088183,
          -9.09311775732918,
          -9.140831131374062,
          -9.188368191395128,
          -9.235730652830487,
          -9.2829202561453,
          -9.329938764667947,
          -9.376787962500151,
          -9.423469652500053,
          -9.469985654337151,
          -9.516337802617926,
          -9.562527945080978,
          -9.608557940860427,
          -9.65442965881628,
          -9.70014497593042,
          -9.745705775766895,
          -9.79111394699508,
          -9.836371381974374,
          -9.88147997539892,
          -9.926441623000986,
          -9.971258220311535,
          -10.015931661476518,
          -10.060463838127477,
          -10.104856638304943,
          -10.149111945433246,
          -10.193231637345253,
          -10.237217585355594,
          -10.281071653380975,
          -10.324795697106143,
          -10.36839156319413,
          -10.411861088539348,
          -10.45520609956222,
          -10.49842841154397,
          -10.541529828000263,
          -10.584512140092361,
          -10.62737712607456,
          -10.670126550776597,
          -10.71276216511984,
          -10.755285705666001,
          -10.79769889419724,
          -10.840003437326436,
          -10.882201026136572,
          -10.924293335848047,
          -10.966282025512859,
          -11.00816873773465,
          -11.049955098413509,
          -11.091642716514595,
          -11.133233183859549,
          -11.174728074939798,
          -11.216128946750791,
          -11.257437338646302,
          -11.298654772211874,
          -11.339782751156639,
          -11.380822761222625,
          -11.42177627011079,
          -11.462644727422997,
          -11.503429564619202,
          -11.54413219498911,
          -11.584754013637637,
          -11.625296397483442,
          -11.665760705269939,
          -11.706148277588134,
          -11.746460436910667,
          -11.786698487636464,
          -11.826863716145489,
          -11.866957390862972,
          -11.90698076233265,
          -11.946935063298454,
          -11.986821508794229,
          -12.026641296240935,
          -12.066395605550941,
          -12.106085599238929,
          -12.145712422539026,
          -12.185277203527754,
          -12.224781053252393,
          -12.264225065864391,
          -12.3036103187575,
          -12.342937872710262,
          -12.382208772032513,
          -12.421424044715623,
          -12.460584702586155,
          -12.499691741462659,
          -12.538746141315315,
          -12.577748866428184
         ]
        },
        {
         "mode": "lines",
         "name": "Standard PE",
         "type": "scatter",
         "x": [
          0.5,
          0.51,
          0.52,
          0.53,
          0.54,
          0.55,
          0.56,
          0.5700000000000001,
          0.5800000000000001,
          0.5900000000000001,
          0.6000000000000001,
          0.6100000000000001,
          0.6200000000000001,
          0.6300000000000001,
          0.6400000000000001,
          0.6500000000000001,
          0.6600000000000001,
          0.6700000000000002,
          0.6800000000000002,
          0.6900000000000002,
          0.7000000000000002,
          0.7100000000000002,
          0.7200000000000002,
          0.7300000000000002,
          0.7400000000000002,
          0.7500000000000002,
          0.7600000000000002,
          0.7700000000000002,
          0.7800000000000002,
          0.7900000000000003,
          0.8000000000000003,
          0.8100000000000003,
          0.8200000000000003,
          0.8300000000000003,
          0.8400000000000003,
          0.8500000000000003,
          0.8600000000000003,
          0.8700000000000003,
          0.8800000000000003,
          0.8900000000000003,
          0.9000000000000004,
          0.9100000000000004,
          0.9200000000000004,
          0.9300000000000004,
          0.9400000000000004,
          0.9500000000000004,
          0.9600000000000004,
          0.9700000000000004,
          0.9800000000000004,
          0.9900000000000004,
          1.0000000000000004,
          1.0100000000000005,
          1.0200000000000005,
          1.0300000000000005,
          1.0400000000000005,
          1.0500000000000005,
          1.0600000000000005,
          1.0700000000000005,
          1.0800000000000005,
          1.0900000000000005,
          1.1000000000000005,
          1.1100000000000005,
          1.1200000000000006,
          1.1300000000000006,
          1.1400000000000006,
          1.1500000000000006,
          1.1600000000000006,
          1.1700000000000006,
          1.1800000000000006,
          1.1900000000000006,
          1.2000000000000006,
          1.2100000000000006,
          1.2200000000000006,
          1.2300000000000006,
          1.2400000000000007,
          1.2500000000000007,
          1.2600000000000007,
          1.2700000000000007,
          1.2800000000000007,
          1.2900000000000007,
          1.3000000000000007,
          1.3100000000000007,
          1.3200000000000007,
          1.3300000000000007,
          1.3400000000000007,
          1.3500000000000008,
          1.3600000000000008,
          1.3700000000000008,
          1.3800000000000008,
          1.3900000000000008,
          1.4000000000000008,
          1.4100000000000008,
          1.4200000000000008,
          1.4300000000000008,
          1.4400000000000008,
          1.4500000000000008,
          1.4600000000000009,
          1.4700000000000009,
          1.4800000000000009,
          1.4900000000000009,
          1.5000000000000009,
          1.510000000000001,
          1.520000000000001,
          1.530000000000001,
          1.540000000000001,
          1.550000000000001,
          1.560000000000001,
          1.570000000000001,
          1.580000000000001,
          1.590000000000001,
          1.600000000000001,
          1.610000000000001,
          1.620000000000001,
          1.630000000000001,
          1.640000000000001,
          1.650000000000001,
          1.660000000000001,
          1.670000000000001,
          1.680000000000001,
          1.690000000000001,
          1.700000000000001,
          1.710000000000001,
          1.720000000000001,
          1.730000000000001,
          1.740000000000001,
          1.750000000000001,
          1.7600000000000011,
          1.7700000000000011,
          1.7800000000000011,
          1.7900000000000011,
          1.8000000000000012,
          1.8100000000000012,
          1.8200000000000012,
          1.8300000000000012,
          1.8400000000000012,
          1.8500000000000012,
          1.8600000000000012,
          1.8700000000000012,
          1.8800000000000012,
          1.8900000000000012,
          1.9000000000000012,
          1.9100000000000013,
          1.9200000000000013,
          1.9300000000000013,
          1.9400000000000013,
          1.9500000000000013,
          1.9600000000000013,
          1.9700000000000013,
          1.9800000000000013,
          1.9900000000000013,
          2.0000000000000013,
          2.0100000000000016,
          2.0200000000000014,
          2.030000000000001,
          2.0400000000000014,
          2.0500000000000016,
          2.0600000000000014,
          2.070000000000001,
          2.0800000000000014,
          2.0900000000000016,
          2.1000000000000014,
          2.110000000000001,
          2.1200000000000014,
          2.1300000000000017,
          2.1400000000000015,
          2.1500000000000012,
          2.1600000000000015,
          2.1700000000000017,
          2.1800000000000015,
          2.1900000000000013,
          2.2000000000000015,
          2.2100000000000017,
          2.2200000000000015,
          2.2300000000000013,
          2.2400000000000015,
          2.2500000000000018,
          2.2600000000000016,
          2.2700000000000014,
          2.2800000000000016,
          2.290000000000002,
          2.3000000000000016,
          2.3100000000000014,
          2.3200000000000016,
          2.330000000000002,
          2.3400000000000016,
          2.3500000000000014,
          2.3600000000000017,
          2.370000000000002,
          2.3800000000000017,
          2.3900000000000015,
          2.4000000000000017,
          2.410000000000002,
          2.4200000000000017,
          2.4300000000000015,
          2.4400000000000017,
          2.450000000000002,
          2.4600000000000017,
          2.4700000000000015,
          2.4800000000000018,
          2.490000000000002,
          2.5000000000000018,
          2.5100000000000016,
          2.520000000000002,
          2.530000000000002,
          2.540000000000002,
          2.5500000000000016,
          2.560000000000002,
          2.570000000000002,
          2.580000000000002,
          2.5900000000000016,
          2.600000000000002,
          2.610000000000002,
          2.620000000000002,
          2.6300000000000017,
          2.640000000000002,
          2.650000000000002,
          2.660000000000002,
          2.6700000000000017,
          2.680000000000002,
          2.690000000000002,
          2.700000000000002,
          2.7100000000000017,
          2.720000000000002,
          2.730000000000002,
          2.740000000000002,
          2.7500000000000018,
          2.760000000000002,
          2.7700000000000022,
          2.780000000000002,
          2.790000000000002,
          2.800000000000002,
          2.8100000000000023,
          2.820000000000002,
          2.830000000000002,
          2.840000000000002,
          2.8500000000000023,
          2.860000000000002,
          2.870000000000002,
          2.880000000000002,
          2.8900000000000023,
          2.900000000000002,
          2.910000000000002,
          2.920000000000002,
          2.9300000000000024,
          2.940000000000002,
          2.950000000000002,
          2.960000000000002,
          2.9700000000000024,
          2.980000000000002,
          2.990000000000002,
          3.000000000000002,
          3.0100000000000025,
          3.0200000000000022,
          3.030000000000002,
          3.0400000000000023,
          3.0500000000000025,
          3.0600000000000023,
          3.070000000000002,
          3.0800000000000023,
          3.0900000000000025,
          3.1000000000000023,
          3.110000000000002,
          3.1200000000000023,
          3.1300000000000026,
          3.1400000000000023,
          3.150000000000002,
          3.1600000000000024,
          3.1700000000000026,
          3.1800000000000024,
          3.190000000000002,
          3.2000000000000024,
          3.2100000000000026,
          3.2200000000000024,
          3.230000000000002,
          3.2400000000000024,
          3.2500000000000027,
          3.2600000000000025,
          3.2700000000000022,
          3.2800000000000025,
          3.2900000000000027,
          3.3000000000000025,
          3.3100000000000023,
          3.3200000000000025,
          3.3300000000000027,
          3.3400000000000025,
          3.3500000000000023,
          3.3600000000000025,
          3.3700000000000028,
          3.3800000000000026,
          3.3900000000000023,
          3.4000000000000026,
          3.410000000000003,
          3.4200000000000026,
          3.4300000000000024,
          3.4400000000000026,
          3.450000000000003,
          3.4600000000000026,
          3.4700000000000024,
          3.4800000000000026,
          3.490000000000003
         ],
         "y": [
          -0.06179267856577701,
          -0.06439960513445665,
          -0.0670878750852619,
          -0.069859507336418,
          -0.07271655408438857,
          -0.07566110060474067,
          -0.07869526500756033,
          -0.08182119794544665,
          -0.08504108227209159,
          -0.08835713264944835,
          -0.0917715951014693,
          -0.0952867465124038,
          -0.09890489406763985,
          -0.10262837463508087,
          -0.1064595540850692,
          -0.11040082654687784,
          -0.1144546135998268,
          -0.11862336339710873,
          -0.12290954972045566,
          -0.1273156709638213,
          -0.13184424904431835,
          -0.1364978282387112,
          -0.14127897394384734,
          -0.14619027135948667,
          -0.15123432409209617,
          -0.15641375267826932,
          -0.16173119302655894,
          -0.16718929477662833,
          -0.17279071957477402,
          -0.17853813926501189,
          -0.18443423399509,
          -0.19048169023695852,
          -0.19668319872140738,
          -0.20304145228679316,
          -0.20955914364196146,
          -0.21623896304371562,
          -0.223083595889392,
          -0.23009572022535962,
          -0.23727800417250408,
          -0.2446331032700288,
          -0.25216365773917354,
          -0.2598722896687395,
          -0.2677616001245978,
          -0.27583416618566925,
          -0.28409253790915845,
          -0.292539235228159,
          -0.3011767447850525,
          -0.3100075167044644,
          -0.3190339613098607,
          -0.32825844578821334,
          -0.3376832908074847,
          -0.3473107670920319,
          -0.3571430919613484,
          -0.36718242583790694,
          -0.3774308687301784,
          -0.38789045669723377,
          -0.398563158301635,
          -0.40945087105763384,
          -0.4205554178819718,
          -0.43187854355486976,
          -0.4434219111990317,
          -0.4551870987847496,
          -0.46717559566940664,
          -0.47938879917988264,
          -0.49182801124653647,
          -0.5044944350976054,
          -0.5173891720229694,
          -0.5305132182163395,
          -0.5438674617049868,
          -0.5574526793761677,
          -0.5712695341093957,
          -0.5853185720236813,
          -0.5996002198487915,
          -0.6141147824294654,
          -0.6288624403713882,
          -0.6438432478375379,
          -0.6590571305032921,
          -0.6745038836784301,
          -0.690183170603862,
          -0.7060945209305739,
          -0.7222373293879062,
          -0.7386108546478658,
          -0.7552142183917191,
          -0.7720464045846305,
          -0.7891062589635879,
          -0.8063924887433015,
          -0.8239036625441839,
          -0.8416382105459067,
          -0.8595944248693874,
          -0.8777704601894076,
          -0.8961643345793799,
          -0.9147739305890814,
          -0.9335969965554659,
          -0.952631148145939,
          -0.9718738701327542,
          -0.9913225183964541,
          -1.0109743221555525,
          -1.0308263864189116,
          -1.0508756946565585,
          -1.0711191116839682,
          -1.0915533867541467,
          -1.1121751568511598,
          -1.1329809501781132,
          -1.1539671898319401,
          -1.1751301976567656,
          -1.1964661982670295,
          -1.2179713232310274,
          -1.2396416154050194,
          -1.261473033407602,
          -1.2834614562236157,
          -1.3056026879264935,
          -1.3278924625076185,
          -1.3503264488009887,
          -1.3729002554912424,
          -1.3956094361929232,
          -1.4184494945887263,
          -1.4414158896143823,
          -1.4645040406778045,
          -1.4877093329001363,
          -1.5110271223663991,
          -1.5344527413735647,
          -1.5579815036640112,
          -1.581608709632555,
          -1.6053296514954618,
          -1.6291396184101725,
          -1.6530339015347582,
          -1.6770077990165246,
          -1.7010566208995588,
          -1.7251756939414522,
          -1.7493603663298898,
          -1.7736060122902775,
          -1.7979080365761002,
          -1.822261878834205,
          -1.8466630178377859,
          -1.8711069755803638,
          -1.8955893212246568,
          -1.9201056749008012,
          -1.9446517113489585,
          -1.969223163401939,
          -1.9938158253040539,
          -2.0184255558629745,
          -2.0430482814319704,
          -2.067679998720448,
          -2.0923167774312703,
          -2.116954762723872,
          -2.1415901775027355,
          -2.1662193245312604,
          -2.1908385883715833,
          -2.2154444371513757,
          -2.2400334241590625,
          -2.264602189269377,
          -2.2891474602015354,
          -2.3136660536127116,
          -2.338154876029857,
          -2.362610924623198,
          -2.3870312878251108,
          -2.411413145798292,
          -2.4357537707574513,
          -2.4600505271489213,
          -2.484300871692834,
          -2.508502353292676,
          -2.532652612817167,
          -2.5567493827595618,
          -2.5807904867795726,
          -2.604773839133192,
          -2.6286974439957733,
          -2.652559394683731,
          -2.6763578727802955,
          -2.700091147170729,
          -2.723757572992403,
          -2.7473555905051024,
          -2.770883723886885,
          -2.7943405799607675,
          -2.8177248468574176,
          -2.8410352926189573,
          -2.864270763748884,
          -2.8874301837130103,
          -2.9105125513962062,
          -2.9335169395195777,
          -2.956442493022629,
          -2.979288427414772,
          -3.00205402710044,
          -3.024738643681861,
          -3.0473416942434612,
          -3.0698626596216525,
          -3.0923010826636403,
          -3.114656566478694,
          -3.1369287726851947,
          -3.1591174196565963,
          -3.1812222807692767,
          -3.203243182655088,
          -3.2251800034612876,
          -3.2470326711203326,
          -3.26880116163191,
          -3.2904854973593762,
          -3.3120857453426806,
          -3.3336020156296673,
          -3.3550344596275252,
          -3.376383268476007,
          -3.3976486714439154,
          -3.418830934350229,
          -3.4399303580110963,
          -3.4609472767138176,
          -3.481882056718827,
          -3.502735094790563,
          -3.5235068167580104,
          -3.5441976761055973,
          -3.5648081525950372,
          -3.5853387509186025,
          -3.6057899993842484,
          -3.6261624486328845,
          -3.6464566703880603,
          -3.6666732562382185,
          -3.6868128164516216,
          -3.706875978823966,
          -3.7268633875586725,
          -3.7467757021797534,
          -3.766613596477113,
          -3.78637775748409,
          -3.8060688844869897,
          -3.825687688066351,
          -3.845234889169589,
          -3.864711218214677,
          -3.8841174142244665,
          -3.90345422399122,
          -3.9227224012709154,
          -3.9419227060068316,
          -3.961055903581922,
          -3.980122764099473,
          -3.9991240616914916,
          -4.018060573854286,
          -4.036933080810672,
          -4.055742364898234,
          -4.074489209983054,
          -4.093174400898338,
          -4.111798722907305,
          -4.130362961189789,
          -4.148867900351918,
          -4.167314323958279,
          -4.185703014085971,
          -4.204034750899935,
          -4.222310312248978,
          -4.240530473281881,
          -4.258696006083003,
          -4.276807679326808,
          -4.294866257950718,
          -4.312872502845736,
          -4.330827170564254,
          -4.348731013044509,
          -4.366584777351128,
          -4.384389205431215,
          -4.402145033885455,
          -4.419852993753729,
          -4.43751381031469,
          -4.455128202898842,
          -4.472696884714598,
          -4.490220562686847,
          -4.507699937307582,
          -4.525135702498083,
          -4.542528545482247,
          -4.559879146670619,
          -4.5771881795546845,
          -4.594456310611024,
          -4.611684199214917,
          -4.628872497562997,
          -4.646021850604598,
          -4.663132895981397,
          -4.680206263974991,
          -4.6972425774620925,
          -4.71424245187695,
          -4.731206495180719,
          -4.748135307837427,
          -4.765029482796231,
          -4.7818896054796864,
          -4.7987162537777195,
          -4.815509998047017,
          -4.832271401115597,
          -4.849001018292259,
          -4.865699397380686,
          -4.882367078697952,
          -4.899004595097183,
          -4.9156124719941765,
          -4.932191227397738,
          -4.948741371943512,
          -4.965263408931149,
          -4.981757834364571,
          -4.998225136995171,
          -5.014665798367753,
          -5.031080292869053,
          -5.04746908777866,
          -5.063832643322201,
          -5.080171412726591,
          -5.096485842277259,
          -5.1127763713771675,
          -5.129043432607496,
          -5.1452874517898834,
          -5.161508848050067,
          -5.177708033882832,
          -5.19388541521815,
          -5.210041391488377
         ]
        },
        {
         "mode": "lines",
         "name": "Career-Focused PE",
         "type": "scatter",
         "x": [
          0.5,
          0.51,
          0.52,
          0.53,
          0.54,
          0.55,
          0.56,
          0.5700000000000001,
          0.5800000000000001,
          0.5900000000000001,
          0.6000000000000001,
          0.6100000000000001,
          0.6200000000000001,
          0.6300000000000001,
          0.6400000000000001,
          0.6500000000000001,
          0.6600000000000001,
          0.6700000000000002,
          0.6800000000000002,
          0.6900000000000002,
          0.7000000000000002,
          0.7100000000000002,
          0.7200000000000002,
          0.7300000000000002,
          0.7400000000000002,
          0.7500000000000002,
          0.7600000000000002,
          0.7700000000000002,
          0.7800000000000002,
          0.7900000000000003,
          0.8000000000000003,
          0.8100000000000003,
          0.8200000000000003,
          0.8300000000000003,
          0.8400000000000003,
          0.8500000000000003,
          0.8600000000000003,
          0.8700000000000003,
          0.8800000000000003,
          0.8900000000000003,
          0.9000000000000004,
          0.9100000000000004,
          0.9200000000000004,
          0.9300000000000004,
          0.9400000000000004,
          0.9500000000000004,
          0.9600000000000004,
          0.9700000000000004,
          0.9800000000000004,
          0.9900000000000004,
          1.0000000000000004,
          1.0100000000000005,
          1.0200000000000005,
          1.0300000000000005,
          1.0400000000000005,
          1.0500000000000005,
          1.0600000000000005,
          1.0700000000000005,
          1.0800000000000005,
          1.0900000000000005,
          1.1000000000000005,
          1.1100000000000005,
          1.1200000000000006,
          1.1300000000000006,
          1.1400000000000006,
          1.1500000000000006,
          1.1600000000000006,
          1.1700000000000006,
          1.1800000000000006,
          1.1900000000000006,
          1.2000000000000006,
          1.2100000000000006,
          1.2200000000000006,
          1.2300000000000006,
          1.2400000000000007,
          1.2500000000000007,
          1.2600000000000007,
          1.2700000000000007,
          1.2800000000000007,
          1.2900000000000007,
          1.3000000000000007,
          1.3100000000000007,
          1.3200000000000007,
          1.3300000000000007,
          1.3400000000000007,
          1.3500000000000008,
          1.3600000000000008,
          1.3700000000000008,
          1.3800000000000008,
          1.3900000000000008,
          1.4000000000000008,
          1.4100000000000008,
          1.4200000000000008,
          1.4300000000000008,
          1.4400000000000008,
          1.4500000000000008,
          1.4600000000000009,
          1.4700000000000009,
          1.4800000000000009,
          1.4900000000000009,
          1.5000000000000009,
          1.510000000000001,
          1.520000000000001,
          1.530000000000001,
          1.540000000000001,
          1.550000000000001,
          1.560000000000001,
          1.570000000000001,
          1.580000000000001,
          1.590000000000001,
          1.600000000000001,
          1.610000000000001,
          1.620000000000001,
          1.630000000000001,
          1.640000000000001,
          1.650000000000001,
          1.660000000000001,
          1.670000000000001,
          1.680000000000001,
          1.690000000000001,
          1.700000000000001,
          1.710000000000001,
          1.720000000000001,
          1.730000000000001,
          1.740000000000001,
          1.750000000000001,
          1.7600000000000011,
          1.7700000000000011,
          1.7800000000000011,
          1.7900000000000011,
          1.8000000000000012,
          1.8100000000000012,
          1.8200000000000012,
          1.8300000000000012,
          1.8400000000000012,
          1.8500000000000012,
          1.8600000000000012,
          1.8700000000000012,
          1.8800000000000012,
          1.8900000000000012,
          1.9000000000000012,
          1.9100000000000013,
          1.9200000000000013,
          1.9300000000000013,
          1.9400000000000013,
          1.9500000000000013,
          1.9600000000000013,
          1.9700000000000013,
          1.9800000000000013,
          1.9900000000000013,
          2.0000000000000013,
          2.0100000000000016,
          2.0200000000000014,
          2.030000000000001,
          2.0400000000000014,
          2.0500000000000016,
          2.0600000000000014,
          2.070000000000001,
          2.0800000000000014,
          2.0900000000000016,
          2.1000000000000014,
          2.110000000000001,
          2.1200000000000014,
          2.1300000000000017,
          2.1400000000000015,
          2.1500000000000012,
          2.1600000000000015,
          2.1700000000000017,
          2.1800000000000015,
          2.1900000000000013,
          2.2000000000000015,
          2.2100000000000017,
          2.2200000000000015,
          2.2300000000000013,
          2.2400000000000015,
          2.2500000000000018,
          2.2600000000000016,
          2.2700000000000014,
          2.2800000000000016,
          2.290000000000002,
          2.3000000000000016,
          2.3100000000000014,
          2.3200000000000016,
          2.330000000000002,
          2.3400000000000016,
          2.3500000000000014,
          2.3600000000000017,
          2.370000000000002,
          2.3800000000000017,
          2.3900000000000015,
          2.4000000000000017,
          2.410000000000002,
          2.4200000000000017,
          2.4300000000000015,
          2.4400000000000017,
          2.450000000000002,
          2.4600000000000017,
          2.4700000000000015,
          2.4800000000000018,
          2.490000000000002,
          2.5000000000000018,
          2.5100000000000016,
          2.520000000000002,
          2.530000000000002,
          2.540000000000002,
          2.5500000000000016,
          2.560000000000002,
          2.570000000000002,
          2.580000000000002,
          2.5900000000000016,
          2.600000000000002,
          2.610000000000002,
          2.620000000000002,
          2.6300000000000017,
          2.640000000000002,
          2.650000000000002,
          2.660000000000002,
          2.6700000000000017,
          2.680000000000002,
          2.690000000000002,
          2.700000000000002,
          2.7100000000000017,
          2.720000000000002,
          2.730000000000002,
          2.740000000000002,
          2.7500000000000018,
          2.760000000000002,
          2.7700000000000022,
          2.780000000000002,
          2.790000000000002,
          2.800000000000002,
          2.8100000000000023,
          2.820000000000002,
          2.830000000000002,
          2.840000000000002,
          2.8500000000000023,
          2.860000000000002,
          2.870000000000002,
          2.880000000000002,
          2.8900000000000023,
          2.900000000000002,
          2.910000000000002,
          2.920000000000002,
          2.9300000000000024,
          2.940000000000002,
          2.950000000000002,
          2.960000000000002,
          2.9700000000000024,
          2.980000000000002,
          2.990000000000002,
          3.000000000000002,
          3.0100000000000025,
          3.0200000000000022,
          3.030000000000002,
          3.0400000000000023,
          3.0500000000000025,
          3.0600000000000023,
          3.070000000000002,
          3.0800000000000023,
          3.0900000000000025,
          3.1000000000000023,
          3.110000000000002,
          3.1200000000000023,
          3.1300000000000026,
          3.1400000000000023,
          3.150000000000002,
          3.1600000000000024,
          3.1700000000000026,
          3.1800000000000024,
          3.190000000000002,
          3.2000000000000024,
          3.2100000000000026,
          3.2200000000000024,
          3.230000000000002,
          3.2400000000000024,
          3.2500000000000027,
          3.2600000000000025,
          3.2700000000000022,
          3.2800000000000025,
          3.2900000000000027,
          3.3000000000000025,
          3.3100000000000023,
          3.3200000000000025,
          3.3300000000000027,
          3.3400000000000025,
          3.3500000000000023,
          3.3600000000000025,
          3.3700000000000028,
          3.3800000000000026,
          3.3900000000000023,
          3.4000000000000026,
          3.410000000000003,
          3.4200000000000026,
          3.4300000000000024,
          3.4400000000000026,
          3.450000000000003,
          3.4600000000000026,
          3.4700000000000024,
          3.4800000000000026,
          3.490000000000003
         ],
         "y": [
          -0.07015058028209717,
          -0.07311011231388996,
          -0.07616199000200748,
          -0.07930850533780423,
          -0.08255198809199277,
          -0.08589480558857449,
          -0.08933936242717325,
          -0.09288810015153359,
          -0.09654349686192108,
          -0.10030806676915727,
          -0.10418435968799766,
          -0.10817496046757058,
          -0.11228248835658867,
          -0.11650959630105258,
          -0.12085897017218908,
          -0.12533332792237814,
          -0.12993541866686187,
          -0.13466802168906145,
          -0.13953394536738056,
          -0.1445360260214236,
          -0.14967712667562957,
          -0.15496013573839176,
          -0.16038796559482907,
          -0.16596355111145814,
          -0.17168984805114165,
          -0.17756983139678928,
          -0.18360649358243775,
          -0.18980284263046485,
          -0.19616190019386484,
          -0.20268669950266574,
          -0.20938028321376692,
          -0.21624570116366332,
          -0.22328600802372842,
          -0.23050426085796555,
          -0.23790351658335002,
          -0.24548682933315832,
          -0.2532572477239226,
          -0.26121781202693667,
          -0.2693715512455181,
          -0.2777214800995401,
          -0.2862705959190479,
          -0.29502187544910613,
          -0.3039782715683479,
          -0.3131427099240491,
          -0.32251808548688937,
          -0.33210725902893573,
          -0.3419130535287363,
          -0.35193825050779537,
          -0.36218558630306624,
          -0.372657748280489,
          -0.3833573709949653,
          -0.3942870323025616,
          -0.4054492494310914,
          -0.4168464750156179,
          -0.42848109310577703,
          -0.44035541515219095,
          -0.4524716759795873,
          -0.4648320297545912,
          -0.4774385459564712,
          -0.4902932053594515,
          -0.5033978960354765,
          -0.5167544093866057,
          -0.5303644362164602,
          -0.5442295628503742,
          -0.5583512673140988,
          -0.5727309155810958,
          -0.587369757898578,
          -0.6022689252025804,
          -0.6174294256324139,
          -0.6328521411548926,
          -0.648537824308725,
          -0.6644870950794234,
          -0.6807004379150082,
          -0.6971781988926493,
          -0.713920583046243,
          -0.7309276518646969,
          -0.7481993209704522,
          -0.7657353579874717,
          -0.7835353806075903,
          -0.801598854863726,
          -0.8199250936180333,
          -0.8385132552726066,
          -0.8573623427098215,
          -0.8764712024688641,
          -0.895838524164395,
          -0.9154628401526679,
          -0.9353425254497686,
          -0.9554757979059424,
          -0.9758607186392462,
          -0.9964951927310278,
          -1.017376970184954,
          -1.0385036471505156,
          -1.0598726674111356,
          -1.0814813241361836,
          -1.1033267618953708,
          -1.1254059789331734,
          -1.1477158297000918,
          -1.1702530276367324,
          -1.193014148205869,
          -1.215995632166847,
          -1.2391937890858922,
          -1.262604801075113,
          -1.2862247267522546,
          -1.3100495054125292,
          -1.334074961403173,
          -1.3582968086907274,
          -1.3827106556104332,
          -1.4073120097865583,
          -1.4320962832119601,
          -1.457058797474706,
          -1.4821947891191507,
          -1.5074994151285022,
          -1.53296775851558,
          -1.5585948340082134,
          -1.5843755938155117,
          -1.6103049334610982,
          -1.6363776976692825,
          -1.6625886862901387,
          -1.6889326602494381,
          -1.7154043475094893,
          -1.7419984490270457,
          -1.7687096446946258,
          -1.7955325992518332,
          -1.8224619681535141,
          -1.8494924033819615,
          -1.8766185591906974,
          -1.9038350977678233,
          -1.931136694807347,
          -1.9585180449774007,
          -1.9859738672747842,
          -2.0134989102558056,
          -2.041087957133995,
          -2.0687358307358186,
          -2.0964373983062092,
          -2.1241875761562854,
          -2.1519813341463334,
          -2.1798136999977658,
          -2.207679763428416,
          -2.235574680106214,
          -2.2634936754169344,
          -2.291432048042368,
          -2.3193851733459305,
          -2.3473485065633426,
          -2.3753175857966706,
          -2.403288034810594,
          -2.4312555656304107,
          -2.459215980941829,
          -2.487165176293157,
          -2.5150991421010733,
          -2.5430139654616113,
          -2.570905831768531,
          -2.5987710261416685,
          -2.6266059346683144,
          -2.654407045461064,
          -2.6821709495359434,
          -2.7098943415149814,
          -2.7375740201577137,
          -2.765206888726379,
          -2.792789955189828,
          -2.820320332271401,
          -2.8477952373462507,
          -2.8752119921937185,
          -2.902568022610555,
          -2.929860857890883,
          -2.9570881301789016,
          -2.9842475737004053,
          -3.0113370238792183,
          -3.038354416344697,
          -3.0652977858364547,
          -3.0921652650124285,
          -3.1189550831663833,
          -3.145665564860905,
          -3.172295128481858,
          -3.198842284720202,
          -3.225305634986944,
          -3.25168386976693,
          -3.277975766917024,
          -3.3041801899141157,
          -3.330296086058208,
          -3.356322484635757,
          -3.3822584950482137,
          -3.408103304910591,
          -3.4338561781246826,
          -3.4595164529314135,
          -3.4850835399466082,
          -3.510556920184286,
          -3.535936143071406,
          -3.5612208244578163,
          -3.5864106446249666,
          -3.611505346296768,
          -3.636504732655791,
          -3.661408665367838,
          -3.686217062617717,
          -3.710929897158899,
          -3.735547194379544,
          -3.760069030387236,
          -3.7844955301145764,
          -3.8088268654476587,
          -3.8330632533792537,
          -3.857204954188411,
          -3.881252269648027,
          -3.905205541261784,
          -3.9290651485317314,
          -3.9528315072576468,
          -3.976505067869197,
          -4.0000863137917815,
          -4.023575759846842,
          -4.046973950687293,
          -4.0702814592686485,
          -4.093498885356292,
          -4.116626854069253,
          -4.139666014460782,
          -4.162617038135889,
          -4.185480617905984,
          -4.208257466480621,
          -4.23094831519634,
          -4.253553912782494,
          -4.276075024163891,
          -4.29851242930004,
          -4.320866922060723,
          -4.3431393091375785,
          -4.365330408991316,
          -4.387441050834161,
          -4.409472073647093,
          -4.4314243252313705,
          -4.453298661293856,
          -4.4750959445655925,
          -4.496817043953053,
          -4.518462833721499,
          -4.540034192709831,
          -4.56153200357629,
          -4.58295715207441,
          -4.604310526358528,
          -4.625593016318223,
          -4.6468055129409995,
          -4.667948907702548,
          -4.689024091983889,
          -4.71003195651474,
          -4.7309733908424025,
          -4.751849282825496,
          -4.772660518151852,
          -4.793407979879892,
          -4.81409254800281,
          -4.834715099034899,
          -4.85527650561934,
          -4.875777636156815,
          -4.896219354454273,
          -4.916602519393231,
          -4.936927984616951,
          -4.957196598235892,
          -4.977409202550809,
          -4.997566633792901,
          -5.017669721880419,
          -5.037719290191142,
          -5.057716155350169,
          -5.077661127032449,
          -5.097555007779525,
          -5.117398592829938,
          -5.137192669962781,
          -5.156938019353902,
          -5.176635413444237,
          -5.196285616819813,
          -5.215889386102934,
          -5.2354474698541,
          -5.2549606084842075,
          -5.2744295341765985,
          -5.293854970818545,
          -5.313237633941743,
          -5.332578230671428,
          -5.351877459683739,
          -5.371136011170924,
          -5.390354566814062,
          -5.409533799762927,
          -5.428674374622662,
          -5.447776947446936,
          -5.46684216573726,
          -5.485870668448166,
          -5.50486308599794,
          -5.5238200402846305,
          -5.542742144707059,
          -5.561630004190551,
          -5.580484215217148,
          -5.599305365860047,
          -5.618094035822019,
          -5.636850796477592,
          -5.655576210918765,
          -5.674270834004052,
          -5.692935212410636,
          -5.711569884689452,
          -5.730175381322997,
          -5.748752224785703,
          -5.767300929606666,
          -5.785822002434615,
          -5.8043159421049015,
          -5.822783239708408,
          -5.841224378662192,
          -5.859639834781744,
          -5.878030076354722,
          -5.896395564216028,
          -5.914736751824099
         ]
        }
       ],
       "layout": {
        "height": 600,
        "template": {
         "data": {
          "bar": [
           {
            "error_x": {
             "color": "#2a3f5f"
            },
            "error_y": {
             "color": "#2a3f5f"
            },
            "marker": {
             "line": {
              "color": "white",
              "width": 0.5
             }
            },
            "type": "bar"
           }
          ],
          "barpolar": [
           {
            "marker": {
             "line": {
              "color": "white",
              "width": 0.5
             }
            },
            "type": "barpolar"
           }
          ],
          "carpet": [
           {
            "aaxis": {
             "endlinecolor": "#2a3f5f",
             "gridcolor": "#C8D4E3",
             "linecolor": "#C8D4E3",
             "minorgridcolor": "#C8D4E3",
             "startlinecolor": "#2a3f5f"
            },
            "baxis": {
             "endlinecolor": "#2a3f5f",
             "gridcolor": "#C8D4E3",
             "linecolor": "#C8D4E3",
             "minorgridcolor": "#C8D4E3",
             "startlinecolor": "#2a3f5f"
            },
            "type": "carpet"
           }
          ],
          "choropleth": [
           {
            "colorbar": {
             "outlinewidth": 0,
             "ticks": ""
            },
            "type": "choropleth"
           }
          ],
          "contour": [
           {
            "colorbar": {
             "outlinewidth": 0,
             "ticks": ""
            },
            "colorscale": [
             [
              0,
              "#0d0887"
             ],
             [
              0.1111111111111111,
              "#46039f"
             ],
             [
              0.2222222222222222,
              "#7201a8"
             ],
             [
              0.3333333333333333,
              "#9c179e"
             ],
             [
              0.4444444444444444,
              "#bd3786"
             ],
             [
              0.5555555555555556,
              "#d8576b"
             ],
             [
              0.6666666666666666,
              "#ed7953"
             ],
             [
              0.7777777777777778,
              "#fb9f3a"
             ],
             [
              0.8888888888888888,
              "#fdca26"
             ],
             [
              1,
              "#f0f921"
             ]
            ],
            "type": "contour"
           }
          ],
          "contourcarpet": [
           {
            "colorbar": {
             "outlinewidth": 0,
             "ticks": ""
            },
            "type": "contourcarpet"
           }
          ],
          "heatmap": [
           {
            "colorbar": {
             "outlinewidth": 0,
             "ticks": ""
            },
            "colorscale": [
             [
              0,
              "#0d0887"
             ],
             [
              0.1111111111111111,
              "#46039f"
             ],
             [
              0.2222222222222222,
              "#7201a8"
             ],
             [
              0.3333333333333333,
              "#9c179e"
             ],
             [
              0.4444444444444444,
              "#bd3786"
             ],
             [
              0.5555555555555556,
              "#d8576b"
             ],
             [
              0.6666666666666666,
              "#ed7953"
             ],
             [
              0.7777777777777778,
              "#fb9f3a"
             ],
             [
              0.8888888888888888,
              "#fdca26"
             ],
             [
              1,
              "#f0f921"
             ]
            ],
            "type": "heatmap"
           }
          ],
          "heatmapgl": [
           {
            "colorbar": {
             "outlinewidth": 0,
             "ticks": ""
            },
            "colorscale": [
             [
              0,
              "#0d0887"
             ],
             [
              0.1111111111111111,
              "#46039f"
             ],
             [
              0.2222222222222222,
              "#7201a8"
             ],
             [
              0.3333333333333333,
              "#9c179e"
             ],
             [
              0.4444444444444444,
              "#bd3786"
             ],
             [
              0.5555555555555556,
              "#d8576b"
             ],
             [
              0.6666666666666666,
              "#ed7953"
             ],
             [
              0.7777777777777778,
              "#fb9f3a"
             ],
             [
              0.8888888888888888,
              "#fdca26"
             ],
             [
              1,
              "#f0f921"
             ]
            ],
            "type": "heatmapgl"
           }
          ],
          "histogram": [
           {
            "marker": {
             "colorbar": {
              "outlinewidth": 0,
              "ticks": ""
             }
            },
            "type": "histogram"
           }
          ],
          "histogram2d": [
           {
            "colorbar": {
             "outlinewidth": 0,
             "ticks": ""
            },
            "colorscale": [
             [
              0,
              "#0d0887"
             ],
             [
              0.1111111111111111,
              "#46039f"
             ],
             [
              0.2222222222222222,
              "#7201a8"
             ],
             [
              0.3333333333333333,
              "#9c179e"
             ],
             [
              0.4444444444444444,
              "#bd3786"
             ],
             [
              0.5555555555555556,
              "#d8576b"
             ],
             [
              0.6666666666666666,
              "#ed7953"
             ],
             [
              0.7777777777777778,
              "#fb9f3a"
             ],
             [
              0.8888888888888888,
              "#fdca26"
             ],
             [
              1,
              "#f0f921"
             ]
            ],
            "type": "histogram2d"
           }
          ],
          "histogram2dcontour": [
           {
            "colorbar": {
             "outlinewidth": 0,
             "ticks": ""
            },
            "colorscale": [
             [
              0,
              "#0d0887"
             ],
             [
              0.1111111111111111,
              "#46039f"
             ],
             [
              0.2222222222222222,
              "#7201a8"
             ],
             [
              0.3333333333333333,
              "#9c179e"
             ],
             [
              0.4444444444444444,
              "#bd3786"
             ],
             [
              0.5555555555555556,
              "#d8576b"
             ],
             [
              0.6666666666666666,
              "#ed7953"
             ],
             [
              0.7777777777777778,
              "#fb9f3a"
             ],
             [
              0.8888888888888888,
              "#fdca26"
             ],
             [
              1,
              "#f0f921"
             ]
            ],
            "type": "histogram2dcontour"
           }
          ],
          "mesh3d": [
           {
            "colorbar": {
             "outlinewidth": 0,
             "ticks": ""
            },
            "type": "mesh3d"
           }
          ],
          "parcoords": [
           {
            "line": {
             "colorbar": {
              "outlinewidth": 0,
              "ticks": ""
             }
            },
            "type": "parcoords"
           }
          ],
          "pie": [
           {
            "automargin": true,
            "type": "pie"
           }
          ],
          "scatter": [
           {
            "marker": {
             "colorbar": {
              "outlinewidth": 0,
              "ticks": ""
             }
            },
            "type": "scatter"
           }
          ],
          "scatter3d": [
           {
            "line": {
             "colorbar": {
              "outlinewidth": 0,
              "ticks": ""
             }
            },
            "marker": {
             "colorbar": {
              "outlinewidth": 0,
              "ticks": ""
             }
            },
            "type": "scatter3d"
           }
          ],
          "scattercarpet": [
           {
            "marker": {
             "colorbar": {
              "outlinewidth": 0,
              "ticks": ""
             }
            },
            "type": "scattercarpet"
           }
          ],
          "scattergeo": [
           {
            "marker": {
             "colorbar": {
              "outlinewidth": 0,
              "ticks": ""
             }
            },
            "type": "scattergeo"
           }
          ],
          "scattergl": [
           {
            "marker": {
             "colorbar": {
              "outlinewidth": 0,
              "ticks": ""
             }
            },
            "type": "scattergl"
           }
          ],
          "scattermapbox": [
           {
            "marker": {
             "colorbar": {
              "outlinewidth": 0,
              "ticks": ""
             }
            },
            "type": "scattermapbox"
           }
          ],
          "scatterpolar": [
           {
            "marker": {
             "colorbar": {
              "outlinewidth": 0,
              "ticks": ""
             }
            },
            "type": "scatterpolar"
           }
          ],
          "scatterpolargl": [
           {
            "marker": {
             "colorbar": {
              "outlinewidth": 0,
              "ticks": ""
             }
            },
            "type": "scatterpolargl"
           }
          ],
          "scatterternary": [
           {
            "marker": {
             "colorbar": {
              "outlinewidth": 0,
              "ticks": ""
             }
            },
            "type": "scatterternary"
           }
          ],
          "surface": [
           {
            "colorbar": {
             "outlinewidth": 0,
             "ticks": ""
            },
            "colorscale": [
             [
              0,
              "#0d0887"
             ],
             [
              0.1111111111111111,
              "#46039f"
             ],
             [
              0.2222222222222222,
              "#7201a8"
             ],
             [
              0.3333333333333333,
              "#9c179e"
             ],
             [
              0.4444444444444444,
              "#bd3786"
             ],
             [
              0.5555555555555556,
              "#d8576b"
             ],
             [
              0.6666666666666666,
              "#ed7953"
             ],
             [
              0.7777777777777778,
              "#fb9f3a"
             ],
             [
              0.8888888888888888,
              "#fdca26"
             ],
             [
              1,
              "#f0f921"
             ]
            ],
            "type": "surface"
           }
          ],
          "table": [
           {
            "cells": {
             "fill": {
              "color": "#EBF0F8"
             },
             "line": {
              "color": "white"
             }
            },
            "header": {
             "fill": {
              "color": "#C8D4E3"
             },
             "line": {
              "color": "white"
             }
            },
            "type": "table"
           }
          ]
         },
         "layout": {
          "annotationdefaults": {
           "arrowcolor": "#2a3f5f",
           "arrowhead": 0,
           "arrowwidth": 1
          },
          "coloraxis": {
           "colorbar": {
            "outlinewidth": 0,
            "ticks": ""
           }
          },
          "colorscale": {
           "diverging": [
            [
             0,
             "#8e0152"
            ],
            [
             0.1,
             "#c51b7d"
            ],
            [
             0.2,
             "#de77ae"
            ],
            [
             0.3,
             "#f1b6da"
            ],
            [
             0.4,
             "#fde0ef"
            ],
            [
             0.5,
             "#f7f7f7"
            ],
            [
             0.6,
             "#e6f5d0"
            ],
            [
             0.7,
             "#b8e186"
            ],
            [
             0.8,
             "#7fbc41"
            ],
            [
             0.9,
             "#4d9221"
            ],
            [
             1,
             "#276419"
            ]
           ],
           "sequential": [
            [
             0,
             "#0d0887"
            ],
            [
             0.1111111111111111,
             "#46039f"
            ],
            [
             0.2222222222222222,
             "#7201a8"
            ],
            [
             0.3333333333333333,
             "#9c179e"
            ],
            [
             0.4444444444444444,
             "#bd3786"
            ],
            [
             0.5555555555555556,
             "#d8576b"
            ],
            [
             0.6666666666666666,
             "#ed7953"
            ],
            [
             0.7777777777777778,
             "#fb9f3a"
            ],
            [
             0.8888888888888888,
             "#fdca26"
            ],
            [
             1,
             "#f0f921"
            ]
           ],
           "sequentialminus": [
            [
             0,
             "#0d0887"
            ],
            [
             0.1111111111111111,
             "#46039f"
            ],
            [
             0.2222222222222222,
             "#7201a8"
            ],
            [
             0.3333333333333333,
             "#9c179e"
            ],
            [
             0.4444444444444444,
             "#bd3786"
            ],
            [
             0.5555555555555556,
             "#d8576b"
            ],
            [
             0.6666666666666666,
             "#ed7953"
            ],
            [
             0.7777777777777778,
             "#fb9f3a"
            ],
            [
             0.8888888888888888,
             "#fdca26"
            ],
            [
             1,
             "#f0f921"
            ]
           ]
          },
          "colorway": [
           "#636efa",
           "#EF553B",
           "#00cc96",
           "#ab63fa",
           "#FFA15A",
           "#19d3f3",
           "#FF6692",
           "#B6E880",
           "#FF97FF",
           "#FECB52"
          ],
          "font": {
           "color": "#2a3f5f"
          },
          "geo": {
           "bgcolor": "white",
           "lakecolor": "white",
           "landcolor": "white",
           "showlakes": true,
           "showland": true,
           "subunitcolor": "#C8D4E3"
          },
          "hoverlabel": {
           "align": "left"
          },
          "hovermode": "closest",
          "mapbox": {
           "style": "light"
          },
          "paper_bgcolor": "white",
          "plot_bgcolor": "white",
          "polar": {
           "angularaxis": {
            "gridcolor": "#EBF0F8",
            "linecolor": "#EBF0F8",
            "ticks": ""
           },
           "bgcolor": "white",
           "radialaxis": {
            "gridcolor": "#EBF0F8",
            "linecolor": "#EBF0F8",
            "ticks": ""
           }
          },
          "scene": {
           "xaxis": {
            "backgroundcolor": "white",
            "gridcolor": "#DFE8F3",
            "gridwidth": 2,
            "linecolor": "#EBF0F8",
            "showbackground": true,
            "ticks": "",
            "zerolinecolor": "#EBF0F8"
           },
           "yaxis": {
            "backgroundcolor": "white",
            "gridcolor": "#DFE8F3",
            "gridwidth": 2,
            "linecolor": "#EBF0F8",
            "showbackground": true,
            "ticks": "",
            "zerolinecolor": "#EBF0F8"
           },
           "zaxis": {
            "backgroundcolor": "white",
            "gridcolor": "#DFE8F3",
            "gridwidth": 2,
            "linecolor": "#EBF0F8",
            "showbackground": true,
            "ticks": "",
            "zerolinecolor": "#EBF0F8"
           }
          },
          "shapedefaults": {
           "line": {
            "color": "#2a3f5f"
           }
          },
          "ternary": {
           "aaxis": {
            "gridcolor": "#DFE8F3",
            "linecolor": "#A2B1C6",
            "ticks": ""
           },
           "baxis": {
            "gridcolor": "#DFE8F3",
            "linecolor": "#A2B1C6",
            "ticks": ""
           },
           "bgcolor": "white",
           "caxis": {
            "gridcolor": "#DFE8F3",
            "linecolor": "#A2B1C6",
            "ticks": ""
           }
          },
          "title": {
           "x": 0.05
          },
          "xaxis": {
           "automargin": true,
           "gridcolor": "#EBF0F8",
           "linecolor": "#EBF0F8",
           "ticks": "",
           "title": {
            "standoff": 15
           },
           "zerolinecolor": "#EBF0F8",
           "zerolinewidth": 2
          },
          "yaxis": {
           "automargin": true,
           "gridcolor": "#EBF0F8",
           "linecolor": "#EBF0F8",
           "ticks": "",
           "title": {
            "standoff": 15
           },
           "zerolinecolor": "#EBF0F8",
           "zerolinewidth": 2
          }
         }
        },
        "title": {
         "text": "Price Elasticity of Purchase Probability"
        },
        "width": 800,
        "xaxis": {
         "title": {
          "text": "Price Point"
         }
        },
        "yaxis": {
         "dtick": 1,
         "title": {
          "text": "Price Elasticity"
         }
        }
       }
      }
     },
     "metadata": {}
    }
   ],
   "source": [
    "fig = go.Figure()\n",
    "fig.add_trace(go.Scatter(x=df_price_elasticities.price_point, y=df_price_elasticities.mean_pe,\n",
    "                    mode='lines',\n",
    "                    name='AVG PE'))\n",
    "fig.add_trace(go.Scatter(x=df_price_elasticities.price_point, y=df_price_elasticities.pe_segment_0,\n",
    "                    mode='lines',\n",
    "                    name='Well-off PE'))\n",
    "fig.add_trace(go.Scatter(x=df_price_elasticities.price_point, y=df_price_elasticities.pe_segment_1,\n",
    "                    mode='lines',\n",
    "                    name='Fewer-Opportunitites PE'))\n",
    "fig.add_trace(go.Scatter(x=df_price_elasticities.price_point, y=df_price_elasticities.pe_segment_2,\n",
    "                    mode='lines',\n",
    "                    name='Standard PE'))\n",
    "fig.add_trace(go.Scatter(x=df_price_elasticities.price_point, y=df_price_elasticities.pe_segment_3,\n",
    "                    mode='lines',\n",
    "                    name='Career-Focused PE'))\n",
    "fig.update_yaxes(dtick=1)\n",
    "fig.update_layout(height=600, width=800, \n",
    "                  title='Price Elasticity of Purchase Probability',\n",
    "                  template='plotly_white')\n",
    "fig.update_xaxes(title='Price Point')\n",
    "fig.update_yaxes(title='Price Elasticity')\n",
    "fig.show()\n",
    ""
   ]
  },
  {
   "cell_type": "markdown",
   "metadata": {},
   "source": [
    "### Interpretation  \n",
    "\n",
    "We observe that the Well-off segment are the least elastic when compared to the rest. So, their purchase probability elasticity is not as affected by price.\n",
    "\n",
    "Fewer-Opportunitties is the most elastic and price sensitive one. This means with the increase of price they become elastic much more faster. They become elastic at $1.07 yet the average PE was $1.25.\n",
    "\n",
    "The price elasticities for the Standard segment seem to differ across price range. This may be due to the fact that the standard segment is least homogenous, which we discovered during our descriptive analysis. It may be that the customers in this segment have different shopping habbits, which is why their customers start with being more elastic than average but then shift to being more inelastic than the average customer and indeed the Career-focused segment.\n"
   ]
  },
  {
   "cell_type": "markdown",
   "metadata": {},
   "source": [
    "# Comparing Price Elasticity with and without Promotion"
   ]
  },
  {
   "cell_type": "markdown",
   "metadata": {},
   "source": [
    "## Purchase Probability with Promotion Feature"
   ]
  },
  {
   "cell_type": "code",
   "execution_count": 37,
   "metadata": {},
   "outputs": [],
   "source": [
    "y = df_purchase_predictors['incidence']\n",
    "X = pd.DataFrame()\n",
    "X['mean_price'] = df_purchase_predictors[['price_'+ str(i) for i in range(1,6)]].sum(axis=1)/5\n",
    "X['mean_promotion'] = df_purchase_predictors[['promotion_'+ str(i) for i in range(1,6)]].sum(axis=1)/5"
   ]
  },
  {
   "cell_type": "code",
   "execution_count": 38,
   "metadata": {},
   "outputs": [
    {
     "output_type": "execute_result",
     "data": {
      "text/plain": "{-1.4939450416735471: 'mean_price', 0.5614932500831226: 'mean_promotion'}"
     },
     "metadata": {},
     "execution_count": 38
    }
   ],
   "source": [
    "model_incidence_promotion = LogisticRegression(solver='sag')\n",
    "model_incidence_promotion.fit(X, y)\n",
    "dict(zip(model_incidence_promotion.coef_[0], X.columns)) #coefficient"
   ]
  },
  {
   "cell_type": "markdown",
   "metadata": {},
   "source": [
    "The coefficients show that with the decrease of the price, purchase probability increases.  \n",
    "Also with the increase of the promotion, purchase probability increases."
   ]
  },
  {
   "cell_type": "markdown",
   "metadata": {},
   "source": [
    "## Price Elasticity with Promotion"
   ]
  },
  {
   "cell_type": "code",
   "execution_count": 39,
   "metadata": {},
   "outputs": [
    {
     "output_type": "execute_result",
     "data": {
      "text/plain": "     price_point   mean_pe  pe_segment_0  pe_segment_1  pe_segment_2  \\\n0           0.50 -0.096156     -0.051053     -0.149176     -0.061793   \n1           0.51 -0.100213     -0.053207     -0.155469     -0.064400   \n2           0.52 -0.104396     -0.055428     -0.161959     -0.067088   \n3           0.53 -0.108709     -0.057718     -0.168650     -0.069860   \n4           0.54 -0.113155     -0.060079     -0.175548     -0.072717   \n..           ...       ...           ...           ...           ...   \n295         3.45 -8.006642     -4.251056    -12.421424     -5.145287   \n296         3.46 -8.031884     -4.264458    -12.460585     -5.161509   \n297         3.47 -8.057092     -4.277842    -12.499692     -5.177708   \n298         3.48 -8.082265     -4.291208    -12.538746     -5.193885   \n299         3.49 -8.107406     -4.304556    -12.577749     -5.210041   \n\n     pe_segment_3  \n0       -0.070151  \n1       -0.073110  \n2       -0.076162  \n3       -0.079309  \n4       -0.082552  \n..            ...  \n295     -5.841224  \n296     -5.859640  \n297     -5.878030  \n298     -5.896396  \n299     -5.914737  \n\n[300 rows x 6 columns]",
      "text/html": "<div>\n<style scoped>\n    .dataframe tbody tr th:only-of-type {\n        vertical-align: middle;\n    }\n\n    .dataframe tbody tr th {\n        vertical-align: top;\n    }\n\n    .dataframe thead th {\n        text-align: right;\n    }\n</style>\n<table border=\"1\" class=\"dataframe\">\n  <thead>\n    <tr style=\"text-align: right;\">\n      <th></th>\n      <th>price_point</th>\n      <th>mean_pe</th>\n      <th>pe_segment_0</th>\n      <th>pe_segment_1</th>\n      <th>pe_segment_2</th>\n      <th>pe_segment_3</th>\n    </tr>\n  </thead>\n  <tbody>\n    <tr>\n      <th>0</th>\n      <td>0.50</td>\n      <td>-0.096156</td>\n      <td>-0.051053</td>\n      <td>-0.149176</td>\n      <td>-0.061793</td>\n      <td>-0.070151</td>\n    </tr>\n    <tr>\n      <th>1</th>\n      <td>0.51</td>\n      <td>-0.100213</td>\n      <td>-0.053207</td>\n      <td>-0.155469</td>\n      <td>-0.064400</td>\n      <td>-0.073110</td>\n    </tr>\n    <tr>\n      <th>2</th>\n      <td>0.52</td>\n      <td>-0.104396</td>\n      <td>-0.055428</td>\n      <td>-0.161959</td>\n      <td>-0.067088</td>\n      <td>-0.076162</td>\n    </tr>\n    <tr>\n      <th>3</th>\n      <td>0.53</td>\n      <td>-0.108709</td>\n      <td>-0.057718</td>\n      <td>-0.168650</td>\n      <td>-0.069860</td>\n      <td>-0.079309</td>\n    </tr>\n    <tr>\n      <th>4</th>\n      <td>0.54</td>\n      <td>-0.113155</td>\n      <td>-0.060079</td>\n      <td>-0.175548</td>\n      <td>-0.072717</td>\n      <td>-0.082552</td>\n    </tr>\n    <tr>\n      <th>...</th>\n      <td>...</td>\n      <td>...</td>\n      <td>...</td>\n      <td>...</td>\n      <td>...</td>\n      <td>...</td>\n    </tr>\n    <tr>\n      <th>295</th>\n      <td>3.45</td>\n      <td>-8.006642</td>\n      <td>-4.251056</td>\n      <td>-12.421424</td>\n      <td>-5.145287</td>\n      <td>-5.841224</td>\n    </tr>\n    <tr>\n      <th>296</th>\n      <td>3.46</td>\n      <td>-8.031884</td>\n      <td>-4.264458</td>\n      <td>-12.460585</td>\n      <td>-5.161509</td>\n      <td>-5.859640</td>\n    </tr>\n    <tr>\n      <th>297</th>\n      <td>3.47</td>\n      <td>-8.057092</td>\n      <td>-4.277842</td>\n      <td>-12.499692</td>\n      <td>-5.177708</td>\n      <td>-5.878030</td>\n    </tr>\n    <tr>\n      <th>298</th>\n      <td>3.48</td>\n      <td>-8.082265</td>\n      <td>-4.291208</td>\n      <td>-12.538746</td>\n      <td>-5.193885</td>\n      <td>-5.896396</td>\n    </tr>\n    <tr>\n      <th>299</th>\n      <td>3.49</td>\n      <td>-8.107406</td>\n      <td>-4.304556</td>\n      <td>-12.577749</td>\n      <td>-5.210041</td>\n      <td>-5.914737</td>\n    </tr>\n  </tbody>\n</table>\n<p>300 rows × 6 columns</p>\n</div>"
     },
     "metadata": {},
     "execution_count": 39
    }
   ],
   "source": [
    "df_price_elasticities"
   ]
  },
  {
   "cell_type": "code",
   "execution_count": 40,
   "metadata": {},
   "outputs": [
    {
     "output_type": "execute_result",
     "data": {
      "text/plain": "     price_point\n0           0.50\n1           0.51\n2           0.52\n3           0.53\n4           0.54\n..           ...\n295         3.45\n296         3.46\n297         3.47\n298         3.48\n299         3.49\n\n[300 rows x 1 columns]",
      "text/html": "<div>\n<style scoped>\n    .dataframe tbody tr th:only-of-type {\n        vertical-align: middle;\n    }\n\n    .dataframe tbody tr th {\n        vertical-align: top;\n    }\n\n    .dataframe thead th {\n        text-align: right;\n    }\n</style>\n<table border=\"1\" class=\"dataframe\">\n  <thead>\n    <tr style=\"text-align: right;\">\n      <th></th>\n      <th>price_point</th>\n    </tr>\n  </thead>\n  <tbody>\n    <tr>\n      <th>0</th>\n      <td>0.50</td>\n    </tr>\n    <tr>\n      <th>1</th>\n      <td>0.51</td>\n    </tr>\n    <tr>\n      <th>2</th>\n      <td>0.52</td>\n    </tr>\n    <tr>\n      <th>3</th>\n      <td>0.53</td>\n    </tr>\n    <tr>\n      <th>4</th>\n      <td>0.54</td>\n    </tr>\n    <tr>\n      <th>...</th>\n      <td>...</td>\n    </tr>\n    <tr>\n      <th>295</th>\n      <td>3.45</td>\n    </tr>\n    <tr>\n      <th>296</th>\n      <td>3.46</td>\n    </tr>\n    <tr>\n      <th>297</th>\n      <td>3.47</td>\n    </tr>\n    <tr>\n      <th>298</th>\n      <td>3.48</td>\n    </tr>\n    <tr>\n      <th>299</th>\n      <td>3.49</td>\n    </tr>\n  </tbody>\n</table>\n<p>300 rows × 1 columns</p>\n</div>"
     },
     "metadata": {},
     "execution_count": 40
    }
   ],
   "source": [
    "df_price"
   ]
  },
  {
   "cell_type": "code",
   "execution_count": 41,
   "metadata": {},
   "outputs": [],
   "source": [
    "X = df_price.copy()\n",
    "X['promotion'] = 1"
   ]
  },
  {
   "cell_type": "code",
   "execution_count": 42,
   "metadata": {},
   "outputs": [],
   "source": [
    "Y = model_incidence_promotion.predict_proba(X)"
   ]
  },
  {
   "cell_type": "code",
   "execution_count": 43,
   "metadata": {},
   "outputs": [],
   "source": [
    "promo = Y[:, 1] # probabilities of promotion\n",
    "price_elasticity_promo = (model_incidence_promotion.coef_[:, 0] * df_price.price_point) * (1 - promo)"
   ]
  },
  {
   "cell_type": "code",
   "execution_count": 44,
   "metadata": {},
   "outputs": [
    {
     "output_type": "execute_result",
     "data": {
      "text/plain": "     price_point   mean_pe  pe_segment_0  pe_segment_1  pe_segment_2  \\\n0           0.50 -0.096156     -0.051053     -0.149176     -0.061793   \n1           0.51 -0.100213     -0.053207     -0.155469     -0.064400   \n2           0.52 -0.104396     -0.055428     -0.161959     -0.067088   \n3           0.53 -0.108709     -0.057718     -0.168650     -0.069860   \n4           0.54 -0.113155     -0.060079     -0.175548     -0.072717   \n..           ...       ...           ...           ...           ...   \n295         3.45 -8.006642     -4.251056    -12.421424     -5.145287   \n296         3.46 -8.031884     -4.264458    -12.460585     -5.161509   \n297         3.47 -8.057092     -4.277842    -12.499692     -5.177708   \n298         3.48 -8.082265     -4.291208    -12.538746     -5.193885   \n299         3.49 -8.107406     -4.304556    -12.577749     -5.210041   \n\n     pe_segment_3  Elasticity_with_Promotion  \n0       -0.070151                  -0.125735  \n1       -0.073110                  -0.129851  \n2       -0.076162                  -0.134046  \n3       -0.079309                  -0.138321  \n4       -0.082552                  -0.142677  \n..            ...                        ...  \n295     -5.841224                  -4.861318  \n296     -5.859640                  -4.879520  \n297     -5.878030                  -4.897690  \n298     -5.896396                  -4.915830  \n299     -5.914737                  -4.933940  \n\n[300 rows x 7 columns]",
      "text/html": "<div>\n<style scoped>\n    .dataframe tbody tr th:only-of-type {\n        vertical-align: middle;\n    }\n\n    .dataframe tbody tr th {\n        vertical-align: top;\n    }\n\n    .dataframe thead th {\n        text-align: right;\n    }\n</style>\n<table border=\"1\" class=\"dataframe\">\n  <thead>\n    <tr style=\"text-align: right;\">\n      <th></th>\n      <th>price_point</th>\n      <th>mean_pe</th>\n      <th>pe_segment_0</th>\n      <th>pe_segment_1</th>\n      <th>pe_segment_2</th>\n      <th>pe_segment_3</th>\n      <th>Elasticity_with_Promotion</th>\n    </tr>\n  </thead>\n  <tbody>\n    <tr>\n      <th>0</th>\n      <td>0.50</td>\n      <td>-0.096156</td>\n      <td>-0.051053</td>\n      <td>-0.149176</td>\n      <td>-0.061793</td>\n      <td>-0.070151</td>\n      <td>-0.125735</td>\n    </tr>\n    <tr>\n      <th>1</th>\n      <td>0.51</td>\n      <td>-0.100213</td>\n      <td>-0.053207</td>\n      <td>-0.155469</td>\n      <td>-0.064400</td>\n      <td>-0.073110</td>\n      <td>-0.129851</td>\n    </tr>\n    <tr>\n      <th>2</th>\n      <td>0.52</td>\n      <td>-0.104396</td>\n      <td>-0.055428</td>\n      <td>-0.161959</td>\n      <td>-0.067088</td>\n      <td>-0.076162</td>\n      <td>-0.134046</td>\n    </tr>\n    <tr>\n      <th>3</th>\n      <td>0.53</td>\n      <td>-0.108709</td>\n      <td>-0.057718</td>\n      <td>-0.168650</td>\n      <td>-0.069860</td>\n      <td>-0.079309</td>\n      <td>-0.138321</td>\n    </tr>\n    <tr>\n      <th>4</th>\n      <td>0.54</td>\n      <td>-0.113155</td>\n      <td>-0.060079</td>\n      <td>-0.175548</td>\n      <td>-0.072717</td>\n      <td>-0.082552</td>\n      <td>-0.142677</td>\n    </tr>\n    <tr>\n      <th>...</th>\n      <td>...</td>\n      <td>...</td>\n      <td>...</td>\n      <td>...</td>\n      <td>...</td>\n      <td>...</td>\n      <td>...</td>\n    </tr>\n    <tr>\n      <th>295</th>\n      <td>3.45</td>\n      <td>-8.006642</td>\n      <td>-4.251056</td>\n      <td>-12.421424</td>\n      <td>-5.145287</td>\n      <td>-5.841224</td>\n      <td>-4.861318</td>\n    </tr>\n    <tr>\n      <th>296</th>\n      <td>3.46</td>\n      <td>-8.031884</td>\n      <td>-4.264458</td>\n      <td>-12.460585</td>\n      <td>-5.161509</td>\n      <td>-5.859640</td>\n      <td>-4.879520</td>\n    </tr>\n    <tr>\n      <th>297</th>\n      <td>3.47</td>\n      <td>-8.057092</td>\n      <td>-4.277842</td>\n      <td>-12.499692</td>\n      <td>-5.177708</td>\n      <td>-5.878030</td>\n      <td>-4.897690</td>\n    </tr>\n    <tr>\n      <th>298</th>\n      <td>3.48</td>\n      <td>-8.082265</td>\n      <td>-4.291208</td>\n      <td>-12.538746</td>\n      <td>-5.193885</td>\n      <td>-5.896396</td>\n      <td>-4.915830</td>\n    </tr>\n    <tr>\n      <th>299</th>\n      <td>3.49</td>\n      <td>-8.107406</td>\n      <td>-4.304556</td>\n      <td>-12.577749</td>\n      <td>-5.210041</td>\n      <td>-5.914737</td>\n      <td>-4.933940</td>\n    </tr>\n  </tbody>\n</table>\n<p>300 rows × 7 columns</p>\n</div>"
     },
     "metadata": {},
     "execution_count": 44
    }
   ],
   "source": [
    "df_price_elasticities['Elasticity_with_Promotion'] = price_elasticity_promo\n",
    "df_price_elasticities"
   ]
  },
  {
   "cell_type": "markdown",
   "metadata": {},
   "source": [
    "## Price Elasticity without Promotion"
   ]
  },
  {
   "cell_type": "code",
   "execution_count": 45,
   "metadata": {},
   "outputs": [],
   "source": [
    "\n",
    "X = df_price.copy()\n",
    "X['promotion'] = 0\n",
    "\n",
    "Y = model_incidence_promotion.predict_proba(X)\n",
    "no_promo = Y[: , 1]\n",
    "price_elasticity_no_promo = model_incidence_promotion.coef_[:, 0] * df_price.price_point *(1- no_promo)\n",
    "df_price_elasticities['Elasticity_without_Promotion'] = price_elasticity_no_promo"
   ]
  },
  {
   "cell_type": "code",
   "execution_count": 46,
   "metadata": {},
   "outputs": [
    {
     "output_type": "execute_result",
     "data": {
      "text/plain": "     price_point   mean_pe  pe_segment_0  pe_segment_1  pe_segment_2  \\\n0           0.50 -0.096156     -0.051053     -0.149176     -0.061793   \n1           0.51 -0.100213     -0.053207     -0.155469     -0.064400   \n2           0.52 -0.104396     -0.055428     -0.161959     -0.067088   \n3           0.53 -0.108709     -0.057718     -0.168650     -0.069860   \n4           0.54 -0.113155     -0.060079     -0.175548     -0.072717   \n..           ...       ...           ...           ...           ...   \n295         3.45 -8.006642     -4.251056    -12.421424     -5.145287   \n296         3.46 -8.031884     -4.264458    -12.460585     -5.161509   \n297         3.47 -8.057092     -4.277842    -12.499692     -5.177708   \n298         3.48 -8.082265     -4.291208    -12.538746     -5.193885   \n299         3.49 -8.107406     -4.304556    -12.577749     -5.210041   \n\n     pe_segment_3  Elasticity_with_Promotion  Elasticity_without_Promotion  \n0       -0.070151                  -0.125735                     -0.195643  \n1       -0.073110                  -0.129851                     -0.201764  \n2       -0.076162                  -0.134046                     -0.207988  \n3       -0.079309                  -0.138321                     -0.214314  \n4       -0.082552                  -0.142677                     -0.220745  \n..            ...                        ...                           ...  \n295     -5.841224                  -4.861318                     -4.982937  \n296     -5.859640                  -4.879520                     -4.999842  \n297     -5.878030                  -4.897690                     -5.016728  \n298     -5.896396                  -4.915830                     -5.033594  \n299     -5.914737                  -4.933940                     -5.050439  \n\n[300 rows x 8 columns]",
      "text/html": "<div>\n<style scoped>\n    .dataframe tbody tr th:only-of-type {\n        vertical-align: middle;\n    }\n\n    .dataframe tbody tr th {\n        vertical-align: top;\n    }\n\n    .dataframe thead th {\n        text-align: right;\n    }\n</style>\n<table border=\"1\" class=\"dataframe\">\n  <thead>\n    <tr style=\"text-align: right;\">\n      <th></th>\n      <th>price_point</th>\n      <th>mean_pe</th>\n      <th>pe_segment_0</th>\n      <th>pe_segment_1</th>\n      <th>pe_segment_2</th>\n      <th>pe_segment_3</th>\n      <th>Elasticity_with_Promotion</th>\n      <th>Elasticity_without_Promotion</th>\n    </tr>\n  </thead>\n  <tbody>\n    <tr>\n      <th>0</th>\n      <td>0.50</td>\n      <td>-0.096156</td>\n      <td>-0.051053</td>\n      <td>-0.149176</td>\n      <td>-0.061793</td>\n      <td>-0.070151</td>\n      <td>-0.125735</td>\n      <td>-0.195643</td>\n    </tr>\n    <tr>\n      <th>1</th>\n      <td>0.51</td>\n      <td>-0.100213</td>\n      <td>-0.053207</td>\n      <td>-0.155469</td>\n      <td>-0.064400</td>\n      <td>-0.073110</td>\n      <td>-0.129851</td>\n      <td>-0.201764</td>\n    </tr>\n    <tr>\n      <th>2</th>\n      <td>0.52</td>\n      <td>-0.104396</td>\n      <td>-0.055428</td>\n      <td>-0.161959</td>\n      <td>-0.067088</td>\n      <td>-0.076162</td>\n      <td>-0.134046</td>\n      <td>-0.207988</td>\n    </tr>\n    <tr>\n      <th>3</th>\n      <td>0.53</td>\n      <td>-0.108709</td>\n      <td>-0.057718</td>\n      <td>-0.168650</td>\n      <td>-0.069860</td>\n      <td>-0.079309</td>\n      <td>-0.138321</td>\n      <td>-0.214314</td>\n    </tr>\n    <tr>\n      <th>4</th>\n      <td>0.54</td>\n      <td>-0.113155</td>\n      <td>-0.060079</td>\n      <td>-0.175548</td>\n      <td>-0.072717</td>\n      <td>-0.082552</td>\n      <td>-0.142677</td>\n      <td>-0.220745</td>\n    </tr>\n    <tr>\n      <th>...</th>\n      <td>...</td>\n      <td>...</td>\n      <td>...</td>\n      <td>...</td>\n      <td>...</td>\n      <td>...</td>\n      <td>...</td>\n      <td>...</td>\n    </tr>\n    <tr>\n      <th>295</th>\n      <td>3.45</td>\n      <td>-8.006642</td>\n      <td>-4.251056</td>\n      <td>-12.421424</td>\n      <td>-5.145287</td>\n      <td>-5.841224</td>\n      <td>-4.861318</td>\n      <td>-4.982937</td>\n    </tr>\n    <tr>\n      <th>296</th>\n      <td>3.46</td>\n      <td>-8.031884</td>\n      <td>-4.264458</td>\n      <td>-12.460585</td>\n      <td>-5.161509</td>\n      <td>-5.859640</td>\n      <td>-4.879520</td>\n      <td>-4.999842</td>\n    </tr>\n    <tr>\n      <th>297</th>\n      <td>3.47</td>\n      <td>-8.057092</td>\n      <td>-4.277842</td>\n      <td>-12.499692</td>\n      <td>-5.177708</td>\n      <td>-5.878030</td>\n      <td>-4.897690</td>\n      <td>-5.016728</td>\n    </tr>\n    <tr>\n      <th>298</th>\n      <td>3.48</td>\n      <td>-8.082265</td>\n      <td>-4.291208</td>\n      <td>-12.538746</td>\n      <td>-5.193885</td>\n      <td>-5.896396</td>\n      <td>-4.915830</td>\n      <td>-5.033594</td>\n    </tr>\n    <tr>\n      <th>299</th>\n      <td>3.49</td>\n      <td>-8.107406</td>\n      <td>-4.304556</td>\n      <td>-12.577749</td>\n      <td>-5.210041</td>\n      <td>-5.914737</td>\n      <td>-4.933940</td>\n      <td>-5.050439</td>\n    </tr>\n  </tbody>\n</table>\n<p>300 rows × 8 columns</p>\n</div>"
     },
     "metadata": {},
     "execution_count": 46
    }
   ],
   "source": [
    "df_price_elasticities"
   ]
  },
  {
   "cell_type": "code",
   "execution_count": 47,
   "metadata": {},
   "outputs": [
    {
     "output_type": "display_data",
     "data": {
      "application/vnd.plotly.v1+json": {
       "config": {
        "plotlyServerURL": "https://plot.ly"
       },
       "data": [
        {
         "mode": "lines",
         "name": "With Promotion PE",
         "type": "scatter",
         "x": [
          0.5,
          0.51,
          0.52,
          0.53,
          0.54,
          0.55,
          0.56,
          0.5700000000000001,
          0.5800000000000001,
          0.5900000000000001,
          0.6000000000000001,
          0.6100000000000001,
          0.6200000000000001,
          0.6300000000000001,
          0.6400000000000001,
          0.6500000000000001,
          0.6600000000000001,
          0.6700000000000002,
          0.6800000000000002,
          0.6900000000000002,
          0.7000000000000002,
          0.7100000000000002,
          0.7200000000000002,
          0.7300000000000002,
          0.7400000000000002,
          0.7500000000000002,
          0.7600000000000002,
          0.7700000000000002,
          0.7800000000000002,
          0.7900000000000003,
          0.8000000000000003,
          0.8100000000000003,
          0.8200000000000003,
          0.8300000000000003,
          0.8400000000000003,
          0.8500000000000003,
          0.8600000000000003,
          0.8700000000000003,
          0.8800000000000003,
          0.8900000000000003,
          0.9000000000000004,
          0.9100000000000004,
          0.9200000000000004,
          0.9300000000000004,
          0.9400000000000004,
          0.9500000000000004,
          0.9600000000000004,
          0.9700000000000004,
          0.9800000000000004,
          0.9900000000000004,
          1.0000000000000004,
          1.0100000000000005,
          1.0200000000000005,
          1.0300000000000005,
          1.0400000000000005,
          1.0500000000000005,
          1.0600000000000005,
          1.0700000000000005,
          1.0800000000000005,
          1.0900000000000005,
          1.1000000000000005,
          1.1100000000000005,
          1.1200000000000006,
          1.1300000000000006,
          1.1400000000000006,
          1.1500000000000006,
          1.1600000000000006,
          1.1700000000000006,
          1.1800000000000006,
          1.1900000000000006,
          1.2000000000000006,
          1.2100000000000006,
          1.2200000000000006,
          1.2300000000000006,
          1.2400000000000007,
          1.2500000000000007,
          1.2600000000000007,
          1.2700000000000007,
          1.2800000000000007,
          1.2900000000000007,
          1.3000000000000007,
          1.3100000000000007,
          1.3200000000000007,
          1.3300000000000007,
          1.3400000000000007,
          1.3500000000000008,
          1.3600000000000008,
          1.3700000000000008,
          1.3800000000000008,
          1.3900000000000008,
          1.4000000000000008,
          1.4100000000000008,
          1.4200000000000008,
          1.4300000000000008,
          1.4400000000000008,
          1.4500000000000008,
          1.4600000000000009,
          1.4700000000000009,
          1.4800000000000009,
          1.4900000000000009,
          1.5000000000000009,
          1.510000000000001,
          1.520000000000001,
          1.530000000000001,
          1.540000000000001,
          1.550000000000001,
          1.560000000000001,
          1.570000000000001,
          1.580000000000001,
          1.590000000000001,
          1.600000000000001,
          1.610000000000001,
          1.620000000000001,
          1.630000000000001,
          1.640000000000001,
          1.650000000000001,
          1.660000000000001,
          1.670000000000001,
          1.680000000000001,
          1.690000000000001,
          1.700000000000001,
          1.710000000000001,
          1.720000000000001,
          1.730000000000001,
          1.740000000000001,
          1.750000000000001,
          1.7600000000000011,
          1.7700000000000011,
          1.7800000000000011,
          1.7900000000000011,
          1.8000000000000012,
          1.8100000000000012,
          1.8200000000000012,
          1.8300000000000012,
          1.8400000000000012,
          1.8500000000000012,
          1.8600000000000012,
          1.8700000000000012,
          1.8800000000000012,
          1.8900000000000012,
          1.9000000000000012,
          1.9100000000000013,
          1.9200000000000013,
          1.9300000000000013,
          1.9400000000000013,
          1.9500000000000013,
          1.9600000000000013,
          1.9700000000000013,
          1.9800000000000013,
          1.9900000000000013,
          2.0000000000000013,
          2.0100000000000016,
          2.0200000000000014,
          2.030000000000001,
          2.0400000000000014,
          2.0500000000000016,
          2.0600000000000014,
          2.070000000000001,
          2.0800000000000014,
          2.0900000000000016,
          2.1000000000000014,
          2.110000000000001,
          2.1200000000000014,
          2.1300000000000017,
          2.1400000000000015,
          2.1500000000000012,
          2.1600000000000015,
          2.1700000000000017,
          2.1800000000000015,
          2.1900000000000013,
          2.2000000000000015,
          2.2100000000000017,
          2.2200000000000015,
          2.2300000000000013,
          2.2400000000000015,
          2.2500000000000018,
          2.2600000000000016,
          2.2700000000000014,
          2.2800000000000016,
          2.290000000000002,
          2.3000000000000016,
          2.3100000000000014,
          2.3200000000000016,
          2.330000000000002,
          2.3400000000000016,
          2.3500000000000014,
          2.3600000000000017,
          2.370000000000002,
          2.3800000000000017,
          2.3900000000000015,
          2.4000000000000017,
          2.410000000000002,
          2.4200000000000017,
          2.4300000000000015,
          2.4400000000000017,
          2.450000000000002,
          2.4600000000000017,
          2.4700000000000015,
          2.4800000000000018,
          2.490000000000002,
          2.5000000000000018,
          2.5100000000000016,
          2.520000000000002,
          2.530000000000002,
          2.540000000000002,
          2.5500000000000016,
          2.560000000000002,
          2.570000000000002,
          2.580000000000002,
          2.5900000000000016,
          2.600000000000002,
          2.610000000000002,
          2.620000000000002,
          2.6300000000000017,
          2.640000000000002,
          2.650000000000002,
          2.660000000000002,
          2.6700000000000017,
          2.680000000000002,
          2.690000000000002,
          2.700000000000002,
          2.7100000000000017,
          2.720000000000002,
          2.730000000000002,
          2.740000000000002,
          2.7500000000000018,
          2.760000000000002,
          2.7700000000000022,
          2.780000000000002,
          2.790000000000002,
          2.800000000000002,
          2.8100000000000023,
          2.820000000000002,
          2.830000000000002,
          2.840000000000002,
          2.8500000000000023,
          2.860000000000002,
          2.870000000000002,
          2.880000000000002,
          2.8900000000000023,
          2.900000000000002,
          2.910000000000002,
          2.920000000000002,
          2.9300000000000024,
          2.940000000000002,
          2.950000000000002,
          2.960000000000002,
          2.9700000000000024,
          2.980000000000002,
          2.990000000000002,
          3.000000000000002,
          3.0100000000000025,
          3.0200000000000022,
          3.030000000000002,
          3.0400000000000023,
          3.0500000000000025,
          3.0600000000000023,
          3.070000000000002,
          3.0800000000000023,
          3.0900000000000025,
          3.1000000000000023,
          3.110000000000002,
          3.1200000000000023,
          3.1300000000000026,
          3.1400000000000023,
          3.150000000000002,
          3.1600000000000024,
          3.1700000000000026,
          3.1800000000000024,
          3.190000000000002,
          3.2000000000000024,
          3.2100000000000026,
          3.2200000000000024,
          3.230000000000002,
          3.2400000000000024,
          3.2500000000000027,
          3.2600000000000025,
          3.2700000000000022,
          3.2800000000000025,
          3.2900000000000027,
          3.3000000000000025,
          3.3100000000000023,
          3.3200000000000025,
          3.3300000000000027,
          3.3400000000000025,
          3.3500000000000023,
          3.3600000000000025,
          3.3700000000000028,
          3.3800000000000026,
          3.3900000000000023,
          3.4000000000000026,
          3.410000000000003,
          3.4200000000000026,
          3.4300000000000024,
          3.4400000000000026,
          3.450000000000003,
          3.4600000000000026,
          3.4700000000000024,
          3.4800000000000026,
          3.490000000000003
         ],
         "y": [
          -0.12573518259035044,
          -0.1298512636772597,
          -0.13404630148614766,
          -0.13832128351427783,
          -0.14267719875423715,
          -0.1471150373725969,
          -0.15163579038044475,
          -0.15624044929582964,
          -0.16093000579816177,
          -0.16570545137462422,
          -0.17056777695866507,
          -0.17551797256064275,
          -0.1805570268907145,
          -0.18568592697406303,
          -0.1909056577585724,
          -0.1962172017150719,
          -0.2016215384302782,
          -0.2071196441925814,
          -0.21271249157082595,
          -0.21840104898625698,
          -0.22418628027780738,
          -0.23006914426091868,
          -0.2360505942800974,
          -0.24213157775542415,
          -0.24831303572324245,
          -0.2545959023712687,
          -0.2609811045683752,
          -0.2674695613893153,
          -0.27406218363466545,
          -0.28075987334627817,
          -0.2875635233185497,
          -0.29447401660581485,
          -0.3014922260262036,
          -0.30861901366229594,
          -0.3158552303589276,
          -0.32320171521851637,
          -0.3306592950942803,
          -0.338228784081737,
          -0.34591098300888745,
          -0.3537066789254889,
          -0.3616166445918415,
          -0.3696416379675185,
          -0.37778240170048144,
          -0.3860396626170309,
          -0.39441413121305174,
          -0.4029065011470223,
          -0.4115174487352636,
          -0.4202476324499111,
          -0.4290976924201017,
          -0.43806824993687377,
          -0.44715990696228,
          -0.45637324564322657,
          -0.46570882783054907,
          -0.4751671946038402,
          -0.48474886580255433,
          -0.494454339563907,
          -0.504284091868097,
          -0.5142385760913727,
          -0.5243182225674728,
          -0.5345234381579614,
          -0.5448546058319845,
          -0.555312084255965,
          -0.5658962073937589,
          -0.576607284117781,
          -0.5874455978316124,
          -0.5984114061045921,
          -0.6095049403188872,
          -0.6207264053295315,
          -0.6320759791379136,
          -0.6435538125791821,
          -0.6551600290240311,
          -0.6668947240953147,
          -0.6787579653999238,
          -0.6907497922763569,
          -0.7028702155583845,
          -0.7151192173552144,
          -0.7274967508485274,
          -0.7400027401067545,
          -0.7526370799169371,
          -0.7653996356345018,
          -0.7782902430512599,
          -0.7913087082819176,
          -0.8044548076693752,
          -0.8177282877090545,
          -0.8311288649924952,
          -0.8446562261704137,
          -0.8583100279354182,
          -0.8720898970245341,
          -0.8859954302416827,
          -0.9000261945002184,
          -0.9141817268856223,
          -0.9284615347384094,
          -0.9428650957572912,
          -0.9573918581226073,
          -0.9720412406400161,
          -0.9868126329044007,
          -1.0017053954839372,
          -1.016718860124228,
          -1.03185232997239,
          -1.0471050798209565,
          -1.0624763563714255,
          -1.0779653785172671,
          -1.0935713376461693,
          -1.109293397961282,
          -1.125130696821197,
          -1.1410823450983667,
          -1.157147427555654,
          -1.1733250032406715,
          -1.1896141058975525,
          -1.2060137443957708,
          -1.2225229031755995,
          -1.239140542709796,
          -1.255865599981051,
          -1.2726969889747515,
          -1.2896336011865637,
          -1.306674306144338,
          -1.3238179519438136,
          -1.3410633657975954,
          -1.3584093545968374,
          -1.3758547054850834,
          -1.3933981864436766,
          -1.4110385468881483,
          -1.4287745182749825,
          -1.4466048147181514,
          -1.4645281336147824,
          -1.4825431562793447,
          -1.5006485485857044,
          -1.5188429616164072,
          -1.5371250323185452,
          -1.555493384165543,
          -1.5739466278242173,
          -1.5924833618264476,
          -1.6111021732447965,
          -1.6298016383714276,
          -1.6485803233996552,
          -1.6674367851074796,
          -1.6863695715424478,
          -1.7053772227072002,
          -1.7244582712450556,
          -1.7436112431250026,
          -1.7628346583254673,
          -1.782127031516238,
          -1.8014868727379354,
          -1.8209126880784279,
          -1.8404029803456043,
          -1.8599562497359154,
          -1.8795709944981345,
          -1.899245711591764,
          -1.9189788973395678,
          -1.9387690480736866,
          -1.9586146607748376,
          -1.9785142337041017,
          -1.9984662670268072,
          -2.018469263428073,
          -2.038521728719536,
          -2.0586221724368547,
          -2.078769108427575,
          -2.0989610554289584,
          -2.11919653763541,
          -2.139474085255137,
          -2.1597922350557117,
          -2.1801495308982233,
          -2.200544524259707,
          -2.2209757747435797,
          -2.241441850577821,
          -2.2619413291006634,
          -2.2824727972335546,
          -2.3030348519411987,
          -2.3236261006784975,
          -2.3442451618242175,
          -2.36489066510124,
          -2.3855612519832556,
          -2.40625557608782,
          -2.4269723035556474,
          -2.4477101134160884,
          -2.468467697938725,
          -2.4892437629710535,
          -2.510037028262219,
          -2.530846227772807,
          -2.5516701099706913,
          -2.5725074381129707,
          -2.5933569905140375,
          -2.6142175607998137,
          -2.635087958148249,
          -2.655967007516145,
          -2.6768535498524115,
          -2.697746442297859,
          -2.718644558371646,
          -2.7395467881445192,
          -2.760452038398994,
          -2.781359232776621,
          -2.8022673119124977,
          -2.8231752335572278,
          -2.844081972686485,
          -2.864986521598382,
          -2.885887889998844,
          -2.906785105075207,
          -2.927677211558241,
          -2.9485632717728287,
          -2.9694423656775184,
          -2.9903135908932033,
          -3.0111760627211526,
          -3.032028914150633,
          -3.052871295856384,
          -3.07370237618619,
          -3.0945213411388033,
          -3.115327394332478,
          -3.1361197569643724,
          -3.1568976677610876,
          -3.1776603829206027,
          -3.1984071760458637,
          -3.219137338070307,
          -3.23985017717557,
          -3.2605450187016656,
          -3.281221205049875,
          -3.301878095578633,
          -3.3225150664926653,
          -3.3431315107256476,
          -3.3637268378166363,
          -3.3843004737805304,
          -3.4048518609728515,
          -3.425380457949045,
          -3.4458857393186033,
          -3.4663671955942372,
          -3.486824333036335,
          -3.5072566734929818,
          -3.527663754235746,
          -3.548045127791496,
          -3.568400361770457,
          -3.5887290386907607,
          -3.6090307557996897,
          -3.6293051248918538,
          -3.649551772124505,
          -3.6697703378302133,
          -3.6899604763270992,
          -3.7101218557268254,
          -3.7302541577405663,
          -3.750357077483125,
          -3.7704303232753973,
          -3.790473616445363,
          -3.8104866911277964,
          -3.830469294062852,
          -3.850421184393708,
          -3.870342133463424,
          -3.890231924611179,
          -3.9100903529680537,
          -3.929917225252475,
          -3.9497123595655057,
          -3.9694755851860952,
          -3.989206742366446,
          -4.0089056821276,
          -4.0285722660553995,
          -4.048206366096924,
          -4.067807864357536,
          -4.087376652898631,
          -4.1069126335362105,
          -4.126415717640378,
          -4.1458858259358635,
          -4.165322888303659,
          -4.184726843583856,
          -4.20409763937979,
          -4.223435231863557,
          -4.242739585582972,
          -4.262010673270065,
          -4.2812484756511715,
          -4.300452981258698,
          -4.319624186244589,
          -4.338762094195602,
          -4.357866715950413,
          -4.376938069418618,
          -4.395976179401675,
          -4.414981077415828,
          -4.4339528015170675,
          -4.452891396128154,
          -4.471796911867747,
          -4.490669405381663,
          -4.509508939176316,
          -4.528315581454333,
          -4.547089405952407,
          -4.565830491781376,
          -4.584538923268567,
          -4.603214789802424,
          -4.621858185679422,
          -4.640469209953286,
          -4.659047966286529,
          -4.677594562804314,
          -4.696109111950644,
          -4.714591730346882,
          -4.733042538652618,
          -4.751461661428872,
          -4.7698492270036255,
          -4.78820536733969,
          -4.806530217904914,
          -4.824823917544704,
          -4.843086608356865,
          -4.861318435568749,
          -4.879519547416705,
          -4.897690095027814,
          -4.915830232303896,
          -4.933940115807782
         ]
        },
        {
         "mode": "lines",
         "name": "Without Promotion PE",
         "type": "scatter",
         "x": [
          0.5,
          0.51,
          0.52,
          0.53,
          0.54,
          0.55,
          0.56,
          0.5700000000000001,
          0.5800000000000001,
          0.5900000000000001,
          0.6000000000000001,
          0.6100000000000001,
          0.6200000000000001,
          0.6300000000000001,
          0.6400000000000001,
          0.6500000000000001,
          0.6600000000000001,
          0.6700000000000002,
          0.6800000000000002,
          0.6900000000000002,
          0.7000000000000002,
          0.7100000000000002,
          0.7200000000000002,
          0.7300000000000002,
          0.7400000000000002,
          0.7500000000000002,
          0.7600000000000002,
          0.7700000000000002,
          0.7800000000000002,
          0.7900000000000003,
          0.8000000000000003,
          0.8100000000000003,
          0.8200000000000003,
          0.8300000000000003,
          0.8400000000000003,
          0.8500000000000003,
          0.8600000000000003,
          0.8700000000000003,
          0.8800000000000003,
          0.8900000000000003,
          0.9000000000000004,
          0.9100000000000004,
          0.9200000000000004,
          0.9300000000000004,
          0.9400000000000004,
          0.9500000000000004,
          0.9600000000000004,
          0.9700000000000004,
          0.9800000000000004,
          0.9900000000000004,
          1.0000000000000004,
          1.0100000000000005,
          1.0200000000000005,
          1.0300000000000005,
          1.0400000000000005,
          1.0500000000000005,
          1.0600000000000005,
          1.0700000000000005,
          1.0800000000000005,
          1.0900000000000005,
          1.1000000000000005,
          1.1100000000000005,
          1.1200000000000006,
          1.1300000000000006,
          1.1400000000000006,
          1.1500000000000006,
          1.1600000000000006,
          1.1700000000000006,
          1.1800000000000006,
          1.1900000000000006,
          1.2000000000000006,
          1.2100000000000006,
          1.2200000000000006,
          1.2300000000000006,
          1.2400000000000007,
          1.2500000000000007,
          1.2600000000000007,
          1.2700000000000007,
          1.2800000000000007,
          1.2900000000000007,
          1.3000000000000007,
          1.3100000000000007,
          1.3200000000000007,
          1.3300000000000007,
          1.3400000000000007,
          1.3500000000000008,
          1.3600000000000008,
          1.3700000000000008,
          1.3800000000000008,
          1.3900000000000008,
          1.4000000000000008,
          1.4100000000000008,
          1.4200000000000008,
          1.4300000000000008,
          1.4400000000000008,
          1.4500000000000008,
          1.4600000000000009,
          1.4700000000000009,
          1.4800000000000009,
          1.4900000000000009,
          1.5000000000000009,
          1.510000000000001,
          1.520000000000001,
          1.530000000000001,
          1.540000000000001,
          1.550000000000001,
          1.560000000000001,
          1.570000000000001,
          1.580000000000001,
          1.590000000000001,
          1.600000000000001,
          1.610000000000001,
          1.620000000000001,
          1.630000000000001,
          1.640000000000001,
          1.650000000000001,
          1.660000000000001,
          1.670000000000001,
          1.680000000000001,
          1.690000000000001,
          1.700000000000001,
          1.710000000000001,
          1.720000000000001,
          1.730000000000001,
          1.740000000000001,
          1.750000000000001,
          1.7600000000000011,
          1.7700000000000011,
          1.7800000000000011,
          1.7900000000000011,
          1.8000000000000012,
          1.8100000000000012,
          1.8200000000000012,
          1.8300000000000012,
          1.8400000000000012,
          1.8500000000000012,
          1.8600000000000012,
          1.8700000000000012,
          1.8800000000000012,
          1.8900000000000012,
          1.9000000000000012,
          1.9100000000000013,
          1.9200000000000013,
          1.9300000000000013,
          1.9400000000000013,
          1.9500000000000013,
          1.9600000000000013,
          1.9700000000000013,
          1.9800000000000013,
          1.9900000000000013,
          2.0000000000000013,
          2.0100000000000016,
          2.0200000000000014,
          2.030000000000001,
          2.0400000000000014,
          2.0500000000000016,
          2.0600000000000014,
          2.070000000000001,
          2.0800000000000014,
          2.0900000000000016,
          2.1000000000000014,
          2.110000000000001,
          2.1200000000000014,
          2.1300000000000017,
          2.1400000000000015,
          2.1500000000000012,
          2.1600000000000015,
          2.1700000000000017,
          2.1800000000000015,
          2.1900000000000013,
          2.2000000000000015,
          2.2100000000000017,
          2.2200000000000015,
          2.2300000000000013,
          2.2400000000000015,
          2.2500000000000018,
          2.2600000000000016,
          2.2700000000000014,
          2.2800000000000016,
          2.290000000000002,
          2.3000000000000016,
          2.3100000000000014,
          2.3200000000000016,
          2.330000000000002,
          2.3400000000000016,
          2.3500000000000014,
          2.3600000000000017,
          2.370000000000002,
          2.3800000000000017,
          2.3900000000000015,
          2.4000000000000017,
          2.410000000000002,
          2.4200000000000017,
          2.4300000000000015,
          2.4400000000000017,
          2.450000000000002,
          2.4600000000000017,
          2.4700000000000015,
          2.4800000000000018,
          2.490000000000002,
          2.5000000000000018,
          2.5100000000000016,
          2.520000000000002,
          2.530000000000002,
          2.540000000000002,
          2.5500000000000016,
          2.560000000000002,
          2.570000000000002,
          2.580000000000002,
          2.5900000000000016,
          2.600000000000002,
          2.610000000000002,
          2.620000000000002,
          2.6300000000000017,
          2.640000000000002,
          2.650000000000002,
          2.660000000000002,
          2.6700000000000017,
          2.680000000000002,
          2.690000000000002,
          2.700000000000002,
          2.7100000000000017,
          2.720000000000002,
          2.730000000000002,
          2.740000000000002,
          2.7500000000000018,
          2.760000000000002,
          2.7700000000000022,
          2.780000000000002,
          2.790000000000002,
          2.800000000000002,
          2.8100000000000023,
          2.820000000000002,
          2.830000000000002,
          2.840000000000002,
          2.8500000000000023,
          2.860000000000002,
          2.870000000000002,
          2.880000000000002,
          2.8900000000000023,
          2.900000000000002,
          2.910000000000002,
          2.920000000000002,
          2.9300000000000024,
          2.940000000000002,
          2.950000000000002,
          2.960000000000002,
          2.9700000000000024,
          2.980000000000002,
          2.990000000000002,
          3.000000000000002,
          3.0100000000000025,
          3.0200000000000022,
          3.030000000000002,
          3.0400000000000023,
          3.0500000000000025,
          3.0600000000000023,
          3.070000000000002,
          3.0800000000000023,
          3.0900000000000025,
          3.1000000000000023,
          3.110000000000002,
          3.1200000000000023,
          3.1300000000000026,
          3.1400000000000023,
          3.150000000000002,
          3.1600000000000024,
          3.1700000000000026,
          3.1800000000000024,
          3.190000000000002,
          3.2000000000000024,
          3.2100000000000026,
          3.2200000000000024,
          3.230000000000002,
          3.2400000000000024,
          3.2500000000000027,
          3.2600000000000025,
          3.2700000000000022,
          3.2800000000000025,
          3.2900000000000027,
          3.3000000000000025,
          3.3100000000000023,
          3.3200000000000025,
          3.3300000000000027,
          3.3400000000000025,
          3.3500000000000023,
          3.3600000000000025,
          3.3700000000000028,
          3.3800000000000026,
          3.3900000000000023,
          3.4000000000000026,
          3.410000000000003,
          3.4200000000000026,
          3.4300000000000024,
          3.4400000000000026,
          3.450000000000003,
          3.4600000000000026,
          3.4700000000000024,
          3.4800000000000026,
          3.490000000000003
         ],
         "y": [
          -0.1956428737540952,
          -0.20176396436919425,
          -0.20798752967815198,
          -0.2143143968465024,
          -0.22074538138548652,
          -0.22728128666276307,
          -0.23392290341242103,
          -0.24067100924471038,
          -0.2475263681559112,
          -0.2544897300387732,
          -0.2615618301939669,
          -0.2687433888429935,
          -0.27603511064300895,
          -0.28343768420402615,
          -0.29095178160896246,
          -0.2985780579370104,
          -0.30631715079080934,
          -0.31416967982790495,
          -0.3221362462969864,
          -0.3302174325793898,
          -0.3384138017363697,
          -0.3467258970626302,
          -0.35515424164661813,
          -0.3636993379380752,
          -0.3723616673233481,
          -0.38114168970895723,
          -0.3900398431139163,
          -0.3990565432712979,
          -0.40819218323953627,
          -0.41744713302395076,
          -0.4268217392089718,
          -0.4363163246015431,
          -0.44593118788617,
          -0.45566660329207,
          -0.46552282027288155,
          -0.4755000631993717,
          -0.4855985310655719,
          -0.4958183972087679,
          -0.5061598090437489,
          -0.5166228878117141,
          -0.5272077283442201,
          -0.5379143988425356,
          -0.54874294067276,
          -0.5596933681770419,
          -0.5707656685012185,
          -0.5819598014391808,
          -0.5932756992942514,
          -0.6047132667578407,
          -0.6162723808056304,
          -0.6279528906115146,
          -0.6397546174795045,
          -0.6516773547937836,
          -0.6637208679870837,
          -0.675884894527518,
          -0.6881691439240039,
          -0.700573297750362,
          -0.7130970096881815,
          -0.7257399055884921,
          -0.7385015835522833,
          -0.7513816140298678,
          -0.7643795399390797,
          -0.7774948768022597,
          -0.7907271129019658,
          -0.804075709455318,
          -0.8175401008068647,
          -0.8311196946398339,
          -0.844813872205611,
          -0.858621988571251,
          -0.8725433728848319,
          -0.8865773286584034,
          -0.9007231340682932,
          -0.9149800422724841,
          -0.9293472817447734,
          -0.9438240566253945,
          -0.9584095470877599,
          -0.9731029097209712,
          -0.9879032779277146,
          -1.0028097623371475,
          -1.017821451232358,
          -1.032937410991966,
          -1.0481566865454182,
          -1.0634783018415062,
          -1.0789012603296324,
          -1.0944245454533241,
          -1.110047121155489,
          -1.125767932394891,
          -1.1415859056733135,
          -1.1574999495728622,
          -1.1735089553028588,
          -1.1896117972557632,
          -1.2058073335715447,
          -1.2220944067099377,
          -1.2384718440299878,
          -1.2549384583763048,
          -1.2714930486714298,
          -1.288134400513716,
          -1.304861286780134,
          -1.3216724682333947,
          -1.338566694132796,
          -1.3555427028481932,
          -1.3725992224764967,
          -1.3897349714601048,
          -1.4069486592066809,
          -1.4242389867096896,
          -1.4416046471691124,
          -1.4590443266117694,
          -1.4765567045106782,
          -1.4941404544028976,
          -1.5117942445052948,
          -1.5295167383277088,
          -1.5473065952829692,
          -1.565162471293257,
          -1.5830830193922925,
          -1.6010668903228633,
          -1.6191127331292015,
          -1.6372191957437403,
          -1.6553849255677973,
          -1.6736085700457406,
          -1.6918887772322064,
          -1.7102241963519624,
          -1.7286134783520093,
          -1.7470552764455518,
          -1.765548246647462,
          -1.7840910483008938,
          -1.8026823445947087,
          -1.8213208030714028,
          -1.8400050961252368,
          -1.8587339014902773,
          -1.8775059027180936,
          -1.896319789644862,
          -1.9151742588476366,
          -1.934068014089584,
          -1.9529997667539807,
          -1.9719682362667894,
          -1.990972150507658,
          -2.0100102462091893,
          -2.0290812693443545,
          -2.048183975501934,
          -2.067317130249896,
          -2.0864795094866144,
          -2.1056698997798824,
          -2.1248870986936503,
          -2.1441299151024684,
          -2.1633971694936007,
          -2.182687694256811,
          -2.202000333961828,
          -2.221333945623505,
          -2.2406873989547154,
          -2.260059576607027,
          -2.2794493743992126,
          -2.2988557015336752,
          -2.3182774808008637,
          -2.337713648771773,
          -2.357163155978647,
          -2.3766249670839734,
          -2.396098061037925,
          -2.4155814312243584,
          -2.4350740855955237,
          -2.4545750467956395,
          -2.47408335227348,
          -2.493598054384154,
          -2.513118220480249,
          -2.532642932992512,
          -2.552171289500254,
          -2.5717024027916846,
          -2.591235400914367,
          -2.610769427215986,
          -2.6303036403756446,
          -2.649837214425909,
          -2.6693693387658057,
          -2.6888992181649853,
          -2.7084260727592824,
          -2.727949138037895,
          -2.747467664822403,
          -2.766980919237856,
          -2.7864881826761563,
          -2.805988751751972,
          -2.8254819382514027,
          -2.8449670690736357,
          -2.864443486165816,
          -2.883910546451363,
          -2.903367621751972,
          -2.9228140987035114,
          -2.942249378666061,
          -2.961672877628305,
          -2.9810840261065206,
          -3.00048226903836,
          -3.019867065671676,
          -3.0392378894485854,
          -3.0585942278850102,
          -3.0779355824458867,
          -3.09726146841627,
          -3.1165714147685373,
          -3.135864964025901,
          -3.155141672122423,
          -3.1744011082597305,
          -3.193642854760645,
          -3.212866506919899,
          -3.2320716728521344,
          -3.251257973337363,
          -3.2704250416640805,
          -3.289572523470208,
          -3.3087000765820207,
          -3.3278073708512466,
          -3.3468940879905036,
          -3.365959921407219,
          -3.3850045760362066,
          -3.4040277681710376,
          -3.423029225294369,
          -3.4420086859073673,
          -3.460965899358362,
          -3.479900625670873,
          -3.4988126353711464,
          -3.517701709315316,
          -3.536567638516323,
          -3.55541022397071,
          -3.574229276485404,
          -3.5930246165046076,
          -3.6117960739368966,
          -3.630543487982623,
          -3.649266706961752,
          -3.6679655881421853,
          -3.686639997568704,
          -3.705289809892591,
          -3.723914908202027,
          -3.7425151838533575,
          -3.7610905363032674,
          -3.7796408729419873,
          -3.7981661089275587,
          -3.8166661670212583,
          -3.8351409774242167,
          -3.8535904776153163,
          -3.8720146121904087,
          -3.8904133327029156,
          -3.908786597505862,
          -3.927134371595384,
          -3.94545662645576,
          -3.963753339906022,
          -3.98202449594816,
          -4.000270084616971,
          -4.01849010183159,
          -4.036684549248741,
          -4.054853434117705,
          -4.072996769137067,
          -4.091114572313261,
          -4.109206866820915,
          -4.127273680865037,
          -4.145315047545048,
          -4.16333100472069,
          -4.18132159487981,
          -4.199286865008043,
          -4.2172268664603925,
          -4.235141654834729,
          -4.2530312898472165,
          -4.270895835209646,
          -4.288735358508715,
          -4.306549931087229,
          -4.324339627927244,
          -4.342104527535129,
          -4.3598447118285675,
          -4.377560266025477,
          -4.395251278534866,
          -4.412917840849588,
          -4.430560047441012,
          -4.4481779956556,
          -4.465771785613379,
          -4.483341520108281,
          -4.5008873045103694,
          -4.518409246669918,
          -4.535907456823353,
          -4.553382047501008,
          -4.570833133436712,
          -4.588260831479196,
          -4.6056652605052655,
          -4.623046541334771,
          -4.640404796647327,
          -4.657740150900778,
          -4.67505273025138,
          -4.692342662475712,
          -4.709610076894245,
          -4.7268551042966065,
          -4.744077876868487,
          -4.761278528120174,
          -4.778457192816711,
          -4.795614006909627,
          -4.812749107470265,
          -4.829862632624641,
          -4.8469547214898405,
          -4.864025514111927,
          -4.881075151405343,
          -4.898103775093769,
          -4.9151115276524315,
          -4.932098552251851,
          -4.949064992702977,
          -4.966010993403712,
          -4.9829366992868005,
          -4.999842255769053,
          -5.016727808701896,
          -5.033593504323211,
          -5.050439489210455
         ]
        }
       ],
       "layout": {
        "height": 600,
        "template": {
         "data": {
          "bar": [
           {
            "error_x": {
             "color": "#2a3f5f"
            },
            "error_y": {
             "color": "#2a3f5f"
            },
            "marker": {
             "line": {
              "color": "white",
              "width": 0.5
             }
            },
            "type": "bar"
           }
          ],
          "barpolar": [
           {
            "marker": {
             "line": {
              "color": "white",
              "width": 0.5
             }
            },
            "type": "barpolar"
           }
          ],
          "carpet": [
           {
            "aaxis": {
             "endlinecolor": "#2a3f5f",
             "gridcolor": "#C8D4E3",
             "linecolor": "#C8D4E3",
             "minorgridcolor": "#C8D4E3",
             "startlinecolor": "#2a3f5f"
            },
            "baxis": {
             "endlinecolor": "#2a3f5f",
             "gridcolor": "#C8D4E3",
             "linecolor": "#C8D4E3",
             "minorgridcolor": "#C8D4E3",
             "startlinecolor": "#2a3f5f"
            },
            "type": "carpet"
           }
          ],
          "choropleth": [
           {
            "colorbar": {
             "outlinewidth": 0,
             "ticks": ""
            },
            "type": "choropleth"
           }
          ],
          "contour": [
           {
            "colorbar": {
             "outlinewidth": 0,
             "ticks": ""
            },
            "colorscale": [
             [
              0,
              "#0d0887"
             ],
             [
              0.1111111111111111,
              "#46039f"
             ],
             [
              0.2222222222222222,
              "#7201a8"
             ],
             [
              0.3333333333333333,
              "#9c179e"
             ],
             [
              0.4444444444444444,
              "#bd3786"
             ],
             [
              0.5555555555555556,
              "#d8576b"
             ],
             [
              0.6666666666666666,
              "#ed7953"
             ],
             [
              0.7777777777777778,
              "#fb9f3a"
             ],
             [
              0.8888888888888888,
              "#fdca26"
             ],
             [
              1,
              "#f0f921"
             ]
            ],
            "type": "contour"
           }
          ],
          "contourcarpet": [
           {
            "colorbar": {
             "outlinewidth": 0,
             "ticks": ""
            },
            "type": "contourcarpet"
           }
          ],
          "heatmap": [
           {
            "colorbar": {
             "outlinewidth": 0,
             "ticks": ""
            },
            "colorscale": [
             [
              0,
              "#0d0887"
             ],
             [
              0.1111111111111111,
              "#46039f"
             ],
             [
              0.2222222222222222,
              "#7201a8"
             ],
             [
              0.3333333333333333,
              "#9c179e"
             ],
             [
              0.4444444444444444,
              "#bd3786"
             ],
             [
              0.5555555555555556,
              "#d8576b"
             ],
             [
              0.6666666666666666,
              "#ed7953"
             ],
             [
              0.7777777777777778,
              "#fb9f3a"
             ],
             [
              0.8888888888888888,
              "#fdca26"
             ],
             [
              1,
              "#f0f921"
             ]
            ],
            "type": "heatmap"
           }
          ],
          "heatmapgl": [
           {
            "colorbar": {
             "outlinewidth": 0,
             "ticks": ""
            },
            "colorscale": [
             [
              0,
              "#0d0887"
             ],
             [
              0.1111111111111111,
              "#46039f"
             ],
             [
              0.2222222222222222,
              "#7201a8"
             ],
             [
              0.3333333333333333,
              "#9c179e"
             ],
             [
              0.4444444444444444,
              "#bd3786"
             ],
             [
              0.5555555555555556,
              "#d8576b"
             ],
             [
              0.6666666666666666,
              "#ed7953"
             ],
             [
              0.7777777777777778,
              "#fb9f3a"
             ],
             [
              0.8888888888888888,
              "#fdca26"
             ],
             [
              1,
              "#f0f921"
             ]
            ],
            "type": "heatmapgl"
           }
          ],
          "histogram": [
           {
            "marker": {
             "colorbar": {
              "outlinewidth": 0,
              "ticks": ""
             }
            },
            "type": "histogram"
           }
          ],
          "histogram2d": [
           {
            "colorbar": {
             "outlinewidth": 0,
             "ticks": ""
            },
            "colorscale": [
             [
              0,
              "#0d0887"
             ],
             [
              0.1111111111111111,
              "#46039f"
             ],
             [
              0.2222222222222222,
              "#7201a8"
             ],
             [
              0.3333333333333333,
              "#9c179e"
             ],
             [
              0.4444444444444444,
              "#bd3786"
             ],
             [
              0.5555555555555556,
              "#d8576b"
             ],
             [
              0.6666666666666666,
              "#ed7953"
             ],
             [
              0.7777777777777778,
              "#fb9f3a"
             ],
             [
              0.8888888888888888,
              "#fdca26"
             ],
             [
              1,
              "#f0f921"
             ]
            ],
            "type": "histogram2d"
           }
          ],
          "histogram2dcontour": [
           {
            "colorbar": {
             "outlinewidth": 0,
             "ticks": ""
            },
            "colorscale": [
             [
              0,
              "#0d0887"
             ],
             [
              0.1111111111111111,
              "#46039f"
             ],
             [
              0.2222222222222222,
              "#7201a8"
             ],
             [
              0.3333333333333333,
              "#9c179e"
             ],
             [
              0.4444444444444444,
              "#bd3786"
             ],
             [
              0.5555555555555556,
              "#d8576b"
             ],
             [
              0.6666666666666666,
              "#ed7953"
             ],
             [
              0.7777777777777778,
              "#fb9f3a"
             ],
             [
              0.8888888888888888,
              "#fdca26"
             ],
             [
              1,
              "#f0f921"
             ]
            ],
            "type": "histogram2dcontour"
           }
          ],
          "mesh3d": [
           {
            "colorbar": {
             "outlinewidth": 0,
             "ticks": ""
            },
            "type": "mesh3d"
           }
          ],
          "parcoords": [
           {
            "line": {
             "colorbar": {
              "outlinewidth": 0,
              "ticks": ""
             }
            },
            "type": "parcoords"
           }
          ],
          "pie": [
           {
            "automargin": true,
            "type": "pie"
           }
          ],
          "scatter": [
           {
            "marker": {
             "colorbar": {
              "outlinewidth": 0,
              "ticks": ""
             }
            },
            "type": "scatter"
           }
          ],
          "scatter3d": [
           {
            "line": {
             "colorbar": {
              "outlinewidth": 0,
              "ticks": ""
             }
            },
            "marker": {
             "colorbar": {
              "outlinewidth": 0,
              "ticks": ""
             }
            },
            "type": "scatter3d"
           }
          ],
          "scattercarpet": [
           {
            "marker": {
             "colorbar": {
              "outlinewidth": 0,
              "ticks": ""
             }
            },
            "type": "scattercarpet"
           }
          ],
          "scattergeo": [
           {
            "marker": {
             "colorbar": {
              "outlinewidth": 0,
              "ticks": ""
             }
            },
            "type": "scattergeo"
           }
          ],
          "scattergl": [
           {
            "marker": {
             "colorbar": {
              "outlinewidth": 0,
              "ticks": ""
             }
            },
            "type": "scattergl"
           }
          ],
          "scattermapbox": [
           {
            "marker": {
             "colorbar": {
              "outlinewidth": 0,
              "ticks": ""
             }
            },
            "type": "scattermapbox"
           }
          ],
          "scatterpolar": [
           {
            "marker": {
             "colorbar": {
              "outlinewidth": 0,
              "ticks": ""
             }
            },
            "type": "scatterpolar"
           }
          ],
          "scatterpolargl": [
           {
            "marker": {
             "colorbar": {
              "outlinewidth": 0,
              "ticks": ""
             }
            },
            "type": "scatterpolargl"
           }
          ],
          "scatterternary": [
           {
            "marker": {
             "colorbar": {
              "outlinewidth": 0,
              "ticks": ""
             }
            },
            "type": "scatterternary"
           }
          ],
          "surface": [
           {
            "colorbar": {
             "outlinewidth": 0,
             "ticks": ""
            },
            "colorscale": [
             [
              0,
              "#0d0887"
             ],
             [
              0.1111111111111111,
              "#46039f"
             ],
             [
              0.2222222222222222,
              "#7201a8"
             ],
             [
              0.3333333333333333,
              "#9c179e"
             ],
             [
              0.4444444444444444,
              "#bd3786"
             ],
             [
              0.5555555555555556,
              "#d8576b"
             ],
             [
              0.6666666666666666,
              "#ed7953"
             ],
             [
              0.7777777777777778,
              "#fb9f3a"
             ],
             [
              0.8888888888888888,
              "#fdca26"
             ],
             [
              1,
              "#f0f921"
             ]
            ],
            "type": "surface"
           }
          ],
          "table": [
           {
            "cells": {
             "fill": {
              "color": "#EBF0F8"
             },
             "line": {
              "color": "white"
             }
            },
            "header": {
             "fill": {
              "color": "#C8D4E3"
             },
             "line": {
              "color": "white"
             }
            },
            "type": "table"
           }
          ]
         },
         "layout": {
          "annotationdefaults": {
           "arrowcolor": "#2a3f5f",
           "arrowhead": 0,
           "arrowwidth": 1
          },
          "coloraxis": {
           "colorbar": {
            "outlinewidth": 0,
            "ticks": ""
           }
          },
          "colorscale": {
           "diverging": [
            [
             0,
             "#8e0152"
            ],
            [
             0.1,
             "#c51b7d"
            ],
            [
             0.2,
             "#de77ae"
            ],
            [
             0.3,
             "#f1b6da"
            ],
            [
             0.4,
             "#fde0ef"
            ],
            [
             0.5,
             "#f7f7f7"
            ],
            [
             0.6,
             "#e6f5d0"
            ],
            [
             0.7,
             "#b8e186"
            ],
            [
             0.8,
             "#7fbc41"
            ],
            [
             0.9,
             "#4d9221"
            ],
            [
             1,
             "#276419"
            ]
           ],
           "sequential": [
            [
             0,
             "#0d0887"
            ],
            [
             0.1111111111111111,
             "#46039f"
            ],
            [
             0.2222222222222222,
             "#7201a8"
            ],
            [
             0.3333333333333333,
             "#9c179e"
            ],
            [
             0.4444444444444444,
             "#bd3786"
            ],
            [
             0.5555555555555556,
             "#d8576b"
            ],
            [
             0.6666666666666666,
             "#ed7953"
            ],
            [
             0.7777777777777778,
             "#fb9f3a"
            ],
            [
             0.8888888888888888,
             "#fdca26"
            ],
            [
             1,
             "#f0f921"
            ]
           ],
           "sequentialminus": [
            [
             0,
             "#0d0887"
            ],
            [
             0.1111111111111111,
             "#46039f"
            ],
            [
             0.2222222222222222,
             "#7201a8"
            ],
            [
             0.3333333333333333,
             "#9c179e"
            ],
            [
             0.4444444444444444,
             "#bd3786"
            ],
            [
             0.5555555555555556,
             "#d8576b"
            ],
            [
             0.6666666666666666,
             "#ed7953"
            ],
            [
             0.7777777777777778,
             "#fb9f3a"
            ],
            [
             0.8888888888888888,
             "#fdca26"
            ],
            [
             1,
             "#f0f921"
            ]
           ]
          },
          "colorway": [
           "#636efa",
           "#EF553B",
           "#00cc96",
           "#ab63fa",
           "#FFA15A",
           "#19d3f3",
           "#FF6692",
           "#B6E880",
           "#FF97FF",
           "#FECB52"
          ],
          "font": {
           "color": "#2a3f5f"
          },
          "geo": {
           "bgcolor": "white",
           "lakecolor": "white",
           "landcolor": "white",
           "showlakes": true,
           "showland": true,
           "subunitcolor": "#C8D4E3"
          },
          "hoverlabel": {
           "align": "left"
          },
          "hovermode": "closest",
          "mapbox": {
           "style": "light"
          },
          "paper_bgcolor": "white",
          "plot_bgcolor": "white",
          "polar": {
           "angularaxis": {
            "gridcolor": "#EBF0F8",
            "linecolor": "#EBF0F8",
            "ticks": ""
           },
           "bgcolor": "white",
           "radialaxis": {
            "gridcolor": "#EBF0F8",
            "linecolor": "#EBF0F8",
            "ticks": ""
           }
          },
          "scene": {
           "xaxis": {
            "backgroundcolor": "white",
            "gridcolor": "#DFE8F3",
            "gridwidth": 2,
            "linecolor": "#EBF0F8",
            "showbackground": true,
            "ticks": "",
            "zerolinecolor": "#EBF0F8"
           },
           "yaxis": {
            "backgroundcolor": "white",
            "gridcolor": "#DFE8F3",
            "gridwidth": 2,
            "linecolor": "#EBF0F8",
            "showbackground": true,
            "ticks": "",
            "zerolinecolor": "#EBF0F8"
           },
           "zaxis": {
            "backgroundcolor": "white",
            "gridcolor": "#DFE8F3",
            "gridwidth": 2,
            "linecolor": "#EBF0F8",
            "showbackground": true,
            "ticks": "",
            "zerolinecolor": "#EBF0F8"
           }
          },
          "shapedefaults": {
           "line": {
            "color": "#2a3f5f"
           }
          },
          "ternary": {
           "aaxis": {
            "gridcolor": "#DFE8F3",
            "linecolor": "#A2B1C6",
            "ticks": ""
           },
           "baxis": {
            "gridcolor": "#DFE8F3",
            "linecolor": "#A2B1C6",
            "ticks": ""
           },
           "bgcolor": "white",
           "caxis": {
            "gridcolor": "#DFE8F3",
            "linecolor": "#A2B1C6",
            "ticks": ""
           }
          },
          "title": {
           "x": 0.05
          },
          "xaxis": {
           "automargin": true,
           "gridcolor": "#EBF0F8",
           "linecolor": "#EBF0F8",
           "ticks": "",
           "title": {
            "standoff": 15
           },
           "zerolinecolor": "#EBF0F8",
           "zerolinewidth": 2
          },
          "yaxis": {
           "automargin": true,
           "gridcolor": "#EBF0F8",
           "linecolor": "#EBF0F8",
           "ticks": "",
           "title": {
            "standoff": 15
           },
           "zerolinecolor": "#EBF0F8",
           "zerolinewidth": 2
          }
         }
        },
        "title": {
         "text": "Price Elasticity of Purchase Probability with and without Promotion"
        },
        "width": 800,
        "xaxis": {
         "title": {
          "text": "Price Point"
         }
        },
        "yaxis": {
         "dtick": 1,
         "title": {
          "text": "Price Elasticity"
         }
        }
       }
      }
     },
     "metadata": {}
    }
   ],
   "source": [
    "fig = go.Figure()\n",
    "fig.add_trace(go.Scatter(x=df_price_elasticities.price_point, y=df_price_elasticities.Elasticity_with_Promotion,\n",
    "                    mode='lines',\n",
    "                    name='With Promotion PE'))\n",
    "fig.add_trace(go.Scatter(x=df_price_elasticities.price_point, y=df_price_elasticities.Elasticity_without_Promotion,\n",
    "                    mode='lines',\n",
    "                    name='Without Promotion PE'))\n",
    "\n",
    "fig.update_yaxes(dtick=1)\n",
    "fig.update_layout(height=600, width=800, \n",
    "                  title='Price Elasticity of Purchase Probability with and without Promotion',\n",
    "                  template='plotly_white')\n",
    "fig.update_xaxes(title='Price Point')\n",
    "fig.update_yaxes(title='Price Elasticity')\n",
    "fig.show()\n",
    ""
   ]
  },
  {
   "cell_type": "markdown",
   "metadata": {},
   "source": [
    "#### Interpretation"
   ]
  },
  {
   "cell_type": "markdown",
   "metadata": {},
   "source": [
    "These two lines represent the elasticity of purchase probability given maximum and given minimum promotional activity.\n",
    "\n",
    "This graph here tells us that the elasticity curve with promotion sits above its respective no promotion counterpart for the entire price range.\n",
    "\n",
    "Inelasticity for no promotion ends at \\$1.27 while for promotion at \\$1.46.\n",
    "\n",
    "That's a difference of almost 20 cents.\n",
    "\n",
    "So if a product has a regular price of one point thirty dollars the purchase probability is elastic. However if a product cost one point fifty dollars on the regular and its price is reduced to the aforementioned one point thirty dollars during a promotion then our analysis says that purchase probability is still inelastic at this point.\n",
    "\n",
    "This may sound trivial but it is not. People are more willing to buy products at promotional prices be it because of the large discount signs in some stores or just because psychologically people feel they're getting a bargain. In any case **customers are less price sensitive to similar price changes when there are promotion activities**.  \n",
    "\n",
    "In other words it pays off to offer discounts.\n",
    "\n",
    "According to this model if we could incorporate it, it would be more beneficial to have a higher original price and constant promotion rather than a lower original price."
   ]
  },
  {
   "cell_type": "markdown",
   "metadata": {},
   "source": [
    "# Modeling Brand Choice"
   ]
  },
  {
   "cell_type": "code",
   "execution_count": 48,
   "metadata": {},
   "outputs": [
    {
     "output_type": "execute_result",
     "data": {
      "text/plain": "              id  day  incidence  brand  quantity  last_inc_brand  \\\n0      200000001    1          0      0         0               0   \n1      200000001   11          0      0         0               0   \n2      200000001   12          0      0         0               0   \n3      200000001   16          0      0         0               0   \n4      200000001   18          0      0         0               0   \n...          ...  ...        ...    ...       ...             ...   \n58688  200000500  703          0      0         0               2   \n58689  200000500  710          0      0         0               0   \n58690  200000500  717          0      0         0               0   \n58691  200000500  722          1      2         3               0   \n58692  200000500  726          0      0         0               2   \n\n       last_inc_quantity  price_1  price_2  price_3  ...  promotion_4  \\\n0                      0     1.59     1.87     2.01  ...            0   \n1                      0     1.51     1.89     1.99  ...            0   \n2                      0     1.51     1.89     1.99  ...            0   \n3                      0     1.52     1.89     1.98  ...            0   \n4                      0     1.52     1.89     1.99  ...            0   \n...                  ...      ...      ...      ...  ...          ...   \n58688                  1     1.41     1.85     2.01  ...            0   \n58689                  0     1.36     1.84     2.09  ...            0   \n58690                  0     1.50     1.80     2.14  ...            0   \n58691                  0     1.51     1.82     2.09  ...            0   \n58692                  1     1.51     1.82     2.09  ...            0   \n\n       promotion_5  sex  marital_status  age  education  income  occupation  \\\n0                0    0               0   47          1  110866           1   \n1                0    0               0   47          1  110866           1   \n2                0    0               0   47          1  110866           1   \n3                0    0               0   47          1  110866           1   \n4                0    0               0   47          1  110866           1   \n...            ...  ...             ...  ...        ...     ...         ...   \n58688            0    0               0   42          1  120946           1   \n58689            0    0               0   42          1  120946           1   \n58690            0    0               0   42          1  120946           1   \n58691            0    0               0   42          1  120946           1   \n58692            0    0               0   42          1  120946           1   \n\n       settlement_size              segment  \n0                    0  Fewer-Opportunities  \n1                    0  Fewer-Opportunities  \n2                    0  Fewer-Opportunities  \n3                    0  Fewer-Opportunities  \n4                    0  Fewer-Opportunities  \n...                ...                  ...  \n58688                0  Fewer-Opportunities  \n58689                0  Fewer-Opportunities  \n58690                0  Fewer-Opportunities  \n58691                0  Fewer-Opportunities  \n58692                0  Fewer-Opportunities  \n\n[58693 rows x 25 columns]",
      "text/html": "<div>\n<style scoped>\n    .dataframe tbody tr th:only-of-type {\n        vertical-align: middle;\n    }\n\n    .dataframe tbody tr th {\n        vertical-align: top;\n    }\n\n    .dataframe thead th {\n        text-align: right;\n    }\n</style>\n<table border=\"1\" class=\"dataframe\">\n  <thead>\n    <tr style=\"text-align: right;\">\n      <th></th>\n      <th>id</th>\n      <th>day</th>\n      <th>incidence</th>\n      <th>brand</th>\n      <th>quantity</th>\n      <th>last_inc_brand</th>\n      <th>last_inc_quantity</th>\n      <th>price_1</th>\n      <th>price_2</th>\n      <th>price_3</th>\n      <th>...</th>\n      <th>promotion_4</th>\n      <th>promotion_5</th>\n      <th>sex</th>\n      <th>marital_status</th>\n      <th>age</th>\n      <th>education</th>\n      <th>income</th>\n      <th>occupation</th>\n      <th>settlement_size</th>\n      <th>segment</th>\n    </tr>\n  </thead>\n  <tbody>\n    <tr>\n      <th>0</th>\n      <td>200000001</td>\n      <td>1</td>\n      <td>0</td>\n      <td>0</td>\n      <td>0</td>\n      <td>0</td>\n      <td>0</td>\n      <td>1.59</td>\n      <td>1.87</td>\n      <td>2.01</td>\n      <td>...</td>\n      <td>0</td>\n      <td>0</td>\n      <td>0</td>\n      <td>0</td>\n      <td>47</td>\n      <td>1</td>\n      <td>110866</td>\n      <td>1</td>\n      <td>0</td>\n      <td>Fewer-Opportunities</td>\n    </tr>\n    <tr>\n      <th>1</th>\n      <td>200000001</td>\n      <td>11</td>\n      <td>0</td>\n      <td>0</td>\n      <td>0</td>\n      <td>0</td>\n      <td>0</td>\n      <td>1.51</td>\n      <td>1.89</td>\n      <td>1.99</td>\n      <td>...</td>\n      <td>0</td>\n      <td>0</td>\n      <td>0</td>\n      <td>0</td>\n      <td>47</td>\n      <td>1</td>\n      <td>110866</td>\n      <td>1</td>\n      <td>0</td>\n      <td>Fewer-Opportunities</td>\n    </tr>\n    <tr>\n      <th>2</th>\n      <td>200000001</td>\n      <td>12</td>\n      <td>0</td>\n      <td>0</td>\n      <td>0</td>\n      <td>0</td>\n      <td>0</td>\n      <td>1.51</td>\n      <td>1.89</td>\n      <td>1.99</td>\n      <td>...</td>\n      <td>0</td>\n      <td>0</td>\n      <td>0</td>\n      <td>0</td>\n      <td>47</td>\n      <td>1</td>\n      <td>110866</td>\n      <td>1</td>\n      <td>0</td>\n      <td>Fewer-Opportunities</td>\n    </tr>\n    <tr>\n      <th>3</th>\n      <td>200000001</td>\n      <td>16</td>\n      <td>0</td>\n      <td>0</td>\n      <td>0</td>\n      <td>0</td>\n      <td>0</td>\n      <td>1.52</td>\n      <td>1.89</td>\n      <td>1.98</td>\n      <td>...</td>\n      <td>0</td>\n      <td>0</td>\n      <td>0</td>\n      <td>0</td>\n      <td>47</td>\n      <td>1</td>\n      <td>110866</td>\n      <td>1</td>\n      <td>0</td>\n      <td>Fewer-Opportunities</td>\n    </tr>\n    <tr>\n      <th>4</th>\n      <td>200000001</td>\n      <td>18</td>\n      <td>0</td>\n      <td>0</td>\n      <td>0</td>\n      <td>0</td>\n      <td>0</td>\n      <td>1.52</td>\n      <td>1.89</td>\n      <td>1.99</td>\n      <td>...</td>\n      <td>0</td>\n      <td>0</td>\n      <td>0</td>\n      <td>0</td>\n      <td>47</td>\n      <td>1</td>\n      <td>110866</td>\n      <td>1</td>\n      <td>0</td>\n      <td>Fewer-Opportunities</td>\n    </tr>\n    <tr>\n      <th>...</th>\n      <td>...</td>\n      <td>...</td>\n      <td>...</td>\n      <td>...</td>\n      <td>...</td>\n      <td>...</td>\n      <td>...</td>\n      <td>...</td>\n      <td>...</td>\n      <td>...</td>\n      <td>...</td>\n      <td>...</td>\n      <td>...</td>\n      <td>...</td>\n      <td>...</td>\n      <td>...</td>\n      <td>...</td>\n      <td>...</td>\n      <td>...</td>\n      <td>...</td>\n      <td>...</td>\n    </tr>\n    <tr>\n      <th>58688</th>\n      <td>200000500</td>\n      <td>703</td>\n      <td>0</td>\n      <td>0</td>\n      <td>0</td>\n      <td>2</td>\n      <td>1</td>\n      <td>1.41</td>\n      <td>1.85</td>\n      <td>2.01</td>\n      <td>...</td>\n      <td>0</td>\n      <td>0</td>\n      <td>0</td>\n      <td>0</td>\n      <td>42</td>\n      <td>1</td>\n      <td>120946</td>\n      <td>1</td>\n      <td>0</td>\n      <td>Fewer-Opportunities</td>\n    </tr>\n    <tr>\n      <th>58689</th>\n      <td>200000500</td>\n      <td>710</td>\n      <td>0</td>\n      <td>0</td>\n      <td>0</td>\n      <td>0</td>\n      <td>0</td>\n      <td>1.36</td>\n      <td>1.84</td>\n      <td>2.09</td>\n      <td>...</td>\n      <td>0</td>\n      <td>0</td>\n      <td>0</td>\n      <td>0</td>\n      <td>42</td>\n      <td>1</td>\n      <td>120946</td>\n      <td>1</td>\n      <td>0</td>\n      <td>Fewer-Opportunities</td>\n    </tr>\n    <tr>\n      <th>58690</th>\n      <td>200000500</td>\n      <td>717</td>\n      <td>0</td>\n      <td>0</td>\n      <td>0</td>\n      <td>0</td>\n      <td>0</td>\n      <td>1.50</td>\n      <td>1.80</td>\n      <td>2.14</td>\n      <td>...</td>\n      <td>0</td>\n      <td>0</td>\n      <td>0</td>\n      <td>0</td>\n      <td>42</td>\n      <td>1</td>\n      <td>120946</td>\n      <td>1</td>\n      <td>0</td>\n      <td>Fewer-Opportunities</td>\n    </tr>\n    <tr>\n      <th>58691</th>\n      <td>200000500</td>\n      <td>722</td>\n      <td>1</td>\n      <td>2</td>\n      <td>3</td>\n      <td>0</td>\n      <td>0</td>\n      <td>1.51</td>\n      <td>1.82</td>\n      <td>2.09</td>\n      <td>...</td>\n      <td>0</td>\n      <td>0</td>\n      <td>0</td>\n      <td>0</td>\n      <td>42</td>\n      <td>1</td>\n      <td>120946</td>\n      <td>1</td>\n      <td>0</td>\n      <td>Fewer-Opportunities</td>\n    </tr>\n    <tr>\n      <th>58692</th>\n      <td>200000500</td>\n      <td>726</td>\n      <td>0</td>\n      <td>0</td>\n      <td>0</td>\n      <td>2</td>\n      <td>1</td>\n      <td>1.51</td>\n      <td>1.82</td>\n      <td>2.09</td>\n      <td>...</td>\n      <td>0</td>\n      <td>0</td>\n      <td>0</td>\n      <td>0</td>\n      <td>42</td>\n      <td>1</td>\n      <td>120946</td>\n      <td>1</td>\n      <td>0</td>\n      <td>Fewer-Opportunities</td>\n    </tr>\n  </tbody>\n</table>\n<p>58693 rows × 25 columns</p>\n</div>"
     },
     "metadata": {},
     "execution_count": 48
    }
   ],
   "source": [
    "df_purchase"
   ]
  },
  {
   "cell_type": "code",
   "execution_count": null,
   "metadata": {},
   "outputs": [],
   "source": []
  }
 ],
 "metadata": {
  "file_extension": ".py",
  "kernelspec": {
   "display_name": "Python 3",
   "language": "python",
   "name": "python3"
  },
  "language_info": {
   "codemirror_mode": {
    "name": "ipython",
    "version": 3
   },
   "file_extension": ".py",
   "mimetype": "text/x-python",
   "name": "python",
   "nbconvert_exporter": "python",
   "pygments_lexer": "ipython3",
   "version": "3.7.7-final"
  },
  "mimetype": "text/x-python",
  "name": "python",
  "npconvert_exporter": "python",
  "pygments_lexer": "ipython3",
  "varInspector": {
   "cols": {
    "lenName": 16,
    "lenType": 16,
    "lenVar": 40
   },
   "kernels_config": {
    "python": {
     "delete_cmd_postfix": "",
     "delete_cmd_prefix": "del ",
     "library": "var_list.py",
     "varRefreshCmd": "print(var_dic_list())"
    },
    "r": {
     "delete_cmd_postfix": ") ",
     "delete_cmd_prefix": "rm(",
     "library": "var_list.r",
     "varRefreshCmd": "cat(var_dic_list()) "
    }
   },
   "types_to_exclude": [
    "module",
    "function",
    "builtin_function_or_method",
    "instance",
    "_Feature"
   ],
   "window_display": false
  },
  "version": 3
 },
 "nbformat": 4,
 "nbformat_minor": 2
}