{
 "nbformat": 4,
 "nbformat_minor": 2,
 "metadata": {
  "language_info": {
   "name": "python",
   "codemirror_mode": {
    "name": "ipython",
    "version": 3
   },
   "version": "3.7.4-final"
  },
  "orig_nbformat": 2,
  "file_extension": ".py",
  "mimetype": "text/x-python",
  "name": "python",
  "npconvert_exporter": "python",
  "pygments_lexer": "ipython3",
  "version": 3,
  "kernelspec": {
   "name": "python3",
   "display_name": "Python 3"
  }
 },
 "cells": [
  {
   "cell_type": "markdown",
   "metadata": {},
   "source": [
    "# Predictive Analytics"
   ]
  },
  {
   "cell_type": "markdown",
   "metadata": {},
   "source": [
    "Predicting the probability of each customer purchasing a product per each visit"
   ]
  },
  {
   "cell_type": "code",
   "execution_count": 3,
   "metadata": {},
   "outputs": [],
   "source": [
    "# ['segment'].map({3:0,0:2, 2:1, 1:3})"
   ]
  },
  {
   "cell_type": "code",
   "execution_count": 5,
   "metadata": {},
   "outputs": [],
   "source": [
    "# map({0:'Well-off',  2:'Sandard', 1:'Fewer-Opportunities', 3:'Career-Focused'}"
   ]
  },
  {
   "cell_type": "code",
   "execution_count": null,
   "metadata": {},
   "outputs": [],
   "source": [
    "# code description for most of these are available are available in the descriptive analytics notebook\n",
    "\n",
    "import pickle\n",
    "ss = pickle.load(open('scaler.pkl', 'rb'))\n",
    "pca = pickle.load(open('pca.pkl', 'rb'))\n",
    "kmeans_pca = pickle.load(open('kmeans_pca.pkl', 'rb'))\n",
    "\n",
    "df_purchase = pd.read_csv(os.path.join('data', 'purchase data.csv'))\n",
    "df_purchase.columns = df_purchase.columns.str.replace(' ', '_')\n",
    "df_purchase.columns = map(str.lower, df_purchase.columns)\n",
    "features = df_purchase[['sex', 'marital_status', 'age', 'education', 'income',\n",
    "       'occupation', 'settlement_size']]\n",
    "dfpss = ss.transform(features)\n",
    "dfpss_pca = pca.transform(dfpss)\n",
    "purchase_segm_kmeans_pca = kmeans_pca.predict(dfpss_pca)\n",
    "df_purchase['segment'] = purchase_segm_kmeans_pca\n",
    "#remapping the cluster labels for better interpretation like in the first customer analytics section\n",
    "df_purchase['segment'] = df_purchase['segment'].map({3:0,0:2, 2:1, 1:3})\n"
   ]
  },
  {
   "cell_type": "code",
   "execution_count": null,
   "metadata": {},
   "outputs": [],
   "source": []
  }
 ]
}