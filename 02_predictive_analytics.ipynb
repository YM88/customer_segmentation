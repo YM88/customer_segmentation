{
 "cells": [
  {
   "cell_type": "markdown",
   "metadata": {},
   "source": [
    "# Predictive Analytics"
   ]
  },
  {
   "cell_type": "markdown",
   "metadata": {},
   "source": [
    "Predicting the probability of each customer purchasing a product per each visit"
   ]
  },
  {
   "cell_type": "code",
   "execution_count": 1,
   "metadata": {
    "ExecuteTime": {
     "end_time": "2020-03-30T16:41:39.448188Z",
     "start_time": "2020-03-30T16:41:37.168254Z"
    }
   },
   "outputs": [],
   "source": [
    "import pandas as pd\n",
    "import numpy as np\n",
    "import os\n",
    "%matplotlib inline\n",
    "import matplotlib.pyplot as plt\n",
    "import plotly.graph_objects as go\n",
    "import plotly.express as px\n",
    "px.defaults.template = 'plotly_white'\n",
    "import pickle\n",
    "from sklearn.linear_model import LogisticRegression"
   ]
  },
  {
   "cell_type": "code",
   "execution_count": 2,
   "metadata": {
    "ExecuteTime": {
     "end_time": "2020-03-30T16:41:39.700483Z",
     "start_time": "2020-03-30T16:41:39.450154Z"
    }
   },
   "outputs": [],
   "source": [
    "# code description for most of these are available are available in the descriptive analytics notebook\n",
    "\n",
    "\n",
    "ss = pickle.load(open('scaler.pkl', 'rb'))\n",
    "pca = pickle.load(open('pca.pkl', 'rb'))\n",
    "kmeans_pca = pickle.load(open('kmeans_pca.pkl', 'rb'))\n",
    "\n",
    "df_purchase = pd.read_csv(os.path.join('data', 'purchase data.csv'))\n",
    "df_purchase.columns = df_purchase.columns.str.replace(' ', '_')\n",
    "df_purchase.columns = map(str.lower, df_purchase.columns)\n",
    "features = df_purchase[['sex', 'marital_status', 'age', 'education', 'income',\n",
    "       'occupation', 'settlement_size']]\n",
    "dfpss = ss.transform(features)\n",
    "dfpss_pca = pca.transform(dfpss)\n",
    "purchase_segm_kmeans_pca = kmeans_pca.predict(dfpss_pca)\n",
    "df_purchase['segment'] = purchase_segm_kmeans_pca\n",
    "#remapping the cluster labels for better interpretation like in the first customer analytics section\n",
    "df_purchase['segment'] = df_purchase['segment'].map({3:0,0:2, 2:1, 1:3}).map({0:'Well-off',  2:'Standard', 1:'Fewer-Opportunities', 3:'Career-Focused'})\n",
    ""
   ]
  },
  {
   "cell_type": "code",
   "execution_count": 3,
   "metadata": {
    "ExecuteTime": {
     "end_time": "2020-03-30T16:41:39.722426Z",
     "start_time": "2020-03-30T16:41:39.702478Z"
    }
   },
   "outputs": [],
   "source": [
    "segment_dummies = pd.get_dummies(df_purchase['segment'], prefix='segment')\n",
    "df_purchase_predictors = pd.concat([df_purchase, segment_dummies], axis=1)"
   ]
  },
  {
   "cell_type": "code",
   "execution_count": 4,
   "metadata": {
    "ExecuteTime": {
     "end_time": "2020-03-30T16:41:39.780270Z",
     "start_time": "2020-03-30T16:41:39.724420Z"
    }
   },
   "outputs": [
    {
     "output_type": "execute_result",
     "data": {
      "text/plain": "              id  day  incidence  brand  quantity  last_inc_brand  \\\n0      200000001    1          0      0         0               0   \n1      200000001   11          0      0         0               0   \n2      200000001   12          0      0         0               0   \n3      200000001   16          0      0         0               0   \n4      200000001   18          0      0         0               0   \n...          ...  ...        ...    ...       ...             ...   \n58688  200000500  703          0      0         0               2   \n58689  200000500  710          0      0         0               0   \n58690  200000500  717          0      0         0               0   \n58691  200000500  722          1      2         3               0   \n58692  200000500  726          0      0         0               2   \n\n       last_inc_quantity  price_1  price_2  price_3  ...  age  education  \\\n0                      0     1.59     1.87     2.01  ...   47          1   \n1                      0     1.51     1.89     1.99  ...   47          1   \n2                      0     1.51     1.89     1.99  ...   47          1   \n3                      0     1.52     1.89     1.98  ...   47          1   \n4                      0     1.52     1.89     1.99  ...   47          1   \n...                  ...      ...      ...      ...  ...  ...        ...   \n58688                  1     1.41     1.85     2.01  ...   42          1   \n58689                  0     1.36     1.84     2.09  ...   42          1   \n58690                  0     1.50     1.80     2.14  ...   42          1   \n58691                  0     1.51     1.82     2.09  ...   42          1   \n58692                  1     1.51     1.82     2.09  ...   42          1   \n\n       income  occupation  settlement_size              segment  \\\n0      110866           1                0  Fewer-Opportunities   \n1      110866           1                0  Fewer-Opportunities   \n2      110866           1                0  Fewer-Opportunities   \n3      110866           1                0  Fewer-Opportunities   \n4      110866           1                0  Fewer-Opportunities   \n...       ...         ...              ...                  ...   \n58688  120946           1                0  Fewer-Opportunities   \n58689  120946           1                0  Fewer-Opportunities   \n58690  120946           1                0  Fewer-Opportunities   \n58691  120946           1                0  Fewer-Opportunities   \n58692  120946           1                0  Fewer-Opportunities   \n\n       segment_Career-Focused  segment_Fewer-Opportunities  segment_Standard  \\\n0                           0                            1                 0   \n1                           0                            1                 0   \n2                           0                            1                 0   \n3                           0                            1                 0   \n4                           0                            1                 0   \n...                       ...                          ...               ...   \n58688                       0                            1                 0   \n58689                       0                            1                 0   \n58690                       0                            1                 0   \n58691                       0                            1                 0   \n58692                       0                            1                 0   \n\n       segment_Well-off  \n0                     0  \n1                     0  \n2                     0  \n3                     0  \n4                     0  \n...                 ...  \n58688                 0  \n58689                 0  \n58690                 0  \n58691                 0  \n58692                 0  \n\n[58693 rows x 29 columns]",
      "text/html": "<div>\n<style scoped>\n    .dataframe tbody tr th:only-of-type {\n        vertical-align: middle;\n    }\n\n    .dataframe tbody tr th {\n        vertical-align: top;\n    }\n\n    .dataframe thead th {\n        text-align: right;\n    }\n</style>\n<table border=\"1\" class=\"dataframe\">\n  <thead>\n    <tr style=\"text-align: right;\">\n      <th></th>\n      <th>id</th>\n      <th>day</th>\n      <th>incidence</th>\n      <th>brand</th>\n      <th>quantity</th>\n      <th>last_inc_brand</th>\n      <th>last_inc_quantity</th>\n      <th>price_1</th>\n      <th>price_2</th>\n      <th>price_3</th>\n      <th>...</th>\n      <th>age</th>\n      <th>education</th>\n      <th>income</th>\n      <th>occupation</th>\n      <th>settlement_size</th>\n      <th>segment</th>\n      <th>segment_Career-Focused</th>\n      <th>segment_Fewer-Opportunities</th>\n      <th>segment_Standard</th>\n      <th>segment_Well-off</th>\n    </tr>\n  </thead>\n  <tbody>\n    <tr>\n      <th>0</th>\n      <td>200000001</td>\n      <td>1</td>\n      <td>0</td>\n      <td>0</td>\n      <td>0</td>\n      <td>0</td>\n      <td>0</td>\n      <td>1.59</td>\n      <td>1.87</td>\n      <td>2.01</td>\n      <td>...</td>\n      <td>47</td>\n      <td>1</td>\n      <td>110866</td>\n      <td>1</td>\n      <td>0</td>\n      <td>Fewer-Opportunities</td>\n      <td>0</td>\n      <td>1</td>\n      <td>0</td>\n      <td>0</td>\n    </tr>\n    <tr>\n      <th>1</th>\n      <td>200000001</td>\n      <td>11</td>\n      <td>0</td>\n      <td>0</td>\n      <td>0</td>\n      <td>0</td>\n      <td>0</td>\n      <td>1.51</td>\n      <td>1.89</td>\n      <td>1.99</td>\n      <td>...</td>\n      <td>47</td>\n      <td>1</td>\n      <td>110866</td>\n      <td>1</td>\n      <td>0</td>\n      <td>Fewer-Opportunities</td>\n      <td>0</td>\n      <td>1</td>\n      <td>0</td>\n      <td>0</td>\n    </tr>\n    <tr>\n      <th>2</th>\n      <td>200000001</td>\n      <td>12</td>\n      <td>0</td>\n      <td>0</td>\n      <td>0</td>\n      <td>0</td>\n      <td>0</td>\n      <td>1.51</td>\n      <td>1.89</td>\n      <td>1.99</td>\n      <td>...</td>\n      <td>47</td>\n      <td>1</td>\n      <td>110866</td>\n      <td>1</td>\n      <td>0</td>\n      <td>Fewer-Opportunities</td>\n      <td>0</td>\n      <td>1</td>\n      <td>0</td>\n      <td>0</td>\n    </tr>\n    <tr>\n      <th>3</th>\n      <td>200000001</td>\n      <td>16</td>\n      <td>0</td>\n      <td>0</td>\n      <td>0</td>\n      <td>0</td>\n      <td>0</td>\n      <td>1.52</td>\n      <td>1.89</td>\n      <td>1.98</td>\n      <td>...</td>\n      <td>47</td>\n      <td>1</td>\n      <td>110866</td>\n      <td>1</td>\n      <td>0</td>\n      <td>Fewer-Opportunities</td>\n      <td>0</td>\n      <td>1</td>\n      <td>0</td>\n      <td>0</td>\n    </tr>\n    <tr>\n      <th>4</th>\n      <td>200000001</td>\n      <td>18</td>\n      <td>0</td>\n      <td>0</td>\n      <td>0</td>\n      <td>0</td>\n      <td>0</td>\n      <td>1.52</td>\n      <td>1.89</td>\n      <td>1.99</td>\n      <td>...</td>\n      <td>47</td>\n      <td>1</td>\n      <td>110866</td>\n      <td>1</td>\n      <td>0</td>\n      <td>Fewer-Opportunities</td>\n      <td>0</td>\n      <td>1</td>\n      <td>0</td>\n      <td>0</td>\n    </tr>\n    <tr>\n      <th>...</th>\n      <td>...</td>\n      <td>...</td>\n      <td>...</td>\n      <td>...</td>\n      <td>...</td>\n      <td>...</td>\n      <td>...</td>\n      <td>...</td>\n      <td>...</td>\n      <td>...</td>\n      <td>...</td>\n      <td>...</td>\n      <td>...</td>\n      <td>...</td>\n      <td>...</td>\n      <td>...</td>\n      <td>...</td>\n      <td>...</td>\n      <td>...</td>\n      <td>...</td>\n      <td>...</td>\n    </tr>\n    <tr>\n      <th>58688</th>\n      <td>200000500</td>\n      <td>703</td>\n      <td>0</td>\n      <td>0</td>\n      <td>0</td>\n      <td>2</td>\n      <td>1</td>\n      <td>1.41</td>\n      <td>1.85</td>\n      <td>2.01</td>\n      <td>...</td>\n      <td>42</td>\n      <td>1</td>\n      <td>120946</td>\n      <td>1</td>\n      <td>0</td>\n      <td>Fewer-Opportunities</td>\n      <td>0</td>\n      <td>1</td>\n      <td>0</td>\n      <td>0</td>\n    </tr>\n    <tr>\n      <th>58689</th>\n      <td>200000500</td>\n      <td>710</td>\n      <td>0</td>\n      <td>0</td>\n      <td>0</td>\n      <td>0</td>\n      <td>0</td>\n      <td>1.36</td>\n      <td>1.84</td>\n      <td>2.09</td>\n      <td>...</td>\n      <td>42</td>\n      <td>1</td>\n      <td>120946</td>\n      <td>1</td>\n      <td>0</td>\n      <td>Fewer-Opportunities</td>\n      <td>0</td>\n      <td>1</td>\n      <td>0</td>\n      <td>0</td>\n    </tr>\n    <tr>\n      <th>58690</th>\n      <td>200000500</td>\n      <td>717</td>\n      <td>0</td>\n      <td>0</td>\n      <td>0</td>\n      <td>0</td>\n      <td>0</td>\n      <td>1.50</td>\n      <td>1.80</td>\n      <td>2.14</td>\n      <td>...</td>\n      <td>42</td>\n      <td>1</td>\n      <td>120946</td>\n      <td>1</td>\n      <td>0</td>\n      <td>Fewer-Opportunities</td>\n      <td>0</td>\n      <td>1</td>\n      <td>0</td>\n      <td>0</td>\n    </tr>\n    <tr>\n      <th>58691</th>\n      <td>200000500</td>\n      <td>722</td>\n      <td>1</td>\n      <td>2</td>\n      <td>3</td>\n      <td>0</td>\n      <td>0</td>\n      <td>1.51</td>\n      <td>1.82</td>\n      <td>2.09</td>\n      <td>...</td>\n      <td>42</td>\n      <td>1</td>\n      <td>120946</td>\n      <td>1</td>\n      <td>0</td>\n      <td>Fewer-Opportunities</td>\n      <td>0</td>\n      <td>1</td>\n      <td>0</td>\n      <td>0</td>\n    </tr>\n    <tr>\n      <th>58692</th>\n      <td>200000500</td>\n      <td>726</td>\n      <td>0</td>\n      <td>0</td>\n      <td>0</td>\n      <td>2</td>\n      <td>1</td>\n      <td>1.51</td>\n      <td>1.82</td>\n      <td>2.09</td>\n      <td>...</td>\n      <td>42</td>\n      <td>1</td>\n      <td>120946</td>\n      <td>1</td>\n      <td>0</td>\n      <td>Fewer-Opportunities</td>\n      <td>0</td>\n      <td>1</td>\n      <td>0</td>\n      <td>0</td>\n    </tr>\n  </tbody>\n</table>\n<p>58693 rows × 29 columns</p>\n</div>"
     },
     "metadata": {},
     "execution_count": 4
    }
   ],
   "source": [
    "df_purchase_predictors"
   ]
  },
  {
   "cell_type": "code",
   "execution_count": 5,
   "metadata": {
    "ExecuteTime": {
     "end_time": "2020-03-30T16:41:39.786255Z",
     "start_time": "2020-03-30T16:41:39.782264Z"
    }
   },
   "outputs": [],
   "source": [
    "y = df_purchase_predictors['incidence']"
   ]
  },
  {
   "cell_type": "code",
   "execution_count": 6,
   "metadata": {
    "ExecuteTime": {
     "end_time": "2020-03-30T16:41:39.808196Z",
     "start_time": "2020-03-30T16:41:39.788251Z"
    }
   },
   "outputs": [],
   "source": [
    "\n",
    "X = pd.DataFrame()"
   ]
  },
  {
   "cell_type": "code",
   "execution_count": 7,
   "metadata": {
    "ExecuteTime": {
     "end_time": "2020-03-30T16:41:39.873022Z",
     "start_time": "2020-03-30T16:41:39.812185Z"
    }
   },
   "outputs": [],
   "source": [
    "# Reducing the 5 prices to their average\n",
    "X['mean_price'] = df_purchase_predictors[['price_'+ str(i) for i in range(1,6)]].sum(axis=1)/5"
   ]
  },
  {
   "cell_type": "code",
   "execution_count": 8,
   "metadata": {
    "ExecuteTime": {
     "end_time": "2020-03-30T16:41:39.891971Z",
     "start_time": "2020-03-30T16:41:39.878008Z"
    }
   },
   "outputs": [
    {
     "output_type": "execute_result",
     "data": {
      "text/plain": "   mean_price\n0       2.044\n1       2.028\n2       2.028\n3       2.028\n4       2.030",
      "text/html": "<div>\n<style scoped>\n    .dataframe tbody tr th:only-of-type {\n        vertical-align: middle;\n    }\n\n    .dataframe tbody tr th {\n        vertical-align: top;\n    }\n\n    .dataframe thead th {\n        text-align: right;\n    }\n</style>\n<table border=\"1\" class=\"dataframe\">\n  <thead>\n    <tr style=\"text-align: right;\">\n      <th></th>\n      <th>mean_price</th>\n    </tr>\n  </thead>\n  <tbody>\n    <tr>\n      <th>0</th>\n      <td>2.044</td>\n    </tr>\n    <tr>\n      <th>1</th>\n      <td>2.028</td>\n    </tr>\n    <tr>\n      <th>2</th>\n      <td>2.028</td>\n    </tr>\n    <tr>\n      <th>3</th>\n      <td>2.028</td>\n    </tr>\n    <tr>\n      <th>4</th>\n      <td>2.030</td>\n    </tr>\n  </tbody>\n</table>\n</div>"
     },
     "metadata": {},
     "execution_count": 8
    }
   ],
   "source": [
    "X.head()"
   ]
  },
  {
   "cell_type": "code",
   "execution_count": 9,
   "metadata": {
    "ExecuteTime": {
     "end_time": "2020-03-30T16:41:40.159257Z",
     "start_time": "2020-03-30T16:41:39.895961Z"
    }
   },
   "outputs": [
    {
     "output_type": "display_data",
     "data": {
      "text/plain": "<Figure size 432x288 with 1 Axes>",
      "image/svg+xml": "<?xml version=\"1.0\" encoding=\"utf-8\" standalone=\"no\"?>\r\n<!DOCTYPE svg PUBLIC \"-//W3C//DTD SVG 1.1//EN\"\r\n  \"http://www.w3.org/Graphics/SVG/1.1/DTD/svg11.dtd\">\r\n<!-- Created with matplotlib (https://matplotlib.org/) -->\r\n<svg height=\"277.318125pt\" version=\"1.1\" viewBox=\"0 0 388.0125 277.318125\" width=\"388.0125pt\" xmlns=\"http://www.w3.org/2000/svg\" xmlns:xlink=\"http://www.w3.org/1999/xlink\">\r\n <defs>\r\n  <style type=\"text/css\">\r\n*{stroke-linecap:butt;stroke-linejoin:round;}\r\n  </style>\r\n </defs>\r\n <g id=\"figure_1\">\r\n  <g id=\"patch_1\">\r\n   <path d=\"M 0 277.318125 \r\nL 388.0125 277.318125 \r\nL 388.0125 0 \r\nL 0 0 \r\nz\r\n\" style=\"fill:none;\"/>\r\n  </g>\r\n  <g id=\"axes_1\">\r\n   <g id=\"patch_2\">\r\n    <path d=\"M 46.0125 253.44 \r\nL 380.8125 253.44 \r\nL 380.8125 36 \r\nL 46.0125 36 \r\nz\r\n\" style=\"fill:#ffffff;\"/>\r\n   </g>\r\n   <g id=\"patch_3\">\r\n    <path clip-path=\"url(#p5a5711f188)\" d=\"M 61.230682 253.44 \r\nL 91.667045 253.44 \r\nL 91.667045 209.670637 \r\nL 61.230682 209.670637 \r\nz\r\n\" style=\"fill:#1f77b4;\"/>\r\n   </g>\r\n   <g id=\"patch_4\">\r\n    <path clip-path=\"url(#p5a5711f188)\" d=\"M 91.667045 253.44 \r\nL 122.103409 253.44 \r\nL 122.103409 214.091133 \r\nL 91.667045 214.091133 \r\nz\r\n\" style=\"fill:#1f77b4;\"/>\r\n   </g>\r\n   <g id=\"patch_5\">\r\n    <path clip-path=\"url(#p5a5711f188)\" d=\"M 122.103409 253.44 \r\nL 152.539773 253.44 \r\nL 152.539773 186.212969 \r\nL 122.103409 186.212969 \r\nz\r\n\" style=\"fill:#1f77b4;\"/>\r\n   </g>\r\n   <g id=\"patch_6\">\r\n    <path clip-path=\"url(#p5a5711f188)\" d=\"M 152.539773 253.44 \r\nL 182.976136 253.44 \r\nL 182.976136 198.022469 \r\nL 152.539773 198.022469 \r\nz\r\n\" style=\"fill:#1f77b4;\"/>\r\n   </g>\r\n   <g id=\"patch_7\">\r\n    <path clip-path=\"url(#p5a5711f188)\" d=\"M 182.976136 253.44 \r\nL 213.4125 253.44 \r\nL 213.4125 114.452509 \r\nL 182.976136 114.452509 \r\nz\r\n\" style=\"fill:#1f77b4;\"/>\r\n   </g>\r\n   <g id=\"patch_8\">\r\n    <path clip-path=\"url(#p5a5711f188)\" d=\"M 213.4125 253.44 \r\nL 243.848864 253.44 \r\nL 243.848864 97.625585 \r\nL 213.4125 97.625585 \r\nz\r\n\" style=\"fill:#1f77b4;\"/>\r\n   </g>\r\n   <g id=\"patch_9\">\r\n    <path clip-path=\"url(#p5a5711f188)\" d=\"M 243.848864 253.44 \r\nL 274.285227 253.44 \r\nL 274.285227 46.354286 \r\nL 243.848864 46.354286 \r\nz\r\n\" style=\"fill:#1f77b4;\"/>\r\n   </g>\r\n   <g id=\"patch_10\">\r\n    <path clip-path=\"url(#p5a5711f188)\" d=\"M 274.285227 253.44 \r\nL 304.721591 253.44 \r\nL 304.721591 136.538856 \r\nL 274.285227 136.538856 \r\nz\r\n\" style=\"fill:#1f77b4;\"/>\r\n   </g>\r\n   <g id=\"patch_11\">\r\n    <path clip-path=\"url(#p5a5711f188)\" d=\"M 304.721591 253.44 \r\nL 335.157955 253.44 \r\nL 335.157955 178.823965 \r\nL 304.721591 178.823965 \r\nz\r\n\" style=\"fill:#1f77b4;\"/>\r\n   </g>\r\n   <g id=\"patch_12\">\r\n    <path clip-path=\"url(#p5a5711f188)\" d=\"M 335.157955 253.44 \r\nL 365.594318 253.44 \r\nL 365.594318 205.701871 \r\nL 335.157955 205.701871 \r\nz\r\n\" style=\"fill:#1f77b4;\"/>\r\n   </g>\r\n   <g id=\"matplotlib.axis_1\">\r\n    <g id=\"xtick_1\">\r\n     <g id=\"line2d_1\">\r\n      <path clip-path=\"url(#p5a5711f188)\" d=\"M 98.283646 253.44 \r\nL 98.283646 36 \r\n\" style=\"fill:none;stroke:#b0b0b0;stroke-linecap:square;stroke-width:0.8;\"/>\r\n     </g>\r\n     <g id=\"line2d_2\">\r\n      <defs>\r\n       <path d=\"M 0 0 \r\nL 0 3.5 \r\n\" id=\"m3b7378c81b\" style=\"stroke:#000000;stroke-width:0.8;\"/>\r\n      </defs>\r\n      <g>\r\n       <use style=\"stroke:#000000;stroke-width:0.8;\" x=\"98.283646\" xlink:href=\"#m3b7378c81b\" y=\"253.44\"/>\r\n      </g>\r\n     </g>\r\n     <g id=\"text_1\">\r\n      <!-- 1.90 -->\r\n      <defs>\r\n       <path d=\"M 12.40625 8.296875 \r\nL 28.515625 8.296875 \r\nL 28.515625 63.921875 \r\nL 10.984375 60.40625 \r\nL 10.984375 69.390625 \r\nL 28.421875 72.90625 \r\nL 38.28125 72.90625 \r\nL 38.28125 8.296875 \r\nL 54.390625 8.296875 \r\nL 54.390625 0 \r\nL 12.40625 0 \r\nz\r\n\" id=\"DejaVuSans-49\"/>\r\n       <path d=\"M 10.6875 12.40625 \r\nL 21 12.40625 \r\nL 21 0 \r\nL 10.6875 0 \r\nz\r\n\" id=\"DejaVuSans-46\"/>\r\n       <path d=\"M 10.984375 1.515625 \r\nL 10.984375 10.5 \r\nQ 14.703125 8.734375 18.5 7.8125 \r\nQ 22.3125 6.890625 25.984375 6.890625 \r\nQ 35.75 6.890625 40.890625 13.453125 \r\nQ 46.046875 20.015625 46.78125 33.40625 \r\nQ 43.953125 29.203125 39.59375 26.953125 \r\nQ 35.25 24.703125 29.984375 24.703125 \r\nQ 19.046875 24.703125 12.671875 31.3125 \r\nQ 6.296875 37.9375 6.296875 49.421875 \r\nQ 6.296875 60.640625 12.9375 67.421875 \r\nQ 19.578125 74.21875 30.609375 74.21875 \r\nQ 43.265625 74.21875 49.921875 64.515625 \r\nQ 56.59375 54.828125 56.59375 36.375 \r\nQ 56.59375 19.140625 48.40625 8.859375 \r\nQ 40.234375 -1.421875 26.421875 -1.421875 \r\nQ 22.703125 -1.421875 18.890625 -0.6875 \r\nQ 15.09375 0.046875 10.984375 1.515625 \r\nz\r\nM 30.609375 32.421875 \r\nQ 37.25 32.421875 41.125 36.953125 \r\nQ 45.015625 41.5 45.015625 49.421875 \r\nQ 45.015625 57.28125 41.125 61.84375 \r\nQ 37.25 66.40625 30.609375 66.40625 \r\nQ 23.96875 66.40625 20.09375 61.84375 \r\nQ 16.21875 57.28125 16.21875 49.421875 \r\nQ 16.21875 41.5 20.09375 36.953125 \r\nQ 23.96875 32.421875 30.609375 32.421875 \r\nz\r\n\" id=\"DejaVuSans-57\"/>\r\n       <path d=\"M 31.78125 66.40625 \r\nQ 24.171875 66.40625 20.328125 58.90625 \r\nQ 16.5 51.421875 16.5 36.375 \r\nQ 16.5 21.390625 20.328125 13.890625 \r\nQ 24.171875 6.390625 31.78125 6.390625 \r\nQ 39.453125 6.390625 43.28125 13.890625 \r\nQ 47.125 21.390625 47.125 36.375 \r\nQ 47.125 51.421875 43.28125 58.90625 \r\nQ 39.453125 66.40625 31.78125 66.40625 \r\nz\r\nM 31.78125 74.21875 \r\nQ 44.046875 74.21875 50.515625 64.515625 \r\nQ 56.984375 54.828125 56.984375 36.375 \r\nQ 56.984375 17.96875 50.515625 8.265625 \r\nQ 44.046875 -1.421875 31.78125 -1.421875 \r\nQ 19.53125 -1.421875 13.0625 8.265625 \r\nQ 6.59375 17.96875 6.59375 36.375 \r\nQ 6.59375 54.828125 13.0625 64.515625 \r\nQ 19.53125 74.21875 31.78125 74.21875 \r\nz\r\n\" id=\"DejaVuSans-48\"/>\r\n      </defs>\r\n      <g transform=\"translate(87.150834 268.038437)scale(0.1 -0.1)\">\r\n       <use xlink:href=\"#DejaVuSans-49\"/>\r\n       <use x=\"63.623047\" xlink:href=\"#DejaVuSans-46\"/>\r\n       <use x=\"95.410156\" xlink:href=\"#DejaVuSans-57\"/>\r\n       <use x=\"159.033203\" xlink:href=\"#DejaVuSans-48\"/>\r\n      </g>\r\n     </g>\r\n    </g>\r\n    <g id=\"xtick_2\">\r\n     <g id=\"line2d_3\">\r\n      <path clip-path=\"url(#p5a5711f188)\" d=\"M 164.449654 253.44 \r\nL 164.449654 36 \r\n\" style=\"fill:none;stroke:#b0b0b0;stroke-linecap:square;stroke-width:0.8;\"/>\r\n     </g>\r\n     <g id=\"line2d_4\">\r\n      <g>\r\n       <use style=\"stroke:#000000;stroke-width:0.8;\" x=\"164.449654\" xlink:href=\"#m3b7378c81b\" y=\"253.44\"/>\r\n      </g>\r\n     </g>\r\n     <g id=\"text_2\">\r\n      <!-- 1.95 -->\r\n      <defs>\r\n       <path d=\"M 10.796875 72.90625 \r\nL 49.515625 72.90625 \r\nL 49.515625 64.59375 \r\nL 19.828125 64.59375 \r\nL 19.828125 46.734375 \r\nQ 21.96875 47.46875 24.109375 47.828125 \r\nQ 26.265625 48.1875 28.421875 48.1875 \r\nQ 40.625 48.1875 47.75 41.5 \r\nQ 54.890625 34.8125 54.890625 23.390625 \r\nQ 54.890625 11.625 47.5625 5.09375 \r\nQ 40.234375 -1.421875 26.90625 -1.421875 \r\nQ 22.3125 -1.421875 17.546875 -0.640625 \r\nQ 12.796875 0.140625 7.71875 1.703125 \r\nL 7.71875 11.625 \r\nQ 12.109375 9.234375 16.796875 8.0625 \r\nQ 21.484375 6.890625 26.703125 6.890625 \r\nQ 35.15625 6.890625 40.078125 11.328125 \r\nQ 45.015625 15.765625 45.015625 23.390625 \r\nQ 45.015625 31 40.078125 35.4375 \r\nQ 35.15625 39.890625 26.703125 39.890625 \r\nQ 22.75 39.890625 18.8125 39.015625 \r\nQ 14.890625 38.140625 10.796875 36.28125 \r\nz\r\n\" id=\"DejaVuSans-53\"/>\r\n      </defs>\r\n      <g transform=\"translate(153.316842 268.038437)scale(0.1 -0.1)\">\r\n       <use xlink:href=\"#DejaVuSans-49\"/>\r\n       <use x=\"63.623047\" xlink:href=\"#DejaVuSans-46\"/>\r\n       <use x=\"95.410156\" xlink:href=\"#DejaVuSans-57\"/>\r\n       <use x=\"159.033203\" xlink:href=\"#DejaVuSans-53\"/>\r\n      </g>\r\n     </g>\r\n    </g>\r\n    <g id=\"xtick_3\">\r\n     <g id=\"line2d_5\">\r\n      <path clip-path=\"url(#p5a5711f188)\" d=\"M 230.615662 253.44 \r\nL 230.615662 36 \r\n\" style=\"fill:none;stroke:#b0b0b0;stroke-linecap:square;stroke-width:0.8;\"/>\r\n     </g>\r\n     <g id=\"line2d_6\">\r\n      <g>\r\n       <use style=\"stroke:#000000;stroke-width:0.8;\" x=\"230.615662\" xlink:href=\"#m3b7378c81b\" y=\"253.44\"/>\r\n      </g>\r\n     </g>\r\n     <g id=\"text_3\">\r\n      <!-- 2.00 -->\r\n      <defs>\r\n       <path d=\"M 19.1875 8.296875 \r\nL 53.609375 8.296875 \r\nL 53.609375 0 \r\nL 7.328125 0 \r\nL 7.328125 8.296875 \r\nQ 12.9375 14.109375 22.625 23.890625 \r\nQ 32.328125 33.6875 34.8125 36.53125 \r\nQ 39.546875 41.84375 41.421875 45.53125 \r\nQ 43.3125 49.21875 43.3125 52.78125 \r\nQ 43.3125 58.59375 39.234375 62.25 \r\nQ 35.15625 65.921875 28.609375 65.921875 \r\nQ 23.96875 65.921875 18.8125 64.3125 \r\nQ 13.671875 62.703125 7.8125 59.421875 \r\nL 7.8125 69.390625 \r\nQ 13.765625 71.78125 18.9375 73 \r\nQ 24.125 74.21875 28.421875 74.21875 \r\nQ 39.75 74.21875 46.484375 68.546875 \r\nQ 53.21875 62.890625 53.21875 53.421875 \r\nQ 53.21875 48.921875 51.53125 44.890625 \r\nQ 49.859375 40.875 45.40625 35.40625 \r\nQ 44.1875 33.984375 37.640625 27.21875 \r\nQ 31.109375 20.453125 19.1875 8.296875 \r\nz\r\n\" id=\"DejaVuSans-50\"/>\r\n      </defs>\r\n      <g transform=\"translate(219.48285 268.038437)scale(0.1 -0.1)\">\r\n       <use xlink:href=\"#DejaVuSans-50\"/>\r\n       <use x=\"63.623047\" xlink:href=\"#DejaVuSans-46\"/>\r\n       <use x=\"95.410156\" xlink:href=\"#DejaVuSans-48\"/>\r\n       <use x=\"159.033203\" xlink:href=\"#DejaVuSans-48\"/>\r\n      </g>\r\n     </g>\r\n    </g>\r\n    <g id=\"xtick_4\">\r\n     <g id=\"line2d_7\">\r\n      <path clip-path=\"url(#p5a5711f188)\" d=\"M 296.78167 253.44 \r\nL 296.78167 36 \r\n\" style=\"fill:none;stroke:#b0b0b0;stroke-linecap:square;stroke-width:0.8;\"/>\r\n     </g>\r\n     <g id=\"line2d_8\">\r\n      <g>\r\n       <use style=\"stroke:#000000;stroke-width:0.8;\" x=\"296.78167\" xlink:href=\"#m3b7378c81b\" y=\"253.44\"/>\r\n      </g>\r\n     </g>\r\n     <g id=\"text_4\">\r\n      <!-- 2.05 -->\r\n      <g transform=\"translate(285.648857 268.038437)scale(0.1 -0.1)\">\r\n       <use xlink:href=\"#DejaVuSans-50\"/>\r\n       <use x=\"63.623047\" xlink:href=\"#DejaVuSans-46\"/>\r\n       <use x=\"95.410156\" xlink:href=\"#DejaVuSans-48\"/>\r\n       <use x=\"159.033203\" xlink:href=\"#DejaVuSans-53\"/>\r\n      </g>\r\n     </g>\r\n    </g>\r\n    <g id=\"xtick_5\">\r\n     <g id=\"line2d_9\">\r\n      <path clip-path=\"url(#p5a5711f188)\" d=\"M 362.947678 253.44 \r\nL 362.947678 36 \r\n\" style=\"fill:none;stroke:#b0b0b0;stroke-linecap:square;stroke-width:0.8;\"/>\r\n     </g>\r\n     <g id=\"line2d_10\">\r\n      <g>\r\n       <use style=\"stroke:#000000;stroke-width:0.8;\" x=\"362.947678\" xlink:href=\"#m3b7378c81b\" y=\"253.44\"/>\r\n      </g>\r\n     </g>\r\n     <g id=\"text_5\">\r\n      <!-- 2.10 -->\r\n      <g transform=\"translate(351.814865 268.038437)scale(0.1 -0.1)\">\r\n       <use xlink:href=\"#DejaVuSans-50\"/>\r\n       <use x=\"63.623047\" xlink:href=\"#DejaVuSans-46\"/>\r\n       <use x=\"95.410156\" xlink:href=\"#DejaVuSans-49\"/>\r\n       <use x=\"159.033203\" xlink:href=\"#DejaVuSans-48\"/>\r\n      </g>\r\n     </g>\r\n    </g>\r\n   </g>\r\n   <g id=\"matplotlib.axis_2\">\r\n    <g id=\"ytick_1\">\r\n     <g id=\"line2d_11\">\r\n      <path clip-path=\"url(#p5a5711f188)\" d=\"M 46.0125 253.44 \r\nL 380.8125 253.44 \r\n\" style=\"fill:none;stroke:#b0b0b0;stroke-linecap:square;stroke-width:0.8;\"/>\r\n     </g>\r\n     <g id=\"line2d_12\">\r\n      <defs>\r\n       <path d=\"M 0 0 \r\nL -3.5 0 \r\n\" id=\"mb3a021dd48\" style=\"stroke:#000000;stroke-width:0.8;\"/>\r\n      </defs>\r\n      <g>\r\n       <use style=\"stroke:#000000;stroke-width:0.8;\" x=\"46.0125\" xlink:href=\"#mb3a021dd48\" y=\"253.44\"/>\r\n      </g>\r\n     </g>\r\n     <g id=\"text_6\">\r\n      <!-- 0 -->\r\n      <g transform=\"translate(32.65 257.239219)scale(0.1 -0.1)\">\r\n       <use xlink:href=\"#DejaVuSans-48\"/>\r\n      </g>\r\n     </g>\r\n    </g>\r\n    <g id=\"ytick_2\">\r\n     <g id=\"line2d_13\">\r\n      <path clip-path=\"url(#p5a5711f188)\" d=\"M 46.0125 221.173606 \r\nL 380.8125 221.173606 \r\n\" style=\"fill:none;stroke:#b0b0b0;stroke-linecap:square;stroke-width:0.8;\"/>\r\n     </g>\r\n     <g id=\"line2d_14\">\r\n      <g>\r\n       <use style=\"stroke:#000000;stroke-width:0.8;\" x=\"46.0125\" xlink:href=\"#mb3a021dd48\" y=\"221.173606\"/>\r\n      </g>\r\n     </g>\r\n     <g id=\"text_7\">\r\n      <!-- 2000 -->\r\n      <g transform=\"translate(13.5625 224.972825)scale(0.1 -0.1)\">\r\n       <use xlink:href=\"#DejaVuSans-50\"/>\r\n       <use x=\"63.623047\" xlink:href=\"#DejaVuSans-48\"/>\r\n       <use x=\"127.246094\" xlink:href=\"#DejaVuSans-48\"/>\r\n       <use x=\"190.869141\" xlink:href=\"#DejaVuSans-48\"/>\r\n      </g>\r\n     </g>\r\n    </g>\r\n    <g id=\"ytick_3\">\r\n     <g id=\"line2d_15\">\r\n      <path clip-path=\"url(#p5a5711f188)\" d=\"M 46.0125 188.907213 \r\nL 380.8125 188.907213 \r\n\" style=\"fill:none;stroke:#b0b0b0;stroke-linecap:square;stroke-width:0.8;\"/>\r\n     </g>\r\n     <g id=\"line2d_16\">\r\n      <g>\r\n       <use style=\"stroke:#000000;stroke-width:0.8;\" x=\"46.0125\" xlink:href=\"#mb3a021dd48\" y=\"188.907213\"/>\r\n      </g>\r\n     </g>\r\n     <g id=\"text_8\">\r\n      <!-- 4000 -->\r\n      <defs>\r\n       <path d=\"M 37.796875 64.3125 \r\nL 12.890625 25.390625 \r\nL 37.796875 25.390625 \r\nz\r\nM 35.203125 72.90625 \r\nL 47.609375 72.90625 \r\nL 47.609375 25.390625 \r\nL 58.015625 25.390625 \r\nL 58.015625 17.1875 \r\nL 47.609375 17.1875 \r\nL 47.609375 0 \r\nL 37.796875 0 \r\nL 37.796875 17.1875 \r\nL 4.890625 17.1875 \r\nL 4.890625 26.703125 \r\nz\r\n\" id=\"DejaVuSans-52\"/>\r\n      </defs>\r\n      <g transform=\"translate(13.5625 192.706431)scale(0.1 -0.1)\">\r\n       <use xlink:href=\"#DejaVuSans-52\"/>\r\n       <use x=\"63.623047\" xlink:href=\"#DejaVuSans-48\"/>\r\n       <use x=\"127.246094\" xlink:href=\"#DejaVuSans-48\"/>\r\n       <use x=\"190.869141\" xlink:href=\"#DejaVuSans-48\"/>\r\n      </g>\r\n     </g>\r\n    </g>\r\n    <g id=\"ytick_4\">\r\n     <g id=\"line2d_17\">\r\n      <path clip-path=\"url(#p5a5711f188)\" d=\"M 46.0125 156.640819 \r\nL 380.8125 156.640819 \r\n\" style=\"fill:none;stroke:#b0b0b0;stroke-linecap:square;stroke-width:0.8;\"/>\r\n     </g>\r\n     <g id=\"line2d_18\">\r\n      <g>\r\n       <use style=\"stroke:#000000;stroke-width:0.8;\" x=\"46.0125\" xlink:href=\"#mb3a021dd48\" y=\"156.640819\"/>\r\n      </g>\r\n     </g>\r\n     <g id=\"text_9\">\r\n      <!-- 6000 -->\r\n      <defs>\r\n       <path d=\"M 33.015625 40.375 \r\nQ 26.375 40.375 22.484375 35.828125 \r\nQ 18.609375 31.296875 18.609375 23.390625 \r\nQ 18.609375 15.53125 22.484375 10.953125 \r\nQ 26.375 6.390625 33.015625 6.390625 \r\nQ 39.65625 6.390625 43.53125 10.953125 \r\nQ 47.40625 15.53125 47.40625 23.390625 \r\nQ 47.40625 31.296875 43.53125 35.828125 \r\nQ 39.65625 40.375 33.015625 40.375 \r\nz\r\nM 52.59375 71.296875 \r\nL 52.59375 62.3125 \r\nQ 48.875 64.0625 45.09375 64.984375 \r\nQ 41.3125 65.921875 37.59375 65.921875 \r\nQ 27.828125 65.921875 22.671875 59.328125 \r\nQ 17.53125 52.734375 16.796875 39.40625 \r\nQ 19.671875 43.65625 24.015625 45.921875 \r\nQ 28.375 48.1875 33.59375 48.1875 \r\nQ 44.578125 48.1875 50.953125 41.515625 \r\nQ 57.328125 34.859375 57.328125 23.390625 \r\nQ 57.328125 12.15625 50.6875 5.359375 \r\nQ 44.046875 -1.421875 33.015625 -1.421875 \r\nQ 20.359375 -1.421875 13.671875 8.265625 \r\nQ 6.984375 17.96875 6.984375 36.375 \r\nQ 6.984375 53.65625 15.1875 63.9375 \r\nQ 23.390625 74.21875 37.203125 74.21875 \r\nQ 40.921875 74.21875 44.703125 73.484375 \r\nQ 48.484375 72.75 52.59375 71.296875 \r\nz\r\n\" id=\"DejaVuSans-54\"/>\r\n      </defs>\r\n      <g transform=\"translate(13.5625 160.440038)scale(0.1 -0.1)\">\r\n       <use xlink:href=\"#DejaVuSans-54\"/>\r\n       <use x=\"63.623047\" xlink:href=\"#DejaVuSans-48\"/>\r\n       <use x=\"127.246094\" xlink:href=\"#DejaVuSans-48\"/>\r\n       <use x=\"190.869141\" xlink:href=\"#DejaVuSans-48\"/>\r\n      </g>\r\n     </g>\r\n    </g>\r\n    <g id=\"ytick_5\">\r\n     <g id=\"line2d_19\">\r\n      <path clip-path=\"url(#p5a5711f188)\" d=\"M 46.0125 124.374425 \r\nL 380.8125 124.374425 \r\n\" style=\"fill:none;stroke:#b0b0b0;stroke-linecap:square;stroke-width:0.8;\"/>\r\n     </g>\r\n     <g id=\"line2d_20\">\r\n      <g>\r\n       <use style=\"stroke:#000000;stroke-width:0.8;\" x=\"46.0125\" xlink:href=\"#mb3a021dd48\" y=\"124.374425\"/>\r\n      </g>\r\n     </g>\r\n     <g id=\"text_10\">\r\n      <!-- 8000 -->\r\n      <defs>\r\n       <path d=\"M 31.78125 34.625 \r\nQ 24.75 34.625 20.71875 30.859375 \r\nQ 16.703125 27.09375 16.703125 20.515625 \r\nQ 16.703125 13.921875 20.71875 10.15625 \r\nQ 24.75 6.390625 31.78125 6.390625 \r\nQ 38.8125 6.390625 42.859375 10.171875 \r\nQ 46.921875 13.96875 46.921875 20.515625 \r\nQ 46.921875 27.09375 42.890625 30.859375 \r\nQ 38.875 34.625 31.78125 34.625 \r\nz\r\nM 21.921875 38.8125 \r\nQ 15.578125 40.375 12.03125 44.71875 \r\nQ 8.5 49.078125 8.5 55.328125 \r\nQ 8.5 64.0625 14.71875 69.140625 \r\nQ 20.953125 74.21875 31.78125 74.21875 \r\nQ 42.671875 74.21875 48.875 69.140625 \r\nQ 55.078125 64.0625 55.078125 55.328125 \r\nQ 55.078125 49.078125 51.53125 44.71875 \r\nQ 48 40.375 41.703125 38.8125 \r\nQ 48.828125 37.15625 52.796875 32.3125 \r\nQ 56.78125 27.484375 56.78125 20.515625 \r\nQ 56.78125 9.90625 50.3125 4.234375 \r\nQ 43.84375 -1.421875 31.78125 -1.421875 \r\nQ 19.734375 -1.421875 13.25 4.234375 \r\nQ 6.78125 9.90625 6.78125 20.515625 \r\nQ 6.78125 27.484375 10.78125 32.3125 \r\nQ 14.796875 37.15625 21.921875 38.8125 \r\nz\r\nM 18.3125 54.390625 \r\nQ 18.3125 48.734375 21.84375 45.5625 \r\nQ 25.390625 42.390625 31.78125 42.390625 \r\nQ 38.140625 42.390625 41.71875 45.5625 \r\nQ 45.3125 48.734375 45.3125 54.390625 \r\nQ 45.3125 60.0625 41.71875 63.234375 \r\nQ 38.140625 66.40625 31.78125 66.40625 \r\nQ 25.390625 66.40625 21.84375 63.234375 \r\nQ 18.3125 60.0625 18.3125 54.390625 \r\nz\r\n\" id=\"DejaVuSans-56\"/>\r\n      </defs>\r\n      <g transform=\"translate(13.5625 128.173644)scale(0.1 -0.1)\">\r\n       <use xlink:href=\"#DejaVuSans-56\"/>\r\n       <use x=\"63.623047\" xlink:href=\"#DejaVuSans-48\"/>\r\n       <use x=\"127.246094\" xlink:href=\"#DejaVuSans-48\"/>\r\n       <use x=\"190.869141\" xlink:href=\"#DejaVuSans-48\"/>\r\n      </g>\r\n     </g>\r\n    </g>\r\n    <g id=\"ytick_6\">\r\n     <g id=\"line2d_21\">\r\n      <path clip-path=\"url(#p5a5711f188)\" d=\"M 46.0125 92.108032 \r\nL 380.8125 92.108032 \r\n\" style=\"fill:none;stroke:#b0b0b0;stroke-linecap:square;stroke-width:0.8;\"/>\r\n     </g>\r\n     <g id=\"line2d_22\">\r\n      <g>\r\n       <use style=\"stroke:#000000;stroke-width:0.8;\" x=\"46.0125\" xlink:href=\"#mb3a021dd48\" y=\"92.108032\"/>\r\n      </g>\r\n     </g>\r\n     <g id=\"text_11\">\r\n      <!-- 10000 -->\r\n      <g transform=\"translate(7.2 95.907251)scale(0.1 -0.1)\">\r\n       <use xlink:href=\"#DejaVuSans-49\"/>\r\n       <use x=\"63.623047\" xlink:href=\"#DejaVuSans-48\"/>\r\n       <use x=\"127.246094\" xlink:href=\"#DejaVuSans-48\"/>\r\n       <use x=\"190.869141\" xlink:href=\"#DejaVuSans-48\"/>\r\n       <use x=\"254.492188\" xlink:href=\"#DejaVuSans-48\"/>\r\n      </g>\r\n     </g>\r\n    </g>\r\n    <g id=\"ytick_7\">\r\n     <g id=\"line2d_23\">\r\n      <path clip-path=\"url(#p5a5711f188)\" d=\"M 46.0125 59.841638 \r\nL 380.8125 59.841638 \r\n\" style=\"fill:none;stroke:#b0b0b0;stroke-linecap:square;stroke-width:0.8;\"/>\r\n     </g>\r\n     <g id=\"line2d_24\">\r\n      <g>\r\n       <use style=\"stroke:#000000;stroke-width:0.8;\" x=\"46.0125\" xlink:href=\"#mb3a021dd48\" y=\"59.841638\"/>\r\n      </g>\r\n     </g>\r\n     <g id=\"text_12\">\r\n      <!-- 12000 -->\r\n      <g transform=\"translate(7.2 63.640857)scale(0.1 -0.1)\">\r\n       <use xlink:href=\"#DejaVuSans-49\"/>\r\n       <use x=\"63.623047\" xlink:href=\"#DejaVuSans-50\"/>\r\n       <use x=\"127.246094\" xlink:href=\"#DejaVuSans-48\"/>\r\n       <use x=\"190.869141\" xlink:href=\"#DejaVuSans-48\"/>\r\n       <use x=\"254.492188\" xlink:href=\"#DejaVuSans-48\"/>\r\n      </g>\r\n     </g>\r\n    </g>\r\n   </g>\r\n   <g id=\"patch_13\">\r\n    <path d=\"M 46.0125 253.44 \r\nL 46.0125 36 \r\n\" style=\"fill:none;stroke:#000000;stroke-linecap:square;stroke-linejoin:miter;stroke-width:0.8;\"/>\r\n   </g>\r\n   <g id=\"patch_14\">\r\n    <path d=\"M 380.8125 253.44 \r\nL 380.8125 36 \r\n\" style=\"fill:none;stroke:#000000;stroke-linecap:square;stroke-linejoin:miter;stroke-width:0.8;\"/>\r\n   </g>\r\n   <g id=\"patch_15\">\r\n    <path d=\"M 46.0125 253.44 \r\nL 380.8125 253.44 \r\n\" style=\"fill:none;stroke:#000000;stroke-linecap:square;stroke-linejoin:miter;stroke-width:0.8;\"/>\r\n   </g>\r\n   <g id=\"patch_16\">\r\n    <path d=\"M 46.0125 36 \r\nL 380.8125 36 \r\n\" style=\"fill:none;stroke:#000000;stroke-linecap:square;stroke-linejoin:miter;stroke-width:0.8;\"/>\r\n   </g>\r\n   <g id=\"text_13\">\r\n    <!-- mean_price -->\r\n    <defs>\r\n     <path d=\"M 52 44.1875 \r\nQ 55.375 50.25 60.0625 53.125 \r\nQ 64.75 56 71.09375 56 \r\nQ 79.640625 56 84.28125 50.015625 \r\nQ 88.921875 44.046875 88.921875 33.015625 \r\nL 88.921875 0 \r\nL 79.890625 0 \r\nL 79.890625 32.71875 \r\nQ 79.890625 40.578125 77.09375 44.375 \r\nQ 74.3125 48.1875 68.609375 48.1875 \r\nQ 61.625 48.1875 57.5625 43.546875 \r\nQ 53.515625 38.921875 53.515625 30.90625 \r\nL 53.515625 0 \r\nL 44.484375 0 \r\nL 44.484375 32.71875 \r\nQ 44.484375 40.625 41.703125 44.40625 \r\nQ 38.921875 48.1875 33.109375 48.1875 \r\nQ 26.21875 48.1875 22.15625 43.53125 \r\nQ 18.109375 38.875 18.109375 30.90625 \r\nL 18.109375 0 \r\nL 9.078125 0 \r\nL 9.078125 54.6875 \r\nL 18.109375 54.6875 \r\nL 18.109375 46.1875 \r\nQ 21.1875 51.21875 25.484375 53.609375 \r\nQ 29.78125 56 35.6875 56 \r\nQ 41.65625 56 45.828125 52.96875 \r\nQ 50 49.953125 52 44.1875 \r\nz\r\n\" id=\"DejaVuSans-109\"/>\r\n     <path d=\"M 56.203125 29.59375 \r\nL 56.203125 25.203125 \r\nL 14.890625 25.203125 \r\nQ 15.484375 15.921875 20.484375 11.0625 \r\nQ 25.484375 6.203125 34.421875 6.203125 \r\nQ 39.59375 6.203125 44.453125 7.46875 \r\nQ 49.3125 8.734375 54.109375 11.28125 \r\nL 54.109375 2.78125 \r\nQ 49.265625 0.734375 44.1875 -0.34375 \r\nQ 39.109375 -1.421875 33.890625 -1.421875 \r\nQ 20.796875 -1.421875 13.15625 6.1875 \r\nQ 5.515625 13.8125 5.515625 26.8125 \r\nQ 5.515625 40.234375 12.765625 48.109375 \r\nQ 20.015625 56 32.328125 56 \r\nQ 43.359375 56 49.78125 48.890625 \r\nQ 56.203125 41.796875 56.203125 29.59375 \r\nz\r\nM 47.21875 32.234375 \r\nQ 47.125 39.59375 43.09375 43.984375 \r\nQ 39.0625 48.390625 32.421875 48.390625 \r\nQ 24.90625 48.390625 20.390625 44.140625 \r\nQ 15.875 39.890625 15.1875 32.171875 \r\nz\r\n\" id=\"DejaVuSans-101\"/>\r\n     <path d=\"M 34.28125 27.484375 \r\nQ 23.390625 27.484375 19.1875 25 \r\nQ 14.984375 22.515625 14.984375 16.5 \r\nQ 14.984375 11.71875 18.140625 8.90625 \r\nQ 21.296875 6.109375 26.703125 6.109375 \r\nQ 34.1875 6.109375 38.703125 11.40625 \r\nQ 43.21875 16.703125 43.21875 25.484375 \r\nL 43.21875 27.484375 \r\nz\r\nM 52.203125 31.203125 \r\nL 52.203125 0 \r\nL 43.21875 0 \r\nL 43.21875 8.296875 \r\nQ 40.140625 3.328125 35.546875 0.953125 \r\nQ 30.953125 -1.421875 24.3125 -1.421875 \r\nQ 15.921875 -1.421875 10.953125 3.296875 \r\nQ 6 8.015625 6 15.921875 \r\nQ 6 25.140625 12.171875 29.828125 \r\nQ 18.359375 34.515625 30.609375 34.515625 \r\nL 43.21875 34.515625 \r\nL 43.21875 35.40625 \r\nQ 43.21875 41.609375 39.140625 45 \r\nQ 35.0625 48.390625 27.6875 48.390625 \r\nQ 23 48.390625 18.546875 47.265625 \r\nQ 14.109375 46.140625 10.015625 43.890625 \r\nL 10.015625 52.203125 \r\nQ 14.9375 54.109375 19.578125 55.046875 \r\nQ 24.21875 56 28.609375 56 \r\nQ 40.484375 56 46.34375 49.84375 \r\nQ 52.203125 43.703125 52.203125 31.203125 \r\nz\r\n\" id=\"DejaVuSans-97\"/>\r\n     <path d=\"M 54.890625 33.015625 \r\nL 54.890625 0 \r\nL 45.90625 0 \r\nL 45.90625 32.71875 \r\nQ 45.90625 40.484375 42.875 44.328125 \r\nQ 39.84375 48.1875 33.796875 48.1875 \r\nQ 26.515625 48.1875 22.3125 43.546875 \r\nQ 18.109375 38.921875 18.109375 30.90625 \r\nL 18.109375 0 \r\nL 9.078125 0 \r\nL 9.078125 54.6875 \r\nL 18.109375 54.6875 \r\nL 18.109375 46.1875 \r\nQ 21.34375 51.125 25.703125 53.5625 \r\nQ 30.078125 56 35.796875 56 \r\nQ 45.21875 56 50.046875 50.171875 \r\nQ 54.890625 44.34375 54.890625 33.015625 \r\nz\r\n\" id=\"DejaVuSans-110\"/>\r\n     <path d=\"M 50.984375 -16.609375 \r\nL 50.984375 -23.578125 \r\nL -0.984375 -23.578125 \r\nL -0.984375 -16.609375 \r\nz\r\n\" id=\"DejaVuSans-95\"/>\r\n     <path d=\"M 18.109375 8.203125 \r\nL 18.109375 -20.796875 \r\nL 9.078125 -20.796875 \r\nL 9.078125 54.6875 \r\nL 18.109375 54.6875 \r\nL 18.109375 46.390625 \r\nQ 20.953125 51.265625 25.265625 53.625 \r\nQ 29.59375 56 35.59375 56 \r\nQ 45.5625 56 51.78125 48.09375 \r\nQ 58.015625 40.1875 58.015625 27.296875 \r\nQ 58.015625 14.40625 51.78125 6.484375 \r\nQ 45.5625 -1.421875 35.59375 -1.421875 \r\nQ 29.59375 -1.421875 25.265625 0.953125 \r\nQ 20.953125 3.328125 18.109375 8.203125 \r\nz\r\nM 48.6875 27.296875 \r\nQ 48.6875 37.203125 44.609375 42.84375 \r\nQ 40.53125 48.484375 33.40625 48.484375 \r\nQ 26.265625 48.484375 22.1875 42.84375 \r\nQ 18.109375 37.203125 18.109375 27.296875 \r\nQ 18.109375 17.390625 22.1875 11.75 \r\nQ 26.265625 6.109375 33.40625 6.109375 \r\nQ 40.53125 6.109375 44.609375 11.75 \r\nQ 48.6875 17.390625 48.6875 27.296875 \r\nz\r\n\" id=\"DejaVuSans-112\"/>\r\n     <path d=\"M 41.109375 46.296875 \r\nQ 39.59375 47.171875 37.8125 47.578125 \r\nQ 36.03125 48 33.890625 48 \r\nQ 26.265625 48 22.1875 43.046875 \r\nQ 18.109375 38.09375 18.109375 28.8125 \r\nL 18.109375 0 \r\nL 9.078125 0 \r\nL 9.078125 54.6875 \r\nL 18.109375 54.6875 \r\nL 18.109375 46.1875 \r\nQ 20.953125 51.171875 25.484375 53.578125 \r\nQ 30.03125 56 36.53125 56 \r\nQ 37.453125 56 38.578125 55.875 \r\nQ 39.703125 55.765625 41.0625 55.515625 \r\nz\r\n\" id=\"DejaVuSans-114\"/>\r\n     <path d=\"M 9.421875 54.6875 \r\nL 18.40625 54.6875 \r\nL 18.40625 0 \r\nL 9.421875 0 \r\nz\r\nM 9.421875 75.984375 \r\nL 18.40625 75.984375 \r\nL 18.40625 64.59375 \r\nL 9.421875 64.59375 \r\nz\r\n\" id=\"DejaVuSans-105\"/>\r\n     <path d=\"M 48.78125 52.59375 \r\nL 48.78125 44.1875 \r\nQ 44.96875 46.296875 41.140625 47.34375 \r\nQ 37.3125 48.390625 33.40625 48.390625 \r\nQ 24.65625 48.390625 19.8125 42.84375 \r\nQ 14.984375 37.3125 14.984375 27.296875 \r\nQ 14.984375 17.28125 19.8125 11.734375 \r\nQ 24.65625 6.203125 33.40625 6.203125 \r\nQ 37.3125 6.203125 41.140625 7.25 \r\nQ 44.96875 8.296875 48.78125 10.40625 \r\nL 48.78125 2.09375 \r\nQ 45.015625 0.34375 40.984375 -0.53125 \r\nQ 36.96875 -1.421875 32.421875 -1.421875 \r\nQ 20.0625 -1.421875 12.78125 6.34375 \r\nQ 5.515625 14.109375 5.515625 27.296875 \r\nQ 5.515625 40.671875 12.859375 48.328125 \r\nQ 20.21875 56 33.015625 56 \r\nQ 37.15625 56 41.109375 55.140625 \r\nQ 45.0625 54.296875 48.78125 52.59375 \r\nz\r\n\" id=\"DejaVuSans-99\"/>\r\n    </defs>\r\n    <g transform=\"translate(178.463438 30)scale(0.12 -0.12)\">\r\n     <use xlink:href=\"#DejaVuSans-109\"/>\r\n     <use x=\"97.412109\" xlink:href=\"#DejaVuSans-101\"/>\r\n     <use x=\"158.935547\" xlink:href=\"#DejaVuSans-97\"/>\r\n     <use x=\"220.214844\" xlink:href=\"#DejaVuSans-110\"/>\r\n     <use x=\"283.59375\" xlink:href=\"#DejaVuSans-95\"/>\r\n     <use x=\"333.59375\" xlink:href=\"#DejaVuSans-112\"/>\r\n     <use x=\"397.070312\" xlink:href=\"#DejaVuSans-114\"/>\r\n     <use x=\"438.183594\" xlink:href=\"#DejaVuSans-105\"/>\r\n     <use x=\"465.966797\" xlink:href=\"#DejaVuSans-99\"/>\r\n     <use x=\"520.947266\" xlink:href=\"#DejaVuSans-101\"/>\r\n    </g>\r\n   </g>\r\n  </g>\r\n  <g id=\"text_14\">\r\n   <!-- Mean Price Distribution -->\r\n   <defs>\r\n    <path d=\"M 9.8125 72.90625 \r\nL 24.515625 72.90625 \r\nL 43.109375 23.296875 \r\nL 61.8125 72.90625 \r\nL 76.515625 72.90625 \r\nL 76.515625 0 \r\nL 66.890625 0 \r\nL 66.890625 64.015625 \r\nL 48.09375 14.015625 \r\nL 38.1875 14.015625 \r\nL 19.390625 64.015625 \r\nL 19.390625 0 \r\nL 9.8125 0 \r\nz\r\n\" id=\"DejaVuSans-77\"/>\r\n    <path id=\"DejaVuSans-32\"/>\r\n    <path d=\"M 19.671875 64.796875 \r\nL 19.671875 37.40625 \r\nL 32.078125 37.40625 \r\nQ 38.96875 37.40625 42.71875 40.96875 \r\nQ 46.484375 44.53125 46.484375 51.125 \r\nQ 46.484375 57.671875 42.71875 61.234375 \r\nQ 38.96875 64.796875 32.078125 64.796875 \r\nz\r\nM 9.8125 72.90625 \r\nL 32.078125 72.90625 \r\nQ 44.34375 72.90625 50.609375 67.359375 \r\nQ 56.890625 61.8125 56.890625 51.125 \r\nQ 56.890625 40.328125 50.609375 34.8125 \r\nQ 44.34375 29.296875 32.078125 29.296875 \r\nL 19.671875 29.296875 \r\nL 19.671875 0 \r\nL 9.8125 0 \r\nz\r\n\" id=\"DejaVuSans-80\"/>\r\n    <path d=\"M 19.671875 64.796875 \r\nL 19.671875 8.109375 \r\nL 31.59375 8.109375 \r\nQ 46.6875 8.109375 53.6875 14.9375 \r\nQ 60.6875 21.78125 60.6875 36.53125 \r\nQ 60.6875 51.171875 53.6875 57.984375 \r\nQ 46.6875 64.796875 31.59375 64.796875 \r\nz\r\nM 9.8125 72.90625 \r\nL 30.078125 72.90625 \r\nQ 51.265625 72.90625 61.171875 64.09375 \r\nQ 71.09375 55.28125 71.09375 36.53125 \r\nQ 71.09375 17.671875 61.125 8.828125 \r\nQ 51.171875 0 30.078125 0 \r\nL 9.8125 0 \r\nz\r\n\" id=\"DejaVuSans-68\"/>\r\n    <path d=\"M 44.28125 53.078125 \r\nL 44.28125 44.578125 \r\nQ 40.484375 46.53125 36.375 47.5 \r\nQ 32.28125 48.484375 27.875 48.484375 \r\nQ 21.1875 48.484375 17.84375 46.4375 \r\nQ 14.5 44.390625 14.5 40.28125 \r\nQ 14.5 37.15625 16.890625 35.375 \r\nQ 19.28125 33.59375 26.515625 31.984375 \r\nL 29.59375 31.296875 \r\nQ 39.15625 29.25 43.1875 25.515625 \r\nQ 47.21875 21.78125 47.21875 15.09375 \r\nQ 47.21875 7.46875 41.1875 3.015625 \r\nQ 35.15625 -1.421875 24.609375 -1.421875 \r\nQ 20.21875 -1.421875 15.453125 -0.5625 \r\nQ 10.6875 0.296875 5.421875 2 \r\nL 5.421875 11.28125 \r\nQ 10.40625 8.6875 15.234375 7.390625 \r\nQ 20.0625 6.109375 24.8125 6.109375 \r\nQ 31.15625 6.109375 34.5625 8.28125 \r\nQ 37.984375 10.453125 37.984375 14.40625 \r\nQ 37.984375 18.0625 35.515625 20.015625 \r\nQ 33.0625 21.96875 24.703125 23.78125 \r\nL 21.578125 24.515625 \r\nQ 13.234375 26.265625 9.515625 29.90625 \r\nQ 5.8125 33.546875 5.8125 39.890625 \r\nQ 5.8125 47.609375 11.28125 51.796875 \r\nQ 16.75 56 26.8125 56 \r\nQ 31.78125 56 36.171875 55.265625 \r\nQ 40.578125 54.546875 44.28125 53.078125 \r\nz\r\n\" id=\"DejaVuSans-115\"/>\r\n    <path d=\"M 18.3125 70.21875 \r\nL 18.3125 54.6875 \r\nL 36.8125 54.6875 \r\nL 36.8125 47.703125 \r\nL 18.3125 47.703125 \r\nL 18.3125 18.015625 \r\nQ 18.3125 11.328125 20.140625 9.421875 \r\nQ 21.96875 7.515625 27.59375 7.515625 \r\nL 36.8125 7.515625 \r\nL 36.8125 0 \r\nL 27.59375 0 \r\nQ 17.1875 0 13.234375 3.875 \r\nQ 9.28125 7.765625 9.28125 18.015625 \r\nL 9.28125 47.703125 \r\nL 2.6875 47.703125 \r\nL 2.6875 54.6875 \r\nL 9.28125 54.6875 \r\nL 9.28125 70.21875 \r\nz\r\n\" id=\"DejaVuSans-116\"/>\r\n    <path d=\"M 48.6875 27.296875 \r\nQ 48.6875 37.203125 44.609375 42.84375 \r\nQ 40.53125 48.484375 33.40625 48.484375 \r\nQ 26.265625 48.484375 22.1875 42.84375 \r\nQ 18.109375 37.203125 18.109375 27.296875 \r\nQ 18.109375 17.390625 22.1875 11.75 \r\nQ 26.265625 6.109375 33.40625 6.109375 \r\nQ 40.53125 6.109375 44.609375 11.75 \r\nQ 48.6875 17.390625 48.6875 27.296875 \r\nz\r\nM 18.109375 46.390625 \r\nQ 20.953125 51.265625 25.265625 53.625 \r\nQ 29.59375 56 35.59375 56 \r\nQ 45.5625 56 51.78125 48.09375 \r\nQ 58.015625 40.1875 58.015625 27.296875 \r\nQ 58.015625 14.40625 51.78125 6.484375 \r\nQ 45.5625 -1.421875 35.59375 -1.421875 \r\nQ 29.59375 -1.421875 25.265625 0.953125 \r\nQ 20.953125 3.328125 18.109375 8.203125 \r\nL 18.109375 0 \r\nL 9.078125 0 \r\nL 9.078125 75.984375 \r\nL 18.109375 75.984375 \r\nz\r\n\" id=\"DejaVuSans-98\"/>\r\n    <path d=\"M 8.5 21.578125 \r\nL 8.5 54.6875 \r\nL 17.484375 54.6875 \r\nL 17.484375 21.921875 \r\nQ 17.484375 14.15625 20.5 10.265625 \r\nQ 23.53125 6.390625 29.59375 6.390625 \r\nQ 36.859375 6.390625 41.078125 11.03125 \r\nQ 45.3125 15.671875 45.3125 23.6875 \r\nL 45.3125 54.6875 \r\nL 54.296875 54.6875 \r\nL 54.296875 0 \r\nL 45.3125 0 \r\nL 45.3125 8.40625 \r\nQ 42.046875 3.421875 37.71875 1 \r\nQ 33.40625 -1.421875 27.6875 -1.421875 \r\nQ 18.265625 -1.421875 13.375 4.4375 \r\nQ 8.5 10.296875 8.5 21.578125 \r\nz\r\nM 31.109375 56 \r\nz\r\n\" id=\"DejaVuSans-117\"/>\r\n    <path d=\"M 30.609375 48.390625 \r\nQ 23.390625 48.390625 19.1875 42.75 \r\nQ 14.984375 37.109375 14.984375 27.296875 \r\nQ 14.984375 17.484375 19.15625 11.84375 \r\nQ 23.34375 6.203125 30.609375 6.203125 \r\nQ 37.796875 6.203125 41.984375 11.859375 \r\nQ 46.1875 17.53125 46.1875 27.296875 \r\nQ 46.1875 37.015625 41.984375 42.703125 \r\nQ 37.796875 48.390625 30.609375 48.390625 \r\nz\r\nM 30.609375 56 \r\nQ 42.328125 56 49.015625 48.375 \r\nQ 55.71875 40.765625 55.71875 27.296875 \r\nQ 55.71875 13.875 49.015625 6.21875 \r\nQ 42.328125 -1.421875 30.609375 -1.421875 \r\nQ 18.84375 -1.421875 12.171875 6.21875 \r\nQ 5.515625 13.875 5.515625 27.296875 \r\nQ 5.515625 40.765625 12.171875 48.375 \r\nQ 18.84375 56 30.609375 56 \r\nz\r\n\" id=\"DejaVuSans-111\"/>\r\n   </defs>\r\n   <g transform=\"translate(138.106875 16.318125)scale(0.12 -0.12)\">\r\n    <use xlink:href=\"#DejaVuSans-77\"/>\r\n    <use x=\"86.279297\" xlink:href=\"#DejaVuSans-101\"/>\r\n    <use x=\"147.802734\" xlink:href=\"#DejaVuSans-97\"/>\r\n    <use x=\"209.082031\" xlink:href=\"#DejaVuSans-110\"/>\r\n    <use x=\"272.460938\" xlink:href=\"#DejaVuSans-32\"/>\r\n    <use x=\"304.248047\" xlink:href=\"#DejaVuSans-80\"/>\r\n    <use x=\"364.535156\" xlink:href=\"#DejaVuSans-114\"/>\r\n    <use x=\"405.648438\" xlink:href=\"#DejaVuSans-105\"/>\r\n    <use x=\"433.431641\" xlink:href=\"#DejaVuSans-99\"/>\r\n    <use x=\"488.412109\" xlink:href=\"#DejaVuSans-101\"/>\r\n    <use x=\"549.935547\" xlink:href=\"#DejaVuSans-32\"/>\r\n    <use x=\"581.722656\" xlink:href=\"#DejaVuSans-68\"/>\r\n    <use x=\"658.724609\" xlink:href=\"#DejaVuSans-105\"/>\r\n    <use x=\"686.507812\" xlink:href=\"#DejaVuSans-115\"/>\r\n    <use x=\"738.607422\" xlink:href=\"#DejaVuSans-116\"/>\r\n    <use x=\"777.816406\" xlink:href=\"#DejaVuSans-114\"/>\r\n    <use x=\"818.929688\" xlink:href=\"#DejaVuSans-105\"/>\r\n    <use x=\"846.712891\" xlink:href=\"#DejaVuSans-98\"/>\r\n    <use x=\"910.189453\" xlink:href=\"#DejaVuSans-117\"/>\r\n    <use x=\"973.568359\" xlink:href=\"#DejaVuSans-116\"/>\r\n    <use x=\"1012.777344\" xlink:href=\"#DejaVuSans-105\"/>\r\n    <use x=\"1040.560547\" xlink:href=\"#DejaVuSans-111\"/>\r\n    <use x=\"1101.742188\" xlink:href=\"#DejaVuSans-110\"/>\r\n   </g>\r\n  </g>\r\n </g>\r\n <defs>\r\n  <clipPath id=\"p5a5711f188\">\r\n   <rect height=\"217.44\" width=\"334.8\" x=\"46.0125\" y=\"36\"/>\r\n  </clipPath>\r\n </defs>\r\n</svg>\r\n",
      "image/png": "[encoded data removed]"
     },
     "metadata": {
      "needs_background": "light"
     }
    }
   ],
   "source": [
    "X.hist()\n",
    "plt.suptitle('Mean Price Distribution');"
   ]
  },
  {
   "cell_type": "code",
   "execution_count": 10,
   "metadata": {
    "ExecuteTime": {
     "end_time": "2020-03-30T16:41:40.426544Z",
     "start_time": "2020-03-30T16:41:40.162249Z"
    }
   },
   "outputs": [
    {
     "output_type": "execute_result",
     "data": {
      "text/plain": "LogisticRegression(C=1.0, class_weight=None, dual=False, fit_intercept=True,\n                   intercept_scaling=1, l1_ratio=None, max_iter=100,\n                   multi_class='auto', n_jobs=None, penalty='l2',\n                   random_state=None, solver='sag', tol=0.0001, verbose=0,\n                   warm_start=False)"
     },
     "metadata": {},
     "execution_count": 10
    }
   ],
   "source": [
    "model_purchase = LogisticRegression(solver='sag')\n",
    "model_purchase.fit(X,y)"
   ]
  },
  {
   "cell_type": "code",
   "execution_count": 11,
   "metadata": {
    "ExecuteTime": {
     "end_time": "2020-03-30T16:41:40.434521Z",
     "start_time": "2020-03-30T16:41:40.428537Z"
    }
   },
   "outputs": [
    {
     "output_type": "execute_result",
     "data": {
      "text/plain": "array([[-2.3484792]])"
     },
     "metadata": {},
     "execution_count": 11
    }
   ],
   "source": [
    "model_purchase.coef_"
   ]
  },
  {
   "cell_type": "markdown",
   "metadata": {},
   "source": [
    "As we can expect reducing the price has a positive effect on purchasing"
   ]
  },
  {
   "cell_type": "markdown",
   "metadata": {},
   "source": [
    "## Calculating Price Elasticity \n",
    "\n",
    "Price elasticity of purchase probability is the percentage change in purchase probability in response to a one percent change in the respective aggregate price for the product category.\n"
   ]
  },
  {
   "cell_type": "code",
   "execution_count": 12,
   "metadata": {
    "ExecuteTime": {
     "end_time": "2020-03-30T16:41:40.452472Z",
     "start_time": "2020-03-30T16:41:40.436516Z"
    }
   },
   "outputs": [
    {
     "output_type": "execute_result",
     "data": {
      "text/plain": "1.1"
     },
     "metadata": {},
     "execution_count": 12
    }
   ],
   "source": [
    "df_purchase_predictors[['price_'+ str(i) for i in range(1,6)]].min().min()"
   ]
  },
  {
   "cell_type": "code",
   "execution_count": 13,
   "metadata": {
    "ExecuteTime": {
     "end_time": "2020-03-30T16:41:40.475414Z",
     "start_time": "2020-03-30T16:41:40.454469Z"
    }
   },
   "outputs": [
    {
     "output_type": "execute_result",
     "data": {
      "text/plain": "2.8"
     },
     "metadata": {},
     "execution_count": 13
    }
   ],
   "source": [
    "df_purchase_predictors[['price_'+ str(i) for i in range(1,6)]].max().max()\n",
    ""
   ]
  },
  {
   "cell_type": "code",
   "execution_count": 14,
   "metadata": {
    "ExecuteTime": {
     "end_time": "2020-03-30T16:41:40.488381Z",
     "start_time": "2020-03-30T16:41:40.478405Z"
    }
   },
   "outputs": [],
   "source": [
    "# Creating an array from 1 to 2.99 for the price range.\n",
    "df_price = pd.DataFrame(np.arange(0.5, 3.5, 0.01))"
   ]
  },
  {
   "cell_type": "code",
   "execution_count": 15,
   "metadata": {
    "ExecuteTime": {
     "end_time": "2020-03-30T16:41:40.508364Z",
     "start_time": "2020-03-30T16:41:40.492368Z"
    }
   },
   "outputs": [],
   "source": [
    "y_pr = model_purchase.predict_proba(df_price)"
   ]
  },
  {
   "cell_type": "code",
   "execution_count": 16,
   "metadata": {
    "ExecuteTime": {
     "end_time": "2020-03-30T16:41:40.530268Z",
     "start_time": "2020-03-30T16:41:40.511315Z"
    }
   },
   "outputs": [
    {
     "output_type": "execute_result",
     "data": {
      "text/plain": "array([[0.08221534, 0.91778466],\n       [0.08400488, 0.91599512],\n       [0.08582973, 0.91417027],\n       [0.08769043, 0.91230957],\n       [0.08958752, 0.91041248]])"
     },
     "metadata": {},
     "execution_count": 16
    }
   ],
   "source": [
    "# resulting array has two columns: the probability of no purchase, the probability of purchase. the higher the price becomes they increase and decrease. \n",
    "y_pr[0:5, :]"
   ]
  },
  {
   "cell_type": "code",
   "execution_count": 17,
   "metadata": {
    "ExecuteTime": {
     "end_time": "2020-03-30T16:41:40.553207Z",
     "start_time": "2020-03-30T16:41:40.533258Z"
    }
   },
   "outputs": [],
   "source": [
    "purchase_pro = y_pr[:,1]"
   ]
  },
  {
   "cell_type": "code",
   "execution_count": 18,
   "metadata": {
    "ExecuteTime": {
     "end_time": "2020-03-30T16:41:40.572155Z",
     "start_time": "2020-03-30T16:41:40.556196Z"
    }
   },
   "outputs": [],
   "source": [
    "# price elasticity: pe\n",
    "pe = model_purchase.coef_ * df_price[0].values * (1 - purchase_pro)"
   ]
  },
  {
   "cell_type": "code",
   "execution_count": 19,
   "metadata": {
    "ExecuteTime": {
     "end_time": "2020-03-30T16:41:40.593097Z",
     "start_time": "2020-03-30T16:41:40.576143Z"
    }
   },
   "outputs": [
    {
     "output_type": "execute_result",
     "data": {
      "text/plain": "array([[-0.0965405 , -0.10061469, -0.10481606, -0.10914775, -0.11361299]])"
     },
     "metadata": {},
     "execution_count": 19
    }
   ],
   "source": [
    "pe[:, 0:5]"
   ]
  },
  {
   "cell_type": "code",
   "execution_count": 20,
   "metadata": {
    "ExecuteTime": {
     "end_time": "2020-03-30T16:41:40.609087Z",
     "start_time": "2020-03-30T16:41:40.595092Z"
    }
   },
   "outputs": [],
   "source": [
    "df_price.rename(columns={0:'price_point'}, inplace=True)"
   ]
  },
  {
   "cell_type": "code",
   "execution_count": 21,
   "metadata": {
    "ExecuteTime": {
     "end_time": "2020-03-30T16:41:40.643961Z",
     "start_time": "2020-03-30T16:41:40.611050Z"
    }
   },
   "outputs": [
    {
     "output_type": "execute_result",
     "data": {
      "text/plain": "     price_point\n0           0.50\n1           0.51\n2           0.52\n3           0.53\n4           0.54\n..           ...\n295         3.45\n296         3.46\n297         3.47\n298         3.48\n299         3.49\n\n[300 rows x 1 columns]",
      "text/html": "<div>\n<style scoped>\n    .dataframe tbody tr th:only-of-type {\n        vertical-align: middle;\n    }\n\n    .dataframe tbody tr th {\n        vertical-align: top;\n    }\n\n    .dataframe thead th {\n        text-align: right;\n    }\n</style>\n<table border=\"1\" class=\"dataframe\">\n  <thead>\n    <tr style=\"text-align: right;\">\n      <th></th>\n      <th>price_point</th>\n    </tr>\n  </thead>\n  <tbody>\n    <tr>\n      <th>0</th>\n      <td>0.50</td>\n    </tr>\n    <tr>\n      <th>1</th>\n      <td>0.51</td>\n    </tr>\n    <tr>\n      <th>2</th>\n      <td>0.52</td>\n    </tr>\n    <tr>\n      <th>3</th>\n      <td>0.53</td>\n    </tr>\n    <tr>\n      <th>4</th>\n      <td>0.54</td>\n    </tr>\n    <tr>\n      <th>...</th>\n      <td>...</td>\n    </tr>\n    <tr>\n      <th>295</th>\n      <td>3.45</td>\n    </tr>\n    <tr>\n      <th>296</th>\n      <td>3.46</td>\n    </tr>\n    <tr>\n      <th>297</th>\n      <td>3.47</td>\n    </tr>\n    <tr>\n      <th>298</th>\n      <td>3.48</td>\n    </tr>\n    <tr>\n      <th>299</th>\n      <td>3.49</td>\n    </tr>\n  </tbody>\n</table>\n<p>300 rows × 1 columns</p>\n</div>"
     },
     "metadata": {},
     "execution_count": 21
    }
   ],
   "source": [
    "df_price"
   ]
  },
  {
   "cell_type": "code",
   "execution_count": 22,
   "metadata": {},
   "outputs": [],
   "source": [
    "df_price_elasticities = df_price.copy()"
   ]
  },
  {
   "cell_type": "code",
   "execution_count": 23,
   "metadata": {
    "ExecuteTime": {
     "end_time": "2020-03-30T16:41:40.660916Z",
     "start_time": "2020-03-30T16:41:40.645956Z"
    }
   },
   "outputs": [],
   "source": [
    "df_price_elasticities['mean_pe'] = pe[0]"
   ]
  },
  {
   "cell_type": "code",
   "execution_count": 24,
   "metadata": {
    "ExecuteTime": {
     "end_time": "2020-03-30T16:41:40.686847Z",
     "start_time": "2020-03-30T16:41:40.662912Z"
    }
   },
   "outputs": [
    {
     "output_type": "execute_result",
     "data": {
      "text/plain": "     price_point   mean_pe\n0           0.50 -0.096541\n1           0.51 -0.100615\n2           0.52 -0.104816\n3           0.53 -0.109148\n4           0.54 -0.113613\n..           ...       ...\n295         3.45 -8.014579\n296         3.46 -8.039829\n297         3.47 -8.065045\n298         3.48 -8.090227\n299         3.49 -8.115376\n\n[300 rows x 2 columns]",
      "text/html": "<div>\n<style scoped>\n    .dataframe tbody tr th:only-of-type {\n        vertical-align: middle;\n    }\n\n    .dataframe tbody tr th {\n        vertical-align: top;\n    }\n\n    .dataframe thead th {\n        text-align: right;\n    }\n</style>\n<table border=\"1\" class=\"dataframe\">\n  <thead>\n    <tr style=\"text-align: right;\">\n      <th></th>\n      <th>price_point</th>\n      <th>mean_pe</th>\n    </tr>\n  </thead>\n  <tbody>\n    <tr>\n      <th>0</th>\n      <td>0.50</td>\n      <td>-0.096541</td>\n    </tr>\n    <tr>\n      <th>1</th>\n      <td>0.51</td>\n      <td>-0.100615</td>\n    </tr>\n    <tr>\n      <th>2</th>\n      <td>0.52</td>\n      <td>-0.104816</td>\n    </tr>\n    <tr>\n      <th>3</th>\n      <td>0.53</td>\n      <td>-0.109148</td>\n    </tr>\n    <tr>\n      <th>4</th>\n      <td>0.54</td>\n      <td>-0.113613</td>\n    </tr>\n    <tr>\n      <th>...</th>\n      <td>...</td>\n      <td>...</td>\n    </tr>\n    <tr>\n      <th>295</th>\n      <td>3.45</td>\n      <td>-8.014579</td>\n    </tr>\n    <tr>\n      <th>296</th>\n      <td>3.46</td>\n      <td>-8.039829</td>\n    </tr>\n    <tr>\n      <th>297</th>\n      <td>3.47</td>\n      <td>-8.065045</td>\n    </tr>\n    <tr>\n      <th>298</th>\n      <td>3.48</td>\n      <td>-8.090227</td>\n    </tr>\n    <tr>\n      <th>299</th>\n      <td>3.49</td>\n      <td>-8.115376</td>\n    </tr>\n  </tbody>\n</table>\n<p>300 rows × 2 columns</p>\n</div>"
     },
     "metadata": {},
     "execution_count": 24
    }
   ],
   "source": [
    "df_price_elasticities"
   ]
  },
  {
   "cell_type": "code",
   "execution_count": 25,
   "metadata": {
    "ExecuteTime": {
     "end_time": "2020-03-30T16:41:42.082116Z",
     "start_time": "2020-03-30T16:41:40.688841Z"
    }
   },
   "outputs": [
    {
     "output_type": "display_data",
     "data": {
      "application/vnd.plotly.v1+json": {
       "config": {
        "plotlyServerURL": "https://plot.ly"
       },
       "data": [
        {
         "hoverlabel": {
          "namelength": 0
         },
         "hovertemplate": "Price Point=%{x}<br>Price Elasticity=%{y}",
         "legendgroup": "",
         "marker": {
          "color": "#636efa",
          "symbol": "circle"
         },
         "mode": "markers",
         "name": "",
         "showlegend": false,
         "type": "scatter",
         "x": [
          0.5,
          0.51,
          0.52,
          0.53,
          0.54,
          0.55,
          0.56,
          0.5700000000000001,
          0.5800000000000001,
          0.5900000000000001,
          0.6000000000000001,
          0.6100000000000001,
          0.6200000000000001,
          0.6300000000000001,
          0.6400000000000001,
          0.6500000000000001,
          0.6600000000000001,
          0.6700000000000002,
          0.6800000000000002,
          0.6900000000000002,
          0.7000000000000002,
          0.7100000000000002,
          0.7200000000000002,
          0.7300000000000002,
          0.7400000000000002,
          0.7500000000000002,
          0.7600000000000002,
          0.7700000000000002,
          0.7800000000000002,
          0.7900000000000003,
          0.8000000000000003,
          0.8100000000000003,
          0.8200000000000003,
          0.8300000000000003,
          0.8400000000000003,
          0.8500000000000003,
          0.8600000000000003,
          0.8700000000000003,
          0.8800000000000003,
          0.8900000000000003,
          0.9000000000000004,
          0.9100000000000004,
          0.9200000000000004,
          0.9300000000000004,
          0.9400000000000004,
          0.9500000000000004,
          0.9600000000000004,
          0.9700000000000004,
          0.9800000000000004,
          0.9900000000000004,
          1.0000000000000004,
          1.0100000000000005,
          1.0200000000000005,
          1.0300000000000005,
          1.0400000000000005,
          1.0500000000000005,
          1.0600000000000005,
          1.0700000000000005,
          1.0800000000000005,
          1.0900000000000005,
          1.1000000000000005,
          1.1100000000000005,
          1.1200000000000006,
          1.1300000000000006,
          1.1400000000000006,
          1.1500000000000006,
          1.1600000000000006,
          1.1700000000000006,
          1.1800000000000006,
          1.1900000000000006,
          1.2000000000000006,
          1.2100000000000006,
          1.2200000000000006,
          1.2300000000000006,
          1.2400000000000007,
          1.2500000000000007,
          1.2600000000000007,
          1.2700000000000007,
          1.2800000000000007,
          1.2900000000000007,
          1.3000000000000007,
          1.3100000000000007,
          1.3200000000000007,
          1.3300000000000007,
          1.3400000000000007,
          1.3500000000000008,
          1.3600000000000008,
          1.3700000000000008,
          1.3800000000000008,
          1.3900000000000008,
          1.4000000000000008,
          1.4100000000000008,
          1.4200000000000008,
          1.4300000000000008,
          1.4400000000000008,
          1.4500000000000008,
          1.4600000000000009,
          1.4700000000000009,
          1.4800000000000009,
          1.4900000000000009,
          1.5000000000000009,
          1.510000000000001,
          1.520000000000001,
          1.530000000000001,
          1.540000000000001,
          1.550000000000001,
          1.560000000000001,
          1.570000000000001,
          1.580000000000001,
          1.590000000000001,
          1.600000000000001,
          1.610000000000001,
          1.620000000000001,
          1.630000000000001,
          1.640000000000001,
          1.650000000000001,
          1.660000000000001,
          1.670000000000001,
          1.680000000000001,
          1.690000000000001,
          1.700000000000001,
          1.710000000000001,
          1.720000000000001,
          1.730000000000001,
          1.740000000000001,
          1.750000000000001,
          1.7600000000000011,
          1.7700000000000011,
          1.7800000000000011,
          1.7900000000000011,
          1.8000000000000012,
          1.8100000000000012,
          1.8200000000000012,
          1.8300000000000012,
          1.8400000000000012,
          1.8500000000000012,
          1.8600000000000012,
          1.8700000000000012,
          1.8800000000000012,
          1.8900000000000012,
          1.9000000000000012,
          1.9100000000000013,
          1.9200000000000013,
          1.9300000000000013,
          1.9400000000000013,
          1.9500000000000013,
          1.9600000000000013,
          1.9700000000000013,
          1.9800000000000013,
          1.9900000000000013,
          2.0000000000000013,
          2.0100000000000016,
          2.0200000000000014,
          2.030000000000001,
          2.0400000000000014,
          2.0500000000000016,
          2.0600000000000014,
          2.070000000000001,
          2.0800000000000014,
          2.0900000000000016,
          2.1000000000000014,
          2.110000000000001,
          2.1200000000000014,
          2.1300000000000017,
          2.1400000000000015,
          2.1500000000000012,
          2.1600000000000015,
          2.1700000000000017,
          2.1800000000000015,
          2.1900000000000013,
          2.2000000000000015,
          2.2100000000000017,
          2.2200000000000015,
          2.2300000000000013,
          2.2400000000000015,
          2.2500000000000018,
          2.2600000000000016,
          2.2700000000000014,
          2.2800000000000016,
          2.290000000000002,
          2.3000000000000016,
          2.3100000000000014,
          2.3200000000000016,
          2.330000000000002,
          2.3400000000000016,
          2.3500000000000014,
          2.3600000000000017,
          2.370000000000002,
          2.3800000000000017,
          2.3900000000000015,
          2.4000000000000017,
          2.410000000000002,
          2.4200000000000017,
          2.4300000000000015,
          2.4400000000000017,
          2.450000000000002,
          2.4600000000000017,
          2.4700000000000015,
          2.4800000000000018,
          2.490000000000002,
          2.5000000000000018,
          2.5100000000000016,
          2.520000000000002,
          2.530000000000002,
          2.540000000000002,
          2.5500000000000016,
          2.560000000000002,
          2.570000000000002,
          2.580000000000002,
          2.5900000000000016,
          2.600000000000002,
          2.610000000000002,
          2.620000000000002,
          2.6300000000000017,
          2.640000000000002,
          2.650000000000002,
          2.660000000000002,
          2.6700000000000017,
          2.680000000000002,
          2.690000000000002,
          2.700000000000002,
          2.7100000000000017,
          2.720000000000002,
          2.730000000000002,
          2.740000000000002,
          2.7500000000000018,
          2.760000000000002,
          2.7700000000000022,
          2.780000000000002,
          2.790000000000002,
          2.800000000000002,
          2.8100000000000023,
          2.820000000000002,
          2.830000000000002,
          2.840000000000002,
          2.8500000000000023,
          2.860000000000002,
          2.870000000000002,
          2.880000000000002,
          2.8900000000000023,
          2.900000000000002,
          2.910000000000002,
          2.920000000000002,
          2.9300000000000024,
          2.940000000000002,
          2.950000000000002,
          2.960000000000002,
          2.9700000000000024,
          2.980000000000002,
          2.990000000000002,
          3.000000000000002,
          3.0100000000000025,
          3.0200000000000022,
          3.030000000000002,
          3.0400000000000023,
          3.0500000000000025,
          3.0600000000000023,
          3.070000000000002,
          3.0800000000000023,
          3.0900000000000025,
          3.1000000000000023,
          3.110000000000002,
          3.1200000000000023,
          3.1300000000000026,
          3.1400000000000023,
          3.150000000000002,
          3.1600000000000024,
          3.1700000000000026,
          3.1800000000000024,
          3.190000000000002,
          3.2000000000000024,
          3.2100000000000026,
          3.2200000000000024,
          3.230000000000002,
          3.2400000000000024,
          3.2500000000000027,
          3.2600000000000025,
          3.2700000000000022,
          3.2800000000000025,
          3.2900000000000027,
          3.3000000000000025,
          3.3100000000000023,
          3.3200000000000025,
          3.3300000000000027,
          3.3400000000000025,
          3.3500000000000023,
          3.3600000000000025,
          3.3700000000000028,
          3.3800000000000026,
          3.3900000000000023,
          3.4000000000000026,
          3.410000000000003,
          3.4200000000000026,
          3.4300000000000024,
          3.4400000000000026,
          3.450000000000003,
          3.4600000000000026,
          3.4700000000000024,
          3.4800000000000026,
          3.490000000000003
         ],
         "xaxis": "x",
         "y": [
          -0.09654050313949522,
          -0.10061469355645683,
          -0.1048160583214817,
          -0.10914775377603765,
          -0.11361298818665237,
          -0.11821502142429008,
          -0.12295716457221594,
          -0.12784277945925182,
          -0.13287527811530944,
          -0.1380581221460584,
          -0.14339482202358145,
          -0.14888893628985822,
          -0.15454407066992923,
          -0.16036387709159747,
          -0.16635205260855365,
          -0.1725123382238391,
          -0.17884851761060472,
          -0.185364415727184,
          -0.19206389732355633,
          -0.19895086533636286,
          -0.20602925916973103,
          -0.2133030528592652,
          -0.2207762531166879,
          -0.2284528972527489,
          -0.23633705097617422,
          -0.24443280606659554,
          -0.2527442779195801,
          -0.2612756029620926,
          -0.270030935936933,
          -0.2790144470549287,
          -0.28823031901392815,
          -0.297682743883898,
          -0.30737591985773255,
          -0.317314047867687,
          -0.3275013280676748,
          -0.3379419561820211,
          -0.34864011972162084,
          -0.3595999940688411,
          -0.3708257384328999,
          -0.3823214916778743,
          -0.39409136802592193,
          -0.4061394526387469,
          -0.4184697970808018,
          -0.43108641466819814,
          -0.4439932757077728,
          -0.457194302631273,
          -0.47069336503010695,
          -0.48449427459664823,
          -0.49860077997856855,
          -0.5130165615532318,
          -0.5277452261296827,
          -0.5427903015862946,
          -0.5581552314526704,
          -0.5738433694448944,
          -0.5898579739637508,
          -0.6062022025660212,
          -0.6228791064194498,
          -0.6398916247524438,
          -0.6572425793100237,
          -0.6749346688279537,
          -0.692970463537403,
          -0.711352399712845,
          -0.7300827742762556,
          -0.7491637394709709,
          -0.7685972976188479,
          -0.7883852959745796,
          -0.8085294216912368,
          -0.8290311969112164,
          -0.8498919739968951,
          -0.8711129309153157,
          -0.8926950667912346,
          -0.914639197642781,
          -0.9369459523138699,
          -0.959615768617326,
          -0.9826488897024321,
          -1.0060453606603286,
          -1.0298050253803128,
          -1.0539275236696874,
          -1.0784122886493015,
          -1.1032585444364014,
          -1.1284653041258013,
          -1.1540313680797154,
          -1.179955322535883,
          -1.2062355385428383,
          -1.2328701712303538,
          -1.259857159422206,
          -1.2871942255974942,
          -1.3148788762057693,
          -1.342908402340232,
          -1.3712798807722155,
          -1.399990175349085,
          -1.429035938756616,
          -1.4584136146457625,
          -1.4881194401226143,
          -1.5181494485991913,
          -1.5484994730015738,
          -1.5791651493307133,
          -1.6101419205701482,
          -1.6414250409336866,
          -1.673009580445049,
          -1.7048904298403387,
          -1.7370623057831822,
          -1.7695197563813463,
          -1.802257166992665,
          -1.8352687663071612,
          -1.8685486326913958,
          -1.9020907007802124,
          -1.9358887683002983,
          -1.9699365031092786,
          -2.004227450433407,
          -2.0387550402863566,
          -2.0735125950511204,
          -2.1084933372065966,
          -2.1436903971801033,
          -2.1790968213067767,
          -2.214705579876643,
          -2.250509575250012,
          -2.286501650021832,
          -2.3226745952156618,
          -2.3590211584880647,
          -2.39553405232439,
          -2.4322059622071976,
          -2.4690295547388996,
          -2.505997485700619,
          -2.5431024080297044,
          -2.580336979698867,
          -2.617693871480542,
          -2.6551657745806327,
          -2.692745408126548,
          -2.7304255264951403,
          -2.7681989264669213,
          -2.806058454193763,
          -2.8439970119680797,
          -2.8820075647823917,
          -2.920083146669025,
          -2.9582168668105986,
          -2.9964019154128683,
          -3.0346315693323986,
          -3.0728991974524553,
          -3.1111982658014083,
          -3.1495223424088743,
          -3.1878651018956767,
          -3.2262203297946273,
          -3.2645819265999547,
          -3.302943911544079,
          -3.341300426101236,
          -3.379645737218232,
          -3.417974240273398,
          -3.456280461765516,
          -3.4945590617351945,
          -3.5328048359218385,
          -3.5710127176599578,
          -3.609177779519174,
          -3.6472952346928076,
          -3.6853604381404232,
          -3.723368887490238,
          -3.7613162237076203,
          -3.799198231536419,
          -3.8370108397200826,
          -3.8747501210099156,
          -3.9124122919680993,
          -3.9499937125732365,
          -3.9874908856365052,
          -4.024900456036529,
          -4.062219209781329,
          -4.099444072905697,
          -4.136572110212452,
          -4.173600523866049,
          -4.210526651847012,
          -4.247347966275642,
          -4.284062071613364,
          -4.32066670275003,
          -4.357159722985405,
          -4.393539121912896,
          -4.429803013213472,
          -4.4659496323675585,
          -4.501977334292557,
          -4.537884590913346,
          -4.573669988673055,
          -4.6093322259910705,
          -4.6448701106751145,
          -4.680282557293916,
          -4.715568584516829,
          -4.75072731242647,
          -4.785757959810225,
          -4.820659841436207,
          -4.85543236531901,
          -4.890075029980335,
          -4.924587421709358,
          -4.958969211827378,
          -4.993220153961129,
          -5.027340081328794,
          -5.061328904042625,
          -5.0951866064317235,
          -5.128913244388386,
          -5.162508942741132,
          -5.19597389265734,
          -5.229308349078203,
          -5.262512628188435,
          -5.295587104923067,
          -5.328532210513361,
          -5.361348430073741,
          -5.394036300231435,
          -5.426596406800332,
          -5.459029382500421,
          -5.491335904723958,
          -5.523516693349419,
          -5.555572508604056,
          -5.587504148975857,
          -5.61931244917543,
          -5.650998278148311,
          -5.682562537138034,
          -5.7140061578001795,
          -5.745330100367528,
          -5.77653535186633,
          -5.807622924383598,
          -5.838593853385301,
          -5.869449196085141,
          -5.900190029863651,
          -5.930817450737159,
          -5.961332571876199,
          -5.991736522172809,
          -6.02203044485616,
          -6.052215496155863,
          -6.082292844012292,
          -6.1122636668332015,
          -6.142129152295872,
          -6.171890496194009,
          -6.201548901328559,
          -6.231105576441627,
          -6.260561735192585,
          -6.289918595175521,
          -6.319177376977125,
          -6.348339303274071,
          -6.377405597969006,
          -6.4063774853641675,
          -6.435256189371747,
          -6.464042932760007,
          -6.4927389364342405,
          -6.521345418751623,
          -6.549863594869003,
          -6.578294676122737,
          -6.606639869439586,
          -6.63490037677779,
          -6.6630773945974076,
          -6.691172113358988,
          -6.71918571704972,
          -6.747119382736141,
          -6.774974280142577,
          -6.802751571254419,
          -6.83045240994543,
          -6.858077941628225,
          -6.885629302927144,
          -6.913107621372699,
          -6.940514015116828,
          -6.967849592668189,
          -6.995115452646749,
          -7.022312683556944,
          -7.049442363578687,
          -7.076505560375533,
          -7.103503330919336,
          -7.130436721330718,
          -7.157306766734721,
          -7.184114491131,
          -7.210860907277972,
          -7.237547016590317,
          -7.264173809049236,
          -7.290742263124949,
          -7.31725334571085,
          -7.343708012068835,
          -7.370107205785247,
          -7.396451858736978,
          -7.4227428910672595,
          -7.448981211170628,
          -7.475167715686682,
          -7.501303289502147,
          -7.527388805760862,
          -7.553425125881273,
          -7.579413099581044,
          -7.605353564908405,
          -7.631247348279889,
          -7.657095264524095,
          -7.682898116931142,
          -7.708656697307503,
          -7.734371786035876,
          -7.760044152139841,
          -7.78567455335296,
          -7.8112637361920765,
          -7.83681243603454,
          -7.8623213771990965,
          -7.887791273030202,
          -7.913222825985506,
          -7.938616727726316,
          -7.963973659210788,
          -7.989294290789655,
          -8.014579282304275,
          -8.039829283186842,
          -8.065044932562548,
          -8.090226859353532,
          -8.115375682384427
         ],
         "yaxis": "y"
        }
       ],
       "layout": {
        "legend": {
         "tracegroupgap": 0
        },
        "template": {
         "data": {
          "bar": [
           {
            "error_x": {
             "color": "#2a3f5f"
            },
            "error_y": {
             "color": "#2a3f5f"
            },
            "marker": {
             "line": {
              "color": "white",
              "width": 0.5
             }
            },
            "type": "bar"
           }
          ],
          "barpolar": [
           {
            "marker": {
             "line": {
              "color": "white",
              "width": 0.5
             }
            },
            "type": "barpolar"
           }
          ],
          "carpet": [
           {
            "aaxis": {
             "endlinecolor": "#2a3f5f",
             "gridcolor": "#C8D4E3",
             "linecolor": "#C8D4E3",
             "minorgridcolor": "#C8D4E3",
             "startlinecolor": "#2a3f5f"
            },
            "baxis": {
             "endlinecolor": "#2a3f5f",
             "gridcolor": "#C8D4E3",
             "linecolor": "#C8D4E3",
             "minorgridcolor": "#C8D4E3",
             "startlinecolor": "#2a3f5f"
            },
            "type": "carpet"
           }
          ],
          "choropleth": [
           {
            "colorbar": {
             "outlinewidth": 0,
             "ticks": ""
            },
            "type": "choropleth"
           }
          ],
          "contour": [
           {
            "colorbar": {
             "outlinewidth": 0,
             "ticks": ""
            },
            "colorscale": [
             [
              0,
              "#0d0887"
             ],
             [
              0.1111111111111111,
              "#46039f"
             ],
             [
              0.2222222222222222,
              "#7201a8"
             ],
             [
              0.3333333333333333,
              "#9c179e"
             ],
             [
              0.4444444444444444,
              "#bd3786"
             ],
             [
              0.5555555555555556,
              "#d8576b"
             ],
             [
              0.6666666666666666,
              "#ed7953"
             ],
             [
              0.7777777777777778,
              "#fb9f3a"
             ],
             [
              0.8888888888888888,
              "#fdca26"
             ],
             [
              1,
              "#f0f921"
             ]
            ],
            "type": "contour"
           }
          ],
          "contourcarpet": [
           {
            "colorbar": {
             "outlinewidth": 0,
             "ticks": ""
            },
            "type": "contourcarpet"
           }
          ],
          "heatmap": [
           {
            "colorbar": {
             "outlinewidth": 0,
             "ticks": ""
            },
            "colorscale": [
             [
              0,
              "#0d0887"
             ],
             [
              0.1111111111111111,
              "#46039f"
             ],
             [
              0.2222222222222222,
              "#7201a8"
             ],
             [
              0.3333333333333333,
              "#9c179e"
             ],
             [
              0.4444444444444444,
              "#bd3786"
             ],
             [
              0.5555555555555556,
              "#d8576b"
             ],
             [
              0.6666666666666666,
              "#ed7953"
             ],
             [
              0.7777777777777778,
              "#fb9f3a"
             ],
             [
              0.8888888888888888,
              "#fdca26"
             ],
             [
              1,
              "#f0f921"
             ]
            ],
            "type": "heatmap"
           }
          ],
          "heatmapgl": [
           {
            "colorbar": {
             "outlinewidth": 0,
             "ticks": ""
            },
            "colorscale": [
             [
              0,
              "#0d0887"
             ],
             [
              0.1111111111111111,
              "#46039f"
             ],
             [
              0.2222222222222222,
              "#7201a8"
             ],
             [
              0.3333333333333333,
              "#9c179e"
             ],
             [
              0.4444444444444444,
              "#bd3786"
             ],
             [
              0.5555555555555556,
              "#d8576b"
             ],
             [
              0.6666666666666666,
              "#ed7953"
             ],
             [
              0.7777777777777778,
              "#fb9f3a"
             ],
             [
              0.8888888888888888,
              "#fdca26"
             ],
             [
              1,
              "#f0f921"
             ]
            ],
            "type": "heatmapgl"
           }
          ],
          "histogram": [
           {
            "marker": {
             "colorbar": {
              "outlinewidth": 0,
              "ticks": ""
             }
            },
            "type": "histogram"
           }
          ],
          "histogram2d": [
           {
            "colorbar": {
             "outlinewidth": 0,
             "ticks": ""
            },
            "colorscale": [
             [
              0,
              "#0d0887"
             ],
             [
              0.1111111111111111,
              "#46039f"
             ],
             [
              0.2222222222222222,
              "#7201a8"
             ],
             [
              0.3333333333333333,
              "#9c179e"
             ],
             [
              0.4444444444444444,
              "#bd3786"
             ],
             [
              0.5555555555555556,
              "#d8576b"
             ],
             [
              0.6666666666666666,
              "#ed7953"
             ],
             [
              0.7777777777777778,
              "#fb9f3a"
             ],
             [
              0.8888888888888888,
              "#fdca26"
             ],
             [
              1,
              "#f0f921"
             ]
            ],
            "type": "histogram2d"
           }
          ],
          "histogram2dcontour": [
           {
            "colorbar": {
             "outlinewidth": 0,
             "ticks": ""
            },
            "colorscale": [
             [
              0,
              "#0d0887"
             ],
             [
              0.1111111111111111,
              "#46039f"
             ],
             [
              0.2222222222222222,
              "#7201a8"
             ],
             [
              0.3333333333333333,
              "#9c179e"
             ],
             [
              0.4444444444444444,
              "#bd3786"
             ],
             [
              0.5555555555555556,
              "#d8576b"
             ],
             [
              0.6666666666666666,
              "#ed7953"
             ],
             [
              0.7777777777777778,
              "#fb9f3a"
             ],
             [
              0.8888888888888888,
              "#fdca26"
             ],
             [
              1,
              "#f0f921"
             ]
            ],
            "type": "histogram2dcontour"
           }
          ],
          "mesh3d": [
           {
            "colorbar": {
             "outlinewidth": 0,
             "ticks": ""
            },
            "type": "mesh3d"
           }
          ],
          "parcoords": [
           {
            "line": {
             "colorbar": {
              "outlinewidth": 0,
              "ticks": ""
             }
            },
            "type": "parcoords"
           }
          ],
          "pie": [
           {
            "automargin": true,
            "type": "pie"
           }
          ],
          "scatter": [
           {
            "marker": {
             "colorbar": {
              "outlinewidth": 0,
              "ticks": ""
             }
            },
            "type": "scatter"
           }
          ],
          "scatter3d": [
           {
            "line": {
             "colorbar": {
              "outlinewidth": 0,
              "ticks": ""
             }
            },
            "marker": {
             "colorbar": {
              "outlinewidth": 0,
              "ticks": ""
             }
            },
            "type": "scatter3d"
           }
          ],
          "scattercarpet": [
           {
            "marker": {
             "colorbar": {
              "outlinewidth": 0,
              "ticks": ""
             }
            },
            "type": "scattercarpet"
           }
          ],
          "scattergeo": [
           {
            "marker": {
             "colorbar": {
              "outlinewidth": 0,
              "ticks": ""
             }
            },
            "type": "scattergeo"
           }
          ],
          "scattergl": [
           {
            "marker": {
             "colorbar": {
              "outlinewidth": 0,
              "ticks": ""
             }
            },
            "type": "scattergl"
           }
          ],
          "scattermapbox": [
           {
            "marker": {
             "colorbar": {
              "outlinewidth": 0,
              "ticks": ""
             }
            },
            "type": "scattermapbox"
           }
          ],
          "scatterpolar": [
           {
            "marker": {
             "colorbar": {
              "outlinewidth": 0,
              "ticks": ""
             }
            },
            "type": "scatterpolar"
           }
          ],
          "scatterpolargl": [
           {
            "marker": {
             "colorbar": {
              "outlinewidth": 0,
              "ticks": ""
             }
            },
            "type": "scatterpolargl"
           }
          ],
          "scatterternary": [
           {
            "marker": {
             "colorbar": {
              "outlinewidth": 0,
              "ticks": ""
             }
            },
            "type": "scatterternary"
           }
          ],
          "surface": [
           {
            "colorbar": {
             "outlinewidth": 0,
             "ticks": ""
            },
            "colorscale": [
             [
              0,
              "#0d0887"
             ],
             [
              0.1111111111111111,
              "#46039f"
             ],
             [
              0.2222222222222222,
              "#7201a8"
             ],
             [
              0.3333333333333333,
              "#9c179e"
             ],
             [
              0.4444444444444444,
              "#bd3786"
             ],
             [
              0.5555555555555556,
              "#d8576b"
             ],
             [
              0.6666666666666666,
              "#ed7953"
             ],
             [
              0.7777777777777778,
              "#fb9f3a"
             ],
             [
              0.8888888888888888,
              "#fdca26"
             ],
             [
              1,
              "#f0f921"
             ]
            ],
            "type": "surface"
           }
          ],
          "table": [
           {
            "cells": {
             "fill": {
              "color": "#EBF0F8"
             },
             "line": {
              "color": "white"
             }
            },
            "header": {
             "fill": {
              "color": "#C8D4E3"
             },
             "line": {
              "color": "white"
             }
            },
            "type": "table"
           }
          ]
         },
         "layout": {
          "annotationdefaults": {
           "arrowcolor": "#2a3f5f",
           "arrowhead": 0,
           "arrowwidth": 1
          },
          "coloraxis": {
           "colorbar": {
            "outlinewidth": 0,
            "ticks": ""
           }
          },
          "colorscale": {
           "diverging": [
            [
             0,
             "#8e0152"
            ],
            [
             0.1,
             "#c51b7d"
            ],
            [
             0.2,
             "#de77ae"
            ],
            [
             0.3,
             "#f1b6da"
            ],
            [
             0.4,
             "#fde0ef"
            ],
            [
             0.5,
             "#f7f7f7"
            ],
            [
             0.6,
             "#e6f5d0"
            ],
            [
             0.7,
             "#b8e186"
            ],
            [
             0.8,
             "#7fbc41"
            ],
            [
             0.9,
             "#4d9221"
            ],
            [
             1,
             "#276419"
            ]
           ],
           "sequential": [
            [
             0,
             "#0d0887"
            ],
            [
             0.1111111111111111,
             "#46039f"
            ],
            [
             0.2222222222222222,
             "#7201a8"
            ],
            [
             0.3333333333333333,
             "#9c179e"
            ],
            [
             0.4444444444444444,
             "#bd3786"
            ],
            [
             0.5555555555555556,
             "#d8576b"
            ],
            [
             0.6666666666666666,
             "#ed7953"
            ],
            [
             0.7777777777777778,
             "#fb9f3a"
            ],
            [
             0.8888888888888888,
             "#fdca26"
            ],
            [
             1,
             "#f0f921"
            ]
           ],
           "sequentialminus": [
            [
             0,
             "#0d0887"
            ],
            [
             0.1111111111111111,
             "#46039f"
            ],
            [
             0.2222222222222222,
             "#7201a8"
            ],
            [
             0.3333333333333333,
             "#9c179e"
            ],
            [
             0.4444444444444444,
             "#bd3786"
            ],
            [
             0.5555555555555556,
             "#d8576b"
            ],
            [
             0.6666666666666666,
             "#ed7953"
            ],
            [
             0.7777777777777778,
             "#fb9f3a"
            ],
            [
             0.8888888888888888,
             "#fdca26"
            ],
            [
             1,
             "#f0f921"
            ]
           ]
          },
          "colorway": [
           "#636efa",
           "#EF553B",
           "#00cc96",
           "#ab63fa",
           "#FFA15A",
           "#19d3f3",
           "#FF6692",
           "#B6E880",
           "#FF97FF",
           "#FECB52"
          ],
          "font": {
           "color": "#2a3f5f"
          },
          "geo": {
           "bgcolor": "white",
           "lakecolor": "white",
           "landcolor": "white",
           "showlakes": true,
           "showland": true,
           "subunitcolor": "#C8D4E3"
          },
          "hoverlabel": {
           "align": "left"
          },
          "hovermode": "closest",
          "mapbox": {
           "style": "light"
          },
          "paper_bgcolor": "white",
          "plot_bgcolor": "white",
          "polar": {
           "angularaxis": {
            "gridcolor": "#EBF0F8",
            "linecolor": "#EBF0F8",
            "ticks": ""
           },
           "bgcolor": "white",
           "radialaxis": {
            "gridcolor": "#EBF0F8",
            "linecolor": "#EBF0F8",
            "ticks": ""
           }
          },
          "scene": {
           "xaxis": {
            "backgroundcolor": "white",
            "gridcolor": "#DFE8F3",
            "gridwidth": 2,
            "linecolor": "#EBF0F8",
            "showbackground": true,
            "ticks": "",
            "zerolinecolor": "#EBF0F8"
           },
           "yaxis": {
            "backgroundcolor": "white",
            "gridcolor": "#DFE8F3",
            "gridwidth": 2,
            "linecolor": "#EBF0F8",
            "showbackground": true,
            "ticks": "",
            "zerolinecolor": "#EBF0F8"
           },
           "zaxis": {
            "backgroundcolor": "white",
            "gridcolor": "#DFE8F3",
            "gridwidth": 2,
            "linecolor": "#EBF0F8",
            "showbackground": true,
            "ticks": "",
            "zerolinecolor": "#EBF0F8"
           }
          },
          "shapedefaults": {
           "line": {
            "color": "#2a3f5f"
           }
          },
          "ternary": {
           "aaxis": {
            "gridcolor": "#DFE8F3",
            "linecolor": "#A2B1C6",
            "ticks": ""
           },
           "baxis": {
            "gridcolor": "#DFE8F3",
            "linecolor": "#A2B1C6",
            "ticks": ""
           },
           "bgcolor": "white",
           "caxis": {
            "gridcolor": "#DFE8F3",
            "linecolor": "#A2B1C6",
            "ticks": ""
           }
          },
          "title": {
           "x": 0.05
          },
          "xaxis": {
           "automargin": true,
           "gridcolor": "#EBF0F8",
           "linecolor": "#EBF0F8",
           "ticks": "",
           "title": {
            "standoff": 15
           },
           "zerolinecolor": "#EBF0F8",
           "zerolinewidth": 2
          },
          "yaxis": {
           "automargin": true,
           "gridcolor": "#EBF0F8",
           "linecolor": "#EBF0F8",
           "ticks": "",
           "title": {
            "standoff": 15
           },
           "zerolinecolor": "#EBF0F8",
           "zerolinewidth": 2
          }
         }
        },
        "title": {
         "text": "Price Elasticity of Purchase Probability"
        },
        "xaxis": {
         "anchor": "y",
         "domain": [
          0,
          1
         ],
         "title": {
          "text": "Price Point"
         }
        },
        "yaxis": {
         "anchor": "x",
         "domain": [
          0,
          1
         ],
         "dtick": 1,
         "title": {
          "text": "Price Elasticity"
         }
        }
       }
      }
     },
     "metadata": {}
    }
   ],
   "source": [
    "fig = px.scatter(df_price_elasticities, x='price_point', y='mean_pe',\n",
    "                 title='Price Elasticity of Purchase Probability',\n",
    "                 labels={'mean_pe':'Price Elasticity',\n",
    "                         'price_point':'Price Point'})\n",
    "fig.update_yaxes(dtick=1)"
   ]
  },
  {
   "cell_type": "markdown",
   "metadata": {},
   "source": [
    "#### Interpretation  \n",
    "\n",
    "Price elasticity decreases as price increases and the less likely it will become for people to buy a product.  \n",
    "\n",
    "Between the range of 0.5 and 1.1, the decrease in the elasticity seems to be slow. After 1.1, it becomes steeper.  \n",
    "\n",
    "Elasticity values are negative since the model coefficient was negative which indicates the inverse proportionality between price and purchase probability.  \n",
    "\n",
    "\n",
    "Elasticity measures the percentage in an output variable. In this case this is the purchase probability given a percent change in an input variable which is the price.  \n",
    "\n",
    "Now if this percent change is greater than 100 percent we say that the output or purchase probability is called elastic. On the other hand for changes less than 100 percent it is inelastic.\n",
    "\n",
    "In other words if the elasticity has a value smaller than one in absolute terms we say it is inelastic. If it is greater than one we say it is elastic.  \n",
    "\n",
    "As an example at price point 0.5, an increase of price in 1% will lead to the decrease of purchase probability of -0.096%, this is considered to be inelastic.  At price point 2, an increase of 1% in price will lead to the decrease of -3.53% in the purchase probability and this is considered to be elastic.  \n",
    "\n",
    "Thus the general recommendation would be to increase the price for inelastic values. This range includes price points from \\$0.5 to \\$1.25 and increasing the price in this range wouldn't lead to too much decrease in purchase probability.  In prices higher than 1.25 we would gain more if we reduce our price and thus increase our purchase probability. "
   ]
  },
  {
   "cell_type": "markdown",
   "metadata": {},
   "source": [
    "## Purchase Elasticities for Different Segments"
   ]
  },
  {
   "cell_type": "markdown",
   "metadata": {},
   "source": [
    "## Seg 0"
   ]
  },
  {
   "cell_type": "code",
   "execution_count": 26,
   "metadata": {},
   "outputs": [],
   "source": [
    "# ({0:'Well-off',  2:'Sandard', 1:'Fewer-Opportunities', 3:'Career-Focused'})"
   ]
  },
  {
   "cell_type": "code",
   "execution_count": 27,
   "metadata": {},
   "outputs": [],
   "source": [
    "df_pa_seg_0 = df_purchase_predictors[df_purchase_predictors['segment'] == 'Well-off']"
   ]
  },
  {
   "cell_type": "code",
   "execution_count": 28,
   "metadata": {},
   "outputs": [],
   "source": [
    "y = df_pa_seg_0['incidence']\n",
    "X = pd.DataFrame()\n",
    "X['mean_price'] = df_pa_seg_0[['price_'+ str(i) for i in range(1,6)]].sum(axis=1)/5"
   ]
  },
  {
   "cell_type": "code",
   "execution_count": 29,
   "metadata": {},
   "outputs": [
    {
     "output_type": "execute_result",
     "data": {
      "text/plain": "array([[-1.24562989]])"
     },
     "metadata": {},
     "execution_count": 29
    }
   ],
   "source": [
    "model_incidence_seg_0 = LogisticRegression(solver = 'sag')\n",
    "model_incidence_seg_0.fit(X,y)\n",
    "model_incidence_seg_0.coef_\n",
    "# We observe that the price coefficient for the career focused is -1.24, whereas for the average customer it was -2.35."
   ]
  },
  {
   "cell_type": "code",
   "execution_count": 30,
   "metadata": {},
   "outputs": [],
   "source": [
    "y_pr_seg_0 = model_incidence_seg_0.predict_proba(df_price[['price_point']])\n",
    "purchase_pro_seg_0 = y_pr[:,1]\n",
    "pe_seg_0 = model_incidence_seg_0.coef_ * df_price.price_point.values * (1 - purchase_pro_seg_0)\n",
    "df_price_elasticities['pe_segment_0'] = pe_seg_0[0]"
   ]
  },
  {
   "cell_type": "markdown",
   "metadata": {},
   "source": [
    "## Segment 1"
   ]
  },
  {
   "cell_type": "code",
   "execution_count": 31,
   "metadata": {},
   "outputs": [
    {
     "output_type": "execute_result",
     "data": {
      "text/plain": "array([[-3.63950612]])"
     },
     "metadata": {},
     "execution_count": 31
    }
   ],
   "source": [
    "df_pa_seg_1 = df_purchase_predictors[df_purchase_predictors['segment'] == 'Fewer-Opportunities']\n",
    "y = df_pa_seg_1['incidence']\n",
    "X = pd.DataFrame()\n",
    "X['mean_price'] = df_pa_seg_1[['price_'+ str(i) for i in range(1,6)]].sum(axis=1)/5\n",
    "model_incidence_seg_1 = LogisticRegression(solver = 'sag')\n",
    "model_incidence_seg_1.fit(X,y)\n",
    "model_incidence_seg_1.coef_\n",
    "# We observe that the price coefficient for the few opportunities is -3.4, whereas for the average customer it was -2.35.\n",
    ""
   ]
  },
  {
   "cell_type": "code",
   "execution_count": 32,
   "metadata": {},
   "outputs": [],
   "source": [
    "y_pr_seg_1 = model_incidence_seg_1.predict_proba(df_price[['price_point']])\n",
    "purchase_pro_seg_1 = y_pr[:,1]\n",
    "pe_seg_1 = model_incidence_seg_1.coef_ * df_price.price_point.values * (1 - purchase_pro_seg_1)\n",
    "df_price_elasticities['pe_segment_1'] = pe_seg_1[0]"
   ]
  },
  {
   "cell_type": "markdown",
   "metadata": {},
   "source": [
    "## Seg 2"
   ]
  },
  {
   "cell_type": "code",
   "execution_count": 33,
   "metadata": {},
   "outputs": [
    {
     "output_type": "stream",
     "name": "stdout",
     "text": "[[-1.50812448]]\n"
    }
   ],
   "source": [
    "df_pa_seg_2 = df_purchase_predictors[df_purchase_predictors['segment'] == 'Standard']\n",
    "y = df_pa_seg_2['incidence']\n",
    "X = pd.DataFrame()\n",
    "X['mean_price'] = df_pa_seg_2[['price_'+ str(i) for i in range(1,6)]].sum(axis=1)/5\n",
    "model_incidence_seg_2 = LogisticRegression(solver = 'sag')\n",
    "model_incidence_seg_2.fit(X,y)\n",
    "print(model_incidence_seg_2.coef_)\n",
    "# We observe that the price coefficient for the standard is -1.5, whereas for the average customer it was -2.35.\n",
    "y_pr_seg_2 = model_incidence_seg_2.predict_proba(df_price[['price_point']])\n",
    "purchase_pro_seg_2 = y_pr[:,1]\n",
    "pe_seg_2 = model_incidence_seg_2.coef_ * df_price.price_point.values * (1 - purchase_pro_seg_2)\n",
    "df_price_elasticities['pe_segment_2'] = pe_seg_2[0]"
   ]
  },
  {
   "cell_type": "markdown",
   "metadata": {},
   "source": [
    "## Seg 3"
   ]
  },
  {
   "cell_type": "code",
   "execution_count": 34,
   "metadata": {},
   "outputs": [
    {
     "output_type": "stream",
     "name": "stdout",
     "text": "[[-1.71042693]]\n"
    }
   ],
   "source": [
    "df_pa_seg_3 = df_purchase_predictors[df_purchase_predictors['segment'] == 'Career-Focused']\n",
    "y = df_pa_seg_3['incidence']\n",
    "X = pd.DataFrame()\n",
    "X['mean_price'] = df_pa_seg_3[['price_'+ str(i) for i in range(1,6)]].sum(axis=1)/5\n",
    "model_incidence_seg_3 = LogisticRegression(solver = 'sag')\n",
    "model_incidence_seg_3.fit(X,y)\n",
    "print(model_incidence_seg_3.coef_)\n",
    "# We observe that the price coefficient for the career-focused is -1.7 , whereas for the average customer it was -2.35.\n",
    "y_pr_seg_3 = model_incidence_seg_3.predict_proba(df_price[['price_point']])\n",
    "purchase_pro_seg_3 = y_pr[:,1]\n",
    "pe_seg_3 = model_incidence_seg_3.coef_ * df_price.price_point.values * (1 - purchase_pro_seg_3)\n",
    "df_price_elasticities['pe_segment_3'] = pe_seg_3[0]"
   ]
  },
  {
   "cell_type": "code",
   "execution_count": 35,
   "metadata": {},
   "outputs": [
    {
     "output_type": "execute_result",
     "data": {
      "text/plain": "     price_point   mean_pe  pe_segment_0  pe_segment_1  pe_segment_2  \\\n0           0.50 -0.096541     -0.051205     -0.149612     -0.061995   \n1           0.51 -0.100615     -0.053366     -0.155925     -0.064612   \n2           0.52 -0.104816     -0.055594     -0.162436     -0.067310   \n3           0.53 -0.109148     -0.057892     -0.169149     -0.070091   \n4           0.54 -0.113613     -0.060260     -0.176069     -0.072959   \n..           ...       ...           ...           ...           ...   \n295         3.45 -8.014579     -4.250921    -12.420425     -5.146728   \n296         3.46 -8.039829     -4.264314    -12.459556     -5.162943   \n297         3.47 -8.065045     -4.277688    -12.498633     -5.179135   \n298         3.48 -8.090227     -4.291044    -12.537658     -5.195306   \n299         3.49 -8.115376     -4.304383    -12.576632     -5.211456   \n\n     pe_segment_3  \n0       -0.070312  \n1       -0.073279  \n2       -0.076339  \n3       -0.079494  \n4       -0.082746  \n..            ...  \n295     -5.837119  \n296     -5.855509  \n297     -5.873874  \n298     -5.892214  \n299     -5.910530  \n\n[300 rows x 6 columns]",
      "text/html": "<div>\n<style scoped>\n    .dataframe tbody tr th:only-of-type {\n        vertical-align: middle;\n    }\n\n    .dataframe tbody tr th {\n        vertical-align: top;\n    }\n\n    .dataframe thead th {\n        text-align: right;\n    }\n</style>\n<table border=\"1\" class=\"dataframe\">\n  <thead>\n    <tr style=\"text-align: right;\">\n      <th></th>\n      <th>price_point</th>\n      <th>mean_pe</th>\n      <th>pe_segment_0</th>\n      <th>pe_segment_1</th>\n      <th>pe_segment_2</th>\n      <th>pe_segment_3</th>\n    </tr>\n  </thead>\n  <tbody>\n    <tr>\n      <th>0</th>\n      <td>0.50</td>\n      <td>-0.096541</td>\n      <td>-0.051205</td>\n      <td>-0.149612</td>\n      <td>-0.061995</td>\n      <td>-0.070312</td>\n    </tr>\n    <tr>\n      <th>1</th>\n      <td>0.51</td>\n      <td>-0.100615</td>\n      <td>-0.053366</td>\n      <td>-0.155925</td>\n      <td>-0.064612</td>\n      <td>-0.073279</td>\n    </tr>\n    <tr>\n      <th>2</th>\n      <td>0.52</td>\n      <td>-0.104816</td>\n      <td>-0.055594</td>\n      <td>-0.162436</td>\n      <td>-0.067310</td>\n      <td>-0.076339</td>\n    </tr>\n    <tr>\n      <th>3</th>\n      <td>0.53</td>\n      <td>-0.109148</td>\n      <td>-0.057892</td>\n      <td>-0.169149</td>\n      <td>-0.070091</td>\n      <td>-0.079494</td>\n    </tr>\n    <tr>\n      <th>4</th>\n      <td>0.54</td>\n      <td>-0.113613</td>\n      <td>-0.060260</td>\n      <td>-0.176069</td>\n      <td>-0.072959</td>\n      <td>-0.082746</td>\n    </tr>\n    <tr>\n      <th>...</th>\n      <td>...</td>\n      <td>...</td>\n      <td>...</td>\n      <td>...</td>\n      <td>...</td>\n      <td>...</td>\n    </tr>\n    <tr>\n      <th>295</th>\n      <td>3.45</td>\n      <td>-8.014579</td>\n      <td>-4.250921</td>\n      <td>-12.420425</td>\n      <td>-5.146728</td>\n      <td>-5.837119</td>\n    </tr>\n    <tr>\n      <th>296</th>\n      <td>3.46</td>\n      <td>-8.039829</td>\n      <td>-4.264314</td>\n      <td>-12.459556</td>\n      <td>-5.162943</td>\n      <td>-5.855509</td>\n    </tr>\n    <tr>\n      <th>297</th>\n      <td>3.47</td>\n      <td>-8.065045</td>\n      <td>-4.277688</td>\n      <td>-12.498633</td>\n      <td>-5.179135</td>\n      <td>-5.873874</td>\n    </tr>\n    <tr>\n      <th>298</th>\n      <td>3.48</td>\n      <td>-8.090227</td>\n      <td>-4.291044</td>\n      <td>-12.537658</td>\n      <td>-5.195306</td>\n      <td>-5.892214</td>\n    </tr>\n    <tr>\n      <th>299</th>\n      <td>3.49</td>\n      <td>-8.115376</td>\n      <td>-4.304383</td>\n      <td>-12.576632</td>\n      <td>-5.211456</td>\n      <td>-5.910530</td>\n    </tr>\n  </tbody>\n</table>\n<p>300 rows × 6 columns</p>\n</div>"
     },
     "metadata": {},
     "execution_count": 35
    }
   ],
   "source": [
    "df_price_elasticities"
   ]
  },
  {
   "cell_type": "code",
   "execution_count": 36,
   "metadata": {},
   "outputs": [
    {
     "output_type": "display_data",
     "data": {
      "application/vnd.plotly.v1+json": {
       "config": {
        "plotlyServerURL": "https://plot.ly"
       },
       "data": [
        {
         "mode": "lines",
         "name": "AVG PE",
         "type": "scatter",
         "x": [
          0.5,
          0.51,
          0.52,
          0.53,
          0.54,
          0.55,
          0.56,
          0.5700000000000001,
          0.5800000000000001,
          0.5900000000000001,
          0.6000000000000001,
          0.6100000000000001,
          0.6200000000000001,
          0.6300000000000001,
          0.6400000000000001,
          0.6500000000000001,
          0.6600000000000001,
          0.6700000000000002,
          0.6800000000000002,
          0.6900000000000002,
          0.7000000000000002,
          0.7100000000000002,
          0.7200000000000002,
          0.7300000000000002,
          0.7400000000000002,
          0.7500000000000002,
          0.7600000000000002,
          0.7700000000000002,
          0.7800000000000002,
          0.7900000000000003,
          0.8000000000000003,
          0.8100000000000003,
          0.8200000000000003,
          0.8300000000000003,
          0.8400000000000003,
          0.8500000000000003,
          0.8600000000000003,
          0.8700000000000003,
          0.8800000000000003,
          0.8900000000000003,
          0.9000000000000004,
          0.9100000000000004,
          0.9200000000000004,
          0.9300000000000004,
          0.9400000000000004,
          0.9500000000000004,
          0.9600000000000004,
          0.9700000000000004,
          0.9800000000000004,
          0.9900000000000004,
          1.0000000000000004,
          1.0100000000000005,
          1.0200000000000005,
          1.0300000000000005,
          1.0400000000000005,
          1.0500000000000005,
          1.0600000000000005,
          1.0700000000000005,
          1.0800000000000005,
          1.0900000000000005,
          1.1000000000000005,
          1.1100000000000005,
          1.1200000000000006,
          1.1300000000000006,
          1.1400000000000006,
          1.1500000000000006,
          1.1600000000000006,
          1.1700000000000006,
          1.1800000000000006,
          1.1900000000000006,
          1.2000000000000006,
          1.2100000000000006,
          1.2200000000000006,
          1.2300000000000006,
          1.2400000000000007,
          1.2500000000000007,
          1.2600000000000007,
          1.2700000000000007,
          1.2800000000000007,
          1.2900000000000007,
          1.3000000000000007,
          1.3100000000000007,
          1.3200000000000007,
          1.3300000000000007,
          1.3400000000000007,
          1.3500000000000008,
          1.3600000000000008,
          1.3700000000000008,
          1.3800000000000008,
          1.3900000000000008,
          1.4000000000000008,
          1.4100000000000008,
          1.4200000000000008,
          1.4300000000000008,
          1.4400000000000008,
          1.4500000000000008,
          1.4600000000000009,
          1.4700000000000009,
          1.4800000000000009,
          1.4900000000000009,
          1.5000000000000009,
          1.510000000000001,
          1.520000000000001,
          1.530000000000001,
          1.540000000000001,
          1.550000000000001,
          1.560000000000001,
          1.570000000000001,
          1.580000000000001,
          1.590000000000001,
          1.600000000000001,
          1.610000000000001,
          1.620000000000001,
          1.630000000000001,
          1.640000000000001,
          1.650000000000001,
          1.660000000000001,
          1.670000000000001,
          1.680000000000001,
          1.690000000000001,
          1.700000000000001,
          1.710000000000001,
          1.720000000000001,
          1.730000000000001,
          1.740000000000001,
          1.750000000000001,
          1.7600000000000011,
          1.7700000000000011,
          1.7800000000000011,
          1.7900000000000011,
          1.8000000000000012,
          1.8100000000000012,
          1.8200000000000012,
          1.8300000000000012,
          1.8400000000000012,
          1.8500000000000012,
          1.8600000000000012,
          1.8700000000000012,
          1.8800000000000012,
          1.8900000000000012,
          1.9000000000000012,
          1.9100000000000013,
          1.9200000000000013,
          1.9300000000000013,
          1.9400000000000013,
          1.9500000000000013,
          1.9600000000000013,
          1.9700000000000013,
          1.9800000000000013,
          1.9900000000000013,
          2.0000000000000013,
          2.0100000000000016,
          2.0200000000000014,
          2.030000000000001,
          2.0400000000000014,
          2.0500000000000016,
          2.0600000000000014,
          2.070000000000001,
          2.0800000000000014,
          2.0900000000000016,
          2.1000000000000014,
          2.110000000000001,
          2.1200000000000014,
          2.1300000000000017,
          2.1400000000000015,
          2.1500000000000012,
          2.1600000000000015,
          2.1700000000000017,
          2.1800000000000015,
          2.1900000000000013,
          2.2000000000000015,
          2.2100000000000017,
          2.2200000000000015,
          2.2300000000000013,
          2.2400000000000015,
          2.2500000000000018,
          2.2600000000000016,
          2.2700000000000014,
          2.2800000000000016,
          2.290000000000002,
          2.3000000000000016,
          2.3100000000000014,
          2.3200000000000016,
          2.330000000000002,
          2.3400000000000016,
          2.3500000000000014,
          2.3600000000000017,
          2.370000000000002,
          2.3800000000000017,
          2.3900000000000015,
          2.4000000000000017,
          2.410000000000002,
          2.4200000000000017,
          2.4300000000000015,
          2.4400000000000017,
          2.450000000000002,
          2.4600000000000017,
          2.4700000000000015,
          2.4800000000000018,
          2.490000000000002,
          2.5000000000000018,
          2.5100000000000016,
          2.520000000000002,
          2.530000000000002,
          2.540000000000002,
          2.5500000000000016,
          2.560000000000002,
          2.570000000000002,
          2.580000000000002,
          2.5900000000000016,
          2.600000000000002,
          2.610000000000002,
          2.620000000000002,
          2.6300000000000017,
          2.640000000000002,
          2.650000000000002,
          2.660000000000002,
          2.6700000000000017,
          2.680000000000002,
          2.690000000000002,
          2.700000000000002,
          2.7100000000000017,
          2.720000000000002,
          2.730000000000002,
          2.740000000000002,
          2.7500000000000018,
          2.760000000000002,
          2.7700000000000022,
          2.780000000000002,
          2.790000000000002,
          2.800000000000002,
          2.8100000000000023,
          2.820000000000002,
          2.830000000000002,
          2.840000000000002,
          2.8500000000000023,
          2.860000000000002,
          2.870000000000002,
          2.880000000000002,
          2.8900000000000023,
          2.900000000000002,
          2.910000000000002,
          2.920000000000002,
          2.9300000000000024,
          2.940000000000002,
          2.950000000000002,
          2.960000000000002,
          2.9700000000000024,
          2.980000000000002,
          2.990000000000002,
          3.000000000000002,
          3.0100000000000025,
          3.0200000000000022,
          3.030000000000002,
          3.0400000000000023,
          3.0500000000000025,
          3.0600000000000023,
          3.070000000000002,
          3.0800000000000023,
          3.0900000000000025,
          3.1000000000000023,
          3.110000000000002,
          3.1200000000000023,
          3.1300000000000026,
          3.1400000000000023,
          3.150000000000002,
          3.1600000000000024,
          3.1700000000000026,
          3.1800000000000024,
          3.190000000000002,
          3.2000000000000024,
          3.2100000000000026,
          3.2200000000000024,
          3.230000000000002,
          3.2400000000000024,
          3.2500000000000027,
          3.2600000000000025,
          3.2700000000000022,
          3.2800000000000025,
          3.2900000000000027,
          3.3000000000000025,
          3.3100000000000023,
          3.3200000000000025,
          3.3300000000000027,
          3.3400000000000025,
          3.3500000000000023,
          3.3600000000000025,
          3.3700000000000028,
          3.3800000000000026,
          3.3900000000000023,
          3.4000000000000026,
          3.410000000000003,
          3.4200000000000026,
          3.4300000000000024,
          3.4400000000000026,
          3.450000000000003,
          3.4600000000000026,
          3.4700000000000024,
          3.4800000000000026,
          3.490000000000003
         ],
         "y": [
          -0.09654050313949522,
          -0.10061469355645683,
          -0.1048160583214817,
          -0.10914775377603765,
          -0.11361298818665237,
          -0.11821502142429008,
          -0.12295716457221594,
          -0.12784277945925182,
          -0.13287527811530944,
          -0.1380581221460584,
          -0.14339482202358145,
          -0.14888893628985822,
          -0.15454407066992923,
          -0.16036387709159747,
          -0.16635205260855365,
          -0.1725123382238391,
          -0.17884851761060472,
          -0.185364415727184,
          -0.19206389732355633,
          -0.19895086533636286,
          -0.20602925916973103,
          -0.2133030528592652,
          -0.2207762531166879,
          -0.2284528972527489,
          -0.23633705097617422,
          -0.24443280606659554,
          -0.2527442779195801,
          -0.2612756029620926,
          -0.270030935936933,
          -0.2790144470549287,
          -0.28823031901392815,
          -0.297682743883898,
          -0.30737591985773255,
          -0.317314047867687,
          -0.3275013280676748,
          -0.3379419561820211,
          -0.34864011972162084,
          -0.3595999940688411,
          -0.3708257384328999,
          -0.3823214916778743,
          -0.39409136802592193,
          -0.4061394526387469,
          -0.4184697970808018,
          -0.43108641466819814,
          -0.4439932757077728,
          -0.457194302631273,
          -0.47069336503010695,
          -0.48449427459664823,
          -0.49860077997856855,
          -0.5130165615532318,
          -0.5277452261296827,
          -0.5427903015862946,
          -0.5581552314526704,
          -0.5738433694448944,
          -0.5898579739637508,
          -0.6062022025660212,
          -0.6228791064194498,
          -0.6398916247524438,
          -0.6572425793100237,
          -0.6749346688279537,
          -0.692970463537403,
          -0.711352399712845,
          -0.7300827742762556,
          -0.7491637394709709,
          -0.7685972976188479,
          -0.7883852959745796,
          -0.8085294216912368,
          -0.8290311969112164,
          -0.8498919739968951,
          -0.8711129309153157,
          -0.8926950667912346,
          -0.914639197642781,
          -0.9369459523138699,
          -0.959615768617326,
          -0.9826488897024321,
          -1.0060453606603286,
          -1.0298050253803128,
          -1.0539275236696874,
          -1.0784122886493015,
          -1.1032585444364014,
          -1.1284653041258013,
          -1.1540313680797154,
          -1.179955322535883,
          -1.2062355385428383,
          -1.2328701712303538,
          -1.259857159422206,
          -1.2871942255974942,
          -1.3148788762057693,
          -1.342908402340232,
          -1.3712798807722155,
          -1.399990175349085,
          -1.429035938756616,
          -1.4584136146457625,
          -1.4881194401226143,
          -1.5181494485991913,
          -1.5484994730015738,
          -1.5791651493307133,
          -1.6101419205701482,
          -1.6414250409336866,
          -1.673009580445049,
          -1.7048904298403387,
          -1.7370623057831822,
          -1.7695197563813463,
          -1.802257166992665,
          -1.8352687663071612,
          -1.8685486326913958,
          -1.9020907007802124,
          -1.9358887683002983,
          -1.9699365031092786,
          -2.004227450433407,
          -2.0387550402863566,
          -2.0735125950511204,
          -2.1084933372065966,
          -2.1436903971801033,
          -2.1790968213067767,
          -2.214705579876643,
          -2.250509575250012,
          -2.286501650021832,
          -2.3226745952156618,
          -2.3590211584880647,
          -2.39553405232439,
          -2.4322059622071976,
          -2.4690295547388996,
          -2.505997485700619,
          -2.5431024080297044,
          -2.580336979698867,
          -2.617693871480542,
          -2.6551657745806327,
          -2.692745408126548,
          -2.7304255264951403,
          -2.7681989264669213,
          -2.806058454193763,
          -2.8439970119680797,
          -2.8820075647823917,
          -2.920083146669025,
          -2.9582168668105986,
          -2.9964019154128683,
          -3.0346315693323986,
          -3.0728991974524553,
          -3.1111982658014083,
          -3.1495223424088743,
          -3.1878651018956767,
          -3.2262203297946273,
          -3.2645819265999547,
          -3.302943911544079,
          -3.341300426101236,
          -3.379645737218232,
          -3.417974240273398,
          -3.456280461765516,
          -3.4945590617351945,
          -3.5328048359218385,
          -3.5710127176599578,
          -3.609177779519174,
          -3.6472952346928076,
          -3.6853604381404232,
          -3.723368887490238,
          -3.7613162237076203,
          -3.799198231536419,
          -3.8370108397200826,
          -3.8747501210099156,
          -3.9124122919680993,
          -3.9499937125732365,
          -3.9874908856365052,
          -4.024900456036529,
          -4.062219209781329,
          -4.099444072905697,
          -4.136572110212452,
          -4.173600523866049,
          -4.210526651847012,
          -4.247347966275642,
          -4.284062071613364,
          -4.32066670275003,
          -4.357159722985405,
          -4.393539121912896,
          -4.429803013213472,
          -4.4659496323675585,
          -4.501977334292557,
          -4.537884590913346,
          -4.573669988673055,
          -4.6093322259910705,
          -4.6448701106751145,
          -4.680282557293916,
          -4.715568584516829,
          -4.75072731242647,
          -4.785757959810225,
          -4.820659841436207,
          -4.85543236531901,
          -4.890075029980335,
          -4.924587421709358,
          -4.958969211827378,
          -4.993220153961129,
          -5.027340081328794,
          -5.061328904042625,
          -5.0951866064317235,
          -5.128913244388386,
          -5.162508942741132,
          -5.19597389265734,
          -5.229308349078203,
          -5.262512628188435,
          -5.295587104923067,
          -5.328532210513361,
          -5.361348430073741,
          -5.394036300231435,
          -5.426596406800332,
          -5.459029382500421,
          -5.491335904723958,
          -5.523516693349419,
          -5.555572508604056,
          -5.587504148975857,
          -5.61931244917543,
          -5.650998278148311,
          -5.682562537138034,
          -5.7140061578001795,
          -5.745330100367528,
          -5.77653535186633,
          -5.807622924383598,
          -5.838593853385301,
          -5.869449196085141,
          -5.900190029863651,
          -5.930817450737159,
          -5.961332571876199,
          -5.991736522172809,
          -6.02203044485616,
          -6.052215496155863,
          -6.082292844012292,
          -6.1122636668332015,
          -6.142129152295872,
          -6.171890496194009,
          -6.201548901328559,
          -6.231105576441627,
          -6.260561735192585,
          -6.289918595175521,
          -6.319177376977125,
          -6.348339303274071,
          -6.377405597969006,
          -6.4063774853641675,
          -6.435256189371747,
          -6.464042932760007,
          -6.4927389364342405,
          -6.521345418751623,
          -6.549863594869003,
          -6.578294676122737,
          -6.606639869439586,
          -6.63490037677779,
          -6.6630773945974076,
          -6.691172113358988,
          -6.71918571704972,
          -6.747119382736141,
          -6.774974280142577,
          -6.802751571254419,
          -6.83045240994543,
          -6.858077941628225,
          -6.885629302927144,
          -6.913107621372699,
          -6.940514015116828,
          -6.967849592668189,
          -6.995115452646749,
          -7.022312683556944,
          -7.049442363578687,
          -7.076505560375533,
          -7.103503330919336,
          -7.130436721330718,
          -7.157306766734721,
          -7.184114491131,
          -7.210860907277972,
          -7.237547016590317,
          -7.264173809049236,
          -7.290742263124949,
          -7.31725334571085,
          -7.343708012068835,
          -7.370107205785247,
          -7.396451858736978,
          -7.4227428910672595,
          -7.448981211170628,
          -7.475167715686682,
          -7.501303289502147,
          -7.527388805760862,
          -7.553425125881273,
          -7.579413099581044,
          -7.605353564908405,
          -7.631247348279889,
          -7.657095264524095,
          -7.682898116931142,
          -7.708656697307503,
          -7.734371786035876,
          -7.760044152139841,
          -7.78567455335296,
          -7.8112637361920765,
          -7.83681243603454,
          -7.8623213771990965,
          -7.887791273030202,
          -7.913222825985506,
          -7.938616727726316,
          -7.963973659210788,
          -7.989294290789655,
          -8.014579282304275,
          -8.039829283186842,
          -8.065044932562548,
          -8.090226859353532,
          -8.115375682384427
         ]
        },
        {
         "mode": "lines",
         "name": "Well-off PE",
         "type": "scatter",
         "x": [
          0.5,
          0.51,
          0.52,
          0.53,
          0.54,
          0.55,
          0.56,
          0.5700000000000001,
          0.5800000000000001,
          0.5900000000000001,
          0.6000000000000001,
          0.6100000000000001,
          0.6200000000000001,
          0.6300000000000001,
          0.6400000000000001,
          0.6500000000000001,
          0.6600000000000001,
          0.6700000000000002,
          0.6800000000000002,
          0.6900000000000002,
          0.7000000000000002,
          0.7100000000000002,
          0.7200000000000002,
          0.7300000000000002,
          0.7400000000000002,
          0.7500000000000002,
          0.7600000000000002,
          0.7700000000000002,
          0.7800000000000002,
          0.7900000000000003,
          0.8000000000000003,
          0.8100000000000003,
          0.8200000000000003,
          0.8300000000000003,
          0.8400000000000003,
          0.8500000000000003,
          0.8600000000000003,
          0.8700000000000003,
          0.8800000000000003,
          0.8900000000000003,
          0.9000000000000004,
          0.9100000000000004,
          0.9200000000000004,
          0.9300000000000004,
          0.9400000000000004,
          0.9500000000000004,
          0.9600000000000004,
          0.9700000000000004,
          0.9800000000000004,
          0.9900000000000004,
          1.0000000000000004,
          1.0100000000000005,
          1.0200000000000005,
          1.0300000000000005,
          1.0400000000000005,
          1.0500000000000005,
          1.0600000000000005,
          1.0700000000000005,
          1.0800000000000005,
          1.0900000000000005,
          1.1000000000000005,
          1.1100000000000005,
          1.1200000000000006,
          1.1300000000000006,
          1.1400000000000006,
          1.1500000000000006,
          1.1600000000000006,
          1.1700000000000006,
          1.1800000000000006,
          1.1900000000000006,
          1.2000000000000006,
          1.2100000000000006,
          1.2200000000000006,
          1.2300000000000006,
          1.2400000000000007,
          1.2500000000000007,
          1.2600000000000007,
          1.2700000000000007,
          1.2800000000000007,
          1.2900000000000007,
          1.3000000000000007,
          1.3100000000000007,
          1.3200000000000007,
          1.3300000000000007,
          1.3400000000000007,
          1.3500000000000008,
          1.3600000000000008,
          1.3700000000000008,
          1.3800000000000008,
          1.3900000000000008,
          1.4000000000000008,
          1.4100000000000008,
          1.4200000000000008,
          1.4300000000000008,
          1.4400000000000008,
          1.4500000000000008,
          1.4600000000000009,
          1.4700000000000009,
          1.4800000000000009,
          1.4900000000000009,
          1.5000000000000009,
          1.510000000000001,
          1.520000000000001,
          1.530000000000001,
          1.540000000000001,
          1.550000000000001,
          1.560000000000001,
          1.570000000000001,
          1.580000000000001,
          1.590000000000001,
          1.600000000000001,
          1.610000000000001,
          1.620000000000001,
          1.630000000000001,
          1.640000000000001,
          1.650000000000001,
          1.660000000000001,
          1.670000000000001,
          1.680000000000001,
          1.690000000000001,
          1.700000000000001,
          1.710000000000001,
          1.720000000000001,
          1.730000000000001,
          1.740000000000001,
          1.750000000000001,
          1.7600000000000011,
          1.7700000000000011,
          1.7800000000000011,
          1.7900000000000011,
          1.8000000000000012,
          1.8100000000000012,
          1.8200000000000012,
          1.8300000000000012,
          1.8400000000000012,
          1.8500000000000012,
          1.8600000000000012,
          1.8700000000000012,
          1.8800000000000012,
          1.8900000000000012,
          1.9000000000000012,
          1.9100000000000013,
          1.9200000000000013,
          1.9300000000000013,
          1.9400000000000013,
          1.9500000000000013,
          1.9600000000000013,
          1.9700000000000013,
          1.9800000000000013,
          1.9900000000000013,
          2.0000000000000013,
          2.0100000000000016,
          2.0200000000000014,
          2.030000000000001,
          2.0400000000000014,
          2.0500000000000016,
          2.0600000000000014,
          2.070000000000001,
          2.0800000000000014,
          2.0900000000000016,
          2.1000000000000014,
          2.110000000000001,
          2.1200000000000014,
          2.1300000000000017,
          2.1400000000000015,
          2.1500000000000012,
          2.1600000000000015,
          2.1700000000000017,
          2.1800000000000015,
          2.1900000000000013,
          2.2000000000000015,
          2.2100000000000017,
          2.2200000000000015,
          2.2300000000000013,
          2.2400000000000015,
          2.2500000000000018,
          2.2600000000000016,
          2.2700000000000014,
          2.2800000000000016,
          2.290000000000002,
          2.3000000000000016,
          2.3100000000000014,
          2.3200000000000016,
          2.330000000000002,
          2.3400000000000016,
          2.3500000000000014,
          2.3600000000000017,
          2.370000000000002,
          2.3800000000000017,
          2.3900000000000015,
          2.4000000000000017,
          2.410000000000002,
          2.4200000000000017,
          2.4300000000000015,
          2.4400000000000017,
          2.450000000000002,
          2.4600000000000017,
          2.4700000000000015,
          2.4800000000000018,
          2.490000000000002,
          2.5000000000000018,
          2.5100000000000016,
          2.520000000000002,
          2.530000000000002,
          2.540000000000002,
          2.5500000000000016,
          2.560000000000002,
          2.570000000000002,
          2.580000000000002,
          2.5900000000000016,
          2.600000000000002,
          2.610000000000002,
          2.620000000000002,
          2.6300000000000017,
          2.640000000000002,
          2.650000000000002,
          2.660000000000002,
          2.6700000000000017,
          2.680000000000002,
          2.690000000000002,
          2.700000000000002,
          2.7100000000000017,
          2.720000000000002,
          2.730000000000002,
          2.740000000000002,
          2.7500000000000018,
          2.760000000000002,
          2.7700000000000022,
          2.780000000000002,
          2.790000000000002,
          2.800000000000002,
          2.8100000000000023,
          2.820000000000002,
          2.830000000000002,
          2.840000000000002,
          2.8500000000000023,
          2.860000000000002,
          2.870000000000002,
          2.880000000000002,
          2.8900000000000023,
          2.900000000000002,
          2.910000000000002,
          2.920000000000002,
          2.9300000000000024,
          2.940000000000002,
          2.950000000000002,
          2.960000000000002,
          2.9700000000000024,
          2.980000000000002,
          2.990000000000002,
          3.000000000000002,
          3.0100000000000025,
          3.0200000000000022,
          3.030000000000002,
          3.0400000000000023,
          3.0500000000000025,
          3.0600000000000023,
          3.070000000000002,
          3.0800000000000023,
          3.0900000000000025,
          3.1000000000000023,
          3.110000000000002,
          3.1200000000000023,
          3.1300000000000026,
          3.1400000000000023,
          3.150000000000002,
          3.1600000000000024,
          3.1700000000000026,
          3.1800000000000024,
          3.190000000000002,
          3.2000000000000024,
          3.2100000000000026,
          3.2200000000000024,
          3.230000000000002,
          3.2400000000000024,
          3.2500000000000027,
          3.2600000000000025,
          3.2700000000000022,
          3.2800000000000025,
          3.2900000000000027,
          3.3000000000000025,
          3.3100000000000023,
          3.3200000000000025,
          3.3300000000000027,
          3.3400000000000025,
          3.3500000000000023,
          3.3600000000000025,
          3.3700000000000028,
          3.3800000000000026,
          3.3900000000000023,
          3.4000000000000026,
          3.410000000000003,
          3.4200000000000026,
          3.4300000000000024,
          3.4400000000000026,
          3.450000000000003,
          3.4600000000000026,
          3.4700000000000024,
          3.4800000000000026,
          3.490000000000003
         ],
         "y": [
          -0.05120493984857383,
          -0.053365884410160734,
          -0.055594282057562325,
          -0.05789180690961725,
          -0.06026016062613906,
          -0.06270107223785792,
          -0.06521629793843263,
          -0.06780762083688999,
          -0.07047685066884056,
          -0.07322582346480344,
          -0.07605640117397082,
          -0.07897047124173703,
          -0.081969946139322,
          -0.0850567628438224,
          -0.08823288226703889,
          -0.09150028863144262,
          -0.09486098879166766,
          -0.09831701149994772,
          -0.10187040661394656,
          -0.10552324424547678,
          -0.10927761384865171,
          -0.11313562324606866,
          -0.11709939759168965,
          -0.12117107826915546,
          -0.12535282172435136,
          -0.12964679823113237,
          -0.1340551905892107,
          -0.13858019275332073,
          -0.14322400839288857,
          -0.14798884938155932,
          -0.15287693421607546,
          -0.15789048636413708,
          -0.16303173254103615,
          -0.1683029009150174,
          -0.17370621924149438,
          -0.17924391292643355,
          -0.18491820301941012,
          -0.1907313041370461,
          -0.19668542231774924,
          -0.20278275280889463,
          -0.20902547778781977,
          -0.21541576401824075,
          -0.2219557604439412,
          -0.22864759572184118,
          -0.23549337569680534,
          -0.24249518082082164,
          -0.24965506351944056,
          -0.25697504550865036,
          -0.26445711506562275,
          -0.27210322425705935,
          -0.2799152861291343,
          -0.2878951718633107,
          -0.2960447079025885,
          -0.30436567305301065,
          -0.3128597955655259,
          -0.32152875020357374,
          -0.33037415530200553,
          -0.33939756982321423,
          -0.34860049041657865,
          -0.35798434848755,
          -0.36755050728293287,
          -0.37730025899909897,
          -0.3872348219200615,
          -0.3973553375924977,
          -0.407662868044954,
          -0.4181583930585832,
          -0.4288428074968746,
          -0.43971691870190066,
          -0.45078144396466246,
          -0.4620370080771346,
          -0.47348414097360764,
          -0.48512327546888845,
          -0.4969547451008581,
          -0.50897878208479,
          -0.5211955153867037,
          -0.5336049689228731,
          -0.5462070598924131,
          -0.5590015972496505,
          -0.5719882803227232,
          -0.5851666975845682,
          -0.5985363255821369,
          -0.6120965280293251,
          -0.6258465550687241,
          -0.6397855427068893,
          -0.6539125124273852,
          -0.6682263709853965,
          -0.682725910387211,
          -0.6974098080573647,
          -0.7122766271957044,
          -0.7273248173260757,
          -0.7425527150377669,
          -0.7579585449202721,
          -0.7735404206913259,
          -0.7892963465175727,
          -0.805224218526624,
          -0.8213218265086457,
          -0.8375868558050078,
          -0.8540168893809297,
          -0.8706094100784457,
          -0.8873618030454405,
          -0.904271358335912,
          -0.921335273676075,
          -0.9385506573903653,
          -0.9559145314808954,
          -0.9734238348534037,
          -0.9910754266822862,
          -1.0088660899068491,
          -1.0267925348505156,
          -1.044851402954351,
          -1.0630392706159217,
          -1.0813526531242135,
          -1.0997880086810579,
          -1.1183417424993027,
          -1.1370102109677744,
          -1.1557897258729304,
          -1.1746765586670143,
          -1.1936669447724493,
          -1.2127570879121987,
          -1.231943164455838,
          -1.2512213277711524,
          -1.2705877125711662,
          -1.290038439246665,
          -1.3095696181744325,
          -1.3291773539916567,
          -1.3488577498271899,
          -1.3686069114806356,
          -1.3884209515405512,
          -1.4082959934333747,
          -1.42822817539507,
          -1.4482136543578534,
          -1.4682486097447793,
          -1.4883292471653986,
          -1.508451802006122,
          -1.5286125429094044,
          -1.5488077751363107,
          -1.5690338438075107,
          -1.5892871370182249,
          -1.6095640888231355,
          -1.6298611820877495,
          -1.6501749512031942,
          -1.6705019846619062,
          -1.6908389274921416,
          -1.7111824835497091,
          -1.7315294176657838,
          -1.7518765576501016,
          -1.772220796149276,
          -1.7925590923603858,
          -1.8128884736004007,
          -1.8332060367323832,
          -1.8535089494497827,
          -1.8737944514204894,
          -1.8940598552926329,
          -1.9143025475644408,
          -1.9345199893207403,
          -1.9547097168389669,
          -1.9748693420677956,
          -1.9949965529817166,
          -2.0150891138151117,
          -2.035144865179536,
          -2.055161724068101,
          -2.075137683750991,
          -2.0950708135662506,
          -2.1149592586101083,
          -2.134801239331157,
          -2.1545950510328122,
          -2.174339063288481,
          -2.194031719273928,
          -2.2136715350213234,
          -2.233257098599481,
          -2.2527870692247545,
          -2.272260176307031,
          -2.2916752184352442,
          -2.311031062306755,
          -2.330326641604885,
          -2.3495609558288133,
          -2.368733069079973,
          -2.3878421088089894,
          -2.406887264527083,
          -2.4258677864857834,
          -2.444782984328662,
          -2.4636322257186993,
          -2.482414934944759,
          -2.5011305915105178,
          -2.519778728709101,
          -2.5383589321864948,
          -2.556870838496721,
          -2.5753141336515974,
          -2.5936885516677783,
          -2.611993873113654,
          -2.6302299236585287,
          -2.648396572626388,
          -2.666493731556402,
          -2.6845213527722436,
          -2.70247942796209,
          -2.720367986771134,
          -2.7381870954082363,
          -2.7559368552682924,
          -2.773617401571731,
          -2.7912289020224588,
          -2.8087715554854595,
          -2.826245590685155,
          -2.8436512649255192,
          -2.860988862832837,
          -2.8782586951219282,
          -2.8954610973865362,
          -2.912596428914512,
          -2.9296650715283317,
          -2.9466674284514047,
          -2.963603923200575,
          -2.980474998505114,
          -2.997281115252447,
          -3.014022751460808,
          -3.030700401278937,
          -3.0473145740128795,
          -3.0638657931798954,
          -3.0803545955894376,
          -3.0967815304511204,
          -3.113147158509528,
          -3.1294520512056967,
          -3.145696789865064,
          -3.1618819649116316,
          -3.1780081751080655,
          -3.1940760268214228,
          -3.210086133314178,
          -3.2260391140601725,
          -3.241935594085136,
          -3.257776203331338,
          -3.273561576045989,
          -3.2892923501929285,
          -3.3049691668871777,
          -3.320592669851871,
          -3.3361635048971077,
          -3.35168231942026,
          -3.3671497619272257,
          -3.382566481574155,
          -3.3979331277291402,
          -3.4132503495533957,
          -3.428518795601396,
          -3.4437391134395,
          -3.458911949282548,
          -3.4740379476479335,
          -3.489117751026665,
          -3.5041519995709076,
          -3.519141330797533,
          -3.534086379307182,
          -3.5489877765183673,
          -3.56384615041614,
          -3.5786621253148483,
          -3.59343632163454,
          -3.608169355690546,
          -3.622861839495802,
          -3.637514380575461,
          -3.652127581793389,
          -3.6667020411900997,
          -3.6812383518317247,
          -3.6957371016696134,
          -3.710198873410169,
          -3.724624244394533,
          -3.7390137864877317,
          -3.7533680659769355,
          -3.767687643478448,
          -3.781973073853099,
          -3.796224906129675,
          -3.8104436834360786,
          -3.8246299429378725,
          -3.838784215783919,
          -3.8529070270587824,
          -3.866998895741616,
          -3.8810603346712456,
          -3.895091850517163,
          -3.9090939437561683,
          -3.9230671086543847,
          -3.9370118332544184,
          -3.9509285993673866,
          -3.9648178825696037,
          -3.978680152203678,
          -3.992515871383807,
          -4.006325497005061,
          -4.020109479756428,
          -4.033868264137448,
          -4.047602288478227,
          -4.061311984962645,
          -4.074997779654593,
          -4.08866009252705,
          -4.102299337493843,
          -4.115915922443941,
          -4.129510249278102,
          -4.143082713947753,
          -4.156633706495951,
          -4.170163611100286,
          -4.183672806117602,
          -4.197161664130395,
          -4.210630551994796,
          -4.2240798308900045,
          -4.237509856369055,
          -4.250920978410826,
          -4.264313541473192,
          -4.277687884547209,
          -4.291044341212246,
          -4.304383239691971
         ]
        },
        {
         "mode": "lines",
         "name": "Fewer-Opportunitites PE",
         "type": "scatter",
         "x": [
          0.5,
          0.51,
          0.52,
          0.53,
          0.54,
          0.55,
          0.56,
          0.5700000000000001,
          0.5800000000000001,
          0.5900000000000001,
          0.6000000000000001,
          0.6100000000000001,
          0.6200000000000001,
          0.6300000000000001,
          0.6400000000000001,
          0.6500000000000001,
          0.6600000000000001,
          0.6700000000000002,
          0.6800000000000002,
          0.6900000000000002,
          0.7000000000000002,
          0.7100000000000002,
          0.7200000000000002,
          0.7300000000000002,
          0.7400000000000002,
          0.7500000000000002,
          0.7600000000000002,
          0.7700000000000002,
          0.7800000000000002,
          0.7900000000000003,
          0.8000000000000003,
          0.8100000000000003,
          0.8200000000000003,
          0.8300000000000003,
          0.8400000000000003,
          0.8500000000000003,
          0.8600000000000003,
          0.8700000000000003,
          0.8800000000000003,
          0.8900000000000003,
          0.9000000000000004,
          0.9100000000000004,
          0.9200000000000004,
          0.9300000000000004,
          0.9400000000000004,
          0.9500000000000004,
          0.9600000000000004,
          0.9700000000000004,
          0.9800000000000004,
          0.9900000000000004,
          1.0000000000000004,
          1.0100000000000005,
          1.0200000000000005,
          1.0300000000000005,
          1.0400000000000005,
          1.0500000000000005,
          1.0600000000000005,
          1.0700000000000005,
          1.0800000000000005,
          1.0900000000000005,
          1.1000000000000005,
          1.1100000000000005,
          1.1200000000000006,
          1.1300000000000006,
          1.1400000000000006,
          1.1500000000000006,
          1.1600000000000006,
          1.1700000000000006,
          1.1800000000000006,
          1.1900000000000006,
          1.2000000000000006,
          1.2100000000000006,
          1.2200000000000006,
          1.2300000000000006,
          1.2400000000000007,
          1.2500000000000007,
          1.2600000000000007,
          1.2700000000000007,
          1.2800000000000007,
          1.2900000000000007,
          1.3000000000000007,
          1.3100000000000007,
          1.3200000000000007,
          1.3300000000000007,
          1.3400000000000007,
          1.3500000000000008,
          1.3600000000000008,
          1.3700000000000008,
          1.3800000000000008,
          1.3900000000000008,
          1.4000000000000008,
          1.4100000000000008,
          1.4200000000000008,
          1.4300000000000008,
          1.4400000000000008,
          1.4500000000000008,
          1.4600000000000009,
          1.4700000000000009,
          1.4800000000000009,
          1.4900000000000009,
          1.5000000000000009,
          1.510000000000001,
          1.520000000000001,
          1.530000000000001,
          1.540000000000001,
          1.550000000000001,
          1.560000000000001,
          1.570000000000001,
          1.580000000000001,
          1.590000000000001,
          1.600000000000001,
          1.610000000000001,
          1.620000000000001,
          1.630000000000001,
          1.640000000000001,
          1.650000000000001,
          1.660000000000001,
          1.670000000000001,
          1.680000000000001,
          1.690000000000001,
          1.700000000000001,
          1.710000000000001,
          1.720000000000001,
          1.730000000000001,
          1.740000000000001,
          1.750000000000001,
          1.7600000000000011,
          1.7700000000000011,
          1.7800000000000011,
          1.7900000000000011,
          1.8000000000000012,
          1.8100000000000012,
          1.8200000000000012,
          1.8300000000000012,
          1.8400000000000012,
          1.8500000000000012,
          1.8600000000000012,
          1.8700000000000012,
          1.8800000000000012,
          1.8900000000000012,
          1.9000000000000012,
          1.9100000000000013,
          1.9200000000000013,
          1.9300000000000013,
          1.9400000000000013,
          1.9500000000000013,
          1.9600000000000013,
          1.9700000000000013,
          1.9800000000000013,
          1.9900000000000013,
          2.0000000000000013,
          2.0100000000000016,
          2.0200000000000014,
          2.030000000000001,
          2.0400000000000014,
          2.0500000000000016,
          2.0600000000000014,
          2.070000000000001,
          2.0800000000000014,
          2.0900000000000016,
          2.1000000000000014,
          2.110000000000001,
          2.1200000000000014,
          2.1300000000000017,
          2.1400000000000015,
          2.1500000000000012,
          2.1600000000000015,
          2.1700000000000017,
          2.1800000000000015,
          2.1900000000000013,
          2.2000000000000015,
          2.2100000000000017,
          2.2200000000000015,
          2.2300000000000013,
          2.2400000000000015,
          2.2500000000000018,
          2.2600000000000016,
          2.2700000000000014,
          2.2800000000000016,
          2.290000000000002,
          2.3000000000000016,
          2.3100000000000014,
          2.3200000000000016,
          2.330000000000002,
          2.3400000000000016,
          2.3500000000000014,
          2.3600000000000017,
          2.370000000000002,
          2.3800000000000017,
          2.3900000000000015,
          2.4000000000000017,
          2.410000000000002,
          2.4200000000000017,
          2.4300000000000015,
          2.4400000000000017,
          2.450000000000002,
          2.4600000000000017,
          2.4700000000000015,
          2.4800000000000018,
          2.490000000000002,
          2.5000000000000018,
          2.5100000000000016,
          2.520000000000002,
          2.530000000000002,
          2.540000000000002,
          2.5500000000000016,
          2.560000000000002,
          2.570000000000002,
          2.580000000000002,
          2.5900000000000016,
          2.600000000000002,
          2.610000000000002,
          2.620000000000002,
          2.6300000000000017,
          2.640000000000002,
          2.650000000000002,
          2.660000000000002,
          2.6700000000000017,
          2.680000000000002,
          2.690000000000002,
          2.700000000000002,
          2.7100000000000017,
          2.720000000000002,
          2.730000000000002,
          2.740000000000002,
          2.7500000000000018,
          2.760000000000002,
          2.7700000000000022,
          2.780000000000002,
          2.790000000000002,
          2.800000000000002,
          2.8100000000000023,
          2.820000000000002,
          2.830000000000002,
          2.840000000000002,
          2.8500000000000023,
          2.860000000000002,
          2.870000000000002,
          2.880000000000002,
          2.8900000000000023,
          2.900000000000002,
          2.910000000000002,
          2.920000000000002,
          2.9300000000000024,
          2.940000000000002,
          2.950000000000002,
          2.960000000000002,
          2.9700000000000024,
          2.980000000000002,
          2.990000000000002,
          3.000000000000002,
          3.0100000000000025,
          3.0200000000000022,
          3.030000000000002,
          3.0400000000000023,
          3.0500000000000025,
          3.0600000000000023,
          3.070000000000002,
          3.0800000000000023,
          3.0900000000000025,
          3.1000000000000023,
          3.110000000000002,
          3.1200000000000023,
          3.1300000000000026,
          3.1400000000000023,
          3.150000000000002,
          3.1600000000000024,
          3.1700000000000026,
          3.1800000000000024,
          3.190000000000002,
          3.2000000000000024,
          3.2100000000000026,
          3.2200000000000024,
          3.230000000000002,
          3.2400000000000024,
          3.2500000000000027,
          3.2600000000000025,
          3.2700000000000022,
          3.2800000000000025,
          3.2900000000000027,
          3.3000000000000025,
          3.3100000000000023,
          3.3200000000000025,
          3.3300000000000027,
          3.3400000000000025,
          3.3500000000000023,
          3.3600000000000025,
          3.3700000000000028,
          3.3800000000000026,
          3.3900000000000023,
          3.4000000000000026,
          3.410000000000003,
          3.4200000000000026,
          3.4300000000000024,
          3.4400000000000026,
          3.450000000000003,
          3.4600000000000026,
          3.4700000000000024,
          3.4800000000000026,
          3.490000000000003
         ],
         "y": [
          -0.14961160917726882,
          -0.15592549987136928,
          -0.16243647632990088,
          -0.16914943002650168,
          -0.1760693329045765,
          -0.18320123688041745,
          -0.19055027323550036,
          -0.1981216518931575,
          -0.20592066057480174,
          -0.2139526638308313,
          -0.2222231019413378,
          -0.23073748968172214,
          -0.23950141494833896,
          -0.24852053723929976,
          -0.257800585985609,
          -0.2673473587278507,
          -0.2771667191337116,
          -0.2872645948517194,
          -0.29764697519666605,
          -0.3083199086623176,
          -0.31928950025715813,
          -0.3305619086590723,
          -0.34214334318507045,
          -0.35404006057236026,
          -0.36625836156731384,
          -0.37880458731914013,
          -0.39168511557534585,
          -0.4049063566764031,
          -0.4184747493473626,
          -0.4323967562845253,
          -0.44667885953568903,
          -0.4613275556728948,
          -0.4763493507570613,
          -0.49175075509437405,
          -0.5075382777847998,
          -0.5237184210636445,
          -0.5402976744376234,
          -0.5572825086175218,
          -0.5746793692501282,
          -0.5924946704527777,
          -0.6107347881545103,
          -0.629406053248541,
          -0.6485147445614533,
          -0.6680670816452691,
          -0.6880692173992952,
          -0.7085272305294268,
          -0.7294471178533585,
          -0.7508347864609762,
          -0.7726960457399688,
          -0.7950365992775549,
          -0.8178620366500017,
          -0.841177825112433,
          -0.8649893012022434,
          -0.8893016622702214,
          -0.9141199579542788,
          -0.9394490816114606,
          -0.9652937617246441,
          -0.9916585533010797,
          -1.0185478292806163,
          -1.0459657719721012,
          -1.0739163645370955,
          -1.1024033825405952,
          -1.1314303855890018,
          -1.1610007090760457,
          -1.1911174560578046,
          -1.2217834892782904,
          -1.2530014233674003,
          -1.2847736172332198,
          -1.3171021666708276,
          -1.3499888972098102,
          -1.383435357222693,
          -1.4174428113163653,
          -1.4520122340284252,
          -1.487144303850067,
          -1.522839397596764,
          -1.5590975851475608,
          -1.5959186245731882,
          -1.633301957672607,
          -1.6712467059368066,
          -1.7097516669578485,
          -1.74881531130023,
          -1.7884357798505877,
          -1.8286108816606668,
          -1.8693380922972793,
          -1.9106145527116907,
          -1.952437068639507,
          -1.994802110540735,
          -2.037705814088143,
          -2.0811439812105355,
          -2.1251120816959235,
          -2.1696052553578866,
          -2.214618314766784,
          -2.2601457485456673,
          -2.3061817252290404,
          -2.3527200976808165,
          -2.3997544080660522,
          -2.4472778933692365,
          -2.495283491450194,
          -2.5437638476268383,
          -2.5927113217723794,
          -2.642117995912822,
          -2.691975682309022,
          -2.742275932005943,
          -2.7930100438302747,
          -2.8441690738160674,
          -2.8957438450367587,
          -2.9477249578205846,
          -3.0001028003252537,
          -3.0528675594466352,
          -3.1060092320352153,
          -3.1595176363932116,
          -3.213382424024466,
          -3.267593091608555,
          -3.3221389931700616,
          -3.3770093524134803,
          -3.432193275194001,
          -3.4876797620941695,
          -3.543457721076419,
          -3.5995159801815135,
          -3.6558433002431285,
          -3.7124283875890907,
          -3.769259906700223,
          -3.8263264927982403,
          -3.883616764334793,
          -3.941119335354448,
          -3.9988228277052222,
          -4.056715883071234,
          -4.11478717480294,
          -4.173025419521559,
          -4.23141938847539,
          -4.289957918626916,
          -4.3486299234508365,
          -4.407424403424478,
          -4.466330456193332,
          -4.525337286395872,
          -4.584434215133158,
          -4.643610689070143,
          -4.702856289157048,
          -4.762160738960529,
          -4.821513912595823,
          -4.880905842252445,
          -4.940326725307391,
          -4.999766931021164,
          -5.0592170068133075,
          -5.118667684115366,
          -5.178109883800567,
          -5.237534721190603,
          -5.296933510641218,
          -5.356297769709307,
          -5.415619222905397,
          -5.474889805036363,
          -5.534101664144194,
          -5.593247164047554,
          -5.652318886493721,
          -5.711309632929226,
          -5.770212425898326,
          -5.8290205100790144,
          -5.887727352966949,
          -5.946326645218131,
          -6.004812300661702,
          -6.063178455994676,
          -6.121419470170643,
          -6.1795299234949645,
          -6.237504616439032,
          -6.295338568186539,
          -6.353027014924724,
          -6.410565407893642,
          -6.467949411206649,
          -6.525174899455192,
          -6.582237955111009,
          -6.6391348657387015,
          -6.695862121031577,
          -6.752416409683502,
          -6.808794616109249,
          -6.864993817025668,
          -6.921011277905758,
          -6.976844449317444,
          -7.03249096315853,
          -7.087948628799061,
          -7.143215429141924,
          -7.198289516612273,
          -7.253169209085883,
          -7.307852985766274,
          -7.3623394830200395,
          -7.416627490179399,
          -7.470715945320685,
          -7.524603931026995,
          -7.578290670142911,
          -7.631775521528804,
          -7.685057975821792,
          -7.738137651210097,
          -7.791014289227116,
          -7.8436877505712035,
          -7.89615801095672,
          -7.948425157001572,
          -8.000489382156125,
          -8.052350982677993,
          -8.104010353656912,
          -8.155467985093479,
          -8.206724458035355,
          -8.25778044077409,
          -8.308636685105537,
          -8.359294022656428,
          -8.409753361279485,
          -8.460015681519168,
          -8.510082033149848,
          -8.559953531788008,
          -8.60963135557981,
          -8.65911674196517,
          -8.708410984519253,
          -8.757515429872088,
          -8.806431474706836,
          -8.855160562837085,
          -8.903704182363347,
          -8.952063862908734,
          -9.000241172933762,
          -9.048237717129977,
          -9.096055133892028,
          -9.143695092867674,
          -9.191159292585112,
          -9.238449458156905,
          -9.28556733905969,
          -9.332514706988764,
          -9.379293353786593,
          -9.425905089444141,
          -9.472351740173977,
          -9.518635146553931,
          -9.564757161740081,
          -9.610719649747836,
          -9.65652448379978,
          -9.702173544738939,
          -9.747668719506077,
          -9.79301189967968,
          -9.838204980077148,
          -9.883249857415796,
          -9.928148429032206,
          -9.972902591658485,
          -10.017514240253972,
          -10.061985266890902,
          -10.106317559692613,
          -10.150513001822814,
          -10.19457347052448,
          -10.23850083620691,
          -10.282296961579547,
          -10.325963700831135,
          -10.369502898852813,
          -10.41291639050376,
          -10.456205999918025,
          -10.499373539851216,
          -10.542420811065695,
          -10.585349601752997,
          -10.62816168699217,
          -10.670858828242816,
          -10.713442772871575,
          -10.755915253710839,
          -10.798277988648524,
          -10.84053268024776,
          -10.882681015395345,
          -10.924724664977868,
          -10.96666528358441,
          -11.008504509234816,
          -11.050243963132463,
          -11.091885249440557,
          -11.13342995508097,
          -11.174879649554715,
          -11.216235884783064,
          -11.257500194968522,
          -11.298674096474672,
          -11.339759087724167,
          -11.38075664911399,
          -11.42166824294718,
          -11.462495313380304,
          -11.503239286385927,
          -11.543901569729336,
          -11.584483552958837,
          -11.624986607408978,
          -11.665412086216012,
          -11.705761324345016,
          -11.746035638628019,
          -11.786236327812595,
          -11.826364672620345,
          -11.866421935814707,
          -11.906409362277607,
          -11.94632817909443,
          -11.986179595646806,
          -12.025964803712817,
          -12.065684977574072,
          -12.10534127412931,
          -12.144934833014071,
          -12.184466776726058,
          -12.223938210755803,
          -12.26335022372224,
          -12.302703887512891,
          -12.342000257428305,
          -12.38124037233039,
          -12.420425254794381,
          -12.45955591126413,
          -12.498633332210428,
          -12.537658492292094,
          -12.576632350519553
         ]
        },
        {
         "mode": "lines",
         "name": "Standard PE",
         "type": "scatter",
         "x": [
          0.5,
          0.51,
          0.52,
          0.53,
          0.54,
          0.55,
          0.56,
          0.5700000000000001,
          0.5800000000000001,
          0.5900000000000001,
          0.6000000000000001,
          0.6100000000000001,
          0.6200000000000001,
          0.6300000000000001,
          0.6400000000000001,
          0.6500000000000001,
          0.6600000000000001,
          0.6700000000000002,
          0.6800000000000002,
          0.6900000000000002,
          0.7000000000000002,
          0.7100000000000002,
          0.7200000000000002,
          0.7300000000000002,
          0.7400000000000002,
          0.7500000000000002,
          0.7600000000000002,
          0.7700000000000002,
          0.7800000000000002,
          0.7900000000000003,
          0.8000000000000003,
          0.8100000000000003,
          0.8200000000000003,
          0.8300000000000003,
          0.8400000000000003,
          0.8500000000000003,
          0.8600000000000003,
          0.8700000000000003,
          0.8800000000000003,
          0.8900000000000003,
          0.9000000000000004,
          0.9100000000000004,
          0.9200000000000004,
          0.9300000000000004,
          0.9400000000000004,
          0.9500000000000004,
          0.9600000000000004,
          0.9700000000000004,
          0.9800000000000004,
          0.9900000000000004,
          1.0000000000000004,
          1.0100000000000005,
          1.0200000000000005,
          1.0300000000000005,
          1.0400000000000005,
          1.0500000000000005,
          1.0600000000000005,
          1.0700000000000005,
          1.0800000000000005,
          1.0900000000000005,
          1.1000000000000005,
          1.1100000000000005,
          1.1200000000000006,
          1.1300000000000006,
          1.1400000000000006,
          1.1500000000000006,
          1.1600000000000006,
          1.1700000000000006,
          1.1800000000000006,
          1.1900000000000006,
          1.2000000000000006,
          1.2100000000000006,
          1.2200000000000006,
          1.2300000000000006,
          1.2400000000000007,
          1.2500000000000007,
          1.2600000000000007,
          1.2700000000000007,
          1.2800000000000007,
          1.2900000000000007,
          1.3000000000000007,
          1.3100000000000007,
          1.3200000000000007,
          1.3300000000000007,
          1.3400000000000007,
          1.3500000000000008,
          1.3600000000000008,
          1.3700000000000008,
          1.3800000000000008,
          1.3900000000000008,
          1.4000000000000008,
          1.4100000000000008,
          1.4200000000000008,
          1.4300000000000008,
          1.4400000000000008,
          1.4500000000000008,
          1.4600000000000009,
          1.4700000000000009,
          1.4800000000000009,
          1.4900000000000009,
          1.5000000000000009,
          1.510000000000001,
          1.520000000000001,
          1.530000000000001,
          1.540000000000001,
          1.550000000000001,
          1.560000000000001,
          1.570000000000001,
          1.580000000000001,
          1.590000000000001,
          1.600000000000001,
          1.610000000000001,
          1.620000000000001,
          1.630000000000001,
          1.640000000000001,
          1.650000000000001,
          1.660000000000001,
          1.670000000000001,
          1.680000000000001,
          1.690000000000001,
          1.700000000000001,
          1.710000000000001,
          1.720000000000001,
          1.730000000000001,
          1.740000000000001,
          1.750000000000001,
          1.7600000000000011,
          1.7700000000000011,
          1.7800000000000011,
          1.7900000000000011,
          1.8000000000000012,
          1.8100000000000012,
          1.8200000000000012,
          1.8300000000000012,
          1.8400000000000012,
          1.8500000000000012,
          1.8600000000000012,
          1.8700000000000012,
          1.8800000000000012,
          1.8900000000000012,
          1.9000000000000012,
          1.9100000000000013,
          1.9200000000000013,
          1.9300000000000013,
          1.9400000000000013,
          1.9500000000000013,
          1.9600000000000013,
          1.9700000000000013,
          1.9800000000000013,
          1.9900000000000013,
          2.0000000000000013,
          2.0100000000000016,
          2.0200000000000014,
          2.030000000000001,
          2.0400000000000014,
          2.0500000000000016,
          2.0600000000000014,
          2.070000000000001,
          2.0800000000000014,
          2.0900000000000016,
          2.1000000000000014,
          2.110000000000001,
          2.1200000000000014,
          2.1300000000000017,
          2.1400000000000015,
          2.1500000000000012,
          2.1600000000000015,
          2.1700000000000017,
          2.1800000000000015,
          2.1900000000000013,
          2.2000000000000015,
          2.2100000000000017,
          2.2200000000000015,
          2.2300000000000013,
          2.2400000000000015,
          2.2500000000000018,
          2.2600000000000016,
          2.2700000000000014,
          2.2800000000000016,
          2.290000000000002,
          2.3000000000000016,
          2.3100000000000014,
          2.3200000000000016,
          2.330000000000002,
          2.3400000000000016,
          2.3500000000000014,
          2.3600000000000017,
          2.370000000000002,
          2.3800000000000017,
          2.3900000000000015,
          2.4000000000000017,
          2.410000000000002,
          2.4200000000000017,
          2.4300000000000015,
          2.4400000000000017,
          2.450000000000002,
          2.4600000000000017,
          2.4700000000000015,
          2.4800000000000018,
          2.490000000000002,
          2.5000000000000018,
          2.5100000000000016,
          2.520000000000002,
          2.530000000000002,
          2.540000000000002,
          2.5500000000000016,
          2.560000000000002,
          2.570000000000002,
          2.580000000000002,
          2.5900000000000016,
          2.600000000000002,
          2.610000000000002,
          2.620000000000002,
          2.6300000000000017,
          2.640000000000002,
          2.650000000000002,
          2.660000000000002,
          2.6700000000000017,
          2.680000000000002,
          2.690000000000002,
          2.700000000000002,
          2.7100000000000017,
          2.720000000000002,
          2.730000000000002,
          2.740000000000002,
          2.7500000000000018,
          2.760000000000002,
          2.7700000000000022,
          2.780000000000002,
          2.790000000000002,
          2.800000000000002,
          2.8100000000000023,
          2.820000000000002,
          2.830000000000002,
          2.840000000000002,
          2.8500000000000023,
          2.860000000000002,
          2.870000000000002,
          2.880000000000002,
          2.8900000000000023,
          2.900000000000002,
          2.910000000000002,
          2.920000000000002,
          2.9300000000000024,
          2.940000000000002,
          2.950000000000002,
          2.960000000000002,
          2.9700000000000024,
          2.980000000000002,
          2.990000000000002,
          3.000000000000002,
          3.0100000000000025,
          3.0200000000000022,
          3.030000000000002,
          3.0400000000000023,
          3.0500000000000025,
          3.0600000000000023,
          3.070000000000002,
          3.0800000000000023,
          3.0900000000000025,
          3.1000000000000023,
          3.110000000000002,
          3.1200000000000023,
          3.1300000000000026,
          3.1400000000000023,
          3.150000000000002,
          3.1600000000000024,
          3.1700000000000026,
          3.1800000000000024,
          3.190000000000002,
          3.2000000000000024,
          3.2100000000000026,
          3.2200000000000024,
          3.230000000000002,
          3.2400000000000024,
          3.2500000000000027,
          3.2600000000000025,
          3.2700000000000022,
          3.2800000000000025,
          3.2900000000000027,
          3.3000000000000025,
          3.3100000000000023,
          3.3200000000000025,
          3.3300000000000027,
          3.3400000000000025,
          3.3500000000000023,
          3.3600000000000025,
          3.3700000000000028,
          3.3800000000000026,
          3.3900000000000023,
          3.4000000000000026,
          3.410000000000003,
          3.4200000000000026,
          3.4300000000000024,
          3.4400000000000026,
          3.450000000000003,
          3.4600000000000026,
          3.4700000000000024,
          3.4800000000000026,
          3.490000000000003
         ],
         "y": [
          -0.061995480201960954,
          -0.06461180581784053,
          -0.06730979907083776,
          -0.07009148687088801,
          -0.07295892947267749,
          -0.07591422026974828,
          -0.07895948554268044,
          -0.08209688415936246,
          -0.08532860722535068,
          -0.08865687768229943,
          -0.09208394985244056,
          -0.0956121089270842,
          -0.09924367039711855,
          -0.10298097942349108,
          -0.10682641014567101,
          -0.11078236492611189,
          -0.11485127352876033,
          -0.1190355922296966,
          -0.12333780285802907,
          -0.1277604117652206,
          -0.13230594872108442,
          -0.13697696573475257,
          -0.14177603579900205,
          -0.14670575155640803,
          -0.15176872388589313,
          -0.1569675804083511,
          -0.16230496391013705,
          -0.16778353068335292,
          -0.17340594878199275,
          -0.1791748961931644,
          -0.18509305892277436,
          -0.19116312899522875,
          -0.1973878023668982,
          -0.2037697767532905,
          -0.21031174937008532,
          -0.21701641458841056,
          -0.22388646150497013,
          -0.2309245714278829,
          -0.23813341527934578,
          -0.24551565091650265,
          -0.25307392037217946,
          -0.26081084701743085,
          -0.268729032648142,
          -0.2768310544982348,
          -0.2851194621823363,
          -0.2935967745710946,
          -0.30226547660264197,
          -0.3111280160340481,
          -0.320186800136924,
          -0.3294441923416908,
          -0.33890250883535245,
          -0.3485640151179504,
          -0.3584309225232188,
          -0.36850538470928396,
          -0.37878949412558155,
          -0.3892852784624859,
          -0.3999946970904511,
          -0.41091963749577143,
          -0.42206191172035545,
          -0.43342325281317423,
          -0.4450053113013163,
          -0.45680965168880816,
          -0.4688377489915886,
          -0.4810909853172168,
          -0.49357064649807386,
          -0.5062779187869555,
          -0.5192138856240904,
          -0.5323795244846913,
          -0.5457757038162203,
          -0.55940318007457,
          -0.5732625948683612,
          -0.5873544722205077,
          -0.6016792159561319,
          -0.6162371072257916,
          -0.631028302172826,
          -0.6460528297534432,
          -0.6613105897179282,
          -0.6768013507610925,
          -0.6925247488497681,
          -0.7084802857348026,
          -0.7246673276546253,
          -0.7410851042370277,
          -0.7577327076053426,
          -0.7746090916947055,
          -0.7917130717835542,
          -0.8090433242449595,
          -0.8265983865217836,
          -0.8443766573290481,
          -0.8623763970862416,
          -0.8805957285816334,
          -0.8990326378699653,
          -0.9176849754041971,
          -0.9365504574012564,
          -0.9556266674410161,
          -0.9749110582969894,
          -0.9944009539964989,
          -1.0140935521073238,
          -1.0339859262471205,
          -1.0540750288111602,
          -1.0743576939132409,
          -1.0948306405339092,
          -1.1154904758694737,
          -1.1363336988746104,
          -1.157356703990762,
          -1.178555785051897,
          -1.1999271393586644,
          -1.2214668719114186,
          -1.2431709997921114,
          -1.2650354566845905,
          -1.2870560975224337,
          -1.3092287032530772,
          -1.3315489857066904,
          -1.3540125925579638,
          -1.3766151123687609,
          -1.399352079699413,
          -1.4222189802763112,
          -1.4452112562033743,
          -1.4683243112049593,
          -1.491553515887789,
          -1.514894213009573,
          -1.5383417227420986,
          -1.5618913479167529,
          -1.5855383792406477,
          -1.609278100471779,
          -1.6331057935419533,
          -1.6570167436165413,
          -1.6810062440805198,
          -1.7050696014406397,
          -1.7292021401340252,
          -1.7533992072339573,
          -1.7776561770441062,
          -1.80196845557298,
          -1.826331484880897,
          -1.8507407472923463,
          -1.875191769467154,
          -1.8996801263244623,
          -1.9242014448140947,
          -1.9487514075304841,
          -1.9733257561649116,
          -1.997920294792396,
          -2.0225308929901646,
          -2.0471534887851948,
          -2.0717840914288876,
          -2.096418783997496,
          -2.121053725817459,
          -2.145685154715322,
          -2.1703093890924396,
          -2.194922829825123,
          -2.2195219619913913,
          -2.244103356425912,
          -2.2686636711051373,
          -2.293199652365063,
          -2.31770813595439,
          -2.342186047926234,
          -2.366630405371838,
          -2.391038317000068,
          -2.4154069835667067,
          -2.43973369815786,
          -2.464015846331954,
          -2.488250906125038,
          -2.5124364479242884,
          -2.536570134214703,
          -2.5606497192041697,
          -2.5846730483321254,
          -2.608638057667167,
          -2.6325427731989772,
          -2.6563853100299974,
          -2.680163871472282,
          -2.703876748054985,
          -2.7275223164478892,
          -2.7510990383063674,
          -2.774605459043104,
          -2.798040206531865,
          -2.8214019897484874,
          -2.8446895973542023,
          -2.8679018962262837,
          -2.891037829940924,
          -2.914096417213089,
          -2.937076750298009,
          -2.95997799335878,
          -2.9827993808044795,
          -3.0055402156029754,
          -3.028199867572502,
          -3.0507777716559183,
          -3.073273426181392,
          -3.095686391113098,
          -3.1180162862953673,
          -3.140262789693543,
          -3.162425635634664,
          -3.1845046130509074,
          -3.206499563728586,
          -3.228410380565308,
          -3.2502370058377963,
          -3.2719794294826605,
          -3.293637687392294,
          -3.315211859727911,
          -3.336702069251599,
          -3.358108479679112,
          -3.379431294055005,
          -3.4006707531515596,
          -3.4218271338928465,
          -3.4429007478051243,
          -3.4638919394946623,
          -3.4848010851539626,
          -3.505628591097247,
          -3.526374892325961,
          -3.5470404511249494,
          -3.567625755689864,
          -3.5881313187862744,
          -3.608557676440857,
          -3.628905386664954,
          -3.649175028210735,
          -3.669367199360095,
          -3.689482516746368,
          -3.7095216142088683,
          -3.7294851416801986,
          -3.749373764106238,
          -3.7691881603986293,
          -3.7889290224195533,
          -3.8085970539985587,
          -3.8281929699811204,
          -3.847717495308602,
          -3.8671713641292533,
          -3.886555318939826,
          -3.90587010975738,
          -3.925116493320819,
          -3.9442952323216676,
          -3.9634070946635767,
          -3.982452852750045,
          -4.001433282799807,
          -4.020349164189322,
          -4.03920127882181,
          -4.057990410522251,
          -4.0767173444577525,
          -4.095382866582704,
          -4.113987763108103,
          -4.132532819994467,
          -4.151018822467719,
          -4.16944655455744,
          -4.187816798656876,
          -4.2061303351041275,
          -4.2243879417838786,
          -4.242590393749105,
          -4.260738462862144,
          -4.278832917454557,
          -4.296874522005204,
          -4.314864036835936,
          -4.33280221782437,
          -4.3506898161331655,
          -4.36852757795527,
          -4.386316244274574,
          -4.404056550641474,
          -4.421749226962793,
          -4.439394997305557,
          -4.4569945797141575,
          -4.474548686040348,
          -4.492058021785655,
          -4.509523285955708,
          -4.526945170926033,
          -4.5443243623188545,
          -4.5616615388905055,
          -4.578957372428973,
          -4.596212527661203,
          -4.613427662169749,
          -4.630603426318368,
          -4.647740463186203,
          -4.664839408510151,
          -4.681900890635094,
          -4.6989255304716195,
          -4.715913941460903,
          -4.732866729546424,
          -4.7497844931522,
          -4.766667823167229,
          -4.783517302935847,
          -4.80033350825371,
          -4.817117007369127,
          -4.833868360989465,
          -4.850588122292392,
          -4.8672768369416755,
          -4.8839350431073125,
          -4.900563271489768,
          -4.917162045348074,
          -4.9337318805315915,
          -4.950273285515215,
          -4.9667867614378345,
          -4.983272802143839,
          -4.999731894227503,
          -5.016164517080053,
          -5.032571142939261,
          -5.048952236941383,
          -5.065308257175312,
          -5.081639654738753,
          -5.097946873796314,
          -5.114230351639357,
          -5.130490518747462,
          -5.146727798851402,
          -5.162942608997489,
          -5.1791353596131815,
          -5.195306454573831,
          -5.211456291270472
         ]
        },
        {
         "mode": "lines",
         "name": "Career-Focused PE",
         "type": "scatter",
         "x": [
          0.5,
          0.51,
          0.52,
          0.53,
          0.54,
          0.55,
          0.56,
          0.5700000000000001,
          0.5800000000000001,
          0.5900000000000001,
          0.6000000000000001,
          0.6100000000000001,
          0.6200000000000001,
          0.6300000000000001,
          0.6400000000000001,
          0.6500000000000001,
          0.6600000000000001,
          0.6700000000000002,
          0.6800000000000002,
          0.6900000000000002,
          0.7000000000000002,
          0.7100000000000002,
          0.7200000000000002,
          0.7300000000000002,
          0.7400000000000002,
          0.7500000000000002,
          0.7600000000000002,
          0.7700000000000002,
          0.7800000000000002,
          0.7900000000000003,
          0.8000000000000003,
          0.8100000000000003,
          0.8200000000000003,
          0.8300000000000003,
          0.8400000000000003,
          0.8500000000000003,
          0.8600000000000003,
          0.8700000000000003,
          0.8800000000000003,
          0.8900000000000003,
          0.9000000000000004,
          0.9100000000000004,
          0.9200000000000004,
          0.9300000000000004,
          0.9400000000000004,
          0.9500000000000004,
          0.9600000000000004,
          0.9700000000000004,
          0.9800000000000004,
          0.9900000000000004,
          1.0000000000000004,
          1.0100000000000005,
          1.0200000000000005,
          1.0300000000000005,
          1.0400000000000005,
          1.0500000000000005,
          1.0600000000000005,
          1.0700000000000005,
          1.0800000000000005,
          1.0900000000000005,
          1.1000000000000005,
          1.1100000000000005,
          1.1200000000000006,
          1.1300000000000006,
          1.1400000000000006,
          1.1500000000000006,
          1.1600000000000006,
          1.1700000000000006,
          1.1800000000000006,
          1.1900000000000006,
          1.2000000000000006,
          1.2100000000000006,
          1.2200000000000006,
          1.2300000000000006,
          1.2400000000000007,
          1.2500000000000007,
          1.2600000000000007,
          1.2700000000000007,
          1.2800000000000007,
          1.2900000000000007,
          1.3000000000000007,
          1.3100000000000007,
          1.3200000000000007,
          1.3300000000000007,
          1.3400000000000007,
          1.3500000000000008,
          1.3600000000000008,
          1.3700000000000008,
          1.3800000000000008,
          1.3900000000000008,
          1.4000000000000008,
          1.4100000000000008,
          1.4200000000000008,
          1.4300000000000008,
          1.4400000000000008,
          1.4500000000000008,
          1.4600000000000009,
          1.4700000000000009,
          1.4800000000000009,
          1.4900000000000009,
          1.5000000000000009,
          1.510000000000001,
          1.520000000000001,
          1.530000000000001,
          1.540000000000001,
          1.550000000000001,
          1.560000000000001,
          1.570000000000001,
          1.580000000000001,
          1.590000000000001,
          1.600000000000001,
          1.610000000000001,
          1.620000000000001,
          1.630000000000001,
          1.640000000000001,
          1.650000000000001,
          1.660000000000001,
          1.670000000000001,
          1.680000000000001,
          1.690000000000001,
          1.700000000000001,
          1.710000000000001,
          1.720000000000001,
          1.730000000000001,
          1.740000000000001,
          1.750000000000001,
          1.7600000000000011,
          1.7700000000000011,
          1.7800000000000011,
          1.7900000000000011,
          1.8000000000000012,
          1.8100000000000012,
          1.8200000000000012,
          1.8300000000000012,
          1.8400000000000012,
          1.8500000000000012,
          1.8600000000000012,
          1.8700000000000012,
          1.8800000000000012,
          1.8900000000000012,
          1.9000000000000012,
          1.9100000000000013,
          1.9200000000000013,
          1.9300000000000013,
          1.9400000000000013,
          1.9500000000000013,
          1.9600000000000013,
          1.9700000000000013,
          1.9800000000000013,
          1.9900000000000013,
          2.0000000000000013,
          2.0100000000000016,
          2.0200000000000014,
          2.030000000000001,
          2.0400000000000014,
          2.0500000000000016,
          2.0600000000000014,
          2.070000000000001,
          2.0800000000000014,
          2.0900000000000016,
          2.1000000000000014,
          2.110000000000001,
          2.1200000000000014,
          2.1300000000000017,
          2.1400000000000015,
          2.1500000000000012,
          2.1600000000000015,
          2.1700000000000017,
          2.1800000000000015,
          2.1900000000000013,
          2.2000000000000015,
          2.2100000000000017,
          2.2200000000000015,
          2.2300000000000013,
          2.2400000000000015,
          2.2500000000000018,
          2.2600000000000016,
          2.2700000000000014,
          2.2800000000000016,
          2.290000000000002,
          2.3000000000000016,
          2.3100000000000014,
          2.3200000000000016,
          2.330000000000002,
          2.3400000000000016,
          2.3500000000000014,
          2.3600000000000017,
          2.370000000000002,
          2.3800000000000017,
          2.3900000000000015,
          2.4000000000000017,
          2.410000000000002,
          2.4200000000000017,
          2.4300000000000015,
          2.4400000000000017,
          2.450000000000002,
          2.4600000000000017,
          2.4700000000000015,
          2.4800000000000018,
          2.490000000000002,
          2.5000000000000018,
          2.5100000000000016,
          2.520000000000002,
          2.530000000000002,
          2.540000000000002,
          2.5500000000000016,
          2.560000000000002,
          2.570000000000002,
          2.580000000000002,
          2.5900000000000016,
          2.600000000000002,
          2.610000000000002,
          2.620000000000002,
          2.6300000000000017,
          2.640000000000002,
          2.650000000000002,
          2.660000000000002,
          2.6700000000000017,
          2.680000000000002,
          2.690000000000002,
          2.700000000000002,
          2.7100000000000017,
          2.720000000000002,
          2.730000000000002,
          2.740000000000002,
          2.7500000000000018,
          2.760000000000002,
          2.7700000000000022,
          2.780000000000002,
          2.790000000000002,
          2.800000000000002,
          2.8100000000000023,
          2.820000000000002,
          2.830000000000002,
          2.840000000000002,
          2.8500000000000023,
          2.860000000000002,
          2.870000000000002,
          2.880000000000002,
          2.8900000000000023,
          2.900000000000002,
          2.910000000000002,
          2.920000000000002,
          2.9300000000000024,
          2.940000000000002,
          2.950000000000002,
          2.960000000000002,
          2.9700000000000024,
          2.980000000000002,
          2.990000000000002,
          3.000000000000002,
          3.0100000000000025,
          3.0200000000000022,
          3.030000000000002,
          3.0400000000000023,
          3.0500000000000025,
          3.0600000000000023,
          3.070000000000002,
          3.0800000000000023,
          3.0900000000000025,
          3.1000000000000023,
          3.110000000000002,
          3.1200000000000023,
          3.1300000000000026,
          3.1400000000000023,
          3.150000000000002,
          3.1600000000000024,
          3.1700000000000026,
          3.1800000000000024,
          3.190000000000002,
          3.2000000000000024,
          3.2100000000000026,
          3.2200000000000024,
          3.230000000000002,
          3.2400000000000024,
          3.2500000000000027,
          3.2600000000000025,
          3.2700000000000022,
          3.2800000000000025,
          3.2900000000000027,
          3.3000000000000025,
          3.3100000000000023,
          3.3200000000000025,
          3.3300000000000027,
          3.3400000000000025,
          3.3500000000000023,
          3.3600000000000025,
          3.3700000000000028,
          3.3800000000000026,
          3.3900000000000023,
          3.4000000000000026,
          3.410000000000003,
          3.4200000000000026,
          3.4300000000000024,
          3.4400000000000026,
          3.450000000000003,
          3.4600000000000026,
          3.4700000000000024,
          3.4800000000000026,
          3.490000000000003
         ],
         "y": [
          -0.07031166233039482,
          -0.07327894643966876,
          -0.07633885322571901,
          -0.07949368149172421,
          -0.08274576785853703,
          -0.08609748653117007,
          -0.08955124901319875,
          -0.09310950376682539,
          -0.09677473581633735,
          -0.10054946629266985,
          -0.10443625191678112,
          -0.10843768441953983,
          -0.11255638989583118,
          -0.11679502809059314,
          -0.12115629161451516,
          -0.1256429050871514,
          -0.13025762420523326,
          -0.13500323473400985,
          -0.13988255141948625,
          -0.14489841681949345,
          -0.15005370005159135,
          -0.1553512954558798,
          -0.1607941211708864,
          -0.16638511762079522,
          -0.17212724591239328,
          -0.1780234861402361,
          -0.184076835598662,
          -0.19029030689944068,
          -0.19666692599399457,
          -0.2032097300993054,
          -0.2099217655268091,
          -0.21680608541377316,
          -0.22386574735687037,
          -0.23110381094788443,
          -0.2385233352117229,
          -0.24612737594716858,
          -0.25391898297105975,
          -0.26190119726687533,
          -0.2700770480389864,
          -0.27844954967414215,
          -0.2870216986120719,
          -0.2957964701274112,
          -0.30477681502549525,
          -0.31396565625491096,
          -0.32336588544005007,
          -0.3329803593372746,
          -0.342811896218663,
          -0.352863272187699,
          -0.36313721743161714,
          -0.3736364124155283,
          -0.38436348402381154,
          -0.3953210016546457,
          -0.40651147327393894,
          -0.41793734143528505,
          -0.429600979272946,
          -0.44150468647522884,
          -0.45365068524596674,
          -0.4660411162621665,
          -0.4786780346362068,
          -0.49156340589127845,
          -0.50469910195906,
          -0.518086897208884,
          -0.5317284645179066,
          -0.5456253713920121,
          -0.5597790761473855,
          -0.5741909241628472,
          -0.5888621442131929,
          -0.6037938448938696,
          -0.6189870111474004,
          -0.6344425009019947,
          -0.6501610418327755,
          -0.6661432282560064,
          -0.6823895181666181,
          -0.6989002304291958,
          -0.7156755421324195,
          -0.7327154861167335,
          -0.7500199486847507,
          -0.7675886675036001,
          -0.7854212297080682,
          -0.8035170702129898,
          -0.8218754702429085,
          -0.8404955560865413,
          -0.8593762980830567,
          -0.8785165098466199,
          -0.8979148477350472,
          -0.9175698105677775,
          -0.9374797395977015,
          -0.9576428187406737,
          -0.9780570750658104,
          -0.9987203795489169,
          -1.019630448090596,
          -1.0407848427998085,
          -1.0621809735428271,
          -1.083816099756703,
          -1.105687332525534,
          -1.1277916369169885,
          -1.1501258345756864,
          -1.1726866065692394,
          -1.1954704964818905,
          -1.2184739137499265,
          -1.2416931372322073,
          -1.26512431900842,
          -1.2887634883969,
          -1.3126065561831588,
          -1.3366493190495723,
          -1.3608874641960491,
          -1.3853165741408797,
          -1.4099321316904234,
          -1.434729525065769,
          -1.4597040531740353,
          -1.4848509310115692,
          -1.510165295185941,
          -1.5356422095433124,
          -1.5612766708875212,
          -1.5870636147770123,
          -1.612997921385621,
          -1.6390744214131148,
          -1.6652879020313982,
          -1.6916331128522848,
          -1.7181047719028582,
          -1.744697571594566,
          -1.7714061846723836,
          -1.7982252701306385,
          -1.825149479082378,
          -1.8521734605694895,
          -1.8792918673011816,
          -1.9064993613088619,
          -1.9337906195058887,
          -1.9611603391412051,
          -1.9886032431363665,
          -2.0161140852960475,
          -2.0436876553827035,
          -2.071318784046654,
          -2.0990023476034945,
          -2.1267332726513772,
          -2.15450654052136,
          -2.182317191554668,
          -2.210160329201402,
          -2.2380311239358637,
          -2.2659248169843584,
          -2.29383672386198,
          -2.32176223771554,
          -2.349696832470444,
          -2.377636065779944,
          -2.405575581775811,
          -2.433511113620065,
          -2.461438485857979,
          -2.4893536165731183,
          -2.5172525193457234,
          -2.5451313050162234,
          -2.5729861832561913,
          -2.600813463949441,
          -2.6286095583864717,
          -2.656370980275789,
          -2.684094346576038,
          -2.7117763781532354,
          -2.7394139002676505,
          -2.7670038428952255,
          -2.794543240888621,
          -2.8220292339832334,
          -2.8494590666537247,
          -2.876830087826743,
          -2.904139750455695,
          -2.9313856109634964,
          -2.958565328559375,
          -2.9856766644358186,
          -3.012717480851814,
          -3.039685740108552,
          -3.066579503423778,
          -3.093396929710922,
          -3.1201362742691163,
          -3.1467958873901605,
          -3.173374212888407,
          -3.1998697865594545,
          -3.2262812345734337,
          -3.252607271808554,
          -3.278846700130471,
          -3.3049984066228606,
          -3.331061361774481,
          -3.357034617627805,
          -3.3829173058942055,
          -3.4087086360404397,
          -3.4344078933510596,
          -3.46001443697117,
          -3.4855276979338017,
          -3.5109471771759555,
          -3.5362724435472157,
          -3.561503131814633,
          -3.586638940667411,
          -3.6116796307247196,
          -3.636625022549811,
          -3.6614749946733913,
          -3.6862294816290824,
          -3.7108884720035733,
          -3.735452006503926,
          -3.7599201760443193,
          -3.78429311985436,
          -3.808571023610924,
          -3.8327541175953153,
          -3.8568426748774307,
          -3.88083700952842,
          -3.904737474863219,
          -3.9285444617141843,
          -3.952258396736939,
          -3.975879740749404,
          -3.9994089871048804,
          -4.02284666009991,
          -4.046193313417564,
          -4.069449528606679,
          -4.092615913597491,
          -4.115693101253958,
          -4.138681747963078,
          -4.161582532261325,
          -4.184396153498307,
          -4.207123330537652,
          -4.229764800495059,
          -4.252321317513411,
          -4.274793651574743,
          -4.297182587348843,
          -4.319488923078183,
          -4.34171346949886,
          -4.363857048797141,
          -4.385920493601206,
          -4.407904646007618,
          -4.4298103566420375,
          -4.451638483753649,
          -4.47338989234275,
          -4.495065453320933,
          -4.516666042703251,
          -4.538192540831776,
          -4.55964583162989,
          -4.581026801886678,
          -4.602336340570773,
          -4.62357533817297,
          -4.644744686076959,
          -4.665845275957451,
          -4.686877999205085,
          -4.707843746377362,
          -4.728743406674958,
          -4.749577867442723,
          -4.770348013694671,
          -4.791054727662301,
          -4.811698888365548,
          -4.832281371205713,
          -4.852803047579698,
          -4.873264784514891,
          -4.893667444324051,
          -4.914011884279537,
          -4.934298956306281,
          -4.954529506692857,
          -4.974704375820034,
          -4.994824397906221,
          -5.014890400769218,
          -5.034903205603674,
          -5.054863626773706,
          -5.074772471620106,
          -5.094630540281612,
          -5.114438625529688,
          -5.134197512616326,
          -5.153907979134315,
          -5.173570794889549,
          -5.193186721784827,
          -5.212756513714736,
          -5.232280916471098,
          -5.251760667658607,
          -5.27119649662016,
          -5.290589124371518,
          -5.309939263544845,
          -5.329247618340755,
          -5.348514884488499,
          -5.367741749213877,
          -5.386928891214548,
          -5.406076980642393,
          -5.425186679092578,
          -5.444258639598996,
          -5.463293506635774,
          -5.482291916124552,
          -5.501254495447215,
          -5.5201818634638204,
          -5.539074630535433,
          -5.5579333985516035,
          -5.576758760962247,
          -5.595551302813659,
          -5.614311600788448,
          -5.633040223249147,
          -5.651737730285299,
          -5.670404673763783,
          -5.689041597382203,
          -5.707649036725131,
          -5.726227519323016,
          -5.744777564713596,
          -5.763299684505609,
          -5.781794382444682,
          -5.800262154481202,
          -5.818703488840037,
          -5.837118866091945,
          -5.855508759226559,
          -5.873873633726794,
          -5.892213947644549,
          -5.910530151677586
         ]
        }
       ],
       "layout": {
        "height": 600,
        "template": {
         "data": {
          "bar": [
           {
            "error_x": {
             "color": "#2a3f5f"
            },
            "error_y": {
             "color": "#2a3f5f"
            },
            "marker": {
             "line": {
              "color": "white",
              "width": 0.5
             }
            },
            "type": "bar"
           }
          ],
          "barpolar": [
           {
            "marker": {
             "line": {
              "color": "white",
              "width": 0.5
             }
            },
            "type": "barpolar"
           }
          ],
          "carpet": [
           {
            "aaxis": {
             "endlinecolor": "#2a3f5f",
             "gridcolor": "#C8D4E3",
             "linecolor": "#C8D4E3",
             "minorgridcolor": "#C8D4E3",
             "startlinecolor": "#2a3f5f"
            },
            "baxis": {
             "endlinecolor": "#2a3f5f",
             "gridcolor": "#C8D4E3",
             "linecolor": "#C8D4E3",
             "minorgridcolor": "#C8D4E3",
             "startlinecolor": "#2a3f5f"
            },
            "type": "carpet"
           }
          ],
          "choropleth": [
           {
            "colorbar": {
             "outlinewidth": 0,
             "ticks": ""
            },
            "type": "choropleth"
           }
          ],
          "contour": [
           {
            "colorbar": {
             "outlinewidth": 0,
             "ticks": ""
            },
            "colorscale": [
             [
              0,
              "#0d0887"
             ],
             [
              0.1111111111111111,
              "#46039f"
             ],
             [
              0.2222222222222222,
              "#7201a8"
             ],
             [
              0.3333333333333333,
              "#9c179e"
             ],
             [
              0.4444444444444444,
              "#bd3786"
             ],
             [
              0.5555555555555556,
              "#d8576b"
             ],
             [
              0.6666666666666666,
              "#ed7953"
             ],
             [
              0.7777777777777778,
              "#fb9f3a"
             ],
             [
              0.8888888888888888,
              "#fdca26"
             ],
             [
              1,
              "#f0f921"
             ]
            ],
            "type": "contour"
           }
          ],
          "contourcarpet": [
           {
            "colorbar": {
             "outlinewidth": 0,
             "ticks": ""
            },
            "type": "contourcarpet"
           }
          ],
          "heatmap": [
           {
            "colorbar": {
             "outlinewidth": 0,
             "ticks": ""
            },
            "colorscale": [
             [
              0,
              "#0d0887"
             ],
             [
              0.1111111111111111,
              "#46039f"
             ],
             [
              0.2222222222222222,
              "#7201a8"
             ],
             [
              0.3333333333333333,
              "#9c179e"
             ],
             [
              0.4444444444444444,
              "#bd3786"
             ],
             [
              0.5555555555555556,
              "#d8576b"
             ],
             [
              0.6666666666666666,
              "#ed7953"
             ],
             [
              0.7777777777777778,
              "#fb9f3a"
             ],
             [
              0.8888888888888888,
              "#fdca26"
             ],
             [
              1,
              "#f0f921"
             ]
            ],
            "type": "heatmap"
           }
          ],
          "heatmapgl": [
           {
            "colorbar": {
             "outlinewidth": 0,
             "ticks": ""
            },
            "colorscale": [
             [
              0,
              "#0d0887"
             ],
             [
              0.1111111111111111,
              "#46039f"
             ],
             [
              0.2222222222222222,
              "#7201a8"
             ],
             [
              0.3333333333333333,
              "#9c179e"
             ],
             [
              0.4444444444444444,
              "#bd3786"
             ],
             [
              0.5555555555555556,
              "#d8576b"
             ],
             [
              0.6666666666666666,
              "#ed7953"
             ],
             [
              0.7777777777777778,
              "#fb9f3a"
             ],
             [
              0.8888888888888888,
              "#fdca26"
             ],
             [
              1,
              "#f0f921"
             ]
            ],
            "type": "heatmapgl"
           }
          ],
          "histogram": [
           {
            "marker": {
             "colorbar": {
              "outlinewidth": 0,
              "ticks": ""
             }
            },
            "type": "histogram"
           }
          ],
          "histogram2d": [
           {
            "colorbar": {
             "outlinewidth": 0,
             "ticks": ""
            },
            "colorscale": [
             [
              0,
              "#0d0887"
             ],
             [
              0.1111111111111111,
              "#46039f"
             ],
             [
              0.2222222222222222,
              "#7201a8"
             ],
             [
              0.3333333333333333,
              "#9c179e"
             ],
             [
              0.4444444444444444,
              "#bd3786"
             ],
             [
              0.5555555555555556,
              "#d8576b"
             ],
             [
              0.6666666666666666,
              "#ed7953"
             ],
             [
              0.7777777777777778,
              "#fb9f3a"
             ],
             [
              0.8888888888888888,
              "#fdca26"
             ],
             [
              1,
              "#f0f921"
             ]
            ],
            "type": "histogram2d"
           }
          ],
          "histogram2dcontour": [
           {
            "colorbar": {
             "outlinewidth": 0,
             "ticks": ""
            },
            "colorscale": [
             [
              0,
              "#0d0887"
             ],
             [
              0.1111111111111111,
              "#46039f"
             ],
             [
              0.2222222222222222,
              "#7201a8"
             ],
             [
              0.3333333333333333,
              "#9c179e"
             ],
             [
              0.4444444444444444,
              "#bd3786"
             ],
             [
              0.5555555555555556,
              "#d8576b"
             ],
             [
              0.6666666666666666,
              "#ed7953"
             ],
             [
              0.7777777777777778,
              "#fb9f3a"
             ],
             [
              0.8888888888888888,
              "#fdca26"
             ],
             [
              1,
              "#f0f921"
             ]
            ],
            "type": "histogram2dcontour"
           }
          ],
          "mesh3d": [
           {
            "colorbar": {
             "outlinewidth": 0,
             "ticks": ""
            },
            "type": "mesh3d"
           }
          ],
          "parcoords": [
           {
            "line": {
             "colorbar": {
              "outlinewidth": 0,
              "ticks": ""
             }
            },
            "type": "parcoords"
           }
          ],
          "pie": [
           {
            "automargin": true,
            "type": "pie"
           }
          ],
          "scatter": [
           {
            "marker": {
             "colorbar": {
              "outlinewidth": 0,
              "ticks": ""
             }
            },
            "type": "scatter"
           }
          ],
          "scatter3d": [
           {
            "line": {
             "colorbar": {
              "outlinewidth": 0,
              "ticks": ""
             }
            },
            "marker": {
             "colorbar": {
              "outlinewidth": 0,
              "ticks": ""
             }
            },
            "type": "scatter3d"
           }
          ],
          "scattercarpet": [
           {
            "marker": {
             "colorbar": {
              "outlinewidth": 0,
              "ticks": ""
             }
            },
            "type": "scattercarpet"
           }
          ],
          "scattergeo": [
           {
            "marker": {
             "colorbar": {
              "outlinewidth": 0,
              "ticks": ""
             }
            },
            "type": "scattergeo"
           }
          ],
          "scattergl": [
           {
            "marker": {
             "colorbar": {
              "outlinewidth": 0,
              "ticks": ""
             }
            },
            "type": "scattergl"
           }
          ],
          "scattermapbox": [
           {
            "marker": {
             "colorbar": {
              "outlinewidth": 0,
              "ticks": ""
             }
            },
            "type": "scattermapbox"
           }
          ],
          "scatterpolar": [
           {
            "marker": {
             "colorbar": {
              "outlinewidth": 0,
              "ticks": ""
             }
            },
            "type": "scatterpolar"
           }
          ],
          "scatterpolargl": [
           {
            "marker": {
             "colorbar": {
              "outlinewidth": 0,
              "ticks": ""
             }
            },
            "type": "scatterpolargl"
           }
          ],
          "scatterternary": [
           {
            "marker": {
             "colorbar": {
              "outlinewidth": 0,
              "ticks": ""
             }
            },
            "type": "scatterternary"
           }
          ],
          "surface": [
           {
            "colorbar": {
             "outlinewidth": 0,
             "ticks": ""
            },
            "colorscale": [
             [
              0,
              "#0d0887"
             ],
             [
              0.1111111111111111,
              "#46039f"
             ],
             [
              0.2222222222222222,
              "#7201a8"
             ],
             [
              0.3333333333333333,
              "#9c179e"
             ],
             [
              0.4444444444444444,
              "#bd3786"
             ],
             [
              0.5555555555555556,
              "#d8576b"
             ],
             [
              0.6666666666666666,
              "#ed7953"
             ],
             [
              0.7777777777777778,
              "#fb9f3a"
             ],
             [
              0.8888888888888888,
              "#fdca26"
             ],
             [
              1,
              "#f0f921"
             ]
            ],
            "type": "surface"
           }
          ],
          "table": [
           {
            "cells": {
             "fill": {
              "color": "#EBF0F8"
             },
             "line": {
              "color": "white"
             }
            },
            "header": {
             "fill": {
              "color": "#C8D4E3"
             },
             "line": {
              "color": "white"
             }
            },
            "type": "table"
           }
          ]
         },
         "layout": {
          "annotationdefaults": {
           "arrowcolor": "#2a3f5f",
           "arrowhead": 0,
           "arrowwidth": 1
          },
          "coloraxis": {
           "colorbar": {
            "outlinewidth": 0,
            "ticks": ""
           }
          },
          "colorscale": {
           "diverging": [
            [
             0,
             "#8e0152"
            ],
            [
             0.1,
             "#c51b7d"
            ],
            [
             0.2,
             "#de77ae"
            ],
            [
             0.3,
             "#f1b6da"
            ],
            [
             0.4,
             "#fde0ef"
            ],
            [
             0.5,
             "#f7f7f7"
            ],
            [
             0.6,
             "#e6f5d0"
            ],
            [
             0.7,
             "#b8e186"
            ],
            [
             0.8,
             "#7fbc41"
            ],
            [
             0.9,
             "#4d9221"
            ],
            [
             1,
             "#276419"
            ]
           ],
           "sequential": [
            [
             0,
             "#0d0887"
            ],
            [
             0.1111111111111111,
             "#46039f"
            ],
            [
             0.2222222222222222,
             "#7201a8"
            ],
            [
             0.3333333333333333,
             "#9c179e"
            ],
            [
             0.4444444444444444,
             "#bd3786"
            ],
            [
             0.5555555555555556,
             "#d8576b"
            ],
            [
             0.6666666666666666,
             "#ed7953"
            ],
            [
             0.7777777777777778,
             "#fb9f3a"
            ],
            [
             0.8888888888888888,
             "#fdca26"
            ],
            [
             1,
             "#f0f921"
            ]
           ],
           "sequentialminus": [
            [
             0,
             "#0d0887"
            ],
            [
             0.1111111111111111,
             "#46039f"
            ],
            [
             0.2222222222222222,
             "#7201a8"
            ],
            [
             0.3333333333333333,
             "#9c179e"
            ],
            [
             0.4444444444444444,
             "#bd3786"
            ],
            [
             0.5555555555555556,
             "#d8576b"
            ],
            [
             0.6666666666666666,
             "#ed7953"
            ],
            [
             0.7777777777777778,
             "#fb9f3a"
            ],
            [
             0.8888888888888888,
             "#fdca26"
            ],
            [
             1,
             "#f0f921"
            ]
           ]
          },
          "colorway": [
           "#636efa",
           "#EF553B",
           "#00cc96",
           "#ab63fa",
           "#FFA15A",
           "#19d3f3",
           "#FF6692",
           "#B6E880",
           "#FF97FF",
           "#FECB52"
          ],
          "font": {
           "color": "#2a3f5f"
          },
          "geo": {
           "bgcolor": "white",
           "lakecolor": "white",
           "landcolor": "white",
           "showlakes": true,
           "showland": true,
           "subunitcolor": "#C8D4E3"
          },
          "hoverlabel": {
           "align": "left"
          },
          "hovermode": "closest",
          "mapbox": {
           "style": "light"
          },
          "paper_bgcolor": "white",
          "plot_bgcolor": "white",
          "polar": {
           "angularaxis": {
            "gridcolor": "#EBF0F8",
            "linecolor": "#EBF0F8",
            "ticks": ""
           },
           "bgcolor": "white",
           "radialaxis": {
            "gridcolor": "#EBF0F8",
            "linecolor": "#EBF0F8",
            "ticks": ""
           }
          },
          "scene": {
           "xaxis": {
            "backgroundcolor": "white",
            "gridcolor": "#DFE8F3",
            "gridwidth": 2,
            "linecolor": "#EBF0F8",
            "showbackground": true,
            "ticks": "",
            "zerolinecolor": "#EBF0F8"
           },
           "yaxis": {
            "backgroundcolor": "white",
            "gridcolor": "#DFE8F3",
            "gridwidth": 2,
            "linecolor": "#EBF0F8",
            "showbackground": true,
            "ticks": "",
            "zerolinecolor": "#EBF0F8"
           },
           "zaxis": {
            "backgroundcolor": "white",
            "gridcolor": "#DFE8F3",
            "gridwidth": 2,
            "linecolor": "#EBF0F8",
            "showbackground": true,
            "ticks": "",
            "zerolinecolor": "#EBF0F8"
           }
          },
          "shapedefaults": {
           "line": {
            "color": "#2a3f5f"
           }
          },
          "ternary": {
           "aaxis": {
            "gridcolor": "#DFE8F3",
            "linecolor": "#A2B1C6",
            "ticks": ""
           },
           "baxis": {
            "gridcolor": "#DFE8F3",
            "linecolor": "#A2B1C6",
            "ticks": ""
           },
           "bgcolor": "white",
           "caxis": {
            "gridcolor": "#DFE8F3",
            "linecolor": "#A2B1C6",
            "ticks": ""
           }
          },
          "title": {
           "x": 0.05
          },
          "xaxis": {
           "automargin": true,
           "gridcolor": "#EBF0F8",
           "linecolor": "#EBF0F8",
           "ticks": "",
           "title": {
            "standoff": 15
           },
           "zerolinecolor": "#EBF0F8",
           "zerolinewidth": 2
          },
          "yaxis": {
           "automargin": true,
           "gridcolor": "#EBF0F8",
           "linecolor": "#EBF0F8",
           "ticks": "",
           "title": {
            "standoff": 15
           },
           "zerolinecolor": "#EBF0F8",
           "zerolinewidth": 2
          }
         }
        },
        "title": {
         "text": "Price Elasticity of Purchase Probability"
        },
        "width": 800,
        "xaxis": {
         "title": {
          "text": "Price Point"
         }
        },
        "yaxis": {
         "dtick": 1,
         "title": {
          "text": "Price Elasticity"
         }
        }
       }
      }
     },
     "metadata": {}
    }
   ],
   "source": [
    "fig = go.Figure()\n",
    "fig.add_trace(go.Scatter(x=df_price_elasticities.price_point, y=df_price_elasticities.mean_pe,\n",
    "                    mode='lines',\n",
    "                    name='AVG PE'))\n",
    "fig.add_trace(go.Scatter(x=df_price_elasticities.price_point, y=df_price_elasticities.pe_segment_0,\n",
    "                    mode='lines',\n",
    "                    name='Well-off PE'))\n",
    "fig.add_trace(go.Scatter(x=df_price_elasticities.price_point, y=df_price_elasticities.pe_segment_1,\n",
    "                    mode='lines',\n",
    "                    name='Fewer-Opportunitites PE'))\n",
    "fig.add_trace(go.Scatter(x=df_price_elasticities.price_point, y=df_price_elasticities.pe_segment_2,\n",
    "                    mode='lines',\n",
    "                    name='Standard PE'))\n",
    "fig.add_trace(go.Scatter(x=df_price_elasticities.price_point, y=df_price_elasticities.pe_segment_3,\n",
    "                    mode='lines',\n",
    "                    name='Career-Focused PE'))\n",
    "fig.update_yaxes(dtick=1)\n",
    "fig.update_layout(height=600, width=800, \n",
    "                  title='Price Elasticity of Purchase Probability',\n",
    "                  template='plotly_white')\n",
    "fig.update_xaxes(title='Price Point')\n",
    "fig.update_yaxes(title='Price Elasticity')\n",
    "fig.show()\n",
    ""
   ]
  },
  {
   "cell_type": "markdown",
   "metadata": {},
   "source": [
    "### Interpretation  \n",
    "\n",
    "We observe that the Well-off segment are the least elastic when compared to the rest. So, their purchase probability elasticity is not as affected by price.\n",
    "\n",
    "Fewer-Opportunitties is the most elastic and price sensitive one. This means with the increase of price they become elastic much more faster. They become elastic at \\$1.07 yet the average PE was \\$1.25.\n",
    "\n",
    "The price elasticities for the Standard segment seem to differ across price range. This may be due to the fact that the standard segment is least homogenous, which we discovered during our descriptive analysis. It may be that the customers in this segment have different shopping habbits, which is why their customers start with being more elastic than average but then shift to being more inelastic than the average customer and indeed the Career-focused segment.\n"
   ]
  },
  {
   "cell_type": "markdown",
   "metadata": {},
   "source": [
    "# Comparing Price Elasticity with and without Promotion"
   ]
  },
  {
   "cell_type": "markdown",
   "metadata": {},
   "source": [
    "## Purchase Probability with Promotion Feature"
   ]
  },
  {
   "cell_type": "code",
   "execution_count": 37,
   "metadata": {},
   "outputs": [],
   "source": [
    "y = df_purchase_predictors['incidence']\n",
    "X = pd.DataFrame()\n",
    "X['mean_price'] = df_purchase_predictors[['price_'+ str(i) for i in range(1,6)]].sum(axis=1)/5\n",
    "X['mean_promotion'] = df_purchase_predictors[['promotion_'+ str(i) for i in range(1,6)]].sum(axis=1)/5"
   ]
  },
  {
   "cell_type": "code",
   "execution_count": 38,
   "metadata": {},
   "outputs": [
    {
     "output_type": "execute_result",
     "data": {
      "text/plain": "{-1.4939507681346196: 'mean_price', 0.5614451466854176: 'mean_promotion'}"
     },
     "metadata": {},
     "execution_count": 38
    }
   ],
   "source": [
    "model_incidence_promotion = LogisticRegression(solver='sag')\n",
    "model_incidence_promotion.fit(X, y)\n",
    "dict(zip(model_incidence_promotion.coef_[0], X.columns)) #coefficient"
   ]
  },
  {
   "cell_type": "markdown",
   "metadata": {},
   "source": [
    "The coefficients show that with the decrease of the price, purchase probability increases.  \n",
    "Also with the increase of the promotion, purchase probability increases."
   ]
  },
  {
   "cell_type": "markdown",
   "metadata": {},
   "source": [
    "## Price Elasticity with Promotion"
   ]
  },
  {
   "cell_type": "code",
   "execution_count": 39,
   "metadata": {},
   "outputs": [
    {
     "output_type": "execute_result",
     "data": {
      "text/plain": "     price_point   mean_pe  pe_segment_0  pe_segment_1  pe_segment_2  \\\n0           0.50 -0.096541     -0.051205     -0.149612     -0.061995   \n1           0.51 -0.100615     -0.053366     -0.155925     -0.064612   \n2           0.52 -0.104816     -0.055594     -0.162436     -0.067310   \n3           0.53 -0.109148     -0.057892     -0.169149     -0.070091   \n4           0.54 -0.113613     -0.060260     -0.176069     -0.072959   \n..           ...       ...           ...           ...           ...   \n295         3.45 -8.014579     -4.250921    -12.420425     -5.146728   \n296         3.46 -8.039829     -4.264314    -12.459556     -5.162943   \n297         3.47 -8.065045     -4.277688    -12.498633     -5.179135   \n298         3.48 -8.090227     -4.291044    -12.537658     -5.195306   \n299         3.49 -8.115376     -4.304383    -12.576632     -5.211456   \n\n     pe_segment_3  \n0       -0.070312  \n1       -0.073279  \n2       -0.076339  \n3       -0.079494  \n4       -0.082746  \n..            ...  \n295     -5.837119  \n296     -5.855509  \n297     -5.873874  \n298     -5.892214  \n299     -5.910530  \n\n[300 rows x 6 columns]",
      "text/html": "<div>\n<style scoped>\n    .dataframe tbody tr th:only-of-type {\n        vertical-align: middle;\n    }\n\n    .dataframe tbody tr th {\n        vertical-align: top;\n    }\n\n    .dataframe thead th {\n        text-align: right;\n    }\n</style>\n<table border=\"1\" class=\"dataframe\">\n  <thead>\n    <tr style=\"text-align: right;\">\n      <th></th>\n      <th>price_point</th>\n      <th>mean_pe</th>\n      <th>pe_segment_0</th>\n      <th>pe_segment_1</th>\n      <th>pe_segment_2</th>\n      <th>pe_segment_3</th>\n    </tr>\n  </thead>\n  <tbody>\n    <tr>\n      <th>0</th>\n      <td>0.50</td>\n      <td>-0.096541</td>\n      <td>-0.051205</td>\n      <td>-0.149612</td>\n      <td>-0.061995</td>\n      <td>-0.070312</td>\n    </tr>\n    <tr>\n      <th>1</th>\n      <td>0.51</td>\n      <td>-0.100615</td>\n      <td>-0.053366</td>\n      <td>-0.155925</td>\n      <td>-0.064612</td>\n      <td>-0.073279</td>\n    </tr>\n    <tr>\n      <th>2</th>\n      <td>0.52</td>\n      <td>-0.104816</td>\n      <td>-0.055594</td>\n      <td>-0.162436</td>\n      <td>-0.067310</td>\n      <td>-0.076339</td>\n    </tr>\n    <tr>\n      <th>3</th>\n      <td>0.53</td>\n      <td>-0.109148</td>\n      <td>-0.057892</td>\n      <td>-0.169149</td>\n      <td>-0.070091</td>\n      <td>-0.079494</td>\n    </tr>\n    <tr>\n      <th>4</th>\n      <td>0.54</td>\n      <td>-0.113613</td>\n      <td>-0.060260</td>\n      <td>-0.176069</td>\n      <td>-0.072959</td>\n      <td>-0.082746</td>\n    </tr>\n    <tr>\n      <th>...</th>\n      <td>...</td>\n      <td>...</td>\n      <td>...</td>\n      <td>...</td>\n      <td>...</td>\n      <td>...</td>\n    </tr>\n    <tr>\n      <th>295</th>\n      <td>3.45</td>\n      <td>-8.014579</td>\n      <td>-4.250921</td>\n      <td>-12.420425</td>\n      <td>-5.146728</td>\n      <td>-5.837119</td>\n    </tr>\n    <tr>\n      <th>296</th>\n      <td>3.46</td>\n      <td>-8.039829</td>\n      <td>-4.264314</td>\n      <td>-12.459556</td>\n      <td>-5.162943</td>\n      <td>-5.855509</td>\n    </tr>\n    <tr>\n      <th>297</th>\n      <td>3.47</td>\n      <td>-8.065045</td>\n      <td>-4.277688</td>\n      <td>-12.498633</td>\n      <td>-5.179135</td>\n      <td>-5.873874</td>\n    </tr>\n    <tr>\n      <th>298</th>\n      <td>3.48</td>\n      <td>-8.090227</td>\n      <td>-4.291044</td>\n      <td>-12.537658</td>\n      <td>-5.195306</td>\n      <td>-5.892214</td>\n    </tr>\n    <tr>\n      <th>299</th>\n      <td>3.49</td>\n      <td>-8.115376</td>\n      <td>-4.304383</td>\n      <td>-12.576632</td>\n      <td>-5.211456</td>\n      <td>-5.910530</td>\n    </tr>\n  </tbody>\n</table>\n<p>300 rows × 6 columns</p>\n</div>"
     },
     "metadata": {},
     "execution_count": 39
    }
   ],
   "source": [
    "df_price_elasticities"
   ]
  },
  {
   "cell_type": "code",
   "execution_count": 40,
   "metadata": {},
   "outputs": [
    {
     "output_type": "execute_result",
     "data": {
      "text/plain": "     price_point\n0           0.50\n1           0.51\n2           0.52\n3           0.53\n4           0.54\n..           ...\n295         3.45\n296         3.46\n297         3.47\n298         3.48\n299         3.49\n\n[300 rows x 1 columns]",
      "text/html": "<div>\n<style scoped>\n    .dataframe tbody tr th:only-of-type {\n        vertical-align: middle;\n    }\n\n    .dataframe tbody tr th {\n        vertical-align: top;\n    }\n\n    .dataframe thead th {\n        text-align: right;\n    }\n</style>\n<table border=\"1\" class=\"dataframe\">\n  <thead>\n    <tr style=\"text-align: right;\">\n      <th></th>\n      <th>price_point</th>\n    </tr>\n  </thead>\n  <tbody>\n    <tr>\n      <th>0</th>\n      <td>0.50</td>\n    </tr>\n    <tr>\n      <th>1</th>\n      <td>0.51</td>\n    </tr>\n    <tr>\n      <th>2</th>\n      <td>0.52</td>\n    </tr>\n    <tr>\n      <th>3</th>\n      <td>0.53</td>\n    </tr>\n    <tr>\n      <th>4</th>\n      <td>0.54</td>\n    </tr>\n    <tr>\n      <th>...</th>\n      <td>...</td>\n    </tr>\n    <tr>\n      <th>295</th>\n      <td>3.45</td>\n    </tr>\n    <tr>\n      <th>296</th>\n      <td>3.46</td>\n    </tr>\n    <tr>\n      <th>297</th>\n      <td>3.47</td>\n    </tr>\n    <tr>\n      <th>298</th>\n      <td>3.48</td>\n    </tr>\n    <tr>\n      <th>299</th>\n      <td>3.49</td>\n    </tr>\n  </tbody>\n</table>\n<p>300 rows × 1 columns</p>\n</div>"
     },
     "metadata": {},
     "execution_count": 40
    }
   ],
   "source": [
    "df_price"
   ]
  },
  {
   "cell_type": "code",
   "execution_count": 41,
   "metadata": {},
   "outputs": [],
   "source": [
    "X = df_price.copy()\n",
    "X['promotion'] = 1"
   ]
  },
  {
   "cell_type": "code",
   "execution_count": 42,
   "metadata": {},
   "outputs": [],
   "source": [
    "Y = model_incidence_promotion.predict_proba(X)"
   ]
  },
  {
   "cell_type": "code",
   "execution_count": 43,
   "metadata": {},
   "outputs": [],
   "source": [
    "promo = Y[:, 1] # probabilities of promotion\n",
    "price_elasticity_promo = (model_incidence_promotion.coef_[:, 0] * df_price.price_point) * (1 - promo)"
   ]
  },
  {
   "cell_type": "code",
   "execution_count": 44,
   "metadata": {},
   "outputs": [
    {
     "output_type": "execute_result",
     "data": {
      "text/plain": "     price_point   mean_pe  pe_segment_0  pe_segment_1  pe_segment_2  \\\n0           0.50 -0.096541     -0.051205     -0.149612     -0.061995   \n1           0.51 -0.100615     -0.053366     -0.155925     -0.064612   \n2           0.52 -0.104816     -0.055594     -0.162436     -0.067310   \n3           0.53 -0.109148     -0.057892     -0.169149     -0.070091   \n4           0.54 -0.113613     -0.060260     -0.176069     -0.072959   \n..           ...       ...           ...           ...           ...   \n295         3.45 -8.014579     -4.250921    -12.420425     -5.146728   \n296         3.46 -8.039829     -4.264314    -12.459556     -5.162943   \n297         3.47 -8.065045     -4.277688    -12.498633     -5.179135   \n298         3.48 -8.090227     -4.291044    -12.537658     -5.195306   \n299         3.49 -8.115376     -4.304383    -12.576632     -5.211456   \n\n     pe_segment_3  Elasticity_with_Promotion  \n0       -0.070312                  -0.125737  \n1       -0.073279                  -0.129853  \n2       -0.076339                  -0.134048  \n3       -0.079494                  -0.138324  \n4       -0.082746                  -0.142680  \n..            ...                        ...  \n295     -5.837119                  -4.861346  \n296     -5.855509                  -4.879547  \n297     -5.873874                  -4.897718  \n298     -5.892214                  -4.915858  \n299     -5.910530                  -4.933968  \n\n[300 rows x 7 columns]",
      "text/html": "<div>\n<style scoped>\n    .dataframe tbody tr th:only-of-type {\n        vertical-align: middle;\n    }\n\n    .dataframe tbody tr th {\n        vertical-align: top;\n    }\n\n    .dataframe thead th {\n        text-align: right;\n    }\n</style>\n<table border=\"1\" class=\"dataframe\">\n  <thead>\n    <tr style=\"text-align: right;\">\n      <th></th>\n      <th>price_point</th>\n      <th>mean_pe</th>\n      <th>pe_segment_0</th>\n      <th>pe_segment_1</th>\n      <th>pe_segment_2</th>\n      <th>pe_segment_3</th>\n      <th>Elasticity_with_Promotion</th>\n    </tr>\n  </thead>\n  <tbody>\n    <tr>\n      <th>0</th>\n      <td>0.50</td>\n      <td>-0.096541</td>\n      <td>-0.051205</td>\n      <td>-0.149612</td>\n      <td>-0.061995</td>\n      <td>-0.070312</td>\n      <td>-0.125737</td>\n    </tr>\n    <tr>\n      <th>1</th>\n      <td>0.51</td>\n      <td>-0.100615</td>\n      <td>-0.053366</td>\n      <td>-0.155925</td>\n      <td>-0.064612</td>\n      <td>-0.073279</td>\n      <td>-0.129853</td>\n    </tr>\n    <tr>\n      <th>2</th>\n      <td>0.52</td>\n      <td>-0.104816</td>\n      <td>-0.055594</td>\n      <td>-0.162436</td>\n      <td>-0.067310</td>\n      <td>-0.076339</td>\n      <td>-0.134048</td>\n    </tr>\n    <tr>\n      <th>3</th>\n      <td>0.53</td>\n      <td>-0.109148</td>\n      <td>-0.057892</td>\n      <td>-0.169149</td>\n      <td>-0.070091</td>\n      <td>-0.079494</td>\n      <td>-0.138324</td>\n    </tr>\n    <tr>\n      <th>4</th>\n      <td>0.54</td>\n      <td>-0.113613</td>\n      <td>-0.060260</td>\n      <td>-0.176069</td>\n      <td>-0.072959</td>\n      <td>-0.082746</td>\n      <td>-0.142680</td>\n    </tr>\n    <tr>\n      <th>...</th>\n      <td>...</td>\n      <td>...</td>\n      <td>...</td>\n      <td>...</td>\n      <td>...</td>\n      <td>...</td>\n      <td>...</td>\n    </tr>\n    <tr>\n      <th>295</th>\n      <td>3.45</td>\n      <td>-8.014579</td>\n      <td>-4.250921</td>\n      <td>-12.420425</td>\n      <td>-5.146728</td>\n      <td>-5.837119</td>\n      <td>-4.861346</td>\n    </tr>\n    <tr>\n      <th>296</th>\n      <td>3.46</td>\n      <td>-8.039829</td>\n      <td>-4.264314</td>\n      <td>-12.459556</td>\n      <td>-5.162943</td>\n      <td>-5.855509</td>\n      <td>-4.879547</td>\n    </tr>\n    <tr>\n      <th>297</th>\n      <td>3.47</td>\n      <td>-8.065045</td>\n      <td>-4.277688</td>\n      <td>-12.498633</td>\n      <td>-5.179135</td>\n      <td>-5.873874</td>\n      <td>-4.897718</td>\n    </tr>\n    <tr>\n      <th>298</th>\n      <td>3.48</td>\n      <td>-8.090227</td>\n      <td>-4.291044</td>\n      <td>-12.537658</td>\n      <td>-5.195306</td>\n      <td>-5.892214</td>\n      <td>-4.915858</td>\n    </tr>\n    <tr>\n      <th>299</th>\n      <td>3.49</td>\n      <td>-8.115376</td>\n      <td>-4.304383</td>\n      <td>-12.576632</td>\n      <td>-5.211456</td>\n      <td>-5.910530</td>\n      <td>-4.933968</td>\n    </tr>\n  </tbody>\n</table>\n<p>300 rows × 7 columns</p>\n</div>"
     },
     "metadata": {},
     "execution_count": 44
    }
   ],
   "source": [
    "df_price_elasticities['Elasticity_with_Promotion'] = price_elasticity_promo\n",
    "df_price_elasticities"
   ]
  },
  {
   "cell_type": "markdown",
   "metadata": {},
   "source": [
    "## Price Elasticity without Promotion"
   ]
  },
  {
   "cell_type": "code",
   "execution_count": 45,
   "metadata": {},
   "outputs": [],
   "source": [
    "\n",
    "X = df_price.copy()\n",
    "X['promotion'] = 0\n",
    "\n",
    "Y = model_incidence_promotion.predict_proba(X)\n",
    "no_promo = Y[: , 1]\n",
    "price_elasticity_no_promo = model_incidence_promotion.coef_[:, 0] * df_price.price_point *(1- no_promo)\n",
    "df_price_elasticities['Elasticity_without_Promotion'] = price_elasticity_no_promo"
   ]
  },
  {
   "cell_type": "code",
   "execution_count": 46,
   "metadata": {},
   "outputs": [
    {
     "output_type": "execute_result",
     "data": {
      "text/plain": "     price_point   mean_pe  pe_segment_0  pe_segment_1  pe_segment_2  \\\n0           0.50 -0.096541     -0.051205     -0.149612     -0.061995   \n1           0.51 -0.100615     -0.053366     -0.155925     -0.064612   \n2           0.52 -0.104816     -0.055594     -0.162436     -0.067310   \n3           0.53 -0.109148     -0.057892     -0.169149     -0.070091   \n4           0.54 -0.113613     -0.060260     -0.176069     -0.072959   \n..           ...       ...           ...           ...           ...   \n295         3.45 -8.014579     -4.250921    -12.420425     -5.146728   \n296         3.46 -8.039829     -4.264314    -12.459556     -5.162943   \n297         3.47 -8.065045     -4.277688    -12.498633     -5.179135   \n298         3.48 -8.090227     -4.291044    -12.537658     -5.195306   \n299         3.49 -8.115376     -4.304383    -12.576632     -5.211456   \n\n     pe_segment_3  Elasticity_with_Promotion  Elasticity_without_Promotion  \n0       -0.070312                  -0.125737                     -0.195639  \n1       -0.073279                  -0.129853                     -0.201760  \n2       -0.076339                  -0.134048                     -0.207983  \n3       -0.079494                  -0.138324                     -0.214310  \n4       -0.082746                  -0.142680                     -0.220741  \n..            ...                        ...                           ...  \n295     -5.837119                  -4.861346                     -4.982953  \n296     -5.855509                  -4.879547                     -4.999859  \n297     -5.873874                  -4.897718                     -5.016744  \n298     -5.892214                  -4.915858                     -5.033610  \n299     -5.910530                  -4.933968                     -5.050456  \n\n[300 rows x 8 columns]",
      "text/html": "<div>\n<style scoped>\n    .dataframe tbody tr th:only-of-type {\n        vertical-align: middle;\n    }\n\n    .dataframe tbody tr th {\n        vertical-align: top;\n    }\n\n    .dataframe thead th {\n        text-align: right;\n    }\n</style>\n<table border=\"1\" class=\"dataframe\">\n  <thead>\n    <tr style=\"text-align: right;\">\n      <th></th>\n      <th>price_point</th>\n      <th>mean_pe</th>\n      <th>pe_segment_0</th>\n      <th>pe_segment_1</th>\n      <th>pe_segment_2</th>\n      <th>pe_segment_3</th>\n      <th>Elasticity_with_Promotion</th>\n      <th>Elasticity_without_Promotion</th>\n    </tr>\n  </thead>\n  <tbody>\n    <tr>\n      <th>0</th>\n      <td>0.50</td>\n      <td>-0.096541</td>\n      <td>-0.051205</td>\n      <td>-0.149612</td>\n      <td>-0.061995</td>\n      <td>-0.070312</td>\n      <td>-0.125737</td>\n      <td>-0.195639</td>\n    </tr>\n    <tr>\n      <th>1</th>\n      <td>0.51</td>\n      <td>-0.100615</td>\n      <td>-0.053366</td>\n      <td>-0.155925</td>\n      <td>-0.064612</td>\n      <td>-0.073279</td>\n      <td>-0.129853</td>\n      <td>-0.201760</td>\n    </tr>\n    <tr>\n      <th>2</th>\n      <td>0.52</td>\n      <td>-0.104816</td>\n      <td>-0.055594</td>\n      <td>-0.162436</td>\n      <td>-0.067310</td>\n      <td>-0.076339</td>\n      <td>-0.134048</td>\n      <td>-0.207983</td>\n    </tr>\n    <tr>\n      <th>3</th>\n      <td>0.53</td>\n      <td>-0.109148</td>\n      <td>-0.057892</td>\n      <td>-0.169149</td>\n      <td>-0.070091</td>\n      <td>-0.079494</td>\n      <td>-0.138324</td>\n      <td>-0.214310</td>\n    </tr>\n    <tr>\n      <th>4</th>\n      <td>0.54</td>\n      <td>-0.113613</td>\n      <td>-0.060260</td>\n      <td>-0.176069</td>\n      <td>-0.072959</td>\n      <td>-0.082746</td>\n      <td>-0.142680</td>\n      <td>-0.220741</td>\n    </tr>\n    <tr>\n      <th>...</th>\n      <td>...</td>\n      <td>...</td>\n      <td>...</td>\n      <td>...</td>\n      <td>...</td>\n      <td>...</td>\n      <td>...</td>\n      <td>...</td>\n    </tr>\n    <tr>\n      <th>295</th>\n      <td>3.45</td>\n      <td>-8.014579</td>\n      <td>-4.250921</td>\n      <td>-12.420425</td>\n      <td>-5.146728</td>\n      <td>-5.837119</td>\n      <td>-4.861346</td>\n      <td>-4.982953</td>\n    </tr>\n    <tr>\n      <th>296</th>\n      <td>3.46</td>\n      <td>-8.039829</td>\n      <td>-4.264314</td>\n      <td>-12.459556</td>\n      <td>-5.162943</td>\n      <td>-5.855509</td>\n      <td>-4.879547</td>\n      <td>-4.999859</td>\n    </tr>\n    <tr>\n      <th>297</th>\n      <td>3.47</td>\n      <td>-8.065045</td>\n      <td>-4.277688</td>\n      <td>-12.498633</td>\n      <td>-5.179135</td>\n      <td>-5.873874</td>\n      <td>-4.897718</td>\n      <td>-5.016744</td>\n    </tr>\n    <tr>\n      <th>298</th>\n      <td>3.48</td>\n      <td>-8.090227</td>\n      <td>-4.291044</td>\n      <td>-12.537658</td>\n      <td>-5.195306</td>\n      <td>-5.892214</td>\n      <td>-4.915858</td>\n      <td>-5.033610</td>\n    </tr>\n    <tr>\n      <th>299</th>\n      <td>3.49</td>\n      <td>-8.115376</td>\n      <td>-4.304383</td>\n      <td>-12.576632</td>\n      <td>-5.211456</td>\n      <td>-5.910530</td>\n      <td>-4.933968</td>\n      <td>-5.050456</td>\n    </tr>\n  </tbody>\n</table>\n<p>300 rows × 8 columns</p>\n</div>"
     },
     "metadata": {},
     "execution_count": 46
    }
   ],
   "source": [
    "df_price_elasticities"
   ]
  },
  {
   "cell_type": "code",
   "execution_count": 47,
   "metadata": {},
   "outputs": [
    {
     "output_type": "display_data",
     "data": {
      "application/vnd.plotly.v1+json": {
       "config": {
        "plotlyServerURL": "https://plot.ly"
       },
       "data": [
        {
         "mode": "lines",
         "name": "With Promotion PE",
         "type": "scatter",
         "x": [
          0.5,
          0.51,
          0.52,
          0.53,
          0.54,
          0.55,
          0.56,
          0.5700000000000001,
          0.5800000000000001,
          0.5900000000000001,
          0.6000000000000001,
          0.6100000000000001,
          0.6200000000000001,
          0.6300000000000001,
          0.6400000000000001,
          0.6500000000000001,
          0.6600000000000001,
          0.6700000000000002,
          0.6800000000000002,
          0.6900000000000002,
          0.7000000000000002,
          0.7100000000000002,
          0.7200000000000002,
          0.7300000000000002,
          0.7400000000000002,
          0.7500000000000002,
          0.7600000000000002,
          0.7700000000000002,
          0.7800000000000002,
          0.7900000000000003,
          0.8000000000000003,
          0.8100000000000003,
          0.8200000000000003,
          0.8300000000000003,
          0.8400000000000003,
          0.8500000000000003,
          0.8600000000000003,
          0.8700000000000003,
          0.8800000000000003,
          0.8900000000000003,
          0.9000000000000004,
          0.9100000000000004,
          0.9200000000000004,
          0.9300000000000004,
          0.9400000000000004,
          0.9500000000000004,
          0.9600000000000004,
          0.9700000000000004,
          0.9800000000000004,
          0.9900000000000004,
          1.0000000000000004,
          1.0100000000000005,
          1.0200000000000005,
          1.0300000000000005,
          1.0400000000000005,
          1.0500000000000005,
          1.0600000000000005,
          1.0700000000000005,
          1.0800000000000005,
          1.0900000000000005,
          1.1000000000000005,
          1.1100000000000005,
          1.1200000000000006,
          1.1300000000000006,
          1.1400000000000006,
          1.1500000000000006,
          1.1600000000000006,
          1.1700000000000006,
          1.1800000000000006,
          1.1900000000000006,
          1.2000000000000006,
          1.2100000000000006,
          1.2200000000000006,
          1.2300000000000006,
          1.2400000000000007,
          1.2500000000000007,
          1.2600000000000007,
          1.2700000000000007,
          1.2800000000000007,
          1.2900000000000007,
          1.3000000000000007,
          1.3100000000000007,
          1.3200000000000007,
          1.3300000000000007,
          1.3400000000000007,
          1.3500000000000008,
          1.3600000000000008,
          1.3700000000000008,
          1.3800000000000008,
          1.3900000000000008,
          1.4000000000000008,
          1.4100000000000008,
          1.4200000000000008,
          1.4300000000000008,
          1.4400000000000008,
          1.4500000000000008,
          1.4600000000000009,
          1.4700000000000009,
          1.4800000000000009,
          1.4900000000000009,
          1.5000000000000009,
          1.510000000000001,
          1.520000000000001,
          1.530000000000001,
          1.540000000000001,
          1.550000000000001,
          1.560000000000001,
          1.570000000000001,
          1.580000000000001,
          1.590000000000001,
          1.600000000000001,
          1.610000000000001,
          1.620000000000001,
          1.630000000000001,
          1.640000000000001,
          1.650000000000001,
          1.660000000000001,
          1.670000000000001,
          1.680000000000001,
          1.690000000000001,
          1.700000000000001,
          1.710000000000001,
          1.720000000000001,
          1.730000000000001,
          1.740000000000001,
          1.750000000000001,
          1.7600000000000011,
          1.7700000000000011,
          1.7800000000000011,
          1.7900000000000011,
          1.8000000000000012,
          1.8100000000000012,
          1.8200000000000012,
          1.8300000000000012,
          1.8400000000000012,
          1.8500000000000012,
          1.8600000000000012,
          1.8700000000000012,
          1.8800000000000012,
          1.8900000000000012,
          1.9000000000000012,
          1.9100000000000013,
          1.9200000000000013,
          1.9300000000000013,
          1.9400000000000013,
          1.9500000000000013,
          1.9600000000000013,
          1.9700000000000013,
          1.9800000000000013,
          1.9900000000000013,
          2.0000000000000013,
          2.0100000000000016,
          2.0200000000000014,
          2.030000000000001,
          2.0400000000000014,
          2.0500000000000016,
          2.0600000000000014,
          2.070000000000001,
          2.0800000000000014,
          2.0900000000000016,
          2.1000000000000014,
          2.110000000000001,
          2.1200000000000014,
          2.1300000000000017,
          2.1400000000000015,
          2.1500000000000012,
          2.1600000000000015,
          2.1700000000000017,
          2.1800000000000015,
          2.1900000000000013,
          2.2000000000000015,
          2.2100000000000017,
          2.2200000000000015,
          2.2300000000000013,
          2.2400000000000015,
          2.2500000000000018,
          2.2600000000000016,
          2.2700000000000014,
          2.2800000000000016,
          2.290000000000002,
          2.3000000000000016,
          2.3100000000000014,
          2.3200000000000016,
          2.330000000000002,
          2.3400000000000016,
          2.3500000000000014,
          2.3600000000000017,
          2.370000000000002,
          2.3800000000000017,
          2.3900000000000015,
          2.4000000000000017,
          2.410000000000002,
          2.4200000000000017,
          2.4300000000000015,
          2.4400000000000017,
          2.450000000000002,
          2.4600000000000017,
          2.4700000000000015,
          2.4800000000000018,
          2.490000000000002,
          2.5000000000000018,
          2.5100000000000016,
          2.520000000000002,
          2.530000000000002,
          2.540000000000002,
          2.5500000000000016,
          2.560000000000002,
          2.570000000000002,
          2.580000000000002,
          2.5900000000000016,
          2.600000000000002,
          2.610000000000002,
          2.620000000000002,
          2.6300000000000017,
          2.640000000000002,
          2.650000000000002,
          2.660000000000002,
          2.6700000000000017,
          2.680000000000002,
          2.690000000000002,
          2.700000000000002,
          2.7100000000000017,
          2.720000000000002,
          2.730000000000002,
          2.740000000000002,
          2.7500000000000018,
          2.760000000000002,
          2.7700000000000022,
          2.780000000000002,
          2.790000000000002,
          2.800000000000002,
          2.8100000000000023,
          2.820000000000002,
          2.830000000000002,
          2.840000000000002,
          2.8500000000000023,
          2.860000000000002,
          2.870000000000002,
          2.880000000000002,
          2.8900000000000023,
          2.900000000000002,
          2.910000000000002,
          2.920000000000002,
          2.9300000000000024,
          2.940000000000002,
          2.950000000000002,
          2.960000000000002,
          2.9700000000000024,
          2.980000000000002,
          2.990000000000002,
          3.000000000000002,
          3.0100000000000025,
          3.0200000000000022,
          3.030000000000002,
          3.0400000000000023,
          3.0500000000000025,
          3.0600000000000023,
          3.070000000000002,
          3.0800000000000023,
          3.0900000000000025,
          3.1000000000000023,
          3.110000000000002,
          3.1200000000000023,
          3.1300000000000026,
          3.1400000000000023,
          3.150000000000002,
          3.1600000000000024,
          3.1700000000000026,
          3.1800000000000024,
          3.190000000000002,
          3.2000000000000024,
          3.2100000000000026,
          3.2200000000000024,
          3.230000000000002,
          3.2400000000000024,
          3.2500000000000027,
          3.2600000000000025,
          3.2700000000000022,
          3.2800000000000025,
          3.2900000000000027,
          3.3000000000000025,
          3.3100000000000023,
          3.3200000000000025,
          3.3300000000000027,
          3.3400000000000025,
          3.3500000000000023,
          3.3600000000000025,
          3.3700000000000028,
          3.3800000000000026,
          3.3900000000000023,
          3.4000000000000026,
          3.410000000000003,
          3.4200000000000026,
          3.4300000000000024,
          3.4400000000000026,
          3.450000000000003,
          3.4600000000000026,
          3.4700000000000024,
          3.4800000000000026,
          3.490000000000003
         ],
         "y": [
          -0.12573722423230901,
          -0.12985337425263657,
          -0.13404848233839975,
          -0.1383235359990354,
          -0.14267952423904734,
          -0.1471174372366542,
          -0.15163826601430824,
          -0.15624300210112607,
          -0.16093263718727555,
          -0.1657081627703733,
          -0.17057056979396262,
          -0.17552084827814568,
          -0.18055998694245637,
          -0.18568897282107408,
          -0.19090879087048493,
          -0.1962204235697107,
          -0.20162485051323784,
          -0.20712304799678777,
          -0.2127159885960848,
          -0.218404640738787,
          -0.22418996826975957,
          -0.23007293000988124,
          -0.23605447930858692,
          -0.24213556359036165,
          -0.2483171238954164,
          -0.25460009441478365,
          -0.2609854020200868,
          -0.26747396578825167,
          -0.27406669652143556,
          -0.2807644962624667,
          -0.2875682578060976,
          -0.2944788642063905,
          -0.30149718828055827,
          -0.3086240921096078,
          -0.31586042653613633,
          -0.3232070306596419,
          -0.3306647313297341,
          -0.338234342637621,
          -0.34591666540628196,
          -0.353712486679732,
          -0.3616225792117983,
          -0.3696477009548406,
          -0.3777885945488583,
          -0.3860459868114334,
          -0.39442058822896775,
          -0.4029130924496854,
          -0.4115241757788751,
          -0.4202544966768566,
          -0.42910469526016215,
          -0.43807539280643126,
          -0.44716719126352106,
          -0.4563806727633411,
          -0.4657163991409261,
          -0.475174911459263,
          -0.48475672954039395,
          -0.4944623515033147,
          -0.5042922533091969,
          -0.514246888314457,
          -0.5243266868321969,
          -0.5345320557025425,
          -0.5448633778724032,
          -0.555321011985173,
          -0.5659052919808877,
          -0.5766165267073609,
          -0.5874549995427949,
          -0.5984209680303819,
          -0.6095146635253808,
          -0.6207362908551669,
          -0.6320860279927284,
          -0.6435640257440834,
          -0.6551704074500775,
          -0.6669052687030093,
          -0.6787686770785228,
          -0.6907606718831898,
          -0.7028812639181927,
          -0.7151304352595027,
          -0.7275081390549346,
          -0.7400142993384388,
          -0.7526488108619829,
          -0.7654115389453439,
          -0.7783023193441269,
          -0.7913209581362984,
          -0.8044672316275029,
          -0.8177408862754176,
          -0.8311416386333654,
          -0.8446691753134017,
          -0.8583231529690519,
          -0.8721031982978621,
          -0.8860089080639006,
          -0.9000398491403239,
          -0.9141955585720952,
          -0.9284755436589178,
          -0.9428792820584255,
          -0.9574062219096438,
          -0.9720557819767032,
          -0.9868273518127801,
          -1.0017202919441892,
          -1.0167339340745496,
          -1.0318675813088978,
          -1.0471205083976232,
          -1.0624919620000428,
          -1.0779811609674437,
          -1.0935872966453517,
          -1.1093095331948106,
          -1.125147007932392,
          -1.1410988316886406,
          -1.1571640891846577,
          -1.1733418394264687,
          -1.1896311161168258,
          -1.2060309280840538,
          -1.2225402597275412,
          -1.2391580714794554,
          -1.2558833002822172,
          -1.2727148600812956,
          -1.2896516423328157,
          -1.306692516525496,
          -1.3238363307163783,
          -1.341081912079828,
          -1.3584280674692506,
          -1.3758735839909553,
          -1.3934172295895877,
          -1.411057753644546,
          -1.428793887576773,
          -1.4466243454653065,
          -1.464547824672977,
          -1.4825630064806128,
          -1.5006685567291187,
          -1.5188631264687784,
          -1.5371453526151384,
          -1.5555138586108173,
          -1.5739672550925847,
          -1.5925041405630433,
          -1.611123102066272,
          -1.6298227158667555,
          -1.6486015481309515,
          -1.6674581556108377,
          -1.6863910863287874,
          -1.7053988802631295,
          -1.7244800700337397,
          -1.7436331815870483,
          -1.762856734879813,
          -1.782149244561054,
          -1.8015092206515315,
          -1.8209351692201676,
          -1.8404255930568243,
          -1.85997899234085,
          -1.8795938653048434,
          -1.8992687088930646,
          -1.9190020194139679,
          -1.9387922931863173,
          -1.9586380271783905,
          -1.97853771963976,
          -1.9984898707251793,
          -2.0184929831101215,
          -2.038545562597506,
          -2.0586461187151954,
          -2.0787931653038547,
          -2.098985221094783,
          -2.119220810277322,
          -2.139498463055518,
          -2.159816716193671,
          -2.1801741135504815,
          -2.2005692066014677,
          -2.221000554949393,
          -2.241466726822435,
          -2.261966299559867,
          -2.2824978600850034,
          -2.3030600053652366,
          -2.323651342858956,
          -2.3442704909492114,
          -2.364916079363939,
          -2.3855867495826524,
          -2.406281155229473,
          -2.4269979624524165,
          -2.4477358502888515,
          -2.468493511017078,
          -2.489269650493995,
          -2.5100629884788197,
          -2.5308722589428623,
          -2.551696210365351,
          -2.5725336060153614,
          -2.5933832242198576,
          -2.614243858617919,
          -2.6351143184012127,
          -2.655993428540806,
          -2.676880030000402,
          -2.6977729799361128,
          -2.7186711518828885,
          -2.7395734359277446,
          -2.760478738869916,
          -2.781385984368109,
          -2.802294113074998,
          -2.8232020827591597,
          -2.8441088684146236,
          -2.8650134623582204,
          -2.885914874314941,
          -2.9068121314915105,
          -2.9277042786384015,
          -2.9485903781004867,
          -2.9694695098565838,
          -2.990340771548108,
          -3.011203278497091,
          -3.032056163713787,
          -3.052898577894128,
          -3.0737296894072794,
          -3.094548684273549,
          -3.1153547661329046,
          -3.136147156204359,
          -3.1569250932364934,
          -3.177687833449378,
          -3.1984346504681476,
          -3.219164835248507,
          -3.2398776959944304,
          -3.2605725580683194,
          -3.2812487638938856,
          -3.301905672852016,
          -3.3225426611699063,
          -3.3431591218036996,
          -3.363754464314905,
          -3.3843281147408577,
          -3.40487951545947,
          -3.425408125048537,
          -3.445913418139842,
          -3.4663948852683104,
          -3.4868520327164725,
          -3.507284382354463,
          -3.527691471475802,
          -3.548072852629197,
          -3.5684280934465966,
          -3.588756776467728,
          -3.6090584989613346,
          -3.629332872743342,
          -3.64957952399217,
          -3.6697980930613947,
          -3.689988234289977,
          -3.710149615810249,
          -3.7302819193538745,
          -3.7503848400559603,
          -3.7704580862575146,
          -3.790501379306433,
          -3.8105144533572046,
          -3.8304970551694897,
          -3.8504489439057603,
          -3.8703698909281545,
          -3.8902596795947106,
          -3.91011810505514,
          -3.9299449740462755,
          -3.949740104687352,
          -3.96950332627526,
          -3.9892344790799017,
          -4.008933414139781,
          -4.0285999930579575,
          -4.048234087798484,
          -4.06783558048345,
          -4.08740436319073,
          -4.106940337752553,
          -4.126443415554999,
          -4.145913517338524,
          -4.165350572999588,
          -4.184754521393502,
          -4.204125310138562,
          -4.22346289542157,
          -4.242767241804792,
          -4.262038322034455,
          -4.281276116850837,
          -4.300480614800025,
          -4.3196518120474,
          -4.338789712192893,
          -4.357894326088103,
          -4.376965671655298,
          -4.3960037737083555,
          -4.415008663775687,
          -4.433980379925204,
          -4.452918966591336,
          -4.471824474404168,
          -4.4906969600206965,
          -4.509536485958269,
          -4.528343120430209,
          -4.547116937183664,
          -4.565858015339685,
          -4.584566439235577,
          -4.6032422982695325,
          -4.6218856867475395,
          -4.640496703732603,
          -4.659075452896293,
          -4.677622042372604,
          -4.696136584614139,
          -4.714619196250653,
          -4.733069997949902,
          -4.751489114280855,
          -4.7698766735792315,
          -4.788232807815374,
          -4.8065576524644475,
          -4.8248513463789715,
          -4.843114031663662,
          -4.8613458535525815,
          -4.879546960288591,
          -4.897717503005088,
          -4.91585763561002,
          -4.933967514672153
         ]
        },
        {
         "mode": "lines",
         "name": "Without Promotion PE",
         "type": "scatter",
         "x": [
          0.5,
          0.51,
          0.52,
          0.53,
          0.54,
          0.55,
          0.56,
          0.5700000000000001,
          0.5800000000000001,
          0.5900000000000001,
          0.6000000000000001,
          0.6100000000000001,
          0.6200000000000001,
          0.6300000000000001,
          0.6400000000000001,
          0.6500000000000001,
          0.6600000000000001,
          0.6700000000000002,
          0.6800000000000002,
          0.6900000000000002,
          0.7000000000000002,
          0.7100000000000002,
          0.7200000000000002,
          0.7300000000000002,
          0.7400000000000002,
          0.7500000000000002,
          0.7600000000000002,
          0.7700000000000002,
          0.7800000000000002,
          0.7900000000000003,
          0.8000000000000003,
          0.8100000000000003,
          0.8200000000000003,
          0.8300000000000003,
          0.8400000000000003,
          0.8500000000000003,
          0.8600000000000003,
          0.8700000000000003,
          0.8800000000000003,
          0.8900000000000003,
          0.9000000000000004,
          0.9100000000000004,
          0.9200000000000004,
          0.9300000000000004,
          0.9400000000000004,
          0.9500000000000004,
          0.9600000000000004,
          0.9700000000000004,
          0.9800000000000004,
          0.9900000000000004,
          1.0000000000000004,
          1.0100000000000005,
          1.0200000000000005,
          1.0300000000000005,
          1.0400000000000005,
          1.0500000000000005,
          1.0600000000000005,
          1.0700000000000005,
          1.0800000000000005,
          1.0900000000000005,
          1.1000000000000005,
          1.1100000000000005,
          1.1200000000000006,
          1.1300000000000006,
          1.1400000000000006,
          1.1500000000000006,
          1.1600000000000006,
          1.1700000000000006,
          1.1800000000000006,
          1.1900000000000006,
          1.2000000000000006,
          1.2100000000000006,
          1.2200000000000006,
          1.2300000000000006,
          1.2400000000000007,
          1.2500000000000007,
          1.2600000000000007,
          1.2700000000000007,
          1.2800000000000007,
          1.2900000000000007,
          1.3000000000000007,
          1.3100000000000007,
          1.3200000000000007,
          1.3300000000000007,
          1.3400000000000007,
          1.3500000000000008,
          1.3600000000000008,
          1.3700000000000008,
          1.3800000000000008,
          1.3900000000000008,
          1.4000000000000008,
          1.4100000000000008,
          1.4200000000000008,
          1.4300000000000008,
          1.4400000000000008,
          1.4500000000000008,
          1.4600000000000009,
          1.4700000000000009,
          1.4800000000000009,
          1.4900000000000009,
          1.5000000000000009,
          1.510000000000001,
          1.520000000000001,
          1.530000000000001,
          1.540000000000001,
          1.550000000000001,
          1.560000000000001,
          1.570000000000001,
          1.580000000000001,
          1.590000000000001,
          1.600000000000001,
          1.610000000000001,
          1.620000000000001,
          1.630000000000001,
          1.640000000000001,
          1.650000000000001,
          1.660000000000001,
          1.670000000000001,
          1.680000000000001,
          1.690000000000001,
          1.700000000000001,
          1.710000000000001,
          1.720000000000001,
          1.730000000000001,
          1.740000000000001,
          1.750000000000001,
          1.7600000000000011,
          1.7700000000000011,
          1.7800000000000011,
          1.7900000000000011,
          1.8000000000000012,
          1.8100000000000012,
          1.8200000000000012,
          1.8300000000000012,
          1.8400000000000012,
          1.8500000000000012,
          1.8600000000000012,
          1.8700000000000012,
          1.8800000000000012,
          1.8900000000000012,
          1.9000000000000012,
          1.9100000000000013,
          1.9200000000000013,
          1.9300000000000013,
          1.9400000000000013,
          1.9500000000000013,
          1.9600000000000013,
          1.9700000000000013,
          1.9800000000000013,
          1.9900000000000013,
          2.0000000000000013,
          2.0100000000000016,
          2.0200000000000014,
          2.030000000000001,
          2.0400000000000014,
          2.0500000000000016,
          2.0600000000000014,
          2.070000000000001,
          2.0800000000000014,
          2.0900000000000016,
          2.1000000000000014,
          2.110000000000001,
          2.1200000000000014,
          2.1300000000000017,
          2.1400000000000015,
          2.1500000000000012,
          2.1600000000000015,
          2.1700000000000017,
          2.1800000000000015,
          2.1900000000000013,
          2.2000000000000015,
          2.2100000000000017,
          2.2200000000000015,
          2.2300000000000013,
          2.2400000000000015,
          2.2500000000000018,
          2.2600000000000016,
          2.2700000000000014,
          2.2800000000000016,
          2.290000000000002,
          2.3000000000000016,
          2.3100000000000014,
          2.3200000000000016,
          2.330000000000002,
          2.3400000000000016,
          2.3500000000000014,
          2.3600000000000017,
          2.370000000000002,
          2.3800000000000017,
          2.3900000000000015,
          2.4000000000000017,
          2.410000000000002,
          2.4200000000000017,
          2.4300000000000015,
          2.4400000000000017,
          2.450000000000002,
          2.4600000000000017,
          2.4700000000000015,
          2.4800000000000018,
          2.490000000000002,
          2.5000000000000018,
          2.5100000000000016,
          2.520000000000002,
          2.530000000000002,
          2.540000000000002,
          2.5500000000000016,
          2.560000000000002,
          2.570000000000002,
          2.580000000000002,
          2.5900000000000016,
          2.600000000000002,
          2.610000000000002,
          2.620000000000002,
          2.6300000000000017,
          2.640000000000002,
          2.650000000000002,
          2.660000000000002,
          2.6700000000000017,
          2.680000000000002,
          2.690000000000002,
          2.700000000000002,
          2.7100000000000017,
          2.720000000000002,
          2.730000000000002,
          2.740000000000002,
          2.7500000000000018,
          2.760000000000002,
          2.7700000000000022,
          2.780000000000002,
          2.790000000000002,
          2.800000000000002,
          2.8100000000000023,
          2.820000000000002,
          2.830000000000002,
          2.840000000000002,
          2.8500000000000023,
          2.860000000000002,
          2.870000000000002,
          2.880000000000002,
          2.8900000000000023,
          2.900000000000002,
          2.910000000000002,
          2.920000000000002,
          2.9300000000000024,
          2.940000000000002,
          2.950000000000002,
          2.960000000000002,
          2.9700000000000024,
          2.980000000000002,
          2.990000000000002,
          3.000000000000002,
          3.0100000000000025,
          3.0200000000000022,
          3.030000000000002,
          3.0400000000000023,
          3.0500000000000025,
          3.0600000000000023,
          3.070000000000002,
          3.0800000000000023,
          3.0900000000000025,
          3.1000000000000023,
          3.110000000000002,
          3.1200000000000023,
          3.1300000000000026,
          3.1400000000000023,
          3.150000000000002,
          3.1600000000000024,
          3.1700000000000026,
          3.1800000000000024,
          3.190000000000002,
          3.2000000000000024,
          3.2100000000000026,
          3.2200000000000024,
          3.230000000000002,
          3.2400000000000024,
          3.2500000000000027,
          3.2600000000000025,
          3.2700000000000022,
          3.2800000000000025,
          3.2900000000000027,
          3.3000000000000025,
          3.3100000000000023,
          3.3200000000000025,
          3.3300000000000027,
          3.3400000000000025,
          3.3500000000000023,
          3.3600000000000025,
          3.3700000000000028,
          3.3800000000000026,
          3.3900000000000023,
          3.4000000000000026,
          3.410000000000003,
          3.4200000000000026,
          3.4300000000000024,
          3.4400000000000026,
          3.450000000000003,
          3.4600000000000026,
          3.4700000000000024,
          3.4800000000000026,
          3.490000000000003
         ],
         "y": [
          -0.19563883125105108,
          -0.20175982328928146,
          -0.20798328969679428,
          -0.21431005766987188,
          -0.22074094275118586,
          -0.22727674834049869,
          -0.2339182652046676,
          -0.24066627098736398,
          -0.24752152971893193,
          -0.25448479132681573,
          -0.261556791146998,
          -0.26873824943689606,
          -0.2760298708901718,
          -0.28343234415391755,
          -0.29094634134868885,
          -0.29857251759185754,
          -0.3063115105247655,
          -0.3141639398441663,
          -0.3221304068384416,
          -0.33021149392908605,
          -0.3384077642179567,
          -0.3467197610407836,
          -0.35514800752743886,
          -0.36369300616946637,
          -0.3723552383953689,
          -0.38113516415415033,
          -0.3900332215076113,
          -0.3990498262318884,
          -0.4081853714287296,
          -0.4174402271469916,
          -0.42681474001483644,
          -0.43630923288310675,
          -0.4459240044803436,
          -0.45565932907990864,
          -0.46551545617966256,
          -0.4754926101946414,
          -0.48559099016316287,
          -0.4958107694667834,
          -0.5061520955645167,
          -0.5166150897417079,
          -0.5271998468739489,
          -0.5379064352064008,
          -0.5487348961488784,
          -0.5596852440870378,
          -0.5707574662099805,
          -0.5819515223545887,
          -0.5932673448668664,
          -0.6047048384805649,
          -0.6162638802133324,
          -0.6279443192806227,
          -0.6397459770275649,
          -0.6516686468789895,
          -0.6637120943077682,
          -0.6758760568216184,
          -0.6881602439684906,
          -0.7005643373606391,
          -0.7130879907174532,
          -0.7257308299271013,
          -0.7384924531270175,
          -0.7513724308032371,
          -0.764370305908565,
          -0.7774855939995328,
          -0.7907177833920799,
          -0.8040663353358736,
          -0.8175306842071473,
          -0.8311102377199276,
          -0.844804377155484,
          -0.8586124576098219,
          -0.8725338082590073,
          -0.8865677326420992,
          -0.9007135089614287,
          -0.9149703903999596,
          -0.9293376054554283,
          -0.9438143582909436,
          -0.9583998291017167,
          -0.973093174497552,
          -0.987893527900729,
          -1.0027999999588733,
          -1.017811678972405,
          -1.0329276313361264,
          -1.0481469019945069,
          -1.0634685149101921,
          -1.0788914735452602,
          -1.0944147613547293,
          -1.1100373422918073,
          -1.1257581613243641,
          -1.141576144962088,
          -1.157490201793789,
          -1.1734992230342907,
          -1.1896020830803489,
          -1.2057976400750317,
          -1.22208473647997,
          -1.2384621996549092,
          -1.2549288424439706,
          -1.2714834637680166,
          -1.2881248492225452,
          -1.304851771680501,
          -1.321662991899407,
          -1.33855725913222,
          -1.3555333117413144,
          -1.3725898778149896,
          -1.3897256757859204,
          -1.4069394150509418,
          -1.424229796591605,
          -1.441595513594908,
          -1.4590352520736336,
          -1.476547691485726,
          -1.494131505352151,
          -1.5117853618726884,
          -1.529507924539108,
          -1.5472978527452153,
          -1.5651538023932292,
          -1.583074426495995,
          -1.6010583757745342,
          -1.6191042992504423,
          -1.6372108448326748,
          -1.6553766598982498,
          -1.673600391866441,
          -1.6918806887660205,
          -1.710216199795146,
          -1.7286055758734915,
          -1.747047470186241,
          -1.7655405387195828,
          -1.7840834407873434,
          -1.8026748395484484,
          -1.821313402514872,
          -1.8399978020497958,
          -1.8587267158556753,
          -1.8774988274519686,
          -1.8963128266422615,
          -1.9151674099705729,
          -1.9340612811666127,
          -1.9529931515798056,
          -1.9719617406018992,
          -1.9909657760779864,
          -2.0100039947058015,
          -2.0290751424231623,
          -2.0481779747834414,
          -2.0673112573189605,
          -2.0864737658922445,
          -2.1056642870350557,
          -2.12488161827516,
          -2.1441245684507906,
          -2.16339195801279,
          -2.1826826193144213,
          -2.2019953968888526,
          -2.221329147714345,
          -2.2406827414671686,
          -2.2600550607623004,
          -2.279445001381956,
          -2.2988514724920366,
          -2.318273396846569,
          -2.337709710980221,
          -2.357159365389029,
          -2.376621324699412,
          -2.396094567825629,
          -2.4155780881157973,
          -2.4350708934866234,
          -2.454572006546992,
          -2.4740804647105716,
          -2.4935953202976084,
          -2.513115640626089,
          -2.5326405080924306,
          -2.5521690202419083,
          -2.571700289828997,
          -2.591233444867844,
          -2.6107676286730443,
          -2.6303019998909587,
          -2.6498357325217623,
          -2.6693680159324558,
          -2.68889805486104,
          -2.708425069412087,
          -2.727948295043926,
          -2.7474669825476745,
          -2.766980398018332,
          -2.7864878228181706,
          -2.8059885535326563,
          -2.825481901919125,
          -2.8449671948484396,
          -2.8644437742398656,
          -2.8839109969894006,
          -2.9033682348917718,
          -2.9228148745563463,
          -2.9422503173171624,
          -2.961673979137338,
          -2.9810852905080534,
          -3.000483696342342,
          -3.01986865586391,
          -3.0392396424912147,
          -3.058596143716993,
          -3.0779376609834803,
          -3.0972637095535136,
          -3.116573818377733,
          -3.135867529958098,
          -3.1551444002078974,
          -3.1744039983084713,
          -3.1936459065628298,
          -3.212869720246375,
          -3.2320750474548934,
          -3.2512615089500208,
          -3.270428738002346,
          -3.289576380232355,
          -3.308704093449356,
          -3.3278115474885746,
          -3.3468984240465858,
          -3.3659644165152343,
          -3.3850092298142047,
          -3.4040325802223896,
          -3.423034195208212,
          -3.4420138132590488,
          -3.460971183709874,
          -3.479906066571291,
          -3.4988182323570496,
          -3.5177074619112174,
          -3.5365735462350845,
          -3.5554162863139545,
          -3.574235492943926,
          -3.593030986558775,
          -3.611802597057044,
          -3.6305501636294517,
          -3.6492735345867042,
          -3.6679725671878334,
          -3.686647127469122,
          -3.7052970900737203,
          -3.7239223380820428,
          -3.742522762843021,
          -3.761098263806281,
          -3.7796487483553363,
          -3.7981741316418507,
          -3.816674336421054,
          -3.835149292888359,
          -3.8535989385172447,
          -3.87202321789848,
          -3.89042208258071,
          -3.908795490912481,
          -3.9271434078857492,
          -3.9454658049809024,
          -3.9637626600133653,
          -3.982033956981796,
          -4.000279685917932,
          -4.01849984273812,
          -4.036694429096545,
          -4.054863452240207,
          -4.073006924865662,
          -4.091124864977547,
          -4.109217295748937,
          -4.127284245383512,
          -4.145325746979595,
          -4.163341838396042,
          -4.181332562120034,
          -4.199297965136743,
          -4.21723809880091,
          -4.235153018710345,
          -4.253042784581337,
          -4.2709074601259935,
          -4.288747112931508,
          -4.3065618143413555,
          -4.324351639338431,
          -4.342116666430114,
          -4.359856977535251,
          -4.377572657873085,
          -4.395263795854096,
          -4.412930482972757,
          -4.4305728137022005,
          -4.448190885390787,
          -4.465784798160571,
          -4.483354654807644,
          -4.500900560704351,
          -4.518422623703369,
          -4.535920954043636,
          -4.553395664258118,
          -4.570846869083376,
          -4.588274685370977,
          -4.605679232000663,
          -4.623060629795319,
          -4.640419001437677,
          -4.657754471388793,
          -4.675067165808221,
          -4.692357212475911,
          -4.709624740715788,
          -4.726869881321004,
          -4.744092766480848,
          -4.761293529709271,
          -4.77847230577504,
          -4.795629230633478,
          -4.812764441359771,
          -4.829878076083839,
          -4.846970273926719,
          -4.864041174938479,
          -4.881090920037608,
          -4.898119650951879,
          -4.9151275101606595,
          -4.932114640838636,
          -4.94908118680097,
          -4.966027292449806,
          -4.9829531027221625,
          -4.999858763039154,
          -5.016744419256535,
          -5.033610217616544,
          -5.050456304701014
         ]
        }
       ],
       "layout": {
        "height": 600,
        "template": {
         "data": {
          "bar": [
           {
            "error_x": {
             "color": "#2a3f5f"
            },
            "error_y": {
             "color": "#2a3f5f"
            },
            "marker": {
             "line": {
              "color": "white",
              "width": 0.5
             }
            },
            "type": "bar"
           }
          ],
          "barpolar": [
           {
            "marker": {
             "line": {
              "color": "white",
              "width": 0.5
             }
            },
            "type": "barpolar"
           }
          ],
          "carpet": [
           {
            "aaxis": {
             "endlinecolor": "#2a3f5f",
             "gridcolor": "#C8D4E3",
             "linecolor": "#C8D4E3",
             "minorgridcolor": "#C8D4E3",
             "startlinecolor": "#2a3f5f"
            },
            "baxis": {
             "endlinecolor": "#2a3f5f",
             "gridcolor": "#C8D4E3",
             "linecolor": "#C8D4E3",
             "minorgridcolor": "#C8D4E3",
             "startlinecolor": "#2a3f5f"
            },
            "type": "carpet"
           }
          ],
          "choropleth": [
           {
            "colorbar": {
             "outlinewidth": 0,
             "ticks": ""
            },
            "type": "choropleth"
           }
          ],
          "contour": [
           {
            "colorbar": {
             "outlinewidth": 0,
             "ticks": ""
            },
            "colorscale": [
             [
              0,
              "#0d0887"
             ],
             [
              0.1111111111111111,
              "#46039f"
             ],
             [
              0.2222222222222222,
              "#7201a8"
             ],
             [
              0.3333333333333333,
              "#9c179e"
             ],
             [
              0.4444444444444444,
              "#bd3786"
             ],
             [
              0.5555555555555556,
              "#d8576b"
             ],
             [
              0.6666666666666666,
              "#ed7953"
             ],
             [
              0.7777777777777778,
              "#fb9f3a"
             ],
             [
              0.8888888888888888,
              "#fdca26"
             ],
             [
              1,
              "#f0f921"
             ]
            ],
            "type": "contour"
           }
          ],
          "contourcarpet": [
           {
            "colorbar": {
             "outlinewidth": 0,
             "ticks": ""
            },
            "type": "contourcarpet"
           }
          ],
          "heatmap": [
           {
            "colorbar": {
             "outlinewidth": 0,
             "ticks": ""
            },
            "colorscale": [
             [
              0,
              "#0d0887"
             ],
             [
              0.1111111111111111,
              "#46039f"
             ],
             [
              0.2222222222222222,
              "#7201a8"
             ],
             [
              0.3333333333333333,
              "#9c179e"
             ],
             [
              0.4444444444444444,
              "#bd3786"
             ],
             [
              0.5555555555555556,
              "#d8576b"
             ],
             [
              0.6666666666666666,
              "#ed7953"
             ],
             [
              0.7777777777777778,
              "#fb9f3a"
             ],
             [
              0.8888888888888888,
              "#fdca26"
             ],
             [
              1,
              "#f0f921"
             ]
            ],
            "type": "heatmap"
           }
          ],
          "heatmapgl": [
           {
            "colorbar": {
             "outlinewidth": 0,
             "ticks": ""
            },
            "colorscale": [
             [
              0,
              "#0d0887"
             ],
             [
              0.1111111111111111,
              "#46039f"
             ],
             [
              0.2222222222222222,
              "#7201a8"
             ],
             [
              0.3333333333333333,
              "#9c179e"
             ],
             [
              0.4444444444444444,
              "#bd3786"
             ],
             [
              0.5555555555555556,
              "#d8576b"
             ],
             [
              0.6666666666666666,
              "#ed7953"
             ],
             [
              0.7777777777777778,
              "#fb9f3a"
             ],
             [
              0.8888888888888888,
              "#fdca26"
             ],
             [
              1,
              "#f0f921"
             ]
            ],
            "type": "heatmapgl"
           }
          ],
          "histogram": [
           {
            "marker": {
             "colorbar": {
              "outlinewidth": 0,
              "ticks": ""
             }
            },
            "type": "histogram"
           }
          ],
          "histogram2d": [
           {
            "colorbar": {
             "outlinewidth": 0,
             "ticks": ""
            },
            "colorscale": [
             [
              0,
              "#0d0887"
             ],
             [
              0.1111111111111111,
              "#46039f"
             ],
             [
              0.2222222222222222,
              "#7201a8"
             ],
             [
              0.3333333333333333,
              "#9c179e"
             ],
             [
              0.4444444444444444,
              "#bd3786"
             ],
             [
              0.5555555555555556,
              "#d8576b"
             ],
             [
              0.6666666666666666,
              "#ed7953"
             ],
             [
              0.7777777777777778,
              "#fb9f3a"
             ],
             [
              0.8888888888888888,
              "#fdca26"
             ],
             [
              1,
              "#f0f921"
             ]
            ],
            "type": "histogram2d"
           }
          ],
          "histogram2dcontour": [
           {
            "colorbar": {
             "outlinewidth": 0,
             "ticks": ""
            },
            "colorscale": [
             [
              0,
              "#0d0887"
             ],
             [
              0.1111111111111111,
              "#46039f"
             ],
             [
              0.2222222222222222,
              "#7201a8"
             ],
             [
              0.3333333333333333,
              "#9c179e"
             ],
             [
              0.4444444444444444,
              "#bd3786"
             ],
             [
              0.5555555555555556,
              "#d8576b"
             ],
             [
              0.6666666666666666,
              "#ed7953"
             ],
             [
              0.7777777777777778,
              "#fb9f3a"
             ],
             [
              0.8888888888888888,
              "#fdca26"
             ],
             [
              1,
              "#f0f921"
             ]
            ],
            "type": "histogram2dcontour"
           }
          ],
          "mesh3d": [
           {
            "colorbar": {
             "outlinewidth": 0,
             "ticks": ""
            },
            "type": "mesh3d"
           }
          ],
          "parcoords": [
           {
            "line": {
             "colorbar": {
              "outlinewidth": 0,
              "ticks": ""
             }
            },
            "type": "parcoords"
           }
          ],
          "pie": [
           {
            "automargin": true,
            "type": "pie"
           }
          ],
          "scatter": [
           {
            "marker": {
             "colorbar": {
              "outlinewidth": 0,
              "ticks": ""
             }
            },
            "type": "scatter"
           }
          ],
          "scatter3d": [
           {
            "line": {
             "colorbar": {
              "outlinewidth": 0,
              "ticks": ""
             }
            },
            "marker": {
             "colorbar": {
              "outlinewidth": 0,
              "ticks": ""
             }
            },
            "type": "scatter3d"
           }
          ],
          "scattercarpet": [
           {
            "marker": {
             "colorbar": {
              "outlinewidth": 0,
              "ticks": ""
             }
            },
            "type": "scattercarpet"
           }
          ],
          "scattergeo": [
           {
            "marker": {
             "colorbar": {
              "outlinewidth": 0,
              "ticks": ""
             }
            },
            "type": "scattergeo"
           }
          ],
          "scattergl": [
           {
            "marker": {
             "colorbar": {
              "outlinewidth": 0,
              "ticks": ""
             }
            },
            "type": "scattergl"
           }
          ],
          "scattermapbox": [
           {
            "marker": {
             "colorbar": {
              "outlinewidth": 0,
              "ticks": ""
             }
            },
            "type": "scattermapbox"
           }
          ],
          "scatterpolar": [
           {
            "marker": {
             "colorbar": {
              "outlinewidth": 0,
              "ticks": ""
             }
            },
            "type": "scatterpolar"
           }
          ],
          "scatterpolargl": [
           {
            "marker": {
             "colorbar": {
              "outlinewidth": 0,
              "ticks": ""
             }
            },
            "type": "scatterpolargl"
           }
          ],
          "scatterternary": [
           {
            "marker": {
             "colorbar": {
              "outlinewidth": 0,
              "ticks": ""
             }
            },
            "type": "scatterternary"
           }
          ],
          "surface": [
           {
            "colorbar": {
             "outlinewidth": 0,
             "ticks": ""
            },
            "colorscale": [
             [
              0,
              "#0d0887"
             ],
             [
              0.1111111111111111,
              "#46039f"
             ],
             [
              0.2222222222222222,
              "#7201a8"
             ],
             [
              0.3333333333333333,
              "#9c179e"
             ],
             [
              0.4444444444444444,
              "#bd3786"
             ],
             [
              0.5555555555555556,
              "#d8576b"
             ],
             [
              0.6666666666666666,
              "#ed7953"
             ],
             [
              0.7777777777777778,
              "#fb9f3a"
             ],
             [
              0.8888888888888888,
              "#fdca26"
             ],
             [
              1,
              "#f0f921"
             ]
            ],
            "type": "surface"
           }
          ],
          "table": [
           {
            "cells": {
             "fill": {
              "color": "#EBF0F8"
             },
             "line": {
              "color": "white"
             }
            },
            "header": {
             "fill": {
              "color": "#C8D4E3"
             },
             "line": {
              "color": "white"
             }
            },
            "type": "table"
           }
          ]
         },
         "layout": {
          "annotationdefaults": {
           "arrowcolor": "#2a3f5f",
           "arrowhead": 0,
           "arrowwidth": 1
          },
          "coloraxis": {
           "colorbar": {
            "outlinewidth": 0,
            "ticks": ""
           }
          },
          "colorscale": {
           "diverging": [
            [
             0,
             "#8e0152"
            ],
            [
             0.1,
             "#c51b7d"
            ],
            [
             0.2,
             "#de77ae"
            ],
            [
             0.3,
             "#f1b6da"
            ],
            [
             0.4,
             "#fde0ef"
            ],
            [
             0.5,
             "#f7f7f7"
            ],
            [
             0.6,
             "#e6f5d0"
            ],
            [
             0.7,
             "#b8e186"
            ],
            [
             0.8,
             "#7fbc41"
            ],
            [
             0.9,
             "#4d9221"
            ],
            [
             1,
             "#276419"
            ]
           ],
           "sequential": [
            [
             0,
             "#0d0887"
            ],
            [
             0.1111111111111111,
             "#46039f"
            ],
            [
             0.2222222222222222,
             "#7201a8"
            ],
            [
             0.3333333333333333,
             "#9c179e"
            ],
            [
             0.4444444444444444,
             "#bd3786"
            ],
            [
             0.5555555555555556,
             "#d8576b"
            ],
            [
             0.6666666666666666,
             "#ed7953"
            ],
            [
             0.7777777777777778,
             "#fb9f3a"
            ],
            [
             0.8888888888888888,
             "#fdca26"
            ],
            [
             1,
             "#f0f921"
            ]
           ],
           "sequentialminus": [
            [
             0,
             "#0d0887"
            ],
            [
             0.1111111111111111,
             "#46039f"
            ],
            [
             0.2222222222222222,
             "#7201a8"
            ],
            [
             0.3333333333333333,
             "#9c179e"
            ],
            [
             0.4444444444444444,
             "#bd3786"
            ],
            [
             0.5555555555555556,
             "#d8576b"
            ],
            [
             0.6666666666666666,
             "#ed7953"
            ],
            [
             0.7777777777777778,
             "#fb9f3a"
            ],
            [
             0.8888888888888888,
             "#fdca26"
            ],
            [
             1,
             "#f0f921"
            ]
           ]
          },
          "colorway": [
           "#636efa",
           "#EF553B",
           "#00cc96",
           "#ab63fa",
           "#FFA15A",
           "#19d3f3",
           "#FF6692",
           "#B6E880",
           "#FF97FF",
           "#FECB52"
          ],
          "font": {
           "color": "#2a3f5f"
          },
          "geo": {
           "bgcolor": "white",
           "lakecolor": "white",
           "landcolor": "white",
           "showlakes": true,
           "showland": true,
           "subunitcolor": "#C8D4E3"
          },
          "hoverlabel": {
           "align": "left"
          },
          "hovermode": "closest",
          "mapbox": {
           "style": "light"
          },
          "paper_bgcolor": "white",
          "plot_bgcolor": "white",
          "polar": {
           "angularaxis": {
            "gridcolor": "#EBF0F8",
            "linecolor": "#EBF0F8",
            "ticks": ""
           },
           "bgcolor": "white",
           "radialaxis": {
            "gridcolor": "#EBF0F8",
            "linecolor": "#EBF0F8",
            "ticks": ""
           }
          },
          "scene": {
           "xaxis": {
            "backgroundcolor": "white",
            "gridcolor": "#DFE8F3",
            "gridwidth": 2,
            "linecolor": "#EBF0F8",
            "showbackground": true,
            "ticks": "",
            "zerolinecolor": "#EBF0F8"
           },
           "yaxis": {
            "backgroundcolor": "white",
            "gridcolor": "#DFE8F3",
            "gridwidth": 2,
            "linecolor": "#EBF0F8",
            "showbackground": true,
            "ticks": "",
            "zerolinecolor": "#EBF0F8"
           },
           "zaxis": {
            "backgroundcolor": "white",
            "gridcolor": "#DFE8F3",
            "gridwidth": 2,
            "linecolor": "#EBF0F8",
            "showbackground": true,
            "ticks": "",
            "zerolinecolor": "#EBF0F8"
           }
          },
          "shapedefaults": {
           "line": {
            "color": "#2a3f5f"
           }
          },
          "ternary": {
           "aaxis": {
            "gridcolor": "#DFE8F3",
            "linecolor": "#A2B1C6",
            "ticks": ""
           },
           "baxis": {
            "gridcolor": "#DFE8F3",
            "linecolor": "#A2B1C6",
            "ticks": ""
           },
           "bgcolor": "white",
           "caxis": {
            "gridcolor": "#DFE8F3",
            "linecolor": "#A2B1C6",
            "ticks": ""
           }
          },
          "title": {
           "x": 0.05
          },
          "xaxis": {
           "automargin": true,
           "gridcolor": "#EBF0F8",
           "linecolor": "#EBF0F8",
           "ticks": "",
           "title": {
            "standoff": 15
           },
           "zerolinecolor": "#EBF0F8",
           "zerolinewidth": 2
          },
          "yaxis": {
           "automargin": true,
           "gridcolor": "#EBF0F8",
           "linecolor": "#EBF0F8",
           "ticks": "",
           "title": {
            "standoff": 15
           },
           "zerolinecolor": "#EBF0F8",
           "zerolinewidth": 2
          }
         }
        },
        "title": {
         "text": "Price Elasticity of Purchase Probability with and without Promotion"
        },
        "width": 800,
        "xaxis": {
         "title": {
          "text": "Price Point"
         }
        },
        "yaxis": {
         "dtick": 1,
         "title": {
          "text": "Price Elasticity"
         }
        }
       }
      }
     },
     "metadata": {}
    }
   ],
   "source": [
    "fig = go.Figure()\n",
    "fig.add_trace(go.Scatter(x=df_price_elasticities.price_point, y=df_price_elasticities.Elasticity_with_Promotion,\n",
    "                    mode='lines',\n",
    "                    name='With Promotion PE'))\n",
    "fig.add_trace(go.Scatter(x=df_price_elasticities.price_point, y=df_price_elasticities.Elasticity_without_Promotion,\n",
    "                    mode='lines',\n",
    "                    name='Without Promotion PE'))\n",
    "\n",
    "fig.update_yaxes(dtick=1)\n",
    "fig.update_layout(height=600, width=800, \n",
    "                  title='Price Elasticity of Purchase Probability with and without Promotion',\n",
    "                  template='plotly_white')\n",
    "fig.update_xaxes(title='Price Point')\n",
    "fig.update_yaxes(title='Price Elasticity')\n",
    "fig.show()\n",
    ""
   ]
  },
  {
   "cell_type": "markdown",
   "metadata": {},
   "source": [
    "#### Interpretation"
   ]
  },
  {
   "cell_type": "markdown",
   "metadata": {},
   "source": [
    "These two lines represent the elasticity of purchase probability given maximum and given minimum promotional activity.\n",
    "\n",
    "This graph here tells us that the elasticity curve with promotion sits above its respective no promotion counterpart for the entire price range.\n",
    "\n",
    "Inelasticity for no promotion ends at \\$1.27 while for promotion at \\$1.46.\n",
    "\n",
    "That's a difference of almost 20 cents.\n",
    "\n",
    "So if a product has a regular price of one point thirty dollars the purchase probability is elastic. However if a product cost one point fifty dollars on the regular and its price is reduced to the aforementioned one point thirty dollars during a promotion then our analysis says that purchase probability is still inelastic at this point.\n",
    "\n",
    "This may sound trivial but it is not. People are more willing to buy products at promotional prices be it because of the large discount signs in some stores or just because psychologically people feel they're getting a bargain. In any case **customers are less price sensitive to similar price changes when there are promotion activities**.  \n",
    "\n",
    "In other words it pays off to offer discounts.\n",
    "\n",
    "According to this model if we could incorporate it, it would be more beneficial to have a higher original price and constant promotion rather than a lower original price."
   ]
  },
  {
   "cell_type": "markdown",
   "metadata": {},
   "source": [
    "# Modeling Brand Choice  \n",
    "In this phase we are interested in which brand the customer chooses.  The dataset has a brand variable that shows which brand the customer chose. There is also cases that customer didn't choose any brands. Modeling and predicting brand choices is an extremely important toll as it would help marketers analyze their customers behavior and increase sales goals or increase customer satisfaction. We'll use multinomial logistic regression since we have multiple classes."
   ]
  },
  {
   "cell_type": "code",
   "execution_count": 49,
   "metadata": {},
   "outputs": [
    {
     "output_type": "execute_result",
     "data": {
      "text/plain": "0    44055\n5     4978\n2     4542\n4     2927\n1     1350\n3      841\nName: brand, dtype: int64"
     },
     "metadata": {},
     "execution_count": 49
    }
   ],
   "source": [
    "df_purchase.brand.value_counts()"
   ]
  },
  {
   "cell_type": "markdown",
   "metadata": {},
   "source": [
    "Filtering for the occasions a brand was chosen can be either done through the incidence = 1 or the brand not equal to zero. "
   ]
  },
  {
   "cell_type": "code",
   "execution_count": 61,
   "metadata": {},
   "outputs": [
    {
     "output_type": "execute_result",
     "data": {
      "text/plain": "id                   False\nday                  False\nincidence            False\nbrand                False\nquantity             False\nlast_inc_brand       False\nlast_inc_quantity    False\nprice_1              False\nprice_2              False\nprice_3              False\nprice_4              False\nprice_5              False\npromotion_1          False\npromotion_2          False\npromotion_3          False\npromotion_4          False\npromotion_5          False\nsex                  False\nmarital_status       False\nage                  False\neducation            False\nincome               False\noccupation           False\nsettlement_size      False\nsegment              False\ndtype: bool"
     },
     "metadata": {},
     "execution_count": 61
    }
   ],
   "source": [
    "# the code checks if there are any incidences the brand wasn't equal to zero but the incidence wasn't equal to 1. any() gives Falses and the sum(), sums up all falses which the result is 0. \n",
    "(df_purchase[df_purchase['brand'] != 0] != df_purchase[df_purchase['incidence']==1]).any()"
   ]
  },
  {
   "cell_type": "code",
   "execution_count": 62,
   "metadata": {},
   "outputs": [
    {
     "output_type": "execute_result",
     "data": {
      "text/plain": "0"
     },
     "metadata": {},
     "execution_count": 62
    }
   ],
   "source": [
    "(df_purchase[df_purchase['brand'] != 0] != df_purchase[df_purchase['incidence']==1]).any().sum()"
   ]
  },
  {
   "cell_type": "code",
   "execution_count": 63,
   "metadata": {},
   "outputs": [],
   "source": [
    "df_brand_choice = df_purchase[df_purchase['brand'] != 0]"
   ]
  },
  {
   "cell_type": "code",
   "execution_count": 78,
   "metadata": {},
   "outputs": [],
   "source": [
    "y = df_brand_choice.brand.values\n",
    "features = ['price_'+str(i) for i in range(1,6)]\n",
    "X = df_brand_choice[features]"
   ]
  },
  {
   "cell_type": "code",
   "execution_count": 79,
   "metadata": {},
   "outputs": [
    {
     "output_type": "execute_result",
     "data": {
      "text/plain": "LogisticRegression(C=1.0, class_weight=None, dual=False, fit_intercept=True,\n                   intercept_scaling=1, l1_ratio=None, max_iter=100,\n                   multi_class='multinomial', n_jobs=None, penalty='l2',\n                   random_state=None, solver='sag', tol=0.0001, verbose=0,\n                   warm_start=False)"
     },
     "metadata": {},
     "execution_count": 79
    }
   ],
   "source": [
    "model_brand_choice = LogisticRegression(solver='sag', multi_class='multinomial')\n",
    "model_brand_choice.fit(X, y)"
   ]
  },
  {
   "cell_type": "code",
   "execution_count": 81,
   "metadata": {},
   "outputs": [
    {
     "output_type": "execute_result",
     "data": {
      "text/plain": "array([[-3.91595077,  0.65845961,  2.41773477,  0.70408519, -0.20210478],\n       [ 1.274616  , -1.87985462, -0.21263595, -0.20634041,  0.58787415],\n       [ 1.62417032,  0.56210774,  0.50083935,  1.03950524,  0.4527725 ],\n       [ 0.57454112,  0.39558835, -1.40059605, -1.24624302,  0.24935416],\n       [ 0.44262333,  0.26369893, -1.30534212, -0.291007  , -1.08789604]])"
     },
     "metadata": {},
     "execution_count": 81
    }
   ],
   "source": [
    "model_brand_choice.coef_"
   ]
  },
  {
   "cell_type": "code",
   "execution_count": 80,
   "metadata": {},
   "outputs": [
    {
     "output_type": "execute_result",
     "data": {
      "text/plain": "array([1, 2, 3, 4, 5], dtype=int64)"
     },
     "metadata": {},
     "execution_count": 80
    }
   ],
   "source": [
    "model_brand_choice.classes_"
   ]
  },
  {
   "cell_type": "markdown",
   "metadata": {},
   "source": [
    "#### Interpretation"
   ]
  },
  {
   "cell_type": "code",
   "execution_count": 97,
   "metadata": {},
   "outputs": [],
   "source": [
    "brand_choice_coefs = pd.DataFrame(model_brand_choice.coef_.T,\n",
    "                     index=['price_'+str(i) for i in range(1,6)],\n",
    "                     columns=['coef_brand_'+str(i) for i in range(1,6)]).round(2)"
   ]
  },
  {
   "cell_type": "code",
   "execution_count": 98,
   "metadata": {},
   "outputs": [
    {
     "output_type": "execute_result",
     "data": {
      "text/plain": "         coef_brand_1  coef_brand_2  coef_brand_3  coef_brand_4  coef_brand_5\nprice_1         -3.92          1.27          1.62          0.57          0.44\nprice_2          0.66         -1.88          0.56          0.40          0.26\nprice_3          2.42         -0.21          0.50         -1.40         -1.31\nprice_4          0.70         -0.21          1.04         -1.25         -0.29\nprice_5         -0.20          0.59          0.45          0.25         -1.09",
      "text/html": "<div>\n<style scoped>\n    .dataframe tbody tr th:only-of-type {\n        vertical-align: middle;\n    }\n\n    .dataframe tbody tr th {\n        vertical-align: top;\n    }\n\n    .dataframe thead th {\n        text-align: right;\n    }\n</style>\n<table border=\"1\" class=\"dataframe\">\n  <thead>\n    <tr style=\"text-align: right;\">\n      <th></th>\n      <th>coef_brand_1</th>\n      <th>coef_brand_2</th>\n      <th>coef_brand_3</th>\n      <th>coef_brand_4</th>\n      <th>coef_brand_5</th>\n    </tr>\n  </thead>\n  <tbody>\n    <tr>\n      <th>price_1</th>\n      <td>-3.92</td>\n      <td>1.27</td>\n      <td>1.62</td>\n      <td>0.57</td>\n      <td>0.44</td>\n    </tr>\n    <tr>\n      <th>price_2</th>\n      <td>0.66</td>\n      <td>-1.88</td>\n      <td>0.56</td>\n      <td>0.40</td>\n      <td>0.26</td>\n    </tr>\n    <tr>\n      <th>price_3</th>\n      <td>2.42</td>\n      <td>-0.21</td>\n      <td>0.50</td>\n      <td>-1.40</td>\n      <td>-1.31</td>\n    </tr>\n    <tr>\n      <th>price_4</th>\n      <td>0.70</td>\n      <td>-0.21</td>\n      <td>1.04</td>\n      <td>-1.25</td>\n      <td>-0.29</td>\n    </tr>\n    <tr>\n      <th>price_5</th>\n      <td>-0.20</td>\n      <td>0.59</td>\n      <td>0.45</td>\n      <td>0.25</td>\n      <td>-1.09</td>\n    </tr>\n  </tbody>\n</table>\n</div>"
     },
     "metadata": {},
     "execution_count": 98
    }
   ],
   "source": [
    "brand_choice_coefs"
   ]
  },
  {
   "cell_type": "markdown",
   "metadata": {},
   "source": [
    "For brand 1, price 1 is negative while the rest are positive. Normally, the higher the price of our own product the lower the probability for it to be purchased. So it makes sense for the own brand price coefficient to be negative.\n",
    "\n",
    "On the other hand the more the price of a competitor increases the higher the probability of customers switching to our own brand would be. Hence there is a positive relationship between our own brands purchase probability and a competitive brand increasing their price.\n",
    "\n",
    "So the choice probability for any one brand and the choice probabilities for all the other brands are interrelated and a marketing mix tool of our brand reflects not only the choice probability for that brand but the choice probabilities for all other brands as well.\n",
    "\n",
    "These effects are known as own brand effects and Cross brand effects."
   ]
  },
  {
   "cell_type": "markdown",
   "metadata": {},
   "source": [
    "\n",
    "### Own price Elasticity - Brand 5 (most expensive) \n",
    "\n",
    "This can be applied to all other brands as well."
   ]
  },
  {
   "cell_type": "code",
   "execution_count": 118,
   "metadata": {},
   "outputs": [],
   "source": [
    "\n",
    "df_brand_5 = pd.DataFrame(index=range(0,df_price.shape[0])) #setting the number of the index\n",
    "\n",
    ""
   ]
  },
  {
   "cell_type": "code",
   "execution_count": 119,
   "metadata": {},
   "outputs": [],
   "source": [
    "# across the other brands the price will remain fixed\n",
    "for col in ['price_' + str(i) for i in range(1,5)]: # for prices 1 through 4\n",
    "    df_brand_5[col] = df_brand_choice[col].mean()\n",
    "# calculating the purchase probability of brand 5 on its changes for different price points\n",
    "df_brand_5['price_5'] = df_price.price_point"
   ]
  },
  {
   "cell_type": "code",
   "execution_count": 120,
   "metadata": {},
   "outputs": [
    {
     "output_type": "execute_result",
     "data": {
      "text/plain": "      price_1   price_2   price_3   price_4  price_5\n0    1.384559  1.764717  2.006694  2.159658     0.50\n1    1.384559  1.764717  2.006694  2.159658     0.51\n2    1.384559  1.764717  2.006694  2.159658     0.52\n3    1.384559  1.764717  2.006694  2.159658     0.53\n4    1.384559  1.764717  2.006694  2.159658     0.54\n..        ...       ...       ...       ...      ...\n295  1.384559  1.764717  2.006694  2.159658     3.45\n296  1.384559  1.764717  2.006694  2.159658     3.46\n297  1.384559  1.764717  2.006694  2.159658     3.47\n298  1.384559  1.764717  2.006694  2.159658     3.48\n299  1.384559  1.764717  2.006694  2.159658     3.49\n\n[300 rows x 5 columns]",
      "text/html": "<div>\n<style scoped>\n    .dataframe tbody tr th:only-of-type {\n        vertical-align: middle;\n    }\n\n    .dataframe tbody tr th {\n        vertical-align: top;\n    }\n\n    .dataframe thead th {\n        text-align: right;\n    }\n</style>\n<table border=\"1\" class=\"dataframe\">\n  <thead>\n    <tr style=\"text-align: right;\">\n      <th></th>\n      <th>price_1</th>\n      <th>price_2</th>\n      <th>price_3</th>\n      <th>price_4</th>\n      <th>price_5</th>\n    </tr>\n  </thead>\n  <tbody>\n    <tr>\n      <th>0</th>\n      <td>1.384559</td>\n      <td>1.764717</td>\n      <td>2.006694</td>\n      <td>2.159658</td>\n      <td>0.50</td>\n    </tr>\n    <tr>\n      <th>1</th>\n      <td>1.384559</td>\n      <td>1.764717</td>\n      <td>2.006694</td>\n      <td>2.159658</td>\n      <td>0.51</td>\n    </tr>\n    <tr>\n      <th>2</th>\n      <td>1.384559</td>\n      <td>1.764717</td>\n      <td>2.006694</td>\n      <td>2.159658</td>\n      <td>0.52</td>\n    </tr>\n    <tr>\n      <th>3</th>\n      <td>1.384559</td>\n      <td>1.764717</td>\n      <td>2.006694</td>\n      <td>2.159658</td>\n      <td>0.53</td>\n    </tr>\n    <tr>\n      <th>4</th>\n      <td>1.384559</td>\n      <td>1.764717</td>\n      <td>2.006694</td>\n      <td>2.159658</td>\n      <td>0.54</td>\n    </tr>\n    <tr>\n      <th>...</th>\n      <td>...</td>\n      <td>...</td>\n      <td>...</td>\n      <td>...</td>\n      <td>...</td>\n    </tr>\n    <tr>\n      <th>295</th>\n      <td>1.384559</td>\n      <td>1.764717</td>\n      <td>2.006694</td>\n      <td>2.159658</td>\n      <td>3.45</td>\n    </tr>\n    <tr>\n      <th>296</th>\n      <td>1.384559</td>\n      <td>1.764717</td>\n      <td>2.006694</td>\n      <td>2.159658</td>\n      <td>3.46</td>\n    </tr>\n    <tr>\n      <th>297</th>\n      <td>1.384559</td>\n      <td>1.764717</td>\n      <td>2.006694</td>\n      <td>2.159658</td>\n      <td>3.47</td>\n    </tr>\n    <tr>\n      <th>298</th>\n      <td>1.384559</td>\n      <td>1.764717</td>\n      <td>2.006694</td>\n      <td>2.159658</td>\n      <td>3.48</td>\n    </tr>\n    <tr>\n      <th>299</th>\n      <td>1.384559</td>\n      <td>1.764717</td>\n      <td>2.006694</td>\n      <td>2.159658</td>\n      <td>3.49</td>\n    </tr>\n  </tbody>\n</table>\n<p>300 rows × 5 columns</p>\n</div>"
     },
     "metadata": {},
     "execution_count": 120
    }
   ],
   "source": [
    "df_brand_5"
   ]
  },
  {
   "cell_type": "code",
   "execution_count": 134,
   "metadata": {},
   "outputs": [
    {
     "output_type": "execute_result",
     "data": {
      "text/plain": "array([0.90999016, 0.90894707, 0.90789229, 0.90682569, 0.90574718,\n       0.90465663, 0.90355394, 0.902439  , 0.90131169, 0.9001719 ,\n       0.89901952, 0.89785443, 0.89667653, 0.89548569, 0.89428181,\n       0.89306477, 0.89183446, 0.89059075, 0.88933355, 0.88806273,\n       0.88677819, 0.88547979, 0.88416744, 0.88284102, 0.88150042,\n       0.88014551, 0.87877619, 0.87739235, 0.87599386, 0.87458063,\n       0.87315252, 0.87170945, 0.87025128, 0.86877792, 0.86728925,\n       0.86578515, 0.86426553, 0.86273027, 0.86117926, 0.8596124 ,\n       0.85802958, 0.8564307 , 0.85481564, 0.8531843 , 0.85153659,\n       0.8498724 , 0.84819163, 0.84649417, 0.84477994, 0.84304883,\n       0.84130074, 0.83953559, 0.83775328, 0.83595371, 0.8341368 ,\n       0.83230245, 0.83045059, 0.82858112, 0.82669396, 0.82478903,\n       0.82286626, 0.82092555, 0.81896684, 0.81699005, 0.81499512,\n       0.81298196, 0.81095052, 0.80890072, 0.80683252, 0.80474584,\n       0.80264063, 0.80051684, 0.79837442, 0.7962133 , 0.79403346,\n       0.79183484, 0.78961741, 0.78738112, 0.78512595, 0.78285187,\n       0.78055883, 0.77824683, 0.77591584, 0.77356585, 0.77119683,\n       0.76880878, 0.7664017 , 0.76397558, 0.76153041, 0.75906622,\n       0.756583  , 0.75408077, 0.75155954, 0.74901935, 0.7464602 ,\n       0.74388214, 0.7412852 , 0.73866941, 0.73603482, 0.73338147,\n       0.73070943, 0.72801874, 0.72530947, 0.72258168, 0.71983544,\n       0.71707084, 0.71428794, 0.71148684, 0.70866763, 0.7058304 ,\n       0.70297526, 0.7001023 , 0.69721165, 0.69430341, 0.69137771,\n       0.68843468, 0.68547443, 0.68249713, 0.67950289, 0.67649188,\n       0.67346425, 0.67042015, 0.66735974, 0.6642832 , 0.6611907 ,\n       0.65808242, 0.65495855, 0.65181926, 0.64866477, 0.64549526,\n       0.64231095, 0.63911205, 0.63589877, 0.63267133, 0.62942996,\n       0.62617489, 0.62290636, 0.61962462, 0.6163299 , 0.61302245,\n       0.60970255, 0.60637044, 0.60302639, 0.59967067, 0.59630357,\n       0.59292535, 0.58953631, 0.58613672, 0.5827269 , 0.57930712,\n       0.5758777 , 0.57243894, 0.56899115, 0.56553464, 0.56206973,\n       0.55859674, 0.55511599, 0.55162782, 0.54813255, 0.54463052,\n       0.54112206, 0.53760752, 0.53408723, 0.53056155, 0.52703082,\n       0.52349539, 0.51995562, 0.51641185, 0.51286446, 0.50931379,\n       0.50576021, 0.50220408, 0.49864577, 0.49508563, 0.49152404,\n       0.48796136, 0.48439796, 0.48083421, 0.47727047, 0.47370713,\n       0.47014454, 0.46658308, 0.46302312, 0.45946503, 0.45590917,\n       0.45235592, 0.44880564, 0.4452587 , 0.44171547, 0.43817631,\n       0.43464159, 0.43111166, 0.42758689, 0.42406764, 0.42055426,\n       0.41704711, 0.41354653, 0.4100529 , 0.40656653, 0.4030878 ,\n       0.39961703, 0.39615456, 0.39270074, 0.3892559 , 0.38582036,\n       0.38239445, 0.3789785 , 0.37557282, 0.37217773, 0.36879355,\n       0.36542057, 0.36205911, 0.35870947, 0.35537193, 0.35204679,\n       0.34873434, 0.34543486, 0.34214862, 0.3388759 , 0.33561697,\n       0.33237208, 0.3291415 , 0.32592548, 0.32272426, 0.3195381 ,\n       0.31636722, 0.31321185, 0.31007223, 0.30694858, 0.30384111,\n       0.30075003, 0.29767555, 0.29461786, 0.29157716, 0.28855365,\n       0.28554749, 0.28255888, 0.27958797, 0.27663495, 0.27369996,\n       0.27078316, 0.2678847 , 0.26500473, 0.26214338, 0.25930078,\n       0.25647707, 0.25367236, 0.25088676, 0.2481204 , 0.24537337,\n       0.24264577, 0.2399377 , 0.23724924, 0.23458048, 0.2319315 ,\n       0.22930236, 0.22669314, 0.2241039 , 0.22153469, 0.21898556,\n       0.21645657, 0.21394775, 0.21145915, 0.20899078, 0.20654269,\n       0.20411488, 0.20170739, 0.19932022, 0.19695339, 0.19460689,\n       0.19228072, 0.18997489, 0.18768938, 0.18542418, 0.18317927,\n       0.18095463, 0.17875023, 0.17656606, 0.17440206, 0.17225821,\n       0.17013447, 0.1680308 , 0.16594713, 0.16388343, 0.16183964,\n       0.15981571, 0.15781156, 0.15582715, 0.15386239, 0.15191722,\n       0.14999158, 0.14808537, 0.14619853, 0.14433097, 0.14248262,\n       0.14065337, 0.13884316, 0.13705187, 0.13527943, 0.13352574])"
     },
     "metadata": {},
     "execution_count": 134
    }
   ],
   "source": [
    "model_brand_choice.predict_proba(df_brand_5)# probabilities of being a brand for each 5\n",
    "model_brand_choice.predict_proba(df_brand_5)[:,4] # probabilities of being brand 5"
   ]
  },
  {
   "cell_type": "code",
   "execution_count": 141,
   "metadata": {},
   "outputs": [
    {
     "output_type": "execute_result",
     "data": {
      "text/plain": "-1.09"
     },
     "metadata": {},
     "execution_count": 141
    }
   ],
   "source": [
    "# calculating the price elasticity\n",
    "# the coefficient is in the brand_choice_coefs table for price_5 and coef_brand_5 which is -1.09\n",
    "brand_choice_coefs['coef_brand_5'][4]"
   ]
  },
  {
   "cell_type": "code",
   "execution_count": 142,
   "metadata": {},
   "outputs": [],
   "source": [
    "beta5 = brand_choice_coefs['coef_brand_5'][4]"
   ]
  },
  {
   "cell_type": "code",
   "execution_count": null,
   "metadata": {},
   "outputs": [],
   "source": [
    "own_price_plasticity_brand_5 = "
   ]
  }
 ],
 "metadata": {
  "file_extension": ".py",
  "kernelspec": {
   "display_name": "Python 3",
   "language": "python",
   "name": "python3"
  },
  "language_info": {
   "codemirror_mode": {
    "name": "ipython",
    "version": 3
   },
   "file_extension": ".py",
   "mimetype": "text/x-python",
   "name": "python",
   "nbconvert_exporter": "python",
   "pygments_lexer": "ipython3",
   "version": "3.7.7-final"
  },
  "mimetype": "text/x-python",
  "name": "python",
  "npconvert_exporter": "python",
  "pygments_lexer": "ipython3",
  "varInspector": {
   "cols": {
    "lenName": 16,
    "lenType": 16,
    "lenVar": 40
   },
   "kernels_config": {
    "python": {
     "delete_cmd_postfix": "",
     "delete_cmd_prefix": "del ",
     "library": "var_list.py",
     "varRefreshCmd": "print(var_dic_list())"
    },
    "r": {
     "delete_cmd_postfix": ") ",
     "delete_cmd_prefix": "rm(",
     "library": "var_list.r",
     "varRefreshCmd": "cat(var_dic_list()) "
    }
   },
   "types_to_exclude": [
    "module",
    "function",
    "builtin_function_or_method",
    "instance",
    "_Feature"
   ],
   "window_display": false
  },
  "version": 3
 },
 "nbformat": 4,
 "nbformat_minor": 2
}